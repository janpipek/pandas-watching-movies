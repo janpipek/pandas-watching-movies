{
 "cells": [
  {
   "cell_type": "markdown",
   "source": "# Get the data",
   "metadata": {
    "cell_id": "5ad44c9e-9af7-45af-9689-3db83ac0c893",
    "deepnote_cell_type": "markdown",
    "deepnote_cell_height": 82
   }
  },
  {
   "cell_type": "code",
   "metadata": {
    "cell_id": "00001-b834b472-e5ec-4321-bcb2-6302f5c00e48",
    "deepnote_cell_type": "code",
    "deepnote_cell_height": 97
   },
   "source": "import os\nimport pandas as pd\nimport requests",
   "execution_count": null,
   "outputs": []
  },
  {
   "cell_type": "markdown",
   "source": "## Best movies from IMDB\n\nSimple scrape. This is on the edge of legal use of the website.",
   "metadata": {
    "cell_id": "00002-8bdf9bb9-6b4b-45ba-b224-a5d1c67ea2dc",
    "deepnote_cell_type": "markdown",
    "deepnote_cell_height": 108.390625
   }
  },
  {
   "cell_type": "code",
   "metadata": {
    "cell_id": "00003-9a33ff7a-0752-41ae-82b3-a204086e3c39",
    "deepnote_cell_type": "code",
    "deepnote_cell_height": 581.1875,
    "deepnote_output_heights": [
     381.1875
    ]
   },
   "source": "# Using request because without the proper HTTP header, I am getting Czech titles\nurl = \"https://www.imdb.com/chart/top/\"\nresponse = requests.get(url, headers={\n    \"Accept-Language\": \"en\"\n})\nraw_df = pd.read_html(response.content)[0]\nraw_df",
   "execution_count": null,
   "outputs": [
    {
     "data": {
      "text/html": "<div>\n<style scoped>\n    .dataframe tbody tr th:only-of-type {\n        vertical-align: middle;\n    }\n\n    .dataframe tbody tr th {\n        vertical-align: top;\n    }\n\n    .dataframe thead th {\n        text-align: right;\n    }\n</style>\n<table border=\"1\" class=\"dataframe\">\n  <thead>\n    <tr style=\"text-align: right;\">\n      <th></th>\n      <th>Unnamed: 0</th>\n      <th>Rank &amp; Title</th>\n      <th>IMDb Rating</th>\n      <th>Your Rating</th>\n      <th>Unnamed: 4</th>\n    </tr>\n  </thead>\n  <tbody>\n    <tr>\n      <th>0</th>\n      <td>NaN</td>\n      <td>1.  The Shawshank Redemption  (1994)</td>\n      <td>9.2</td>\n      <td>12345678910 NOT YET RELEASED  Seen</td>\n      <td>NaN</td>\n    </tr>\n    <tr>\n      <th>1</th>\n      <td>NaN</td>\n      <td>2.  The Godfather  (1972)</td>\n      <td>9.2</td>\n      <td>12345678910 NOT YET RELEASED  Seen</td>\n      <td>NaN</td>\n    </tr>\n    <tr>\n      <th>2</th>\n      <td>NaN</td>\n      <td>3.  The Dark Knight  (2008)</td>\n      <td>9.0</td>\n      <td>12345678910 NOT YET RELEASED  Seen</td>\n      <td>NaN</td>\n    </tr>\n    <tr>\n      <th>3</th>\n      <td>NaN</td>\n      <td>4.  The Godfather Part II  (1974)</td>\n      <td>9.0</td>\n      <td>12345678910 NOT YET RELEASED  Seen</td>\n      <td>NaN</td>\n    </tr>\n    <tr>\n      <th>4</th>\n      <td>NaN</td>\n      <td>5.  12 Angry Men  (1957)</td>\n      <td>8.9</td>\n      <td>12345678910 NOT YET RELEASED  Seen</td>\n      <td>NaN</td>\n    </tr>\n    <tr>\n      <th>...</th>\n      <td>...</td>\n      <td>...</td>\n      <td>...</td>\n      <td>...</td>\n      <td>...</td>\n    </tr>\n    <tr>\n      <th>245</th>\n      <td>NaN</td>\n      <td>246.  Dersu Uzala  (1975)</td>\n      <td>8.0</td>\n      <td>12345678910 NOT YET RELEASED  Seen</td>\n      <td>NaN</td>\n    </tr>\n    <tr>\n      <th>246</th>\n      <td>NaN</td>\n      <td>247.  Aladdin  (1992)</td>\n      <td>8.0</td>\n      <td>12345678910 NOT YET RELEASED  Seen</td>\n      <td>NaN</td>\n    </tr>\n    <tr>\n      <th>247</th>\n      <td>NaN</td>\n      <td>248.  Gandhi  (1982)</td>\n      <td>8.0</td>\n      <td>12345678910 NOT YET RELEASED  Seen</td>\n      <td>NaN</td>\n    </tr>\n    <tr>\n      <th>248</th>\n      <td>NaN</td>\n      <td>249.  The Help  (2011)</td>\n      <td>8.0</td>\n      <td>12345678910 NOT YET RELEASED  Seen</td>\n      <td>NaN</td>\n    </tr>\n    <tr>\n      <th>249</th>\n      <td>NaN</td>\n      <td>250.  The Iron Giant  (1999)</td>\n      <td>8.0</td>\n      <td>12345678910 NOT YET RELEASED  Seen</td>\n      <td>NaN</td>\n    </tr>\n  </tbody>\n</table>\n<p>250 rows × 5 columns</p>\n</div>",
      "text/plain": "     Unnamed: 0                          Rank & Title  IMDb Rating  \\\n0           NaN  1.  The Shawshank Redemption  (1994)          9.2   \n1           NaN             2.  The Godfather  (1972)          9.2   \n2           NaN           3.  The Dark Knight  (2008)          9.0   \n3           NaN     4.  The Godfather Part II  (1974)          9.0   \n4           NaN              5.  12 Angry Men  (1957)          8.9   \n..          ...                                   ...          ...   \n245         NaN             246.  Dersu Uzala  (1975)          8.0   \n246         NaN                 247.  Aladdin  (1992)          8.0   \n247         NaN                  248.  Gandhi  (1982)          8.0   \n248         NaN                249.  The Help  (2011)          8.0   \n249         NaN          250.  The Iron Giant  (1999)          8.0   \n\n                            Your Rating  Unnamed: 4  \n0    12345678910 NOT YET RELEASED  Seen         NaN  \n1    12345678910 NOT YET RELEASED  Seen         NaN  \n2    12345678910 NOT YET RELEASED  Seen         NaN  \n3    12345678910 NOT YET RELEASED  Seen         NaN  \n4    12345678910 NOT YET RELEASED  Seen         NaN  \n..                                  ...         ...  \n245  12345678910 NOT YET RELEASED  Seen         NaN  \n246  12345678910 NOT YET RELEASED  Seen         NaN  \n247  12345678910 NOT YET RELEASED  Seen         NaN  \n248  12345678910 NOT YET RELEASED  Seen         NaN  \n249  12345678910 NOT YET RELEASED  Seen         NaN  \n\n[250 rows x 5 columns]"
     },
     "execution_count": 37,
     "metadata": {},
     "output_type": "execute_result"
    }
   ]
  },
  {
   "cell_type": "code",
   "metadata": {
    "cell_id": "00004-dde9cb1f-b54e-4669-baea-7258e7f40f67",
    "deepnote_cell_type": "code",
    "deepnote_cell_height": 653.1875,
    "deepnote_output_heights": [
     381.1875
    ]
   },
   "source": "df = (\n    raw_df.assign(\n        rank = lambda df: df[\"Rank & Title\"].apply(lambda t: t.split(\".\", 1)[0]),\n        title_and_year = lambda df: df[\"Rank & Title\"].apply(lambda t: t.split(\".\", 1)[1]),\n        year = lambda df: df[\"title_and_year\"].apply(lambda t: t.rsplit(\"(\", 1)[1][:-1]),\n        title = lambda df: df[\"title_and_year\"].apply(lambda t: t.rsplit(\"(\", 1)[0].strip()),\n    )\n    .drop(columns=[\"Unnamed: 0\", \"Rank & Title\", \"Your Rating\", \"Unnamed: 4\", \"title_and_year\"])\n    .rename(columns={\"IMDb Rating\": \"rating\"})\n)[[\"rank\", \"title\", \"year\", \"rating\"]]\ndf",
   "execution_count": null,
   "outputs": [
    {
     "data": {
      "text/html": "<div>\n<style scoped>\n    .dataframe tbody tr th:only-of-type {\n        vertical-align: middle;\n    }\n\n    .dataframe tbody tr th {\n        vertical-align: top;\n    }\n\n    .dataframe thead th {\n        text-align: right;\n    }\n</style>\n<table border=\"1\" class=\"dataframe\">\n  <thead>\n    <tr style=\"text-align: right;\">\n      <th></th>\n      <th>rank</th>\n      <th>title</th>\n      <th>year</th>\n      <th>rating</th>\n    </tr>\n  </thead>\n  <tbody>\n    <tr>\n      <th>0</th>\n      <td>1</td>\n      <td>The Shawshank Redemption</td>\n      <td>1994</td>\n      <td>9.2</td>\n    </tr>\n    <tr>\n      <th>1</th>\n      <td>2</td>\n      <td>The Godfather</td>\n      <td>1972</td>\n      <td>9.2</td>\n    </tr>\n    <tr>\n      <th>2</th>\n      <td>3</td>\n      <td>The Dark Knight</td>\n      <td>2008</td>\n      <td>9.0</td>\n    </tr>\n    <tr>\n      <th>3</th>\n      <td>4</td>\n      <td>The Godfather Part II</td>\n      <td>1974</td>\n      <td>9.0</td>\n    </tr>\n    <tr>\n      <th>4</th>\n      <td>5</td>\n      <td>12 Angry Men</td>\n      <td>1957</td>\n      <td>8.9</td>\n    </tr>\n    <tr>\n      <th>...</th>\n      <td>...</td>\n      <td>...</td>\n      <td>...</td>\n      <td>...</td>\n    </tr>\n    <tr>\n      <th>245</th>\n      <td>246</td>\n      <td>Dersu Uzala</td>\n      <td>1975</td>\n      <td>8.0</td>\n    </tr>\n    <tr>\n      <th>246</th>\n      <td>247</td>\n      <td>Aladdin</td>\n      <td>1992</td>\n      <td>8.0</td>\n    </tr>\n    <tr>\n      <th>247</th>\n      <td>248</td>\n      <td>Gandhi</td>\n      <td>1982</td>\n      <td>8.0</td>\n    </tr>\n    <tr>\n      <th>248</th>\n      <td>249</td>\n      <td>The Help</td>\n      <td>2011</td>\n      <td>8.0</td>\n    </tr>\n    <tr>\n      <th>249</th>\n      <td>250</td>\n      <td>The Iron Giant</td>\n      <td>1999</td>\n      <td>8.0</td>\n    </tr>\n  </tbody>\n</table>\n<p>250 rows × 4 columns</p>\n</div>",
      "text/plain": "    rank                     title  year  rating\n0      1  The Shawshank Redemption  1994     9.2\n1      2             The Godfather  1972     9.2\n2      3           The Dark Knight  2008     9.0\n3      4     The Godfather Part II  1974     9.0\n4      5              12 Angry Men  1957     8.9\n..   ...                       ...   ...     ...\n245  246               Dersu Uzala  1975     8.0\n246  247                   Aladdin  1992     8.0\n247  248                    Gandhi  1982     8.0\n248  249                  The Help  2011     8.0\n249  250            The Iron Giant  1999     8.0\n\n[250 rows x 4 columns]"
     },
     "execution_count": 35,
     "metadata": {},
     "output_type": "execute_result"
    }
   ]
  },
  {
   "cell_type": "code",
   "metadata": {
    "cell_id": "00005-799c6d5d-2a35-4b99-b7c7-1941942d4c95",
    "deepnote_cell_type": "code",
    "deepnote_cell_height": 61
   },
   "source": "df.to_csv(\"top_movies.csv\", index=False)",
   "execution_count": null,
   "outputs": []
  },
  {
   "cell_type": "markdown",
   "source": "## All movie data from IMDB exports\n\nAs described in https://www.imdb.com/interfaces/",
   "metadata": {
    "cell_id": "00006-8712d154-557c-4ff6-b374-dc3f19f311d8",
    "deepnote_cell_type": "markdown",
    "deepnote_cell_height": 108.390625
   }
  },
  {
   "cell_type": "code",
   "metadata": {
    "cell_id": "00007-b2a4391a-2620-4131-ad23-551eaa98259a",
    "deepnote_cell_type": "code",
    "deepnote_cell_height": 385
   },
   "source": "def download_titles():\n    title_basics_url = \"https://datasets.imdbws.com/title.basics.tsv.gz\"\n    title_basics_raw = pd.read_csv(title_basics_url, sep=\"\\t\", low_memory=False, na_values=\"\\\\N\")\n    title_basics = (\n        title_basics_raw\n        .query(\"(titleType=='movie') & (isAdult==0)\")\n        .drop(columns=[\"isAdult\", \"endYear\", \"titleType\"])\n        .convert_dtypes()\n        .astype({\"startYear\": \"Int64\", \"runtimeMinutes\": \"Int64\"})\n    )\n    title_basics.to_parquet(\"imdb_movie_titles.parquet\")\n    return title_basics\n\nif os.path.isfile(\"imdb_movie_titles.parquet\"):\n    movie_basics = pd.read_parquet(\"imdb_movie_titles.parquet\")\nelse:\n    movie_basics = download_titles()\n\n",
   "execution_count": null,
   "outputs": []
  },
  {
   "cell_type": "code",
   "metadata": {
    "cell_id": "00008-b2405b39-d209-4ce6-98fd-6e0951663f4f",
    "deepnote_cell_type": "code",
    "deepnote_cell_height": 473.1875,
    "deepnote_output_heights": [
     381.1875
    ]
   },
   "source": "movie_basics",
   "execution_count": null,
   "outputs": [
    {
     "data": {
      "text/html": "<div>\n<style scoped>\n    .dataframe tbody tr th:only-of-type {\n        vertical-align: middle;\n    }\n\n    .dataframe tbody tr th {\n        vertical-align: top;\n    }\n\n    .dataframe thead th {\n        text-align: right;\n    }\n</style>\n<table border=\"1\" class=\"dataframe\">\n  <thead>\n    <tr style=\"text-align: right;\">\n      <th></th>\n      <th>tconst</th>\n      <th>primaryTitle</th>\n      <th>originalTitle</th>\n      <th>startYear</th>\n      <th>runtimeMinutes</th>\n      <th>genres</th>\n    </tr>\n  </thead>\n  <tbody>\n    <tr>\n      <th>8</th>\n      <td>tt0000009</td>\n      <td>Miss Jerry</td>\n      <td>Miss Jerry</td>\n      <td>1894</td>\n      <td>45</td>\n      <td>Romance</td>\n    </tr>\n    <tr>\n      <th>498</th>\n      <td>tt0000502</td>\n      <td>Bohemios</td>\n      <td>Bohemios</td>\n      <td>1905</td>\n      <td>100</td>\n      <td>&lt;NA&gt;</td>\n    </tr>\n    <tr>\n      <th>570</th>\n      <td>tt0000574</td>\n      <td>The Story of the Kelly Gang</td>\n      <td>The Story of the Kelly Gang</td>\n      <td>1906</td>\n      <td>70</td>\n      <td>Action,Adventure,Biography</td>\n    </tr>\n    <tr>\n      <th>587</th>\n      <td>tt0000591</td>\n      <td>The Prodigal Son</td>\n      <td>L'enfant prodigue</td>\n      <td>1907</td>\n      <td>90</td>\n      <td>Drama</td>\n    </tr>\n    <tr>\n      <th>610</th>\n      <td>tt0000615</td>\n      <td>Robbery Under Arms</td>\n      <td>Robbery Under Arms</td>\n      <td>1907</td>\n      <td>&lt;NA&gt;</td>\n      <td>Drama</td>\n    </tr>\n    <tr>\n      <th>...</th>\n      <td>...</td>\n      <td>...</td>\n      <td>...</td>\n      <td>...</td>\n      <td>...</td>\n      <td>...</td>\n    </tr>\n    <tr>\n      <th>9185668</th>\n      <td>tt9916622</td>\n      <td>Rodolpho Teóphilo - O Legado de um Pioneiro</td>\n      <td>Rodolpho Teóphilo - O Legado de um Pioneiro</td>\n      <td>2015</td>\n      <td>57</td>\n      <td>Documentary</td>\n    </tr>\n    <tr>\n      <th>9185695</th>\n      <td>tt9916680</td>\n      <td>De la ilusión al desconcierto: cine colombiano...</td>\n      <td>De la ilusión al desconcierto: cine colombiano...</td>\n      <td>2007</td>\n      <td>100</td>\n      <td>Documentary</td>\n    </tr>\n    <tr>\n      <th>9185707</th>\n      <td>tt9916706</td>\n      <td>Dankyavar Danka</td>\n      <td>Dankyavar Danka</td>\n      <td>2013</td>\n      <td>&lt;NA&gt;</td>\n      <td>Comedy</td>\n    </tr>\n    <tr>\n      <th>9185718</th>\n      <td>tt9916730</td>\n      <td>6 Gunn</td>\n      <td>6 Gunn</td>\n      <td>2017</td>\n      <td>116</td>\n      <td>&lt;NA&gt;</td>\n    </tr>\n    <tr>\n      <th>9185728</th>\n      <td>tt9916754</td>\n      <td>Chico Albuquerque - Revelações</td>\n      <td>Chico Albuquerque - Revelações</td>\n      <td>2013</td>\n      <td>49</td>\n      <td>Documentary</td>\n    </tr>\n  </tbody>\n</table>\n<p>610244 rows × 6 columns</p>\n</div>",
      "text/plain": "            tconst                                       primaryTitle  \\\n8        tt0000009                                         Miss Jerry   \n498      tt0000502                                           Bohemios   \n570      tt0000574                        The Story of the Kelly Gang   \n587      tt0000591                                   The Prodigal Son   \n610      tt0000615                                 Robbery Under Arms   \n...            ...                                                ...   \n9185668  tt9916622        Rodolpho Teóphilo - O Legado de um Pioneiro   \n9185695  tt9916680  De la ilusión al desconcierto: cine colombiano...   \n9185707  tt9916706                                    Dankyavar Danka   \n9185718  tt9916730                                             6 Gunn   \n9185728  tt9916754                     Chico Albuquerque - Revelações   \n\n                                             originalTitle  startYear  \\\n8                                               Miss Jerry       1894   \n498                                               Bohemios       1905   \n570                            The Story of the Kelly Gang       1906   \n587                                      L'enfant prodigue       1907   \n610                                     Robbery Under Arms       1907   \n...                                                    ...        ...   \n9185668        Rodolpho Teóphilo - O Legado de um Pioneiro       2015   \n9185695  De la ilusión al desconcierto: cine colombiano...       2007   \n9185707                                    Dankyavar Danka       2013   \n9185718                                             6 Gunn       2017   \n9185728                     Chico Albuquerque - Revelações       2013   \n\n         runtimeMinutes                      genres  \n8                    45                     Romance  \n498                 100                        <NA>  \n570                  70  Action,Adventure,Biography  \n587                  90                       Drama  \n610                <NA>                       Drama  \n...                 ...                         ...  \n9185668              57                 Documentary  \n9185695             100                 Documentary  \n9185707            <NA>                      Comedy  \n9185718             116                        <NA>  \n9185728              49                 Documentary  \n\n[610244 rows x 6 columns]"
     },
     "execution_count": 14,
     "metadata": {},
     "output_type": "execute_result"
    }
   ]
  },
  {
   "cell_type": "code",
   "metadata": {
    "cell_id": "00009-38d3f93c-f828-47cc-aa1c-dd89a23627e9",
    "deepnote_cell_type": "code",
    "deepnote_cell_height": 259
   },
   "source": "def download_ratings(movie_ids):\n    ratings_url = \"https://datasets.imdbws.com/title.ratings.tsv.gz\"\n    ratings_raw = pd.read_csv(ratings_url, sep=\"\\t\", low_memory=False, na_values=\"\\\\N\")\n    ratings = ratings_raw[ratings_raw[\"tconst\"].isin(movie_ids)].convert_dtypes()\n    ratings.to_parquet(\"imdb_movie_ratings.parquet\")\n    return ratings\n\nif os.path.isfile(\"imdb_movie_ratings.parquet\"):\n    movie_ratings = pd.read_parquet(\"imdb_movie_ratings.parquet\")\nelse:\n    movie_ids = movie_basics[\"tconst\"].to_list()\n    movie_ratings = download_ratings(movie_ids=movie_ids)",
   "execution_count": null,
   "outputs": []
  },
  {
   "cell_type": "code",
   "metadata": {
    "cell_id": "00010-99dfa30b-771a-418e-b7b6-6deceadd3324",
    "deepnote_cell_type": "code",
    "deepnote_cell_height": 473.1875,
    "deepnote_output_heights": [
     381.1875
    ]
   },
   "source": "movie_ratings",
   "execution_count": null,
   "outputs": [
    {
     "data": {
      "text/html": "<div>\n<style scoped>\n    .dataframe tbody tr th:only-of-type {\n        vertical-align: middle;\n    }\n\n    .dataframe tbody tr th {\n        vertical-align: top;\n    }\n\n    .dataframe thead th {\n        text-align: right;\n    }\n</style>\n<table border=\"1\" class=\"dataframe\">\n  <thead>\n    <tr style=\"text-align: right;\">\n      <th></th>\n      <th>tconst</th>\n      <th>averageRating</th>\n      <th>numVotes</th>\n    </tr>\n  </thead>\n  <tbody>\n    <tr>\n      <th>8</th>\n      <td>tt0000009</td>\n      <td>5.2</td>\n      <td>199</td>\n    </tr>\n    <tr>\n      <th>334</th>\n      <td>tt0000502</td>\n      <td>3.7</td>\n      <td>14</td>\n    </tr>\n    <tr>\n      <th>366</th>\n      <td>tt0000574</td>\n      <td>6.0</td>\n      <td>782</td>\n    </tr>\n    <tr>\n      <th>374</th>\n      <td>tt0000591</td>\n      <td>4.0</td>\n      <td>19</td>\n    </tr>\n    <tr>\n      <th>388</th>\n      <td>tt0000615</td>\n      <td>4.1</td>\n      <td>23</td>\n    </tr>\n    <tr>\n      <th>...</th>\n      <td>...</td>\n      <td>...</td>\n      <td>...</td>\n    </tr>\n    <tr>\n      <th>1258442</th>\n      <td>tt9916270</td>\n      <td>5.8</td>\n      <td>1354</td>\n    </tr>\n    <tr>\n      <th>1258446</th>\n      <td>tt9916362</td>\n      <td>6.4</td>\n      <td>4855</td>\n    </tr>\n    <tr>\n      <th>1258450</th>\n      <td>tt9916428</td>\n      <td>3.8</td>\n      <td>14</td>\n    </tr>\n    <tr>\n      <th>1258454</th>\n      <td>tt9916538</td>\n      <td>8.3</td>\n      <td>6</td>\n    </tr>\n    <tr>\n      <th>1258465</th>\n      <td>tt9916730</td>\n      <td>8.4</td>\n      <td>6</td>\n    </tr>\n  </tbody>\n</table>\n<p>277148 rows × 3 columns</p>\n</div>",
      "text/plain": "            tconst  averageRating  numVotes\n8        tt0000009            5.2       199\n334      tt0000502            3.7        14\n366      tt0000574            6.0       782\n374      tt0000591            4.0        19\n388      tt0000615            4.1        23\n...            ...            ...       ...\n1258442  tt9916270            5.8      1354\n1258446  tt9916362            6.4      4855\n1258450  tt9916428            3.8        14\n1258454  tt9916538            8.3         6\n1258465  tt9916730            8.4         6\n\n[277148 rows x 3 columns]"
     },
     "execution_count": 17,
     "metadata": {},
     "output_type": "execute_result"
    }
   ]
  },
  {
   "cell_type": "markdown",
   "source": "<a style='text-decoration:none;line-height:16px;display:flex;color:#5B5B62;padding:10px;justify-content:end;' href='https://deepnote.com?utm_source=created-in-deepnote-cell&projectId=234de414-c5f7-4e4d-a314-25100ac19112' target=\"_blank\">\n<img alt='Created in deepnote.com' style='display:inline;max-height:16px;margin:0px;margin-right:7.5px;' src='data:image/svg+xml;base64,PD94bWwgdmVyc2lvbj0iMS4wIiBlbmNvZGluZz0iVVRGLTgiPz4KPHN2ZyB3aWR0aD0iODBweCIgaGVpZ2h0PSI4MHB4IiB2aWV3Qm94PSIwIDAgODAgODAiIHZlcnNpb249IjEuMSIgeG1sbnM9Imh0dHA6Ly93d3cudzMub3JnLzIwMDAvc3ZnIiB4bWxuczp4bGluaz0iaHR0cDovL3d3dy53My5vcmcvMTk5OS94bGluayI+CiAgICA8IS0tIEdlbmVyYXRvcjogU2tldGNoIDU0LjEgKDc2NDkwKSAtIGh0dHBzOi8vc2tldGNoYXBwLmNvbSAtLT4KICAgIDx0aXRsZT5Hcm91cCAzPC90aXRsZT4KICAgIDxkZXNjPkNyZWF0ZWQgd2l0aCBTa2V0Y2guPC9kZXNjPgogICAgPGcgaWQ9IkxhbmRpbmciIHN0cm9rZT0ibm9uZSIgc3Ryb2tlLXdpZHRoPSIxIiBmaWxsPSJub25lIiBmaWxsLXJ1bGU9ImV2ZW5vZGQiPgogICAgICAgIDxnIGlkPSJBcnRib2FyZCIgdHJhbnNmb3JtPSJ0cmFuc2xhdGUoLTEyMzUuMDAwMDAwLCAtNzkuMDAwMDAwKSI+CiAgICAgICAgICAgIDxnIGlkPSJHcm91cC0zIiB0cmFuc2Zvcm09InRyYW5zbGF0ZSgxMjM1LjAwMDAwMCwgNzkuMDAwMDAwKSI+CiAgICAgICAgICAgICAgICA8cG9seWdvbiBpZD0iUGF0aC0yMCIgZmlsbD0iIzAyNjVCNCIgcG9pbnRzPSIyLjM3NjIzNzYyIDgwIDM4LjA0NzY2NjcgODAgNTcuODIxNzgyMiA3My44MDU3NTkyIDU3LjgyMTc4MjIgMzIuNzU5MjczOSAzOS4xNDAyMjc4IDMxLjY4MzE2ODMiPjwvcG9seWdvbj4KICAgICAgICAgICAgICAgIDxwYXRoIGQ9Ik0zNS4wMDc3MTgsODAgQzQyLjkwNjIwMDcsNzYuNDU0OTM1OCA0Ny41NjQ5MTY3LDcxLjU0MjI2NzEgNDguOTgzODY2LDY1LjI2MTk5MzkgQzUxLjExMjI4OTksNTUuODQxNTg0MiA0MS42NzcxNzk1LDQ5LjIxMjIyODQgMjUuNjIzOTg0Niw0OS4yMTIyMjg0IEMyNS40ODQ5Mjg5LDQ5LjEyNjg0NDggMjkuODI2MTI5Niw0My4yODM4MjQ4IDM4LjY0NzU4NjksMzEuNjgzMTY4MyBMNzIuODcxMjg3MSwzMi41NTQ0MjUgTDY1LjI4MDk3Myw2Ny42NzYzNDIxIEw1MS4xMTIyODk5LDc3LjM3NjE0NCBMMzUuMDA3NzE4LDgwIFoiIGlkPSJQYXRoLTIyIiBmaWxsPSIjMDAyODY4Ij48L3BhdGg+CiAgICAgICAgICAgICAgICA8cGF0aCBkPSJNMCwzNy43MzA0NDA1IEwyNy4xMTQ1MzcsMC4yNTcxMTE0MzYgQzYyLjM3MTUxMjMsLTEuOTkwNzE3MDEgODAsMTAuNTAwMzkyNyA4MCwzNy43MzA0NDA1IEM4MCw2NC45NjA0ODgyIDY0Ljc3NjUwMzgsNzkuMDUwMzQxNCAzNC4zMjk1MTEzLDgwIEM0Ny4wNTUzNDg5LDc3LjU2NzA4MDggNTMuNDE4MjY3Nyw3MC4zMTM2MTAzIDUzLjQxODI2NzcsNTguMjM5NTg4NSBDNTMuNDE4MjY3Nyw0MC4xMjg1NTU3IDM2LjMwMzk1NDQsMzcuNzMwNDQwNSAyNS4yMjc0MTcsMzcuNzMwNDQwNSBDMTcuODQzMDU4NiwzNy43MzA0NDA1IDkuNDMzOTE5NjYsMzcuNzMwNDQwNSAwLDM3LjczMDQ0MDUgWiIgaWQ9IlBhdGgtMTkiIGZpbGw9IiMzNzkzRUYiPjwvcGF0aD4KICAgICAgICAgICAgPC9nPgogICAgICAgIDwvZz4KICAgIDwvZz4KPC9zdmc+' > </img>\nCreated in <span style='font-weight:600;margin-left:4px;'>Deepnote</span></a>",
   "metadata": {
    "tags": [],
    "created_in_deepnote_cell": true,
    "deepnote_cell_type": "markdown"
   }
  }
 ],
 "nbformat": 4,
 "nbformat_minor": 2,
 "metadata": {
  "kernelspec": {
   "display_name": "Python 3.9.12 64-bit ('3.9.12')",
   "language": "python",
   "name": "python3"
  },
  "language_info": {
   "codemirror_mode": {
    "name": "ipython",
    "version": 3
   },
   "file_extension": ".py",
   "mimetype": "text/x-python",
   "name": "python",
   "nbconvert_exporter": "python",
   "pygments_lexer": "ipython3",
   "version": "3.9.12"
  },
  "orig_nbformat": 4,
  "vscode": {
   "interpreter": {
    "hash": "cec6563c4f37bc4fbf77b0d1c12805bd8ea87d3690cb09fe579d37829555f508"
   }
  },
  "deepnote_notebook_id": "0a6e6e3f-3705-4571-b4ef-34d4ff2cbd9b",
  "deepnote": {},
  "deepnote_execution_queue": []
 }
}