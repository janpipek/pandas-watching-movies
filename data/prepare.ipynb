{
 "cells": [
  {
   "cell_type": "markdown",
   "source": [
    "# Get the data"
   ],
   "metadata": {
    "cell_id": "5ad44c9e-9af7-45af-9689-3db83ac0c893",
    "deepnote_cell_type": "markdown",
    "deepnote_cell_height": 82,
    "pycharm": {
     "name": "#%% md\n"
    }
   }
  },
  {
   "cell_type": "code",
   "metadata": {
    "cell_id": "00001-b834b472-e5ec-4321-bcb2-6302f5c00e48",
    "deepnote_cell_type": "code",
    "deepnote_cell_height": 97,
    "pycharm": {
     "name": "#%%\n"
    }
   },
   "source": [
    "import os\n",
    "import pandas as pd\n",
    "import requests"
   ],
   "execution_count": 2,
   "outputs": []
  },
  {
   "cell_type": "markdown",
   "source": [
    "## Best movies from IMDB\n",
    "\n",
    "Simple scrape. This is on the edge of legal use of the website."
   ],
   "metadata": {
    "cell_id": "00002-8bdf9bb9-6b4b-45ba-b224-a5d1c67ea2dc",
    "deepnote_cell_type": "markdown",
    "deepnote_cell_height": 108.390625,
    "pycharm": {
     "name": "#%% md\n"
    }
   }
  },
  {
   "cell_type": "code",
   "metadata": {
    "cell_id": "00003-9a33ff7a-0752-41ae-82b3-a204086e3c39",
    "deepnote_cell_type": "code",
    "deepnote_cell_height": 581.1875,
    "deepnote_output_heights": [
     381.1875
    ],
    "pycharm": {
     "name": "#%%\n"
    }
   },
   "source": [
    "# Using request because without the proper HTTP header, I am getting Czech titles\n",
    "url = \"https://www.imdb.com/chart/top/\"\n",
    "response = requests.get(url, headers={\n",
    "    \"Accept-Language\": \"en\"\n",
    "})\n",
    "raw_df = pd.read_html(response.content)[0]\n",
    "raw_df"
   ],
   "execution_count": null,
   "outputs": [
    {
     "data": {
      "text/html": "<div>\n<style scoped>\n    .dataframe tbody tr th:only-of-type {\n        vertical-align: middle;\n    }\n\n    .dataframe tbody tr th {\n        vertical-align: top;\n    }\n\n    .dataframe thead th {\n        text-align: right;\n    }\n</style>\n<table border=\"1\" class=\"dataframe\">\n  <thead>\n    <tr style=\"text-align: right;\">\n      <th></th>\n      <th>Unnamed: 0</th>\n      <th>Rank &amp; Title</th>\n      <th>IMDb Rating</th>\n      <th>Your Rating</th>\n      <th>Unnamed: 4</th>\n    </tr>\n  </thead>\n  <tbody>\n    <tr>\n      <th>0</th>\n      <td>NaN</td>\n      <td>1.  The Shawshank Redemption  (1994)</td>\n      <td>9.2</td>\n      <td>12345678910 NOT YET RELEASED  Seen</td>\n      <td>NaN</td>\n    </tr>\n    <tr>\n      <th>1</th>\n      <td>NaN</td>\n      <td>2.  The Godfather  (1972)</td>\n      <td>9.2</td>\n      <td>12345678910 NOT YET RELEASED  Seen</td>\n      <td>NaN</td>\n    </tr>\n    <tr>\n      <th>2</th>\n      <td>NaN</td>\n      <td>3.  The Dark Knight  (2008)</td>\n      <td>9.0</td>\n      <td>12345678910 NOT YET RELEASED  Seen</td>\n      <td>NaN</td>\n    </tr>\n    <tr>\n      <th>3</th>\n      <td>NaN</td>\n      <td>4.  The Godfather Part II  (1974)</td>\n      <td>9.0</td>\n      <td>12345678910 NOT YET RELEASED  Seen</td>\n      <td>NaN</td>\n    </tr>\n    <tr>\n      <th>4</th>\n      <td>NaN</td>\n      <td>5.  12 Angry Men  (1957)</td>\n      <td>8.9</td>\n      <td>12345678910 NOT YET RELEASED  Seen</td>\n      <td>NaN</td>\n    </tr>\n    <tr>\n      <th>...</th>\n      <td>...</td>\n      <td>...</td>\n      <td>...</td>\n      <td>...</td>\n      <td>...</td>\n    </tr>\n    <tr>\n      <th>245</th>\n      <td>NaN</td>\n      <td>246.  Dersu Uzala  (1975)</td>\n      <td>8.0</td>\n      <td>12345678910 NOT YET RELEASED  Seen</td>\n      <td>NaN</td>\n    </tr>\n    <tr>\n      <th>246</th>\n      <td>NaN</td>\n      <td>247.  Aladdin  (1992)</td>\n      <td>8.0</td>\n      <td>12345678910 NOT YET RELEASED  Seen</td>\n      <td>NaN</td>\n    </tr>\n    <tr>\n      <th>247</th>\n      <td>NaN</td>\n      <td>248.  Gandhi  (1982)</td>\n      <td>8.0</td>\n      <td>12345678910 NOT YET RELEASED  Seen</td>\n      <td>NaN</td>\n    </tr>\n    <tr>\n      <th>248</th>\n      <td>NaN</td>\n      <td>249.  The Help  (2011)</td>\n      <td>8.0</td>\n      <td>12345678910 NOT YET RELEASED  Seen</td>\n      <td>NaN</td>\n    </tr>\n    <tr>\n      <th>249</th>\n      <td>NaN</td>\n      <td>250.  The Iron Giant  (1999)</td>\n      <td>8.0</td>\n      <td>12345678910 NOT YET RELEASED  Seen</td>\n      <td>NaN</td>\n    </tr>\n  </tbody>\n</table>\n<p>250 rows × 5 columns</p>\n</div>",
      "text/plain": "     Unnamed: 0                          Rank & Title  IMDb Rating  \\\n0           NaN  1.  The Shawshank Redemption  (1994)          9.2   \n1           NaN             2.  The Godfather  (1972)          9.2   \n2           NaN           3.  The Dark Knight  (2008)          9.0   \n3           NaN     4.  The Godfather Part II  (1974)          9.0   \n4           NaN              5.  12 Angry Men  (1957)          8.9   \n..          ...                                   ...          ...   \n245         NaN             246.  Dersu Uzala  (1975)          8.0   \n246         NaN                 247.  Aladdin  (1992)          8.0   \n247         NaN                  248.  Gandhi  (1982)          8.0   \n248         NaN                249.  The Help  (2011)          8.0   \n249         NaN          250.  The Iron Giant  (1999)          8.0   \n\n                            Your Rating  Unnamed: 4  \n0    12345678910 NOT YET RELEASED  Seen         NaN  \n1    12345678910 NOT YET RELEASED  Seen         NaN  \n2    12345678910 NOT YET RELEASED  Seen         NaN  \n3    12345678910 NOT YET RELEASED  Seen         NaN  \n4    12345678910 NOT YET RELEASED  Seen         NaN  \n..                                  ...         ...  \n245  12345678910 NOT YET RELEASED  Seen         NaN  \n246  12345678910 NOT YET RELEASED  Seen         NaN  \n247  12345678910 NOT YET RELEASED  Seen         NaN  \n248  12345678910 NOT YET RELEASED  Seen         NaN  \n249  12345678910 NOT YET RELEASED  Seen         NaN  \n\n[250 rows x 5 columns]"
     },
     "execution_count": 37,
     "metadata": {},
     "output_type": "execute_result"
    }
   ]
  },
  {
   "cell_type": "code",
   "metadata": {
    "cell_id": "00004-dde9cb1f-b54e-4669-baea-7258e7f40f67",
    "deepnote_cell_type": "code",
    "deepnote_cell_height": 653.1875,
    "deepnote_output_heights": [
     381.1875
    ],
    "pycharm": {
     "name": "#%%\n"
    }
   },
   "source": [
    "df = (\n",
    "    raw_df.assign(\n",
    "        rank = lambda df: df[\"Rank & Title\"].apply(lambda t: t.split(\".\", 1)[0]),\n",
    "        title_and_year = lambda df: df[\"Rank & Title\"].apply(lambda t: t.split(\".\", 1)[1]),\n",
    "        year = lambda df: df[\"title_and_year\"].apply(lambda t: t.rsplit(\"(\", 1)[1][:-1]),\n",
    "        title = lambda df: df[\"title_and_year\"].apply(lambda t: t.rsplit(\"(\", 1)[0].strip()),\n",
    "    )\n",
    "    .drop(columns=[\"Unnamed: 0\", \"Rank & Title\", \"Your Rating\", \"Unnamed: 4\", \"title_and_year\"])\n",
    "    .rename(columns={\"IMDb Rating\": \"rating\"})\n",
    ")[[\"rank\", \"title\", \"year\", \"rating\"]]\n",
    "df"
   ],
   "execution_count": null,
   "outputs": [
    {
     "data": {
      "text/html": "<div>\n<style scoped>\n    .dataframe tbody tr th:only-of-type {\n        vertical-align: middle;\n    }\n\n    .dataframe tbody tr th {\n        vertical-align: top;\n    }\n\n    .dataframe thead th {\n        text-align: right;\n    }\n</style>\n<table border=\"1\" class=\"dataframe\">\n  <thead>\n    <tr style=\"text-align: right;\">\n      <th></th>\n      <th>rank</th>\n      <th>title</th>\n      <th>year</th>\n      <th>rating</th>\n    </tr>\n  </thead>\n  <tbody>\n    <tr>\n      <th>0</th>\n      <td>1</td>\n      <td>The Shawshank Redemption</td>\n      <td>1994</td>\n      <td>9.2</td>\n    </tr>\n    <tr>\n      <th>1</th>\n      <td>2</td>\n      <td>The Godfather</td>\n      <td>1972</td>\n      <td>9.2</td>\n    </tr>\n    <tr>\n      <th>2</th>\n      <td>3</td>\n      <td>The Dark Knight</td>\n      <td>2008</td>\n      <td>9.0</td>\n    </tr>\n    <tr>\n      <th>3</th>\n      <td>4</td>\n      <td>The Godfather Part II</td>\n      <td>1974</td>\n      <td>9.0</td>\n    </tr>\n    <tr>\n      <th>4</th>\n      <td>5</td>\n      <td>12 Angry Men</td>\n      <td>1957</td>\n      <td>8.9</td>\n    </tr>\n    <tr>\n      <th>...</th>\n      <td>...</td>\n      <td>...</td>\n      <td>...</td>\n      <td>...</td>\n    </tr>\n    <tr>\n      <th>245</th>\n      <td>246</td>\n      <td>Dersu Uzala</td>\n      <td>1975</td>\n      <td>8.0</td>\n    </tr>\n    <tr>\n      <th>246</th>\n      <td>247</td>\n      <td>Aladdin</td>\n      <td>1992</td>\n      <td>8.0</td>\n    </tr>\n    <tr>\n      <th>247</th>\n      <td>248</td>\n      <td>Gandhi</td>\n      <td>1982</td>\n      <td>8.0</td>\n    </tr>\n    <tr>\n      <th>248</th>\n      <td>249</td>\n      <td>The Help</td>\n      <td>2011</td>\n      <td>8.0</td>\n    </tr>\n    <tr>\n      <th>249</th>\n      <td>250</td>\n      <td>The Iron Giant</td>\n      <td>1999</td>\n      <td>8.0</td>\n    </tr>\n  </tbody>\n</table>\n<p>250 rows × 4 columns</p>\n</div>",
      "text/plain": "    rank                     title  year  rating\n0      1  The Shawshank Redemption  1994     9.2\n1      2             The Godfather  1972     9.2\n2      3           The Dark Knight  2008     9.0\n3      4     The Godfather Part II  1974     9.0\n4      5              12 Angry Men  1957     8.9\n..   ...                       ...   ...     ...\n245  246               Dersu Uzala  1975     8.0\n246  247                   Aladdin  1992     8.0\n247  248                    Gandhi  1982     8.0\n248  249                  The Help  2011     8.0\n249  250            The Iron Giant  1999     8.0\n\n[250 rows x 4 columns]"
     },
     "execution_count": 35,
     "metadata": {},
     "output_type": "execute_result"
    }
   ]
  },
  {
   "cell_type": "code",
   "metadata": {
    "cell_id": "00005-799c6d5d-2a35-4b99-b7c7-1941942d4c95",
    "deepnote_cell_type": "code",
    "deepnote_cell_height": 61,
    "pycharm": {
     "name": "#%%\n"
    }
   },
   "source": [
    "df.to_csv(\"top_movies.csv\", index=False)"
   ],
   "execution_count": null,
   "outputs": []
  },
  {
   "cell_type": "markdown",
   "source": [
    "## All movie data from IMDB exports\n",
    "\n",
    "As described in https://www.imdb.com/interfaces/"
   ],
   "metadata": {
    "cell_id": "00006-8712d154-557c-4ff6-b374-dc3f19f311d8",
    "deepnote_cell_type": "markdown",
    "deepnote_cell_height": 108.390625,
    "pycharm": {
     "name": "#%% md\n"
    }
   }
  },
  {
   "cell_type": "code",
   "metadata": {
    "cell_id": "00007-b2a4391a-2620-4131-ad23-551eaa98259a",
    "deepnote_cell_type": "code",
    "deepnote_cell_height": 385,
    "pycharm": {
     "name": "#%%\n"
    }
   },
   "source": [
    "def download_titles():\n",
    "    title_basics_url = \"https://datasets.imdbws.com/title.basics.tsv.gz\"\n",
    "    title_basics_raw = pd.read_csv(title_basics_url, sep=\"\\t\", low_memory=False, na_values=\"\\\\N\")\n",
    "    title_basics = (\n",
    "        title_basics_raw\n",
    "        .query(\"((titleType=='movie') | (titleType=='tvMovie')) & (isAdult==0)\")\n",
    "        .drop(columns=[\"isAdult\", \"endYear\"])\n",
    "        .rename(columns={\"startYear\": \"year\"})\n",
    "        .convert_dtypes()\n",
    "        .astype({\"year\": \"Int64\", \"runtimeMinutes\": \"Int64\"})\n",
    "        .reset_index(drop=True)\n",
    "    )\n",
    "    title_basics.to_parquet(\"imdb_movie_titles.parquet\")\n",
    "    return title_basics\n",
    "\n",
    "if os.path.isfile(\"imdb_movie_titles.parquet\"):\n",
    "    movie_basics = pd.read_parquet(\"imdb_movie_titles.parquet\")\n",
    "else:\n",
    "    movie_basics = download_titles()"
   ],
   "execution_count": 14,
   "outputs": []
  },
  {
   "cell_type": "code",
   "metadata": {
    "cell_id": "00008-b2405b39-d209-4ce6-98fd-6e0951663f4f",
    "deepnote_cell_type": "code",
    "deepnote_cell_height": 473.1875,
    "deepnote_output_heights": [
     381.1875
    ],
    "pycharm": {
     "name": "#%%\n"
    }
   },
   "source": [
    "movie_basics"
   ],
   "execution_count": 15,
   "outputs": [
    {
     "data": {
      "text/plain": "           tconst titleType  \\\n0       tt0000009     movie   \n1       tt0000502     movie   \n2       tt0000574     movie   \n3       tt0000591     movie   \n4       tt0000615     movie   \n...           ...       ...   \n748519  tt9916680     movie   \n748520  tt9916692   tvMovie   \n748521  tt9916706     movie   \n748522  tt9916730     movie   \n748523  tt9916754     movie   \n\n                                             primaryTitle  \\\n0                                              Miss Jerry   \n1                                                Bohemios   \n2                             The Story of the Kelly Gang   \n3                                        The Prodigal Son   \n4                                      Robbery Under Arms   \n...                                                   ...   \n748519  De la ilusión al desconcierto: cine colombiano...   \n748520                    Teatroteka: Czlowiek bez twarzy   \n748521                                    Dankyavar Danka   \n748522                                             6 Gunn   \n748523                     Chico Albuquerque - Revelações   \n\n                                            originalTitle  year  \\\n0                                              Miss Jerry  1894   \n1                                                Bohemios  1905   \n2                             The Story of the Kelly Gang  1906   \n3                                       L'enfant prodigue  1907   \n4                                      Robbery Under Arms  1907   \n...                                                   ...   ...   \n748519  De la ilusión al desconcierto: cine colombiano...  2007   \n748520                    Teatroteka: Czlowiek bez twarzy  2015   \n748521                                    Dankyavar Danka  2013   \n748522                                             6 Gunn  2017   \n748523                     Chico Albuquerque - Revelações  2013   \n\n        runtimeMinutes                      genres  \n0                   45                     Romance  \n1                  100                        <NA>  \n2                   70  Action,Adventure,Biography  \n3                   90                       Drama  \n4                 <NA>                       Drama  \n...                ...                         ...  \n748519             100                 Documentary  \n748520              66                       Drama  \n748521            <NA>                      Comedy  \n748522             116                        <NA>  \n748523              49                 Documentary  \n\n[748524 rows x 7 columns]",
      "text/html": "<div>\n<style scoped>\n    .dataframe tbody tr th:only-of-type {\n        vertical-align: middle;\n    }\n\n    .dataframe tbody tr th {\n        vertical-align: top;\n    }\n\n    .dataframe thead th {\n        text-align: right;\n    }\n</style>\n<table border=\"1\" class=\"dataframe\">\n  <thead>\n    <tr style=\"text-align: right;\">\n      <th></th>\n      <th>tconst</th>\n      <th>titleType</th>\n      <th>primaryTitle</th>\n      <th>originalTitle</th>\n      <th>year</th>\n      <th>runtimeMinutes</th>\n      <th>genres</th>\n    </tr>\n  </thead>\n  <tbody>\n    <tr>\n      <th>0</th>\n      <td>tt0000009</td>\n      <td>movie</td>\n      <td>Miss Jerry</td>\n      <td>Miss Jerry</td>\n      <td>1894</td>\n      <td>45</td>\n      <td>Romance</td>\n    </tr>\n    <tr>\n      <th>1</th>\n      <td>tt0000502</td>\n      <td>movie</td>\n      <td>Bohemios</td>\n      <td>Bohemios</td>\n      <td>1905</td>\n      <td>100</td>\n      <td>&lt;NA&gt;</td>\n    </tr>\n    <tr>\n      <th>2</th>\n      <td>tt0000574</td>\n      <td>movie</td>\n      <td>The Story of the Kelly Gang</td>\n      <td>The Story of the Kelly Gang</td>\n      <td>1906</td>\n      <td>70</td>\n      <td>Action,Adventure,Biography</td>\n    </tr>\n    <tr>\n      <th>3</th>\n      <td>tt0000591</td>\n      <td>movie</td>\n      <td>The Prodigal Son</td>\n      <td>L'enfant prodigue</td>\n      <td>1907</td>\n      <td>90</td>\n      <td>Drama</td>\n    </tr>\n    <tr>\n      <th>4</th>\n      <td>tt0000615</td>\n      <td>movie</td>\n      <td>Robbery Under Arms</td>\n      <td>Robbery Under Arms</td>\n      <td>1907</td>\n      <td>&lt;NA&gt;</td>\n      <td>Drama</td>\n    </tr>\n    <tr>\n      <th>...</th>\n      <td>...</td>\n      <td>...</td>\n      <td>...</td>\n      <td>...</td>\n      <td>...</td>\n      <td>...</td>\n      <td>...</td>\n    </tr>\n    <tr>\n      <th>748519</th>\n      <td>tt9916680</td>\n      <td>movie</td>\n      <td>De la ilusión al desconcierto: cine colombiano...</td>\n      <td>De la ilusión al desconcierto: cine colombiano...</td>\n      <td>2007</td>\n      <td>100</td>\n      <td>Documentary</td>\n    </tr>\n    <tr>\n      <th>748520</th>\n      <td>tt9916692</td>\n      <td>tvMovie</td>\n      <td>Teatroteka: Czlowiek bez twarzy</td>\n      <td>Teatroteka: Czlowiek bez twarzy</td>\n      <td>2015</td>\n      <td>66</td>\n      <td>Drama</td>\n    </tr>\n    <tr>\n      <th>748521</th>\n      <td>tt9916706</td>\n      <td>movie</td>\n      <td>Dankyavar Danka</td>\n      <td>Dankyavar Danka</td>\n      <td>2013</td>\n      <td>&lt;NA&gt;</td>\n      <td>Comedy</td>\n    </tr>\n    <tr>\n      <th>748522</th>\n      <td>tt9916730</td>\n      <td>movie</td>\n      <td>6 Gunn</td>\n      <td>6 Gunn</td>\n      <td>2017</td>\n      <td>116</td>\n      <td>&lt;NA&gt;</td>\n    </tr>\n    <tr>\n      <th>748523</th>\n      <td>tt9916754</td>\n      <td>movie</td>\n      <td>Chico Albuquerque - Revelações</td>\n      <td>Chico Albuquerque - Revelações</td>\n      <td>2013</td>\n      <td>49</td>\n      <td>Documentary</td>\n    </tr>\n  </tbody>\n</table>\n<p>748524 rows × 7 columns</p>\n</div>"
     },
     "execution_count": 15,
     "metadata": {},
     "output_type": "execute_result"
    }
   ]
  },
  {
   "cell_type": "code",
   "metadata": {
    "cell_id": "00009-38d3f93c-f828-47cc-aa1c-dd89a23627e9",
    "deepnote_cell_type": "code",
    "deepnote_cell_height": 259,
    "pycharm": {
     "name": "#%%\n"
    }
   },
   "source": [
    "def download_ratings(movie_ids):\n",
    "    ratings_url = \"https://datasets.imdbws.com/title.ratings.tsv.gz\"\n",
    "    ratings_raw = pd.read_csv(ratings_url, sep=\"\\t\", low_memory=False, na_values=\"\\\\N\")\n",
    "    ratings = (\n",
    "        ratings_raw[ratings_raw[\"tconst\"].isin(movie_ids)]\n",
    "        .convert_dtypes()\n",
    "        .reset_index(drop=True)\n",
    "    )\n",
    "    ratings.to_parquet(\"imdb_movie_ratings.parquet\")\n",
    "    return ratings\n",
    "\n",
    "if os.path.isfile(\"imdb_movie_ratings.parquet\"):\n",
    "    movie_ratings = pd.read_parquet(\"imdb_movie_ratings.parquet\")\n",
    "else:\n",
    "    movie_ids = movie_basics[\"tconst\"].to_list()\n",
    "    movie_ratings = download_ratings(movie_ids=movie_ids)"
   ],
   "execution_count": 17,
   "outputs": []
  },
  {
   "cell_type": "code",
   "metadata": {
    "cell_id": "00010-99dfa30b-771a-418e-b7b6-6deceadd3324",
    "deepnote_cell_type": "code",
    "deepnote_cell_height": 473.1875,
    "deepnote_output_heights": [
     381.1875
    ],
    "pycharm": {
     "name": "#%%\n"
    }
   },
   "source": [
    "movie_ratings"
   ],
   "execution_count": 18,
   "outputs": [
    {
     "data": {
      "text/plain": "           tconst  averageRating  numVotes\n0       tt0000009            5.2       199\n1       tt0000502            3.7        14\n2       tt0000574            6.0       782\n3       tt0000591            4.0        19\n4       tt0000615            4.1        23\n...           ...            ...       ...\n326066  tt9916362            6.4      4858\n326067  tt9916428            3.8        14\n326068  tt9916460            9.4        18\n326069  tt9916538            8.3         6\n326070  tt9916730            8.4         6\n\n[326071 rows x 3 columns]",
      "text/html": "<div>\n<style scoped>\n    .dataframe tbody tr th:only-of-type {\n        vertical-align: middle;\n    }\n\n    .dataframe tbody tr th {\n        vertical-align: top;\n    }\n\n    .dataframe thead th {\n        text-align: right;\n    }\n</style>\n<table border=\"1\" class=\"dataframe\">\n  <thead>\n    <tr style=\"text-align: right;\">\n      <th></th>\n      <th>tconst</th>\n      <th>averageRating</th>\n      <th>numVotes</th>\n    </tr>\n  </thead>\n  <tbody>\n    <tr>\n      <th>0</th>\n      <td>tt0000009</td>\n      <td>5.2</td>\n      <td>199</td>\n    </tr>\n    <tr>\n      <th>1</th>\n      <td>tt0000502</td>\n      <td>3.7</td>\n      <td>14</td>\n    </tr>\n    <tr>\n      <th>2</th>\n      <td>tt0000574</td>\n      <td>6.0</td>\n      <td>782</td>\n    </tr>\n    <tr>\n      <th>3</th>\n      <td>tt0000591</td>\n      <td>4.0</td>\n      <td>19</td>\n    </tr>\n    <tr>\n      <th>4</th>\n      <td>tt0000615</td>\n      <td>4.1</td>\n      <td>23</td>\n    </tr>\n    <tr>\n      <th>...</th>\n      <td>...</td>\n      <td>...</td>\n      <td>...</td>\n    </tr>\n    <tr>\n      <th>326066</th>\n      <td>tt9916362</td>\n      <td>6.4</td>\n      <td>4858</td>\n    </tr>\n    <tr>\n      <th>326067</th>\n      <td>tt9916428</td>\n      <td>3.8</td>\n      <td>14</td>\n    </tr>\n    <tr>\n      <th>326068</th>\n      <td>tt9916460</td>\n      <td>9.4</td>\n      <td>18</td>\n    </tr>\n    <tr>\n      <th>326069</th>\n      <td>tt9916538</td>\n      <td>8.3</td>\n      <td>6</td>\n    </tr>\n    <tr>\n      <th>326070</th>\n      <td>tt9916730</td>\n      <td>8.4</td>\n      <td>6</td>\n    </tr>\n  </tbody>\n</table>\n<p>326071 rows × 3 columns</p>\n</div>"
     },
     "execution_count": 18,
     "metadata": {},
     "output_type": "execute_result"
    }
   ]
  },
  {
   "cell_type": "code",
   "execution_count": null,
   "outputs": [],
   "source": [],
   "metadata": {
    "collapsed": false,
    "pycharm": {
     "name": "#%%\n"
    }
   }
  }
 ],
 "nbformat": 4,
 "nbformat_minor": 2,
 "metadata": {
  "kernelspec": {
   "display_name": "Python 3.9.12 64-bit ('3.9.12')",
   "language": "python",
   "name": "python3"
  },
  "language_info": {
   "codemirror_mode": {
    "name": "ipython",
    "version": 3
   },
   "file_extension": ".py",
   "mimetype": "text/x-python",
   "name": "python",
   "nbconvert_exporter": "python",
   "pygments_lexer": "ipython3",
   "version": "3.9.12"
  },
  "orig_nbformat": 4,
  "vscode": {
   "interpreter": {
    "hash": "cec6563c4f37bc4fbf77b0d1c12805bd8ea87d3690cb09fe579d37829555f508"
   }
  },
  "deepnote_notebook_id": "0a6e6e3f-3705-4571-b4ef-34d4ff2cbd9b",
  "deepnote": {},
  "deepnote_execution_queue": []
 }
}