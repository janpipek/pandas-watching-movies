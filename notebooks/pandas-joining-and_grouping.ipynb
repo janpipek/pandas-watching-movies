{
 "cells": [
  {
   "cell_type": "markdown",
   "source": "# Pandas - Merging, grouping, aggregation, relationships",
   "metadata": {
    "cell_id": "9e0d109c-8617-47e2-8247-d8db13334575",
    "deepnote_cell_type": "markdown",
    "deepnote_cell_height": 134
   }
  },
  {
   "cell_type": "code",
   "source": "import pandas as pd\nimport numpy as np\nfrom IPython.display import display, IFrame\n\nnp.random.seed(42)",
   "metadata": {
    "cell_id": "00001-57390658-90d6-46cc-9ea4-cd52faf11139",
    "deepnote_to_be_reexecuted": false,
    "execution_millis": 807568,
    "execution_start": 1662717325324,
    "source_hash": "5547589d",
    "output_cleared": true,
    "deepnote_cell_type": "code",
    "deepnote_cell_height": 148
   },
   "execution_count": null,
   "outputs": []
  },
  {
   "cell_type": "code",
   "source": "from solutions import run_solution, show_solution",
   "metadata": {
    "cell_id": "85557990f5b04feb84a0987711476660",
    "tags": [],
    "deepnote_to_be_reexecuted": false,
    "source_hash": "a741c33b",
    "execution_start": 1662717325324,
    "execution_millis": 0,
    "output_cleared": true,
    "deepnote_cell_type": "code",
    "deepnote_cell_height": 76
   },
   "outputs": [],
   "execution_count": null
  },
  {
   "cell_type": "code",
   "source": "# Read the data\nimdb_titles = pd.read_parquet(\"../data/imdb_movie_titles.parquet\")\nimdb_ratings = pd.read_parquet(\"../data/imdb_movie_ratings.parquet\")\ntmdb = pd.read_parquet(\"../data/tmdb.parquet\")",
   "metadata": {
    "cell_id": "00005-2456a621-4c05-4bcf-86c0-fc7bbc86def0",
    "deepnote_to_be_reexecuted": false,
    "execution_millis": 4075,
    "execution_start": 1662717325325,
    "source_hash": "590a9a56",
    "output_cleared": true,
    "deepnote_cell_type": "code",
    "deepnote_cell_height": 130
   },
   "execution_count": null,
   "outputs": []
  },
  {
   "cell_type": "markdown",
   "source": "## Merging data\n\nWe would like to attach ratings to the movie titles dataset. \nLet's merge (join) the two IMDB data sets. That's quite simple because they share the `tconst` columns.",
   "metadata": {
    "cell_id": "00008-09ed5e78-c9cf-4617-8897-e648ce5d85d8",
    "deepnote_cell_type": "markdown",
    "deepnote_cell_height": 130.796875
   }
  },
  {
   "cell_type": "code",
   "source": "imdb_ratings.sample(10)",
   "metadata": {
    "cell_id": "00010-982d9735-0461-456d-a48b-3caf209a72d6",
    "deepnote_to_be_reexecuted": false,
    "execution_millis": 25,
    "execution_start": 1662717329402,
    "scrolled": true,
    "source_hash": "6d506e04",
    "output_cleared": true,
    "deepnote_cell_type": "code",
    "deepnote_cell_height": 595
   },
   "execution_count": null,
   "outputs": []
  },
  {
   "cell_type": "markdown",
   "source": "Luckily, the datasets have a common column (tconst) and can be merged easily using the [`pandas.merge`](https://pandas.pydata.org/docs/reference/api/pandas.merge.html) function. We also specify a very useful `validate` parameter. In our case, `validate=“1:1”` checks if merge keys are unique in both left and right datasets.",
   "metadata": {
    "cell_id": "00011-fb399c0d-4a73-4cd8-9be0-bd3f91de0fc3",
    "deepnote_cell_type": "markdown",
    "deepnote_cell_height": 74.796875
   }
  },
  {
   "cell_type": "markdown",
   "source": "The join type (`how` parameter in `pd.merge`) is *inner*. There are four join (merge) types:\n\n![join types](joins.png \"Join Types\")",
   "metadata": {
    "cell_id": "15c56d52d7134ec5ba19ddc3e33e91f6",
    "tags": [],
    "deepnote_cell_type": "markdown",
    "deepnote_cell_height": 610.390625
   }
  },
  {
   "cell_type": "code",
   "source": "imdb_rated = pd.merge(imdb_titles, imdb_ratings, on='tconst', how='inner', validate=\"1:1\")",
   "metadata": {
    "cell_id": "00012-510c682d-68c2-4d46-9db4-e534671bb12b",
    "deepnote_to_be_reexecuted": false,
    "execution_millis": 1509,
    "execution_start": 1662717329471,
    "source_hash": "6d296ad1",
    "output_cleared": true,
    "deepnote_cell_type": "code",
    "deepnote_cell_height": 76
   },
   "execution_count": null,
   "outputs": []
  },
  {
   "cell_type": "code",
   "source": "imdb_rated.head(10)",
   "metadata": {
    "cell_id": "00013-fad7d05e-f5f7-42d9-abbe-608b761c077c",
    "deepnote_to_be_reexecuted": false,
    "execution_millis": 21,
    "execution_start": 1662717330999,
    "source_hash": "fffadcab",
    "output_cleared": true,
    "deepnote_cell_type": "code",
    "deepnote_cell_height": 595
   },
   "execution_count": null,
   "outputs": []
  },
  {
   "cell_type": "markdown",
   "source": "In this case, we could also use the `tconst` column as index and either use `pd.merge(imdb_titles, imdb_ratings, left_index=True, right_index=True)` or the simplified `join` method:",
   "metadata": {
    "cell_id": "00008-fe3f4a1f-5355-4837-8c88-035bb10604b9",
    "deepnote_cell_type": "markdown",
    "deepnote_cell_height": 74.796875
   }
  },
  {
   "cell_type": "code",
   "source": "# we set the index to the tconst column here for demonstration\nimdb_titles.set_index(\"tconst\").join(imdb_ratings.set_index(\"tconst\")).head(10)",
   "metadata": {
    "cell_id": "00014-5d19c9d9-5f9a-4d00-bdc0-7e5fbb7ae2ad",
    "deepnote_to_be_reexecuted": false,
    "execution_millis": 1321,
    "execution_start": 1662717331033,
    "source_hash": "27aca586",
    "output_cleared": true,
    "deepnote_cell_type": "code",
    "deepnote_cell_height": 613
   },
   "execution_count": null,
   "outputs": []
  },
  {
   "cell_type": "markdown",
   "source": "Similarly, we can merge the third TMDB dataset. It also includes `tconst` but as `imdb_id` column. We will also merge only certain columns from TMDB.",
   "metadata": {
    "cell_id": "e7fe84faef9c488d83473a503d1d241d",
    "tags": [],
    "deepnote_cell_type": "markdown",
    "deepnote_cell_height": 52.390625
   }
  },
  {
   "cell_type": "code",
   "source": "movies_rated = pd.merge(\n    imdb_rated,\n    tmdb[[\"imdb_id\", \"budget\", \"popularity\", \"revenue\", \"vote_average\", \"vote_count\"]],\n    left_on=\"tconst\",\n    right_on=\"imdb_id\",\n    validate=\"1:1\",\n)",
   "metadata": {
    "cell_id": "666e903c6c5b4a5d9ee0358ef12fb710",
    "deepnote_to_be_reexecuted": false,
    "execution_millis": 871,
    "execution_start": 1662717331592,
    "source_hash": "f0eff60a",
    "tags": [],
    "output_cleared": true,
    "deepnote_cell_type": "code",
    "deepnote_cell_height": 184
   },
   "execution_count": null,
   "outputs": []
  },
  {
   "cell_type": "code",
   "source": "movies_rated.sample(5)",
   "metadata": {
    "cell_id": "35bdf66169c04185aac7ff58ce901d21",
    "deepnote_to_be_reexecuted": false,
    "execution_millis": 25,
    "execution_start": 1662717332468,
    "source_hash": "dff88434",
    "tags": [],
    "output_cleared": true,
    "deepnote_cell_type": "code",
    "deepnote_cell_height": 390
   },
   "execution_count": null,
   "outputs": []
  },
  {
   "cell_type": "markdown",
   "source": "**Exercise drop_imdb_id**: You may have noticed that we have two duplicate columns: `tconst` and `imdb_id`. Drop the `imdb_id` column as an exercise.",
   "metadata": {
    "cell_id": "00013-db616020-1190-415d-86da-4724e0f49590",
    "deepnote_cell_type": "markdown",
    "deepnote_cell_height": 52.390625
   }
  },
  {
   "cell_type": "code",
   "source": "# exercise drop_imdb_id\n\n# run_solution(\"drop_imdb_id\")\n# show_solution(\"drop_imdb_id\")",
   "metadata": {
    "cell_id": "00014-71e728e6-0195-4b2a-82f9-f205fe7d2f26",
    "deepnote_to_be_reexecuted": false,
    "source_hash": "cc4b5f30",
    "execution_start": 1662717332495,
    "execution_millis": 0,
    "output_cleared": true,
    "deepnote_cell_type": "code",
    "deepnote_cell_height": 130
   },
   "execution_count": null,
   "outputs": []
  },
  {
   "cell_type": "markdown",
   "source": "### Consumer Price Index\n\nWe will use one more dataset for this workshop, not strictly related to movies: The US Consumer Price Index, available from https://data.bls.gov/timeseries/CUUR0000SA0. This time, we read an unprocessed Excel data file. The format is not ideal but the `read_excel` function is flexible enough to handle this file.",
   "metadata": {
    "cell_id": "3b518ed87e1d43f1be1161e19f32ebd2",
    "tags": [],
    "deepnote_cell_type": "markdown",
    "deepnote_cell_height": 145.1875
   }
  },
  {
   "cell_type": "code",
   "source": "cpi = pd.read_excel(\"../data/cpi.xlsx\", skiprows=10, header=1).convert_dtypes().rename(columns={\"Year\": \"year\"})\ncpi",
   "metadata": {
    "cell_id": "f49d08f447104e47a49bf322ca96a9d3",
    "deepnote_to_be_reexecuted": false,
    "execution_millis": 232,
    "execution_start": 1662717332498,
    "source_hash": "ee6b5bfc",
    "tags": [],
    "output_cleared": true,
    "deepnote_cell_type": "code",
    "deepnote_cell_height": 682.890625
   },
   "execution_count": null,
   "outputs": []
  },
  {
   "cell_type": "markdown",
   "source": "**Exercise cpi_2022**: Calculate and insert `Annual` value for 2022 based on the mean of available months (do not consider the number of days per month).",
   "metadata": {
    "cell_id": "00017-07915ee2-82da-4c23-843d-1e2911241df2",
    "deepnote_cell_type": "markdown",
    "deepnote_cell_height": 74.796875
   }
  },
  {
   "cell_type": "code",
   "source": "# exercise cpi_2022\n\n# run_solution(\"cpi_2022\")\n# show_solution(\"cpi_2022\")",
   "metadata": {
    "cell_id": "00018-c1bc6ad5-1bc0-4fb9-b37e-d2ba8045bea6",
    "deepnote_to_be_reexecuted": false,
    "source_hash": "de999a49",
    "execution_start": 1662717332735,
    "execution_millis": 0,
    "deepnote_table_state": {
     "pageSize": 10,
     "pageIndex": 10,
     "filters": [],
     "sortBy": []
    },
    "deepnote_table_loading": false,
    "output_cleared": true,
    "deepnote_cell_type": "code",
    "deepnote_cell_height": 130
   },
   "execution_count": null,
   "outputs": []
  },
  {
   "cell_type": "markdown",
   "source": "You probably realised that merging this dataset will be a bit different as we do not have CPI related to individual movies. However, movies are created in certain years. We can thus associate CPI by the movie release year. Of course we introduce some (maybe non-trivial) inconsistency when we do some analyses when we recalculate the dollar value based on CPI because the values (e.g. budgets) are potentially related to other year(s).\n\nLet's do the merge anyways and add a CPI value for each movie based on the release year average CPI:",
   "metadata": {
    "cell_id": "00019-bbfe9ec2-cfd5-4de8-acbd-5595bb7e202d",
    "deepnote_cell_type": "markdown",
    "deepnote_cell_height": 133.59375
   }
  },
  {
   "cell_type": "code",
   "source": "movies_rated_cpi_all = movies_rated.merge(\n    cpi[[\"year\", \"Annual\"]].rename(columns={\"Annual\": \"CPI\"}),\n    on=\"year\",\n)",
   "metadata": {
    "cell_id": "340f025bd664449da54373dec1676b70",
    "deepnote_to_be_reexecuted": false,
    "execution_millis": 136,
    "execution_start": 1662717332735,
    "source_hash": "d06893f8",
    "tags": [],
    "output_cleared": true,
    "deepnote_cell_type": "code",
    "deepnote_cell_height": 130
   },
   "execution_count": null,
   "outputs": []
  },
  {
   "cell_type": "code",
   "source": "movies_rated_cpi_all[[\"primaryTitle\", \"year\", \"CPI\"]].sample(10)",
   "metadata": {
    "cell_id": "00021-b3f0944c-36e9-48df-af48-80be1d42e8c7",
    "deepnote_to_be_reexecuted": false,
    "source_hash": "bc4668be",
    "execution_start": 1662717332892,
    "execution_millis": 4,
    "output_cleared": true,
    "deepnote_cell_type": "code",
    "deepnote_cell_height": 595
   },
   "execution_count": null,
   "outputs": []
  },
  {
   "cell_type": "markdown",
   "source": "**Exercise cpi_validate_merge:** Add the right `validate` parameter to the merge with CPI.",
   "metadata": {
    "cell_id": "f1a4ebc9c1734d6e9293d800fc10e02c",
    "tags": [],
    "deepnote_cell_type": "markdown",
    "deepnote_cell_height": 52.390625
   }
  },
  {
   "cell_type": "code",
   "source": "# exercise cpi_validate_merge\n\n# run_solution(\"cpi_validate_merge\")\n# show_solution(\"cpi_validate_merge\")",
   "metadata": {
    "cell_id": "85e619ed52564c89bf641031115c6272",
    "deepnote_to_be_reexecuted": false,
    "execution_millis": 0,
    "execution_start": 1662717332893,
    "source_hash": "c303304a",
    "tags": [],
    "output_cleared": true,
    "deepnote_cell_type": "code",
    "deepnote_cell_height": 130
   },
   "execution_count": null,
   "outputs": []
  },
  {
   "cell_type": "markdown",
   "source": "## Visual analysis\n\nPandas provides covenience methods for plotting using [Matplotlib](https://matplotlib.org). We will not show them here (you can follow the official [10 min tutorial on plotting](https://pandas.pydata.org/docs/user_guide/10min.html#plotting)); instead, we make use of [Plotly](https://plotly.com/python/), a \"graphing library makes interactive, publication-quality graph\". In particular, we will use the [Plotly Express](https://plotly.github.io/plotly.py-docs/plotly.express.html#px) high level interface.\n\nThere are more libraries you can explore when you have more time, such as https://seaborn.pydata.org, https://bokeh.pydata.org/en/latest/, https://altair-viz.github.io/, http://holoviews.org. You can find an overview at https://pyviz.org/high-level/index.html.",
   "metadata": {
    "cell_id": "00049-7961b9db-4ccb-4faf-b3fc-3f300e2c8037",
    "deepnote_cell_type": "markdown",
    "deepnote_cell_height": 211.984375
   }
  },
  {
   "cell_type": "code",
   "source": "import plotly.express as px",
   "metadata": {
    "cell_id": "cd4f41c5e2ad45e2b8d4ec63d4f89dac",
    "deepnote_to_be_reexecuted": false,
    "execution_millis": 78,
    "execution_start": 1662717332894,
    "source_hash": "bceeddb3",
    "tags": [],
    "output_cleared": true,
    "deepnote_cell_type": "code",
    "deepnote_cell_height": 76
   },
   "execution_count": null,
   "outputs": []
  },
  {
   "cell_type": "markdown",
   "source": "Let's try to visually \"answer\" whether the number of votes is related to rating using a simple scatter plot:",
   "metadata": {
    "cell_id": "00052-0807e822-b437-4f70-b300-1ae4feb3acd2",
    "deepnote_cell_type": "markdown",
    "deepnote_cell_height": 52.390625
   }
  },
  {
   "cell_type": "code",
   "source": "px.scatter(movies_rated_cpi_all, x=\"numVotes\", y=\"averageRating\")",
   "metadata": {
    "cell_id": "ba14c250dd6e4d7eb2e3265948254717",
    "deepnote_to_be_reexecuted": false,
    "execution_millis": 1206,
    "execution_start": 1662717333019,
    "source_hash": "bb060023",
    "tags": [],
    "output_cleared": true,
    "deepnote_cell_type": "code",
    "deepnote_cell_height": 618,
    "deepnote_output_heights": [
     526
    ]
   },
   "execution_count": null,
   "outputs": []
  },
  {
   "cell_type": "markdown",
   "source": "This is already quite useful. With a minimalistic function call, we have an *interactive* plot right *in the notebook*. Let's play with it for a while:\n* Zoom in / out.\n* Hover over data points.\n\nWe can tune the plot a bit more. For example, the number of votes would be better on a logarithmic scale. We can also add some opacity to get a sense of the density of the data points.",
   "metadata": {
    "cell_id": "00028-1a95376f-7aa8-485b-9b44-12dd34e4a4a3",
    "deepnote_cell_type": "markdown",
    "deepnote_cell_height": 172.984375
   }
  },
  {
   "cell_type": "code",
   "source": "px.scatter(movies_rated_cpi_all, x=\"numVotes\", y=\"averageRating\", log_x=True, opacity=0.1)",
   "metadata": {
    "cell_id": "00029-026a75af-28c7-47c5-bb4e-6e7a3bfa2d23",
    "deepnote_to_be_reexecuted": false,
    "execution_millis": 933,
    "execution_start": 1662717334057,
    "source_hash": "100dfdaa",
    "tags": [],
    "output_cleared": true,
    "deepnote_cell_type": "code",
    "deepnote_cell_height": 618,
    "deepnote_output_heights": [
     526
    ]
   },
   "execution_count": null,
   "outputs": []
  },
  {
   "cell_type": "markdown",
   "source": "A very important aspect that can be observed is that low number of votes introduce more noise than information. Let's remove those movies for the further analysis. ",
   "metadata": {
    "cell_id": "e87f831ebad04b8b9f0d0dde9e7ec9c8",
    "tags": [],
    "deepnote_cell_type": "markdown",
    "deepnote_cell_height": 74.796875
   }
  },
  {
   "cell_type": "code",
   "source": "movies_rated_cpi = movies_rated_cpi_all.loc[\n    (movies_rated_cpi_all[\"numVotes\"] > 100) & (movies_rated_cpi_all[\"vote_count\"] > 100)\n]",
   "metadata": {
    "cell_id": "138c5643b91847e885bd233b76aca069",
    "tags": [],
    "deepnote_to_be_reexecuted": false,
    "source_hash": "406c95c2",
    "execution_start": 1662717334805,
    "execution_millis": 0,
    "output_cleared": true,
    "deepnote_cell_type": "code",
    "deepnote_cell_height": 112
   },
   "outputs": [],
   "execution_count": null
  },
  {
   "cell_type": "code",
   "source": "print(f\"We have removed {(1 - movies_rated_cpi.size / movies_rated_cpi_all.size) * 100: .1f} % movies\")",
   "metadata": {
    "cell_id": "11a0dae54f7248ce8c6a10c94f8823ea",
    "tags": [],
    "deepnote_to_be_reexecuted": false,
    "source_hash": "bf0d777a",
    "execution_start": 1662717334805,
    "execution_millis": 186,
    "output_cleared": true,
    "deepnote_cell_type": "code",
    "deepnote_cell_height": 106.6875,
    "deepnote_output_heights": [
     20.1875
    ]
   },
   "outputs": [],
   "execution_count": null
  },
  {
   "cell_type": "markdown",
   "source": "To get quick insights into relationships between multiple variables, we can use `scatter_matrix`. \n* It is better to select only certain columns using the `dimensions` parameter.\n* `hover_name` lets you modify the hover title.\n* `hover_data` adds columns to the hover box.",
   "metadata": {
    "cell_id": "00054-0b0386b4-ae17-48e5-95d3-73f66c4d441f",
    "deepnote_cell_type": "markdown",
    "deepnote_cell_height": 153.59375
   }
  },
  {
   "cell_type": "code",
   "source": "px.scatter_matrix(\n    movies_rated_cpi, \n    dimensions=[\"averageRating\", \"budget\", \"popularity\", \"revenue\", \"vote_average\"],\n    hover_name=\"primaryTitle\",\n    hover_data=[\"year\", \"averageRating\", \"budget\", \"popularity\", \"revenue\", \"vote_average\"]\n)",
   "metadata": {
    "cell_id": "daa1c39c60d9470c8740e1499b649294",
    "deepnote_to_be_reexecuted": false,
    "execution_millis": 508,
    "execution_start": 1662717334807,
    "source_hash": "5b3eae5c",
    "tags": [],
    "output_cleared": true,
    "deepnote_cell_type": "code",
    "deepnote_cell_height": 708,
    "deepnote_output_heights": [
     526
    ]
   },
   "execution_count": null,
   "outputs": []
  },
  {
   "cell_type": "markdown",
   "source": "**Exercise hover_data**: add all columns to hover_data and reduce opacity in the previous plot",
   "metadata": {
    "cell_id": "6199347e1404487ab9c76b3fecf20253",
    "tags": [],
    "deepnote_cell_type": "markdown",
    "deepnote_cell_height": 52.390625
   }
  },
  {
   "cell_type": "code",
   "source": "# exercise hover_data\n\n# run_solution(\"hover_data\")\n# show_solution(\"hover_data\")",
   "metadata": {
    "cell_id": "932548b87abb410bbbb3cebcafa98d20",
    "tags": [],
    "deepnote_to_be_reexecuted": false,
    "source_hash": "526a0f88",
    "execution_start": 1662717335225,
    "execution_millis": 806926,
    "output_cleared": true,
    "deepnote_cell_type": "code",
    "deepnote_cell_height": 130,
    "deepnote_output_heights": [
     526
    ]
   },
   "outputs": [],
   "execution_count": null
  },
  {
   "cell_type": "markdown",
   "source": "We can also quantify the relationship using (linear) correlation coefficients:",
   "metadata": {
    "cell_id": "e54715582ca248bfb5539881e68e7955",
    "tags": [],
    "deepnote_cell_type": "markdown",
    "deepnote_cell_height": 52.390625
   }
  },
  {
   "cell_type": "code",
   "source": "movies_rated_cpi[[\"averageRating\", \"vote_average\", \"budget\", \"revenue\", \"popularity\"]].corr()",
   "metadata": {
    "cell_id": "1ce3e045e02d4a8a99e6a8bf756838df",
    "tags": [],
    "deepnote_to_be_reexecuted": false,
    "source_hash": "b4104bdf",
    "execution_start": 1662717335226,
    "execution_millis": 108,
    "output_cleared": true,
    "deepnote_cell_type": "code",
    "deepnote_cell_height": 390
   },
   "outputs": [],
   "execution_count": null
  },
  {
   "cell_type": "markdown",
   "source": "**Exercise inflation_adjust**: Create inflation-adjusted columns `revenue_2022` and `budget_2022`. The adjusted values are calculated as:\n\n$$\n  value(2022) = \\frac{value(year)}{CPI(year)} CPI(2022)\n$$",
   "metadata": {
    "cell_id": "c8b8cb03457b464c9b658adcb15f2505",
    "tags": [],
    "deepnote_cell_type": "markdown",
    "deepnote_cell_height": 120.421875
   }
  },
  {
   "cell_type": "code",
   "source": "# exercise inflation_adjust\n\n# run_solution(\"inflation_adjust\")\n# show_solution(\"inflation_adjust\")\n",
   "metadata": {
    "cell_id": "081a394dad064b3e9cf3c485b4a27340",
    "tags": [],
    "deepnote_to_be_reexecuted": false,
    "source_hash": "6456b85c",
    "execution_start": 1662717335322,
    "execution_millis": 0,
    "output_cleared": true,
    "deepnote_cell_type": "code",
    "deepnote_cell_height": 148
   },
   "outputs": [],
   "execution_count": null
  },
  {
   "cell_type": "markdown",
   "source": "Let's explore the top 10 most expensive movies using nominal and adjusted budgets and see if there are any differences.",
   "metadata": {
    "cell_id": "6632f230d8fb4fc387518f67c34abde1",
    "tags": [],
    "deepnote_cell_type": "markdown",
    "deepnote_cell_height": 52.390625
   }
  },
  {
   "cell_type": "code",
   "source": "movies_rated_cpi.sort_values(\"budget\", ascending=False).head(10)[[\"primaryTitle\", \"year\", \"budget\"]]",
   "metadata": {
    "cell_id": "f380c6d1c0d94cc8929d3dd6fb91bba6",
    "tags": [],
    "deepnote_to_be_reexecuted": false,
    "source_hash": "983e9c8f",
    "execution_start": 1662717335323,
    "execution_millis": 11,
    "output_cleared": true,
    "deepnote_cell_type": "code",
    "deepnote_cell_height": 595
   },
   "outputs": [],
   "execution_count": null
  },
  {
   "cell_type": "code",
   "source": "# uncomment when exercise inflation_adjust is done\n# movies_rated_cpi_2022.sort_values(\"budget_2022\", ascending=False).head(10)[[\"primaryTitle\", \"year\", \"budget\", \"budget_2022\"]]",
   "metadata": {
    "cell_id": "f6b0e14598dc406a9b7de784c5b00637",
    "tags": [],
    "deepnote_to_be_reexecuted": false,
    "source_hash": "7c220204",
    "execution_start": 1662717335324,
    "execution_millis": 0,
    "output_cleared": true,
    "deepnote_cell_type": "code",
    "deepnote_cell_height": 99
   },
   "outputs": [],
   "execution_count": null
  },
  {
   "cell_type": "markdown",
   "source": "Do more expensive movies have better ratings?",
   "metadata": {
    "cell_id": "41665f2a61ff4e71814f6ea88aa33007",
    "tags": [],
    "deepnote_cell_type": "markdown",
    "deepnote_cell_height": 52.390625
   }
  },
  {
   "cell_type": "code",
   "source": "movies_rated_cpi[[\"averageRating\", \"vote_average\", \"budget\", \"revenue\"]].corr()\n\n# it is better to use the inflation adjusted values\n# movies_rated_cpi_2022[[\"averageRating\", \"vote_average\", \"budget_2022\", \"revenue_2022\"]].corr()",
   "metadata": {
    "cell_id": "a708aebadea845d7bb70e4cf54f7737b",
    "tags": [],
    "deepnote_to_be_reexecuted": false,
    "source_hash": "2ef649da",
    "execution_start": 1662717335325,
    "execution_millis": 10,
    "output_cleared": true,
    "deepnote_cell_type": "code",
    "deepnote_cell_height": 403
   },
   "outputs": [],
   "execution_count": null
  },
  {
   "cell_type": "markdown",
   "source": "**Exercise plot_budget_corr**: Create a scatter plot (or scatter plot matrix) to visualize some of the (non) correlations",
   "metadata": {
    "cell_id": "d92c43052e5143a98e377f0689d8e943",
    "tags": [],
    "deepnote_cell_type": "markdown",
    "deepnote_cell_height": 52.390625
   }
  },
  {
   "cell_type": "code",
   "source": "# exercise plot_budget_corr \n\n# run_solution(\"plot_budget_corr\")\n# show_solution(\"plot_budget_corr\")\n",
   "metadata": {
    "cell_id": "102dc32a33eb4bc38a0b44fb9b93c577",
    "tags": [],
    "deepnote_to_be_reexecuted": false,
    "source_hash": "86f8ef7",
    "execution_start": 1662717335327,
    "execution_millis": 0,
    "output_cleared": true,
    "deepnote_cell_type": "code",
    "deepnote_cell_height": 148,
    "deepnote_output_heights": [
     526
    ]
   },
   "outputs": [],
   "execution_count": null
  },
  {
   "cell_type": "markdown",
   "source": "### Working with categorical data\n\nThe plots above are for numerical data (real or integer numbers in our case). What about working with some categories? We have some categories already available in the dataset, we can also create some artificially.",
   "metadata": {
    "cell_id": "00032-08221319-3881-4b2a-aa75-c57308654907",
    "deepnote_cell_type": "markdown",
    "deepnote_cell_height": 122.796875
   }
  },
  {
   "cell_type": "markdown",
   "source": "First, let's create a `decade` category, which corresponds to the decade of the release year.",
   "metadata": {
    "cell_id": "00033-d2eeac00-7f94-4fbc-a4ce-5aa930be6f9c",
    "deepnote_cell_type": "markdown",
    "deepnote_cell_height": 52.390625
   }
  },
  {
   "cell_type": "code",
   "source": "def interval_to_decade_name(interval):\n    return str(interval.left)+\"s\"\n\ndecades = pd.cut(\n    movies_rated_cpi[\"year\"],\n    bins=range(1890, 2031, 10),\n).apply(interval_to_decade_name)\n\ndecades.tail(5)",
   "metadata": {
    "cell_id": "00034-7c2e0cd9-a1ff-454e-82cf-a6c88256c5a0",
    "deepnote_to_be_reexecuted": false,
    "source_hash": "2a3971ff",
    "execution_start": 1662717335328,
    "execution_millis": 17,
    "output_cleared": true,
    "deepnote_cell_type": "code",
    "deepnote_cell_height": 371.359375,
    "deepnote_output_heights": [
     135.359375
    ]
   },
   "execution_count": null,
   "outputs": []
  },
  {
   "cell_type": "markdown",
   "source": "We can now create [box plots](https://en.wikipedia.org/wiki/Box_plot) of average rating per decade. This will give us some sense about the \"average quality of movies in each decade\" (if we trust IMDB rating as a reasonable quality proxy) and also about some statistical properties of the ratings (quantiles, max / min values, skewness, outliers).",
   "metadata": {
    "cell_id": "00035-80a8a221-8f9f-4360-a2d8-1f695ff4411b",
    "deepnote_cell_type": "markdown",
    "deepnote_cell_height": 97.1875
   }
  },
  {
   "cell_type": "code",
   "source": "px.box(\n    movies_rated_cpi,\n    x=decades,\n    y=\"averageRating\",\n)",
   "metadata": {
    "cell_id": "e1a7f03c64ba47528953cc1226f32bec",
    "tags": [],
    "deepnote_to_be_reexecuted": false,
    "source_hash": "b0452d8b",
    "execution_start": 1662717335345,
    "execution_millis": 78,
    "output_cleared": true,
    "deepnote_cell_type": "code",
    "deepnote_cell_height": 690,
    "deepnote_output_heights": [
     526
    ]
   },
   "execution_count": null,
   "outputs": []
  },
  {
   "cell_type": "markdown",
   "source": "Have you relaized that the decades are not ordered? And the x-axis is labeled just as \"x\". This is because we made a shortcut and used `decades` data as `x` argument rather than merging the data first and use `x=\"decade\"` \n\n**Exercise sort_decades**: \n1. Use either `assign` or `join` to add `\"decade\"` column to `movies_rated_cpi`. \n2. Either sort the values appropriately for the plotting (the categories appear in the plot in the same order as in the data) or use an explicit `category_orders` argument.",
   "metadata": {
    "cell_id": "fc7172cd807143f78241cbe88c40752d",
    "tags": [],
    "deepnote_cell_type": "markdown",
    "deepnote_cell_height": 209.390625
   }
  },
  {
   "cell_type": "code",
   "source": "# exercise sort_decades\n\n# run_solution(\"sort_decades\")\n# show_solution(\"sort_decades\")\n",
   "metadata": {
    "cell_id": "666c6d862f044c9c81034eef495eb105",
    "tags": [],
    "deepnote_to_be_reexecuted": false,
    "source_hash": "2390c594",
    "execution_start": 1662717335427,
    "execution_millis": 3,
    "output_cleared": true,
    "deepnote_cell_type": "code",
    "deepnote_cell_height": 148,
    "deepnote_output_heights": [
     526
    ]
   },
   "outputs": [],
   "execution_count": null
  },
  {
   "cell_type": "markdown",
   "source": "To work with genres, we need to do some extra manipulation. We first need to split the `genres` strings as they are comma-separated values. We then use `explode` to create individual rows per every genre. This means that there will be possibly multiple rows per one movie.",
   "metadata": {
    "cell_id": "00037-ffdfb454-4de3-480a-ba45-884a0ad22fe4",
    "deepnote_cell_type": "markdown",
    "deepnote_cell_height": 74.796875
   }
  },
  {
   "cell_type": "code",
   "source": "decades_and_genres = (\n    movies_rated_cpi.assign(\n        decade = pd.cut(\n            movies_rated_cpi[\"year\"],\n            bins=range(1890, 2031, 10)\n        ).apply(interval_to_decade_name),\n        genres = movies_rated_cpi[\"genres\"].str.split(\",\")\n    )\n    .rename({\"genres\": \"genre\"}, axis=\"columns\")\n    .explode(\"genre\")\n)\n\ndecades_and_genres",
   "metadata": {
    "cell_id": "00038-a90b972c-70be-48a3-8eae-1988f21fdb6d",
    "deepnote_to_be_reexecuted": false,
    "source_hash": "86f4b208",
    "execution_start": 1662717335430,
    "execution_millis": 172,
    "output_cleared": true,
    "deepnote_cell_type": "code",
    "deepnote_cell_height": 811
   },
   "execution_count": null,
   "outputs": []
  },
  {
   "cell_type": "markdown",
   "source": "Let's see what happened. One (side) effect that the index is duplicated. We will use this to filter out movies with multiple genres.",
   "metadata": {
    "cell_id": "00039-b8d6bd8a-ec0b-41d2-997f-16e1d0012093",
    "deepnote_cell_type": "markdown",
    "deepnote_cell_height": 52.390625
   }
  },
  {
   "cell_type": "code",
   "source": "decades_and_genres.loc[decades_and_genres.index.duplicated(keep=False), [\"primaryTitle\", \"genre\"]].head(5)",
   "metadata": {
    "cell_id": "00040-aa0906b8-591e-4b91-98fd-e2e16cca3e24",
    "deepnote_to_be_reexecuted": false,
    "source_hash": "4f313d5",
    "execution_start": 1662717335598,
    "execution_millis": 50,
    "output_cleared": true,
    "deepnote_cell_type": "code",
    "deepnote_cell_height": 390
   },
   "execution_count": null,
   "outputs": []
  },
  {
   "cell_type": "markdown",
   "source": "It is better to reset this index to remove the duplicates.",
   "metadata": {
    "cell_id": "46b7dcd9a4fb4001951bd003b4c8c632",
    "tags": [],
    "deepnote_cell_type": "markdown",
    "deepnote_cell_height": 52.390625
   }
  },
  {
   "cell_type": "code",
   "source": "decades_and_genres = decades_and_genres.reset_index()",
   "metadata": {
    "cell_id": "e8f32ac7a83147a29e87b76b91816168",
    "tags": [],
    "deepnote_to_be_reexecuted": false,
    "source_hash": "ef1f1230",
    "execution_start": 1662717335680,
    "execution_millis": 0,
    "output_cleared": true,
    "deepnote_cell_type": "code",
    "deepnote_cell_height": 76
   },
   "outputs": [],
   "execution_count": null
  },
  {
   "cell_type": "markdown",
   "source": "We can get a similar (more detailed) insight into the rating distribution per decade using histograms. We make use of the `facet_col` parameter.",
   "metadata": {
    "cell_id": "7817984dbf2a4227859e7427fe3744f9",
    "tags": [],
    "deepnote_cell_type": "markdown",
    "deepnote_cell_height": 52.390625
   }
  },
  {
   "cell_type": "code",
   "source": "px.histogram(\n    decades_and_genres.astype({\"decade\": str}),\n    x=\"averageRating\",\n    facet_col=\"decade\",\n    facet_col_wrap=4,\n    width=1000, \n    height=1000,\n    histnorm=\"probability density\",\n    nbins=30,\n)",
   "metadata": {
    "cell_id": "00041-d073d76b-772d-4472-9b4e-d97f53a91cf0",
    "deepnote_to_be_reexecuted": false,
    "source_hash": "3fdf4773",
    "execution_start": 1662717335681,
    "execution_millis": 351,
    "output_cleared": true,
    "deepnote_cell_type": "code",
    "deepnote_cell_height": 864,
    "deepnote_output_heights": [
     610
    ]
   },
   "execution_count": null,
   "outputs": []
  },
  {
   "cell_type": "markdown",
   "source": "**Exercise star_rating**: Create one more categorical variable called `star_rating`. Use [`pd.qcut`] (https://pandas.pydata.org/docs/reference/api/pandas.qcut.html) to assign 1 - 5 stars based on the *quntile* of the `averageRating` column. Check the value counts of this new column.",
   "metadata": {
    "cell_id": "56e615cd98dd43fc9cf42356a090ae2a",
    "tags": [],
    "deepnote_cell_type": "markdown",
    "deepnote_cell_height": 97.1875
   }
  },
  {
   "cell_type": "code",
   "source": "# exercise star_rating\n\n# run_solution(\"star_rating\")\n# show_solution(\"star_rating\")\n",
   "metadata": {
    "cell_id": "05de6106edd1499586c2c8f8cd859098",
    "tags": [],
    "deepnote_to_be_reexecuted": false,
    "source_hash": "b94e91eb",
    "execution_start": 1662717335910,
    "execution_millis": 1,
    "output_cleared": true,
    "deepnote_cell_type": "code",
    "deepnote_cell_height": 148,
    "deepnote_output_heights": [
     116.171875
    ]
   },
   "outputs": [],
   "execution_count": null
  },
  {
   "cell_type": "markdown",
   "source": "We can use more plot properties to work with more categories. For example, we can use `color` to distinguish genres while we still have decade on the x axis.",
   "metadata": {
    "cell_id": "c22eed7b98a44acab45d0d2e93a4532d",
    "tags": [],
    "deepnote_cell_type": "markdown",
    "deepnote_cell_height": 74.796875
   }
  },
  {
   "cell_type": "code",
   "source": "px.violin(\n    decades_and_genres.loc[decades_and_genres[\"genre\"].isin([\"Documentary\", \"Horror\"])].sort_values(\"decade\"),\n    x=\"decade\",\n    y=\"averageRating\",\n    color=\"genre\",\n    violinmode=\"overlay\",\n)",
   "metadata": {
    "cell_id": "00043-b5a8f197-96ac-492f-a555-c685511def0e",
    "deepnote_to_be_reexecuted": false,
    "source_hash": "6592ff30",
    "execution_start": 1662717335911,
    "execution_millis": 126,
    "output_cleared": true,
    "deepnote_cell_type": "code",
    "deepnote_cell_height": 726,
    "deepnote_output_heights": [
     526
    ]
   },
   "execution_count": null,
   "outputs": []
  },
  {
   "cell_type": "markdown",
   "source": "## Grouping & aggregation\n\nA common pattern in data analysis is grouping (or binning) data based on some property and getting some aggredate statistics.\n\n*Example:* Group this workshop participants by nationality a get the cardinality (the size) of each group.",
   "metadata": {
    "cell_id": "00070-d79c5869-3b70-4048-a7b4-af9ad0c4b00a",
    "deepnote_cell_type": "markdown",
    "deepnote_cell_height": 144.796875
   }
  },
  {
   "cell_type": "code",
   "source": "grouped_by_genre = decades_and_genres.groupby('genre')",
   "metadata": {
    "cell_id": "00072-2817082f-afd3-4f83-a1ab-df677f90fa5f",
    "deepnote_to_be_reexecuted": false,
    "source_hash": "fc87f9d1",
    "execution_start": 1662717335994,
    "execution_millis": 1,
    "output_cleared": true,
    "deepnote_cell_type": "code",
    "deepnote_cell_height": 76
   },
   "execution_count": null,
   "outputs": []
  },
  {
   "cell_type": "markdown",
   "source": "What did we get? ",
   "metadata": {
    "cell_id": "00073-c6a2d73d-f0f9-43c7-b451-7967b9a4bce3",
    "deepnote_cell_type": "markdown",
    "deepnote_cell_height": 52.390625
   }
  },
  {
   "cell_type": "code",
   "source": "grouped_by_genre",
   "metadata": {
    "cell_id": "00074-4c0cb1d0-5cd7-4694-8c66-d796c0d9b868",
    "deepnote_to_be_reexecuted": false,
    "source_hash": "f2b97e27",
    "execution_start": 1662717335995,
    "execution_millis": 43,
    "output_cleared": true,
    "deepnote_cell_type": "code",
    "deepnote_cell_height": 112.1875,
    "deepnote_output_heights": [
     20.1875
    ]
   },
   "execution_count": null,
   "outputs": []
  },
  {
   "cell_type": "markdown",
   "source": "What's this `DataFrameGroupBy` object? [Its use case is](http://pandas.pydata.org/pandas-docs/stable/user_guide/groupby.html):\n* Splitting the data into groups based on some criteria.\n* Applying a function to each group independently.\n* Combining the results into a data structure.\n",
   "metadata": {
    "cell_id": "00075-bf39091e-04d7-4ebe-9183-c7aa65e78e4c",
    "deepnote_cell_type": "markdown",
    "deepnote_cell_height": 153.59375
   }
  },
  {
   "cell_type": "markdown",
   "source": "Let's try a simple aggregate: mean of rating per type group:",
   "metadata": {
    "cell_id": "00076-52d6ff0f-d5d2-4fc4-b427-354d58f2af4b",
    "deepnote_cell_type": "markdown",
    "deepnote_cell_height": 52.390625
   }
  },
  {
   "cell_type": "code",
   "source": "grouped_by_genre[\"averageRating\"].mean().sort_values()",
   "metadata": {
    "cell_id": "00077-37928287-a60b-48bb-bbd9-08e7610c3e84",
    "deepnote_to_be_reexecuted": false,
    "source_hash": "64fa79c7",
    "execution_start": 1662717335997,
    "execution_millis": 41,
    "output_cleared": true,
    "deepnote_cell_type": "code",
    "deepnote_cell_height": 592.078125,
    "deepnote_output_heights": [
     500.078125
    ]
   },
   "execution_count": null,
   "outputs": []
  },
  {
   "cell_type": "markdown",
   "source": "`GroupBy` objects have `agg` method which is quite versatile to describe what aggregations we need. As an example:",
   "metadata": {
    "cell_id": "00079-ec02986c-b9e3-42d6-9569-ef8d51552b7c",
    "deepnote_cell_type": "markdown",
    "deepnote_cell_height": 52.390625
   }
  },
  {
   "cell_type": "code",
   "source": "grouped_by_genre.agg({\"averageRating\": [\"mean\", \"median\", \"std\"], \"year\": [\"min\", \"max\", \"median\"]})",
   "metadata": {
    "cell_id": "00080-4f230770-a5c1-4673-982a-0d5e7fb19db3",
    "deepnote_to_be_reexecuted": false,
    "source_hash": "b0b7589d",
    "execution_start": 1662717336007,
    "execution_millis": 76,
    "output_cleared": true,
    "deepnote_cell_type": "code",
    "deepnote_cell_height": 595
   },
   "execution_count": null,
   "outputs": []
  },
  {
   "cell_type": "markdown",
   "source": "## Pivoting\n\n> pivot (third-person singular simple present pivots, present participle pivoting, simple past and past participle pivoted)\n **To turn on an exact spot.**\n \n> A pivot table is a table of statistics that summarizes the data of a more extensive table ...\n> Although pivot table is a generic term, Microsoft Corporation trademarked PivotTable in the United States in 1994.",
   "metadata": {
    "cell_id": "00092-4a35c9df-de43-41ed-826b-d891cedbf303",
    "deepnote_cell_type": "markdown",
    "deepnote_cell_height": 217.59375
   }
  },
  {
   "cell_type": "markdown",
   "source": "Our pivoting task: Get a table with numbers of titles per year (as row) and type (as column).\n\nOne approach is to use `groupby`, `count` aggregation and `unstack`.",
   "metadata": {
    "cell_id": "00093-87d0e83a-601b-415f-8444-47e608458da0",
    "deepnote_cell_type": "markdown",
    "deepnote_cell_height": 88.796875
   }
  },
  {
   "cell_type": "code",
   "source": "grouped_by_year_and_type = decades_and_genres.groupby(['year', 'genre'])",
   "metadata": {
    "cell_id": "00094-1b7b0055-d397-4704-8df3-3fdbd08f44d6",
    "deepnote_to_be_reexecuted": false,
    "source_hash": "8967077e",
    "execution_start": 1662717336055,
    "execution_millis": 1,
    "output_cleared": true,
    "deepnote_cell_type": "code",
    "deepnote_cell_height": 76
   },
   "execution_count": null,
   "outputs": []
  },
  {
   "cell_type": "code",
   "source": "pivoted = (\n    grouped_by_year_and_type[\"numVotes\"]\n    .sum()\n    .unstack()\n)\npivoted.tail()",
   "metadata": {
    "cell_id": "00095-9d820630-347c-41b8-8d7b-615f3cd15b85",
    "deepnote_to_be_reexecuted": false,
    "source_hash": "3f533b58",
    "execution_start": 1662717336057,
    "execution_millis": 60,
    "output_cleared": true,
    "deepnote_cell_type": "code",
    "deepnote_cell_height": 480
   },
   "execution_count": null,
   "outputs": []
  },
  {
   "cell_type": "markdown",
   "source": "There's a shortcut though, see if you we can use it.\n\n**Exercise pivot_table:** Create the `pivoted` table using `pivot_table`:",
   "metadata": {
    "cell_id": "00096-21319181-29ed-4f8b-beef-fbf5c561707b",
    "deepnote_cell_type": "markdown",
    "deepnote_cell_height": 88.796875
   }
  },
  {
   "cell_type": "code",
   "source": "# exercise pivot_table\n\n# run_solution(\"pivot_table\")\n# show_solution(\"pivot_table\")\n",
   "metadata": {
    "cell_id": "00097-6f04726d-b347-4085-aa2c-0ca0fec0f73c",
    "deepnote_to_be_reexecuted": false,
    "source_hash": "3cf87df1",
    "execution_start": 1662717336113,
    "execution_millis": 0,
    "output_cleared": true,
    "deepnote_cell_type": "code",
    "deepnote_cell_height": 148
   },
   "execution_count": null,
   "outputs": []
  },
  {
   "cell_type": "markdown",
   "source": "We can now use this to plot a kind of a histogram with colour for genres.",
   "metadata": {
    "cell_id": "00099-13bf3815-c63a-41d0-a63d-051c40048a2a",
    "deepnote_cell_type": "markdown",
    "deepnote_cell_height": 52.390625
   }
  },
  {
   "cell_type": "code",
   "source": "px.imshow(pivoted)",
   "metadata": {
    "cell_id": "00070-283eb32c-87b8-4ad6-9588-c2bb57549cb0",
    "deepnote_to_be_reexecuted": false,
    "source_hash": "cedf42c5",
    "execution_start": 1662717336113,
    "execution_millis": 169,
    "output_cleared": true,
    "deepnote_cell_type": "code",
    "deepnote_cell_height": 618,
    "deepnote_output_heights": [
     526
    ]
   },
   "execution_count": null,
   "outputs": []
  },
  {
   "cell_type": "markdown",
   "source": "Plotly actually has `density_heatmap`, which can do the aggregation (pivoting) and plotting at once.",
   "metadata": {
    "cell_id": "e4a5a2c481e44def9f0b1456e1b429cb",
    "tags": [],
    "deepnote_cell_type": "markdown",
    "deepnote_cell_height": 52.390625
   }
  },
  {
   "cell_type": "code",
   "source": "px.density_heatmap(decades_and_genres, x=\"genre\", y=\"year\", histfunc=\"sum\")",
   "metadata": {
    "cell_id": "00071-5255b346-a621-460e-b61b-aabaa5ffcb80",
    "deepnote_to_be_reexecuted": false,
    "source_hash": "3ff5e127",
    "execution_start": 1662717336142,
    "execution_millis": 376,
    "output_cleared": true,
    "deepnote_cell_type": "code",
    "deepnote_cell_height": 618,
    "deepnote_output_heights": [
     526
    ]
   },
   "execution_count": null,
   "outputs": []
  },
  {
   "cell_type": "markdown",
   "source": "A similar, more versatile function is [crosstab](https://pandas.pydata.org/docs/reference/api/pandas.crosstab.html).",
   "metadata": {
    "cell_id": "d07798f1d3904faea430729ff7f2b18e",
    "tags": [],
    "deepnote_to_be_reexecuted": false,
    "source_hash": "8935dc0b",
    "execution_start": 1662712159837,
    "execution_millis": 4,
    "deepnote_cell_type": "markdown",
    "deepnote_cell_height": 52.390625
   }
  },
  {
   "cell_type": "code",
   "source": "decades_vs_genres_crosstab = pd.crosstab(\n    index=decades_and_genres[\"decade\"],\n    columns=decades_and_genres[\"genre\"],\n    values=decades_and_genres[\"numVotes\"],\n    aggfunc=\"sum\"\n)\n\ndecades_vs_genres_crosstab[[\"Documentary\", \"Horror\"]]",
   "metadata": {
    "cell_id": "00042-6f80ec07-63a5-49f4-9d8a-daff08bec176",
    "deepnote_to_be_reexecuted": false,
    "source_hash": "33932aca",
    "execution_start": 1662717336409,
    "execution_millis": 110,
    "output_cleared": true,
    "deepnote_cell_type": "code",
    "deepnote_cell_height": 721,
    "deepnote_output_heights": [
     605.5
    ]
   },
   "execution_count": null,
   "outputs": []
  },
  {
   "cell_type": "markdown",
   "source": "**Exercise genre_normalize**: Normalize `decades_vs_genres_crosstab` per genre so the average over each genre is 1. Use px.imshow to plot the normalized data.",
   "metadata": {
    "cell_id": "51d91e218f2e4c3db7839006d93de70a",
    "tags": [],
    "deepnote_cell_type": "markdown",
    "deepnote_cell_height": 74.796875
   }
  },
  {
   "cell_type": "code",
   "source": "# exercise genre_normalize\n\n# run_solution(\"genre_normalize\")\n# show_solution(\"genre_normalize\")\n",
   "metadata": {
    "cell_id": "00072-344ed8a4-7bae-40b0-aa1a-2076cf46803f",
    "deepnote_to_be_reexecuted": false,
    "source_hash": "dd9f84b",
    "execution_start": 1662717336411,
    "execution_millis": 0,
    "output_cleared": true,
    "deepnote_cell_type": "code",
    "deepnote_cell_height": 148,
    "deepnote_output_heights": [
     500.078125
    ]
   },
   "execution_count": null,
   "outputs": []
  },
  {
   "cell_type": "markdown",
   "source": "## Final mini-project - creative, unbounded, free-style\n\nHere are some ideas of what you can do with the data.\n\n* Do some analyses based on the 5-star rating.\n  * E.g., visualize the distrubution of incomes in each 5-star rating group.\n* More Group by decade / rating or language analyses.\n* Create production_company (categorical) column from `tmdb[\"production_companies\"]`, e.g. using `pd.json_normalize`. Bear in mind more companies can produce a single movie.\n* Compare simple (arithmetic) mean `averageRating` in each group with `averageRating` average weighted by `numVotes` ($ \\frac{\\sum \\rm{averageRating} \\times \\rm{numVotes}} {\\sum \\rm{numVotes}} $). Use `apply` and the `wavg` function from https://pbpython.com/weighted-average.html. This function is quite time and memory consuming and thus not ideal for large data sets. You can try to implement weighted average using standard `mean`. Check the performance with the `%timeit` magic.\n* Use the 5-star rating for `hue` in an interesting plot (see e.g. https://seaborn.pydata.org/tutorial/relational.html for some inspiration)\n \nA couple more ideas can be found in https://github.com/brandon-rhodes/pycon-pandas-tutorial or https://vvdwivedi.github.io/tmdb-data-analysis/.\n\nAfter you have solved all of those, come up with your own quests - we may still be around and help you :-D",
   "metadata": {
    "cell_id": "00101-58153ea8-ba76-4bfc-b567-102b3efd914c",
    "deepnote_cell_type": "markdown",
    "deepnote_cell_height": 426.296875
   }
  },
  {
   "cell_type": "code",
   "source": "",
   "metadata": {
    "cell_id": "e1ce10d209d245139cf7b9ba084d3737",
    "tags": [],
    "deepnote_to_be_reexecuted": false,
    "source_hash": "b623e53d",
    "execution_start": 1662717336412,
    "execution_millis": 0,
    "output_cleared": true,
    "deepnote_cell_type": "code",
    "deepnote_cell_height": 76
   },
   "outputs": [],
   "execution_count": null
  },
  {
   "cell_type": "markdown",
   "source": "<a style='text-decoration:none;line-height:16px;display:flex;color:#5B5B62;padding:10px;justify-content:end;' href='https://deepnote.com?utm_source=created-in-deepnote-cell&projectId=234de414-c5f7-4e4d-a314-25100ac19112' target=\"_blank\">\n<img alt='Created in deepnote.com' style='display:inline;max-height:16px;margin:0px;margin-right:7.5px;' src='data:image/svg+xml;base64,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' > </img>\nCreated in <span style='font-weight:600;margin-left:4px;'>Deepnote</span></a>",
   "metadata": {
    "tags": [],
    "created_in_deepnote_cell": true,
    "deepnote_cell_type": "markdown"
   }
  }
 ],
 "nbformat": 4,
 "nbformat_minor": 2,
 "metadata": {
  "deepnote": {},
  "deepnote_execution_queue": [],
  "deepnote_notebook_id": "c79d9679-a6d9-40e3-aeee-1b298eda38ca",
  "kernelspec": {
   "display_name": "Python 3.9.13 ('pandas-watching-movies')",
   "language": "python",
   "name": "python3"
  },
  "language_info": {
   "codemirror_mode": {
    "name": "ipython",
    "version": 3
   },
   "file_extension": ".py",
   "mimetype": "text/x-python",
   "name": "python",
   "nbconvert_exporter": "python",
   "pygments_lexer": "ipython3",
   "version": "3.9.13"
  },
  "vscode": {
   "interpreter": {
    "hash": "4f45e4bed522ad6b52eceef71f418e6cbe5d918616658d2e801244d13c7586c5"
   }
  }
 }
}