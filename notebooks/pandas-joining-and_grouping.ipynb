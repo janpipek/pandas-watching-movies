{
 "cells": [
  {
   "cell_type": "markdown",
   "metadata": {
    "cell_id": "9e0d109c-8617-47e2-8247-d8db13334575",
    "deepnote_cell_height": 134,
    "deepnote_cell_type": "markdown"
   },
   "source": [
    "# Pandas - Merging, grouping, aggregation and complex relationships"
   ]
  },
  {
   "cell_type": "code",
   "execution_count": null,
   "metadata": {
    "cell_id": "00001-57390658-90d6-46cc-9ea4-cd52faf11139",
    "deepnote_cell_height": 148,
    "deepnote_cell_type": "code",
    "deepnote_to_be_reexecuted": false,
    "execution_millis": 734390,
    "execution_start": 1662501098466,
    "source_hash": "e4276e05"
   },
   "outputs": [],
   "source": [
    "import pandas as pd\n",
    "import numpy as np\n",
    "from IPython.display import display, IFrame\n",
    "\n",
    "np.random.seed(42)"
   ]
  },
  {
   "cell_type": "code",
   "execution_count": null,
   "metadata": {
    "cell_id": "00005-2456a621-4c05-4bcf-86c0-fc7bbc86def0",
    "deepnote_cell_height": 130,
    "deepnote_cell_type": "code",
    "deepnote_to_be_reexecuted": false,
    "execution_millis": 6213,
    "execution_start": 1662501098926,
    "source_hash": "590a9a56"
   },
   "outputs": [],
   "source": [
    "# Read the data\n",
    "imdb_titles = pd.read_parquet(\"../data/imdb_movie_titles.parquet\")\n",
    "imdb_ratings = pd.read_parquet(\"../data/imdb_movie_ratings.parquet\")\n",
    "tmdb = pd.read_parquet(\"../data/tmdb.parquet\")"
   ]
  },
  {
   "cell_type": "markdown",
   "metadata": {
    "cell_id": "00008-09ed5e78-c9cf-4617-8897-e648ce5d85d8",
    "deepnote_cell_height": 130.796875,
    "deepnote_cell_type": "markdown"
   },
   "source": [
    "## Merging data\n",
    "\n",
    "We would like to attach ratings to the movie titles dataset. \n",
    "Let's merge (join) the two two IMDB data sets. That's quite simple because they share the `tconst` columns."
   ]
  },
  {
   "cell_type": "code",
   "execution_count": null,
   "metadata": {
    "cell_id": "00010-982d9735-0461-456d-a48b-3caf209a72d6",
    "deepnote_cell_height": 595,
    "deepnote_cell_type": "code",
    "deepnote_to_be_reexecuted": false,
    "execution_millis": 685,
    "execution_start": 1662501105141,
    "scrolled": true,
    "source_hash": "6d506e04"
   },
   "outputs": [],
   "source": [
    "imdb_ratings.sample(10)"
   ]
  },
  {
   "cell_type": "markdown",
   "metadata": {
    "cell_id": "00011-fb399c0d-4a73-4cd8-9be0-bd3f91de0fc3",
    "deepnote_cell_height": 74.796875,
    "deepnote_cell_type": "markdown"
   },
   "source": [
    "Luckily, the datasets have a common column (tconst) and can be merged easily using the [`pandas.merge`](https://pandas.pydata.org/docs/reference/api/pandas.merge.html) function. We also specify a very useful `validate` parameter. In our case, `validate=“1:1”` checks if merge keys are unique in both left and right datasets."
   ]
  },
  {
   "cell_type": "code",
   "execution_count": null,
   "metadata": {
    "cell_id": "00012-510c682d-68c2-4d46-9db4-e534671bb12b",
    "deepnote_cell_height": 76,
    "deepnote_cell_type": "code",
    "deepnote_to_be_reexecuted": false,
    "execution_millis": 1819,
    "execution_start": 1662501105227,
    "source_hash": "a0d4100f"
   },
   "outputs": [],
   "source": [
    "imdb_rated = pd.merge(imdb_titles, imdb_ratings, on='tconst', how='inner', validate=\"1:1\")"
   ]
  },
  {
   "cell_type": "code",
   "execution_count": null,
   "metadata": {
    "cell_id": "00013-fad7d05e-f5f7-42d9-abbe-608b761c077c",
    "deepnote_cell_height": 595,
    "deepnote_cell_type": "code",
    "deepnote_to_be_reexecuted": false,
    "execution_millis": 29,
    "execution_start": 1662501107058,
    "source_hash": "fffadcab"
   },
   "outputs": [],
   "source": [
    "imdb_rated.head(10)"
   ]
  },
  {
   "cell_type": "markdown",
   "metadata": {},
   "source": [
    "In this case, we could also use the `tconst` column as index and either use `pd.merge(imdb_titles, imdb_ratings, left_index=True, right_index=True)` or the simplified `join` method:"
   ]
  },
  {
   "cell_type": "code",
   "execution_count": null,
   "metadata": {
    "cell_id": "00014-5d19c9d9-5f9a-4d00-bdc0-7e5fbb7ae2ad",
    "deepnote_cell_height": 613,
    "deepnote_cell_type": "code",
    "deepnote_to_be_reexecuted": false,
    "execution_millis": 586,
    "execution_start": 1662501107105,
    "source_hash": "5908c32c"
   },
   "outputs": [],
   "source": [
    "# we set the index to the tconst column here for demonstration\n",
    "imdb_titles.set_index(\"tconst\").join(imdb_ratings.set_index(\"tconst\")).head(10)"
   ]
  },
  {
   "cell_type": "markdown",
   "metadata": {
    "cell_id": "e7fe84faef9c488d83473a503d1d241d",
    "deepnote_cell_height": 52.390625,
    "deepnote_cell_type": "markdown",
    "tags": []
   },
   "source": [
    "Similarly, we can merge the third TMDB dataset. It also includes `tconst` but as `imdb_id` column. We will also merge only certain columns from TMDB."
   ]
  },
  {
   "cell_type": "code",
   "execution_count": null,
   "metadata": {
    "cell_id": "666e903c6c5b4a5d9ee0358ef12fb710",
    "deepnote_cell_height": 166,
    "deepnote_cell_type": "code",
    "deepnote_to_be_reexecuted": false,
    "execution_millis": 1261,
    "execution_start": 1662501107700,
    "source_hash": "3944dbc7",
    "tags": []
   },
   "outputs": [],
   "source": [
    "movies_rated = pd.merge(\n",
    "    imdb_rated,\n",
    "    tmdb[[\"imdb_id\", \"budget\", \"popularity\", \"revenue\", \"vote_average\", \"vote_count\"]],\n",
    "    left_on=\"tconst\",\n",
    "    right_on=\"imdb_id\",\n",
    "    validate=\"1:1\",\n",
    ")"
   ]
  },
  {
   "cell_type": "code",
   "execution_count": null,
   "metadata": {
    "cell_id": "35bdf66169c04185aac7ff58ce901d21",
    "deepnote_cell_height": 390,
    "deepnote_cell_type": "code",
    "deepnote_to_be_reexecuted": false,
    "execution_millis": 78,
    "execution_start": 1662501108967,
    "source_hash": "dff88434",
    "tags": []
   },
   "outputs": [],
   "source": [
    "movies_rated.sample(5)"
   ]
  },
  {
   "cell_type": "markdown",
   "metadata": {},
   "source": [
    "You may have noticed that we have two duplicate columns: `tconst` and `imdb_id`. Drop the `imdb_id` column as an exercise."
   ]
  },
  {
   "cell_type": "code",
   "execution_count": null,
   "metadata": {},
   "outputs": [],
   "source": [
    "# exercise\n",
    "\n",
    "movies_rated = movies_rated.drop(columns=[\"imdb_id\"])"
   ]
  },
  {
   "cell_type": "markdown",
   "metadata": {
    "cell_id": "3b518ed87e1d43f1be1161e19f32ebd2",
    "deepnote_cell_height": 108.390625,
    "deepnote_cell_type": "markdown",
    "tags": []
   },
   "source": [
    "### Consumer Price Index\n",
    "\n",
    "We will use one more dataset for this workshop, not strictly related to movies: The US Consumer Price Index, available from https://data.bls.gov/timeseries/CUUR0000SA0."
   ]
  },
  {
   "cell_type": "code",
   "execution_count": null,
   "metadata": {
    "cell_id": "f49d08f447104e47a49bf322ca96a9d3",
    "deepnote_cell_height": 717.78125,
    "deepnote_cell_type": "code",
    "deepnote_to_be_reexecuted": false,
    "execution_millis": 468,
    "execution_start": 1662502011666,
    "source_hash": "f6ed28b2",
    "tags": []
   },
   "outputs": [],
   "source": [
    "cpi = pd.read_excel(\"../data/cpi.xlsx\", skiprows=10, header=1).convert_dtypes().rename(columns={\"Year\": \"year\"})\n",
    "cpi"
   ]
  },
  {
   "cell_type": "markdown",
   "metadata": {},
   "source": [
    "Exercise: Calculate and insert `Annual` value for 2022 based on the mean of available months (do not consider the number of days per month)."
   ]
  },
  {
   "cell_type": "code",
   "execution_count": null,
   "metadata": {},
   "outputs": [],
   "source": [
    "month_cols = cpi.columns[1:13]\n",
    "cpi = cpi.assign(\n",
    "    Annual=cpi[\"Annual\"].where(cpi[\"Annual\"].notna(), cpi[month_cols].mean(axis=\"columns\"))\n",
    ")\n",
    "cpi"
   ]
  },
  {
   "cell_type": "markdown",
   "metadata": {},
   "source": [
    "You probably realised that merging this dataset will be a bit different as we do not have CPI related to individual movies. However, movies are created in certain years. We can thus associate CPI by the movie release year. Of course we introduce some (maybe non-trivial) inconsistency when we do some analyses when we recalculate the dollar value based on CPI because the values (e.g. budgets) are potentially related to other year(s).\n",
    "\n",
    "Let's do the merge anyways and add a CPI value for each movie based on the release year average CPI:"
   ]
  },
  {
   "cell_type": "code",
   "execution_count": null,
   "metadata": {
    "cell_id": "340f025bd664449da54373dec1676b70",
    "deepnote_cell_height": 148,
    "deepnote_cell_type": "code",
    "deepnote_to_be_reexecuted": false,
    "execution_millis": 328,
    "execution_start": 1662502012484,
    "source_hash": "c552c503",
    "tags": []
   },
   "outputs": [],
   "source": [
    "movies_rated_cpi = movies_rated.merge(\n",
    "    cpi[[\"year\", \"Annual\"]].rename(columns={\"Annual\": \"CPI\"}),\n",
    "    on=\"year\",\n",
    ")"
   ]
  },
  {
   "cell_type": "code",
   "execution_count": null,
   "metadata": {},
   "outputs": [],
   "source": [
    "movies_rated_cpi[[\"primaryTitle\", \"year\", \"CPI\"]].sample(10)"
   ]
  },
  {
   "cell_type": "markdown",
   "metadata": {
    "cell_id": "f1a4ebc9c1734d6e9293d800fc10e02c",
    "deepnote_cell_height": 52.390625,
    "deepnote_cell_type": "markdown",
    "tags": []
   },
   "source": [
    "*Exercise:* Add the right `validate` parameter to the merge with CPI."
   ]
  },
  {
   "cell_type": "code",
   "execution_count": null,
   "metadata": {
    "cell_id": "85e619ed52564c89bf641031115c6272",
    "deepnote_cell_height": 229.1875,
    "deepnote_cell_type": "code",
    "deepnote_to_be_reexecuted": false,
    "execution_millis": 120,
    "execution_start": 1662498817350,
    "source_hash": "ebb4418e",
    "tags": []
   },
   "outputs": [],
   "source": [
    "# exercise\n",
    "\n",
    "movies_rated_cpi = movies_rated.merge(\n",
    "    cpi[[\"year\", \"Annual\"]].rename(columns={\"Annual\": \"CPI\"}),\n",
    "    on=\"year\",\n",
    "    validate=\"many_to_one\",\n",
    ")"
   ]
  },
  {
   "cell_type": "markdown",
   "metadata": {
    "cell_id": "00049-7961b9db-4ccb-4faf-b3fc-3f300e2c8037",
    "deepnote_cell_height": 130.796875,
    "deepnote_cell_type": "markdown"
   },
   "source": [
    "## Visual analysis\n",
    "\n",
    "Pandas provides covenience methods for plotting using [Matplotlib](https://matplotlib.org). We will not show them here (you can follow the official [10 min tutorial on plotting](https://pandas.pydata.org/docs/user_guide/10min.html#plotting)); instead, we make use of [Plotly](https://plotly.com/python/), a \"graphing library makes interactive, publication-quality graph\". In particular, we will use the [Plotly Express](https://plotly.github.io/plotly.py-docs/plotly.express.html#px) high level interface.\n",
    "\n",
    "There are more libraries you can explore when you have more time, such as https://bokeh.pydata.org/en/latest/, https://altair-viz.github.io/, http://holoviews.org. You can find an overview at https://pyviz.org/high-level/index.html."
   ]
  },
  {
   "cell_type": "code",
   "execution_count": null,
   "metadata": {
    "cell_id": "cd4f41c5e2ad45e2b8d4ec63d4f89dac",
    "deepnote_cell_height": 76,
    "deepnote_cell_type": "code",
    "deepnote_to_be_reexecuted": false,
    "execution_millis": 220,
    "execution_start": 1662501142345,
    "source_hash": "bceeddb3",
    "tags": []
   },
   "outputs": [],
   "source": [
    "import plotly.express as px"
   ]
  },
  {
   "cell_type": "markdown",
   "metadata": {
    "cell_id": "00052-0807e822-b437-4f70-b300-1ae4feb3acd2",
    "deepnote_cell_height": 52.390625,
    "deepnote_cell_type": "markdown"
   },
   "source": [
    "Let's try to visually \"answer\" whether the number of votes related to rating using a simple scatter plot:"
   ]
  },
  {
   "cell_type": "code",
   "execution_count": null,
   "metadata": {
    "cell_id": "ba14c250dd6e4d7eb2e3265948254717",
    "deepnote_cell_height": 618,
    "deepnote_cell_type": "code",
    "deepnote_output_heights": [
     526
    ],
    "deepnote_to_be_reexecuted": false,
    "execution_millis": 3919,
    "execution_start": 1662501184099,
    "source_hash": "f925783a",
    "tags": []
   },
   "outputs": [],
   "source": [
    "px.scatter(movies_rated, x=\"numVotes\", y=\"averageRating\")"
   ]
  },
  {
   "cell_type": "markdown",
   "metadata": {},
   "source": [
    "This is already quite useful. With a minimalistic function call, we have a *interactive* plot right *in the notebook*. Let's play with it for a while:\n",
    "* Zoom in / out.\n",
    "* Hover over data points.\n",
    "\n",
    "We can tune the plot a bit more. For example, the number of votes would be better on a logarithmic scale. We can also add some opacity to get a sense of the density of the data points."
   ]
  },
  {
   "cell_type": "code",
   "execution_count": null,
   "metadata": {
    "cell_id": "ba14c250dd6e4d7eb2e3265948254717",
    "deepnote_cell_height": 618,
    "deepnote_cell_type": "code",
    "deepnote_output_heights": [
     526
    ],
    "deepnote_to_be_reexecuted": false,
    "execution_millis": 3919,
    "execution_start": 1662501184099,
    "source_hash": "f925783a",
    "tags": []
   },
   "outputs": [],
   "source": [
    "px.scatter(movies_rated, x=\"numVotes\", y=\"averageRating\", log_x=True, opacity=0.1)"
   ]
  },
  {
   "cell_type": "markdown",
   "metadata": {
    "cell_id": "00054-0b0386b4-ae17-48e5-95d3-73f66c4d441f",
    "deepnote_cell_height": 52.390625,
    "deepnote_cell_type": "markdown"
   },
   "source": [
    "To get quick insights into relationships between multiple variables, we can use `scatter_matrix`. \n",
    "* It is better to select only certain columns using the `dimensions` parameter.\n",
    "* `hover_name` lets you modify the hover title."
   ]
  },
  {
   "cell_type": "code",
   "execution_count": null,
   "metadata": {
    "cell_id": "daa1c39c60d9470c8740e1499b649294",
    "deepnote_cell_height": 690,
    "deepnote_cell_type": "code",
    "deepnote_output_heights": [
     526
    ],
    "deepnote_to_be_reexecuted": false,
    "execution_millis": 4780,
    "execution_start": 1662502101686,
    "source_hash": "7d905f18",
    "tags": []
   },
   "outputs": [],
   "source": [
    "px.scatter_matrix(\n",
    "    movies_rated, \n",
    "    dimensions=[\"numVotes\", \"averageRating\", \"budget\", \"popularity\", \"revenue\"],\n",
    "    hover_name=\"primaryTitle\",\n",
    ")"
   ]
  },
  {
   "cell_type": "markdown",
   "metadata": {},
   "source": [
    "### Working with categorical data\n",
    "\n",
    "The plots above are for numerical data (real or integer numbers in our case). What about working with some categories? We have some categories already available in the dataset, we can also create some artificially."
   ]
  },
  {
   "cell_type": "markdown",
   "metadata": {},
   "source": [
    "First, let's create a `decade` category, which corresponds to the decade of the release year."
   ]
  },
  {
   "cell_type": "code",
   "execution_count": null,
   "metadata": {},
   "outputs": [],
   "source": [
    "def interval_to_decade_name(interval):\n",
    "    return str(interval.left)+\"s\"\n",
    "\n",
    "decades = pd.cut(\n",
    "    movies_rated_cpi[\"year\"],\n",
    "    bins=range(1890, 2021, 10),\n",
    ").apply(interval_to_decade_name)\n",
    "\n",
    "decades.tail(5)"
   ]
  },
  {
   "cell_type": "markdown",
   "metadata": {},
   "source": [
    "We can now create [box plots](https://en.wikipedia.org/wiki/Box_plot) of average rating per decade. "
   ]
  },
  {
   "cell_type": "code",
   "execution_count": null,
   "metadata": {
    "cell_id": "e1a7f03c64ba47528953cc1226f32bec",
    "deepnote_cell_type": "code",
    "tags": []
   },
   "outputs": [],
   "source": [
    "px.box(\n",
    "    movies_rated_cpi,\n",
    "    x=decades,\n",
    "    y=\"averageRating\",\n",
    ")"
   ]
  },
  {
   "cell_type": "markdown",
   "metadata": {},
   "source": [
    "To work with genres, we need to do some extra manipulation. We first need to split the `genres` strings as they are comma-separated values. We then use `explode` to create individual rows per every genre. This means that there will be possibly multiple rows per one movie."
   ]
  },
  {
   "cell_type": "code",
   "execution_count": null,
   "metadata": {},
   "outputs": [],
   "source": [
    "decades_and_genres = (\n",
    "    movies_rated_cpi.assign(\n",
    "        decade = pd.cut(\n",
    "            movies_rated_cpi[\"year\"],\n",
    "            bins=range(1890, 2021, 10)\n",
    "        ).apply(interval_to_decade_name),\n",
    "        genres = movies_rated_cpi[\"genres\"].str.split(\",\")\n",
    "    )\n",
    "    .rename({\"genres\": \"genre\"}, axis=\"columns\")\n",
    "    .explode(\"genre\")\n",
    ")\n",
    "\n",
    "decades_and_genres"
   ]
  },
  {
   "cell_type": "markdown",
   "metadata": {},
   "source": [
    "Let's see what happened. One (side) effect that the index is duplicated. We will use this to filter out movies with multiple genres."
   ]
  },
  {
   "cell_type": "code",
   "execution_count": null,
   "metadata": {},
   "outputs": [],
   "source": [
    "decades_and_genres.loc[decades_and_genres.index.duplicated(keep=False), [\"primaryTitle\", \"genre\"]].head(6)"
   ]
  },
  {
   "cell_type": "code",
   "execution_count": null,
   "metadata": {},
   "outputs": [],
   "source": [
    "px.histogram(\n",
    "    decades_and_genres.astype({\"decade\": str}),\n",
    "    x=\"averageRating\",\n",
    "    facet_col=\"decade\",\n",
    "    facet_col_wrap=4,\n",
    "    width=1000, \n",
    "    height=1000,\n",
    "    histnorm=\"probability density\",\n",
    "    nbins=30,\n",
    ")"
   ]
  },
  {
   "cell_type": "code",
   "execution_count": null,
   "metadata": {},
   "outputs": [],
   "source": [
    "decades_vs_genres_rating = pd.crosstab(\n",
    "    index=decades_and_genres[\"decade\"],\n",
    "    columns=decades_and_genres[\"genre\"],\n",
    "    values=decades_and_genres[\"averageRating\"],\n",
    "    aggfunc=\"mean\"\n",
    ")\n",
    "\n",
    "decades_vs_genres_rating[[\"Documentary\", \"Horror\"]]"
   ]
  },
  {
   "cell_type": "code",
   "execution_count": null,
   "metadata": {},
   "outputs": [],
   "source": [
    "px.violin(\n",
    "    decades_and_genres.loc[decades_and_genres[\"genre\"].isin([\"Documentary\", \"Horror\"])].sort_values(\"decade\"),\n",
    "    x=\"decade\",\n",
    "    y=\"averageRating\",\n",
    "    color=\"genre\",\n",
    "    violinmode=\"overlay\",\n",
    ")"
   ]
  },
  {
   "cell_type": "markdown",
   "metadata": {
    "cell_id": "00070-d79c5869-3b70-4048-a7b4-af9ad0c4b00a",
    "deepnote_cell_height": 144.796875,
    "deepnote_cell_type": "markdown"
   },
   "source": [
    "## Grouping & aggregation\n",
    "\n",
    "A common pattern in data analysis is grouping (or binning) data based on some property and getting some aggredate statistics.\n",
    "\n",
    "*Example:* Group this workshop participants by nationality a get the cardinality (the size) of each group."
   ]
  },
  {
   "cell_type": "code",
   "execution_count": null,
   "metadata": {
    "cell_id": "00072-2817082f-afd3-4f83-a1ab-df677f90fa5f",
    "deepnote_cell_height": 61,
    "deepnote_cell_type": "code"
   },
   "outputs": [],
   "source": [
    "grouped_by_genre = decades_and_genres.groupby('genre')"
   ]
  },
  {
   "cell_type": "markdown",
   "metadata": {
    "cell_id": "00073-c6a2d73d-f0f9-43c7-b451-7967b9a4bce3",
    "deepnote_cell_height": 52.390625,
    "deepnote_cell_type": "markdown"
   },
   "source": [
    "What did we get? "
   ]
  },
  {
   "cell_type": "code",
   "execution_count": null,
   "metadata": {
    "cell_id": "00074-4c0cb1d0-5cd7-4694-8c66-d796c0d9b868",
    "deepnote_cell_height": 61,
    "deepnote_cell_type": "code"
   },
   "outputs": [],
   "source": [
    "grouped_by_genre"
   ]
  },
  {
   "cell_type": "markdown",
   "metadata": {
    "cell_id": "00075-bf39091e-04d7-4ebe-9183-c7aa65e78e4c",
    "deepnote_cell_height": 153.59375,
    "deepnote_cell_type": "markdown"
   },
   "source": [
    "What's this `DataFrameGroupBy` object? [Its use case is](http://pandas.pydata.org/pandas-docs/stable/user_guide/groupby.html):\n",
    "* Splitting the data into groups based on some criteria.\n",
    "* Applying a function to each group independently.\n",
    "* Combining the results into a data structure.\n"
   ]
  },
  {
   "cell_type": "markdown",
   "metadata": {
    "cell_id": "00076-52d6ff0f-d5d2-4fc4-b427-354d58f2af4b",
    "deepnote_cell_height": 52.390625,
    "deepnote_cell_type": "markdown"
   },
   "source": [
    "Let's try a simple aggregate: mean of rating per type group:"
   ]
  },
  {
   "cell_type": "code",
   "execution_count": null,
   "metadata": {
    "cell_id": "00077-37928287-a60b-48bb-bbd9-08e7610c3e84",
    "deepnote_cell_height": 61,
    "deepnote_cell_type": "code"
   },
   "outputs": [],
   "source": [
    "grouped_by_genre.averageRating.mean().sort_values()"
   ]
  },
  {
   "cell_type": "markdown",
   "metadata": {
    "cell_id": "00078-8e37e9a9-583a-4118-8b26-a1ce95d22502",
    "deepnote_cell_height": 52.390625,
    "deepnote_cell_type": "markdown"
   },
   "source": [
    "Movies are worst rated, TV episodes and video games are much better rated. What does that mean?"
   ]
  },
  {
   "cell_type": "markdown",
   "metadata": {
    "cell_id": "00079-ec02986c-b9e3-42d6-9569-ef8d51552b7c",
    "deepnote_cell_height": 52.390625,
    "deepnote_cell_type": "markdown"
   },
   "source": [
    "`GroupBy` objects have `agg` method which is quite versatile to describe what aggregations we need. As an example:"
   ]
  },
  {
   "cell_type": "code",
   "execution_count": null,
   "metadata": {
    "cell_id": "00080-4f230770-a5c1-4673-982a-0d5e7fb19db3",
    "deepnote_cell_height": 61,
    "deepnote_cell_type": "code"
   },
   "outputs": [],
   "source": [
    "grouped_by_genre.agg({\"averageRating\": [\"mean\", \"median\", \"std\"], \"year\": [\"min\", \"max\", \"median\"]})"
   ]
  },
  {
   "cell_type": "markdown",
   "metadata": {
    "cell_id": "00083-8c02ad7c-d46e-4b28-9b39-21bd71a472e5",
    "deepnote_cell_height": 52.390625,
    "deepnote_cell_type": "markdown"
   },
   "source": [
    "What if we were to group by decade? We don't have a decade column but we can just calculate the decades and use it for `groupby`."
   ]
  },
  {
   "cell_type": "code",
   "execution_count": null,
   "metadata": {
    "cell_id": "00084-eed21727-5d20-4e7f-8aa5-d6ccb4a73e47",
    "deepnote_cell_height": 61,
    "deepnote_cell_type": "code"
   },
   "outputs": [],
   "source": [
    "group_by_decade = decades_and_genres.groupby(\"decade\")"
   ]
  },
  {
   "cell_type": "markdown",
   "metadata": {
    "cell_id": "00085-9938ff24-9bd4-41b0-9f7e-a4e6feff100d",
    "deepnote_cell_height": 52.390625,
    "deepnote_cell_type": "markdown"
   },
   "source": [
    "**Exercise:** Use `group_by_decade.agg` similarly to above to get the mean of average rating and the total number of votes in each decade."
   ]
  },
  {
   "cell_type": "code",
   "execution_count": null,
   "metadata": {
    "cell_id": "00086-75e9df47-9618-4177-911a-5a782a69bc45",
    "deepnote_cell_height": 169,
    "deepnote_cell_type": "code"
   },
   "outputs": [],
   "source": [
    "# exercise\n"
   ]
  },
  {
   "cell_type": "markdown",
   "metadata": {
    "cell_id": "00088-7c05bda0-9beb-4406-9859-789895c3ce0e",
    "deepnote_cell_height": 52.390625,
    "deepnote_cell_type": "markdown"
   },
   "source": [
    "70's, 80's, 90's are the dark ages of the film industry?"
   ]
  },
  {
   "cell_type": "markdown",
   "metadata": {
    "cell_id": "00089-7daa0d25-5b3e-404d-b3e3-0a8467178073",
    "deepnote_cell_height": 52.390625,
    "deepnote_cell_type": "markdown"
   },
   "source": [
    "**Exercise:**: Find the most profitable film for each studio. Use `groupby` and either `apply` with `pn.nlargest` or `sort_values` and `first`."
   ]
  },
  {
   "cell_type": "code",
   "execution_count": null,
   "metadata": {
    "cell_id": "00090-98f85ad3-189a-4018-ba68-e2eb93309819",
    "deepnote_cell_height": 151,
    "deepnote_cell_type": "code"
   },
   "outputs": [],
   "source": [
    "%exercise\n",
    "\n",
    "# result = movies.groupby ...\n",
    "\n",
    "# display \n",
    "result.nlargest(10, columns=\"lifetime_gross\")[[\"title\", \"startYear\", \"lifetime_gross\"]]"
   ]
  },
  {
   "cell_type": "code",
   "execution_count": null,
   "metadata": {
    "cell_id": "00091-cac22f3f-a17e-4ccf-a855-5c9ecf177348",
    "deepnote_cell_height": 97,
    "deepnote_cell_type": "code"
   },
   "outputs": [],
   "source": [
    "%validate\n",
    "\n",
    "assert result.loc[\"Sony\", \"lifetime_gross\"].values == 373585825"
   ]
  },
  {
   "cell_type": "code",
   "execution_count": null,
   "metadata": {},
   "outputs": [],
   "source": [
    "# TODO qcut star rating"
   ]
  },
  {
   "cell_type": "markdown",
   "metadata": {
    "cell_id": "00092-4a35c9df-de43-41ed-826b-d891cedbf303",
    "deepnote_cell_height": 217.59375,
    "deepnote_cell_type": "markdown"
   },
   "source": [
    "## Pivoting\n",
    "\n",
    "> pivot (third-person singular simple present pivots, present participle pivoting, simple past and past participle pivoted)\n",
    " **To turn on an exact spot.**\n",
    " \n",
    "> A pivot table is a table of statistics that summarizes the data of a more extensive table ...\n",
    "> Although pivot table is a generic term, Microsoft Corporation trademarked PivotTable in the United States in 1994."
   ]
  },
  {
   "cell_type": "markdown",
   "metadata": {
    "cell_id": "00093-87d0e83a-601b-415f-8444-47e608458da0",
    "deepnote_cell_height": 88.796875,
    "deepnote_cell_type": "markdown"
   },
   "source": [
    "Our pivoting task: Get a table with numbers of titles per year (as row) and type (as column).\n",
    "\n",
    "One approach is to use `groupby`, `count` aggregation and `unstack`."
   ]
  },
  {
   "cell_type": "code",
   "execution_count": null,
   "metadata": {
    "cell_id": "00094-1b7b0055-d397-4704-8df3-3fdbd08f44d6",
    "deepnote_cell_height": 61,
    "deepnote_cell_type": "code"
   },
   "outputs": [],
   "source": [
    "grouped_by_year_and_type = decades_and_genres.groupby(['year', 'genre'])"
   ]
  },
  {
   "cell_type": "code",
   "execution_count": null,
   "metadata": {
    "cell_id": "00095-9d820630-347c-41b8-8d7b-615f3cd15b85",
    "deepnote_cell_height": 169,
    "deepnote_cell_type": "code"
   },
   "outputs": [],
   "source": [
    "pivoted = (\n",
    "    grouped_by_year_and_type[\"numVotes\"]\n",
    "    .count()\n",
    "    .unstack()\n",
    ")\n",
    "pivoted.tail()"
   ]
  },
  {
   "cell_type": "markdown",
   "metadata": {
    "cell_id": "00096-21319181-29ed-4f8b-beef-fbf5c561707b",
    "deepnote_cell_height": 88.796875,
    "deepnote_cell_type": "markdown"
   },
   "source": [
    "There's a shortcut though, see if you we can use it.\n",
    "\n",
    "**Exercise:** Create the `pivoted` table using `pivot_table`:"
   ]
  },
  {
   "cell_type": "code",
   "execution_count": null,
   "metadata": {
    "cell_id": "00097-6f04726d-b347-4085-aa2c-0ca0fec0f73c",
    "deepnote_cell_height": 151,
    "deepnote_cell_type": "code"
   },
   "outputs": [],
   "source": [
    "# exercise\n",
    "\n",
    "pivot_table = decades_and_genres.pivot_table(values=\"numVotes\", index=\"year\", columns=\"genre\", aggfunc=\"count\")\n",
    "\n",
    "# display - do not edit\n",
    "pivot_table.tail()"
   ]
  },
  {
   "cell_type": "markdown",
   "metadata": {
    "cell_id": "00099-13bf3815-c63a-41d0-a63d-051c40048a2a",
    "deepnote_cell_height": 52.390625,
    "deepnote_cell_type": "markdown"
   },
   "source": [
    "We can now use this to plot a kind of a histogram with colour for title types."
   ]
  },
  {
   "cell_type": "code",
   "execution_count": null,
   "metadata": {},
   "outputs": [],
   "source": [
    "px.imshow(pivoted)"
   ]
  },
  {
   "cell_type": "code",
   "execution_count": null,
   "metadata": {},
   "outputs": [],
   "source": [
    "px.density_heatmap(decades_and_genres, x=\"genre\", y=\"year\", histfunc=\"count\")"
   ]
  },
  {
   "cell_type": "code",
   "execution_count": null,
   "metadata": {},
   "outputs": [],
   "source": [
    "# exercise: normalize the data per genre so the "
   ]
  },
  {
   "cell_type": "markdown",
   "metadata": {
    "cell_id": "00101-58153ea8-ba76-4bfc-b567-102b3efd914c",
    "deepnote_cell_height": 367.5,
    "deepnote_cell_type": "markdown"
   },
   "source": [
    "## Final mini-project - creative, unbounded, free-style\n",
    "\n",
    "Here are some ideas of what you can do with the data.\n",
    "\n",
    "* Create 5-star rating based on quantiles using `quantile` and `cut` or `qcut`.\n",
    "* Group by studio / decade / rating\n",
    "* Compare simple (arithmetic) mean `averageRating` in each group with `averageRating` average weighted by `numVotes` ($ \\frac{\\sum \\rm{averageRating} \\times \\rm{numVotes}} {\\sum \\rm{numVotes}} $). Use `apply` and the `wavg` function from https://pbpython.com/weighted-average.html. This function is quite time and memory consuming and thus not ideal for large data sets. You can try to implement weighted average using standard `mean`. Check the performance with the `%timeit` magic.\n",
    "* Use the 5-star rating for `hue` in an interesting seaborn plot (see https://seaborn.pydata.org/tutorial/relational.html)\n",
    "* Use `sns.catplot` to visualize the distrubution of incomes in each 5-star rating group. \n",
    "\n",
    "A couple more ideas can be found in https://github.com/brandon-rhodes/pycon-pandas-tutorial\n",
    "\n",
    "After you have solved all of those, come up with your own quests - we may still be around and help you :-D"
   ]
  },
  {
   "cell_type": "code",
   "execution_count": null,
   "metadata": {
    "cell_id": "00102-3a5507bf-1bbb-4293-96ec-92457cdb122c",
    "deepnote_cell_height": 61,
    "deepnote_cell_type": "code"
   },
   "outputs": [],
   "source": []
  },
  {
   "cell_type": "markdown",
   "metadata": {
    "created_in_deepnote_cell": true,
    "deepnote_cell_type": "markdown",
    "tags": []
   },
   "source": [
    "<a style='text-decoration:none;line-height:16px;display:flex;color:#5B5B62;padding:10px;justify-content:end;' href='https://deepnote.com?utm_source=created-in-deepnote-cell&projectId=234de414-c5f7-4e4d-a314-25100ac19112' target=\"_blank\">\n",
    "<img alt='Created in deepnote.com' style='display:inline;max-height:16px;margin:0px;margin-right:7.5px;' src='data:image/svg+xml;base64,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' > </img>\n",
    "Created in <span style='font-weight:600;margin-left:4px;'>Deepnote</span></a>"
   ]
  }
 ],
 "metadata": {
  "deepnote": {},
  "deepnote_execution_queue": [],
  "deepnote_notebook_id": "c79d9679-a6d9-40e3-aeee-1b298eda38ca",
  "kernelspec": {
   "display_name": "Python 3.9.13 ('pandas-watching-movies')",
   "language": "python",
   "name": "python3"
  },
  "language_info": {
   "codemirror_mode": {
    "name": "ipython",
    "version": 3
   },
   "file_extension": ".py",
   "mimetype": "text/x-python",
   "name": "python",
   "nbconvert_exporter": "python",
   "pygments_lexer": "ipython3",
   "version": "3.9.13"
  },
  "vscode": {
   "interpreter": {
    "hash": "4f45e4bed522ad6b52eceef71f418e6cbe5d918616658d2e801244d13c7586c5"
   }
  }
 },
 "nbformat": 4,
 "nbformat_minor": 2
}
