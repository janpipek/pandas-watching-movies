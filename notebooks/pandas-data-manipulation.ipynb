{
 "cells": [
  {
   "cell_type": "markdown",
   "source": "# Pandas data manipulation",
   "metadata": {
    "cell_id": "59c80b67-4dd3-45ea-b85f-cf021e5fc1a0",
    "deepnote_cell_type": "markdown",
    "deepnote_cell_height": 82
   }
  },
  {
   "cell_type": "code",
   "source": "import pandas as pd\n\n# This allows \nfrom solutions import run_solution, show_solution",
   "metadata": {
    "cell_id": "fe061a1cf3434367a3cacd91e9fe6281",
    "tags": [],
    "deepnote_to_be_reexecuted": false,
    "source_hash": "20be138a",
    "execution_start": 1662632765845,
    "execution_millis": 4,
    "deepnote_cell_type": "code",
    "deepnote_cell_height": 130
   },
   "execution_count": 1,
   "outputs": []
  },
  {
   "cell_type": "markdown",
   "source": "We will enhance our previous analysis to all movies listed in IMDB.",
   "metadata": {
    "cell_id": "a71c81124de64fa38f8f7b0de26fd240",
    "tags": [],
    "deepnote_cell_type": "markdown",
    "deepnote_cell_height": 52.390625
   }
  },
  {
   "cell_type": "code",
   "metadata": {
    "cell_id": "4851e010b04e4350b7d15612bb54e825",
    "tags": [],
    "deepnote_to_be_reexecuted": false,
    "source_hash": "4ee21951",
    "execution_start": 1662632766976,
    "execution_millis": 701,
    "deepnote_cell_type": "code",
    "deepnote_cell_height": 628
   },
   "source": "movie_titles = pd.read_parquet(\"../data/imdb_movie_titles.parquet\")\nmovie_titles.sample(10)",
   "execution_count": 2,
   "outputs": [
    {
     "output_type": "execute_result",
     "execution_count": 2,
     "data": {
      "application/vnd.deepnote.dataframe.v3+json": {
       "column_count": 7,
       "row_count": 10,
       "columns": [
        {
         "name": "tconst",
         "dtype": "string",
         "stats": {
          "unique_count": 10,
          "nan_count": 0,
          "categories": [
           {
            "name": "tt2153939",
            "count": 1
           },
           {
            "name": "tt2334759",
            "count": 1
           },
           {
            "name": "8 others",
            "count": 8
           }
          ]
         }
        },
        {
         "name": "titleType",
         "dtype": "string",
         "stats": {
          "unique_count": 2,
          "nan_count": 0,
          "categories": [
           {
            "name": "movie",
            "count": 9
           },
           {
            "name": "tvMovie",
            "count": 1
           }
          ]
         }
        },
        {
         "name": "primaryTitle",
         "dtype": "string",
         "stats": {
          "unique_count": 10,
          "nan_count": 0,
          "categories": [
           {
            "name": "Reclaiming the American Dream",
            "count": 1
           },
           {
            "name": "Paladin",
            "count": 1
           },
           {
            "name": "8 others",
            "count": 8
           }
          ]
         }
        },
        {
         "name": "originalTitle",
         "dtype": "string",
         "stats": {
          "unique_count": 10,
          "nan_count": 0,
          "categories": [
           {
            "name": "Reclaiming the American Dream",
            "count": 1
           },
           {
            "name": "Paladin",
            "count": 1
           },
           {
            "name": "8 others",
            "count": 8
           }
          ]
         }
        },
        {
         "name": "year",
         "dtype": "Int64",
         "stats": {
          "unique_count": 8,
          "nan_count": 2,
          "categories": [
           {
            "name": "2010",
            "count": 1
           },
           {
            "name": "7 others",
            "count": 7
           },
           {
            "name": "Missing",
            "count": 2
           }
          ]
         }
        },
        {
         "name": "runtimeMinutes",
         "dtype": "Int64",
         "stats": {
          "unique_count": 5,
          "nan_count": 4,
          "categories": [
           {
            "name": "92",
            "count": 2
           },
           {
            "name": "4 others",
            "count": 4
           },
           {
            "name": "Missing",
            "count": 4
           }
          ]
         }
        },
        {
         "name": "genres",
         "dtype": "string",
         "stats": {
          "unique_count": 8,
          "nan_count": 2,
          "categories": [
           {
            "name": "Documentary",
            "count": 1
           },
           {
            "name": "7 others",
            "count": 7
           },
           {
            "name": "Missing",
            "count": 2
           }
          ]
         }
        },
        {
         "name": "_deepnote_index_column",
         "dtype": "int64"
        }
       ],
       "rows": [
        {
         "tconst": "tt2153939",
         "titleType": "tvMovie",
         "primaryTitle": "Reclaiming the American Dream",
         "originalTitle": "Reclaiming the American Dream",
         "year": "2010",
         "runtimeMinutes": "<NA>",
         "genres": "Documentary",
         "_deepnote_index_column": "498906"
        },
        {
         "tconst": "tt2334759",
         "titleType": "movie",
         "primaryTitle": "Paladin",
         "originalTitle": "Paladin",
         "year": "<NA>",
         "runtimeMinutes": "<NA>",
         "genres": "Sci-Fi",
         "_deepnote_index_column": "515150"
        },
        {
         "tconst": "tt0256487",
         "titleType": "movie",
         "primaryTitle": "Vejen til byen",
         "originalTitle": "Vejen til byen",
         "year": "1978",
         "runtimeMinutes": "86",
         "genres": "Drama",
         "_deepnote_index_column": "155387"
        },
        {
         "tconst": "tt18453100",
         "titleType": "movie",
         "primaryTitle": "Wandering Soul",
         "originalTitle": "Wandering Soul",
         "year": "2017",
         "runtimeMinutes": "92",
         "genres": "Drama,Fantasy",
         "_deepnote_index_column": "460645"
        },
        {
         "tconst": "tt0241869",
         "titleType": "movie",
         "primaryTitle": "Rabmadár",
         "originalTitle": "Rabmadár",
         "year": "1929",
         "runtimeMinutes": "46",
         "genres": "<NA>",
         "_deepnote_index_column": "147586"
        },
        {
         "tconst": "tt8393236",
         "titleType": "movie",
         "primaryTitle": "Mercy Kill",
         "originalTitle": "Mercy Kill",
         "year": "<NA>",
         "runtimeMinutes": "<NA>",
         "genres": "Drama,Thriller",
         "_deepnote_index_column": "714546"
        },
        {
         "tconst": "tt0095563",
         "titleType": "movie",
         "primaryTitle": "Mad About You",
         "originalTitle": "Mad About You",
         "year": "1989",
         "runtimeMinutes": "92",
         "genres": "Comedy",
         "_deepnote_index_column": "71833"
        },
        {
         "tconst": "tt0155780",
         "titleType": "movie",
         "primaryTitle": "Joker",
         "originalTitle": "Joker",
         "year": "1949",
         "runtimeMinutes": "<NA>",
         "genres": "<NA>",
         "_deepnote_index_column": "104736"
        },
        {
         "tconst": "tt3301004",
         "titleType": "movie",
         "primaryTitle": "Rod Taylor: Pulling No Punches",
         "originalTitle": "Rod Taylor: Pulling No Punches",
         "year": "2016",
         "runtimeMinutes": "80",
         "genres": "Biography,Documentary",
         "_deepnote_index_column": "552471"
        },
        {
         "tconst": "tt0138830",
         "titleType": "movie",
         "primaryTitle": "Speedy Gonzales - noin 7 veljeksen poika",
         "originalTitle": "Speedy Gonzales - noin 7 veljeksen poika",
         "year": "1970",
         "runtimeMinutes": "85",
         "genres": "Comedy,Western",
         "_deepnote_index_column": "98854"
        }
       ]
      },
      "text/plain": "            tconst titleType                              primaryTitle  \\\n498906   tt2153939   tvMovie             Reclaiming the American Dream   \n515150   tt2334759     movie                                   Paladin   \n155387   tt0256487     movie                            Vejen til byen   \n460645  tt18453100     movie                            Wandering Soul   \n147586   tt0241869     movie                                  Rabmadár   \n714546   tt8393236     movie                                Mercy Kill   \n71833    tt0095563     movie                             Mad About You   \n104736   tt0155780     movie                                     Joker   \n552471   tt3301004     movie            Rod Taylor: Pulling No Punches   \n98854    tt0138830     movie  Speedy Gonzales - noin 7 veljeksen poika   \n\n                                   originalTitle  year  runtimeMinutes  \\\n498906             Reclaiming the American Dream  2010            <NA>   \n515150                                   Paladin  <NA>            <NA>   \n155387                            Vejen til byen  1978              86   \n460645                            Wandering Soul  2017              92   \n147586                                  Rabmadár  1929              46   \n714546                                Mercy Kill  <NA>            <NA>   \n71833                              Mad About You  1989              92   \n104736                                     Joker  1949            <NA>   \n552471            Rod Taylor: Pulling No Punches  2016              80   \n98854   Speedy Gonzales - noin 7 veljeksen poika  1970              85   \n\n                       genres  \n498906            Documentary  \n515150                 Sci-Fi  \n155387                  Drama  \n460645          Drama,Fantasy  \n147586                   <NA>  \n714546         Drama,Thriller  \n71833                  Comedy  \n104736                   <NA>  \n552471  Biography,Documentary  \n98854          Comedy,Western  ",
      "text/html": "<div>\n<style scoped>\n    .dataframe tbody tr th:only-of-type {\n        vertical-align: middle;\n    }\n\n    .dataframe tbody tr th {\n        vertical-align: top;\n    }\n\n    .dataframe thead th {\n        text-align: right;\n    }\n</style>\n<table border=\"1\" class=\"dataframe\">\n  <thead>\n    <tr style=\"text-align: right;\">\n      <th></th>\n      <th>tconst</th>\n      <th>titleType</th>\n      <th>primaryTitle</th>\n      <th>originalTitle</th>\n      <th>year</th>\n      <th>runtimeMinutes</th>\n      <th>genres</th>\n    </tr>\n  </thead>\n  <tbody>\n    <tr>\n      <th>498906</th>\n      <td>tt2153939</td>\n      <td>tvMovie</td>\n      <td>Reclaiming the American Dream</td>\n      <td>Reclaiming the American Dream</td>\n      <td>2010</td>\n      <td>&lt;NA&gt;</td>\n      <td>Documentary</td>\n    </tr>\n    <tr>\n      <th>515150</th>\n      <td>tt2334759</td>\n      <td>movie</td>\n      <td>Paladin</td>\n      <td>Paladin</td>\n      <td>&lt;NA&gt;</td>\n      <td>&lt;NA&gt;</td>\n      <td>Sci-Fi</td>\n    </tr>\n    <tr>\n      <th>155387</th>\n      <td>tt0256487</td>\n      <td>movie</td>\n      <td>Vejen til byen</td>\n      <td>Vejen til byen</td>\n      <td>1978</td>\n      <td>86</td>\n      <td>Drama</td>\n    </tr>\n    <tr>\n      <th>460645</th>\n      <td>tt18453100</td>\n      <td>movie</td>\n      <td>Wandering Soul</td>\n      <td>Wandering Soul</td>\n      <td>2017</td>\n      <td>92</td>\n      <td>Drama,Fantasy</td>\n    </tr>\n    <tr>\n      <th>147586</th>\n      <td>tt0241869</td>\n      <td>movie</td>\n      <td>Rabmadár</td>\n      <td>Rabmadár</td>\n      <td>1929</td>\n      <td>46</td>\n      <td>&lt;NA&gt;</td>\n    </tr>\n    <tr>\n      <th>714546</th>\n      <td>tt8393236</td>\n      <td>movie</td>\n      <td>Mercy Kill</td>\n      <td>Mercy Kill</td>\n      <td>&lt;NA&gt;</td>\n      <td>&lt;NA&gt;</td>\n      <td>Drama,Thriller</td>\n    </tr>\n    <tr>\n      <th>71833</th>\n      <td>tt0095563</td>\n      <td>movie</td>\n      <td>Mad About You</td>\n      <td>Mad About You</td>\n      <td>1989</td>\n      <td>92</td>\n      <td>Comedy</td>\n    </tr>\n    <tr>\n      <th>104736</th>\n      <td>tt0155780</td>\n      <td>movie</td>\n      <td>Joker</td>\n      <td>Joker</td>\n      <td>1949</td>\n      <td>&lt;NA&gt;</td>\n      <td>&lt;NA&gt;</td>\n    </tr>\n    <tr>\n      <th>552471</th>\n      <td>tt3301004</td>\n      <td>movie</td>\n      <td>Rod Taylor: Pulling No Punches</td>\n      <td>Rod Taylor: Pulling No Punches</td>\n      <td>2016</td>\n      <td>80</td>\n      <td>Biography,Documentary</td>\n    </tr>\n    <tr>\n      <th>98854</th>\n      <td>tt0138830</td>\n      <td>movie</td>\n      <td>Speedy Gonzales - noin 7 veljeksen poika</td>\n      <td>Speedy Gonzales - noin 7 veljeksen poika</td>\n      <td>1970</td>\n      <td>85</td>\n      <td>Comedy,Western</td>\n    </tr>\n  </tbody>\n</table>\n</div>"
     },
     "metadata": {}
    }
   ]
  },
  {
   "cell_type": "markdown",
   "source": "And we will explore it a bit",
   "metadata": {
    "cell_id": "310770c743cd4903a6413e291c28c72d",
    "tags": [],
    "deepnote_cell_type": "markdown",
    "deepnote_cell_height": 52.390625
   }
  },
  {
   "cell_type": "code",
   "source": "movie_titles.describe()",
   "metadata": {
    "cell_id": "8e2d73df4a1b4d5dbb7433b586db61dd",
    "tags": [],
    "deepnote_to_be_reexecuted": false,
    "source_hash": "42e6f802",
    "execution_start": 1662632959534,
    "execution_millis": 933,
    "deepnote_cell_type": "code",
    "deepnote_cell_height": 513
   },
   "outputs": [
    {
     "output_type": "execute_result",
     "execution_count": 6,
     "data": {
      "application/vnd.deepnote.dataframe.v3+json": {
       "column_count": 2,
       "row_count": 8,
       "columns": [
        {
         "name": "year",
         "dtype": "float64",
         "stats": {
          "unique_count": 8,
          "nan_count": 0,
          "min": "28.507316566389775",
          "max": "662337.0",
          "histogram": [
           {
            "bin_start": 28.507316566389775,
            "bin_end": 66259.35658490975,
            "count": 7
           },
           {
            "bin_start": 66259.35658490975,
            "bin_end": 132490.2058532531,
            "count": 0
           },
           {
            "bin_start": 132490.2058532531,
            "bin_end": 198721.05512159647,
            "count": 0
           },
           {
            "bin_start": 198721.05512159647,
            "bin_end": 264951.9043899398,
            "count": 0
           },
           {
            "bin_start": 264951.9043899398,
            "bin_end": 331182.75365828315,
            "count": 0
           },
           {
            "bin_start": 331182.75365828315,
            "bin_end": 397413.6029266265,
            "count": 0
           },
           {
            "bin_start": 397413.6029266265,
            "bin_end": 463644.45219496987,
            "count": 0
           },
           {
            "bin_start": 463644.45219496987,
            "bin_end": 529875.3014633133,
            "count": 0
           },
           {
            "bin_start": 529875.3014633133,
            "bin_end": 596106.1507316566,
            "count": 0
           },
           {
            "bin_start": 596106.1507316566,
            "bin_end": 662337,
            "count": 1
           }
          ]
         }
        },
        {
         "name": "runtimeMinutes",
         "dtype": "float64",
         "stats": {
          "unique_count": 8,
          "nan_count": 0,
          "min": "1.0",
          "max": "478673.0",
          "histogram": [
           {
            "bin_start": 1,
            "bin_end": 47868.2,
            "count": 6
           },
           {
            "bin_start": 47868.2,
            "bin_end": 95735.4,
            "count": 1
           },
           {
            "bin_start": 95735.4,
            "bin_end": 143602.59999999998,
            "count": 0
           },
           {
            "bin_start": 143602.59999999998,
            "bin_end": 191469.8,
            "count": 0
           },
           {
            "bin_start": 191469.8,
            "bin_end": 239337,
            "count": 0
           },
           {
            "bin_start": 239337,
            "bin_end": 287204.19999999995,
            "count": 0
           },
           {
            "bin_start": 287204.19999999995,
            "bin_end": 335071.39999999997,
            "count": 0
           },
           {
            "bin_start": 335071.39999999997,
            "bin_end": 382938.6,
            "count": 0
           },
           {
            "bin_start": 382938.6,
            "bin_end": 430805.8,
            "count": 0
           },
           {
            "bin_start": 430805.8,
            "bin_end": 478673,
            "count": 1
           }
          ]
         }
        },
        {
         "name": "_deepnote_index_column",
         "dtype": "object"
        }
       ],
       "rows": [
        {
         "year": "662337.0",
         "runtimeMinutes": "478673.0",
         "_deepnote_index_column": "count"
        },
        {
         "year": "1991.6058954882485",
         "runtimeMinutes": "86.42943930407606",
         "_deepnote_index_column": "mean"
        },
        {
         "year": "28.507316566389775",
         "runtimeMinutes": "116.03951942547936",
         "_deepnote_index_column": "std"
        },
        {
         "year": "1894.0",
         "runtimeMinutes": "1.0",
         "_deepnote_index_column": "min"
        },
        {
         "year": "1974.0",
         "runtimeMinutes": "66.0",
         "_deepnote_index_column": "25%"
        },
        {
         "year": "2002.0",
         "runtimeMinutes": "87.0",
         "_deepnote_index_column": "50%"
        },
        {
         "year": "2014.0",
         "runtimeMinutes": "99.0",
         "_deepnote_index_column": "75%"
        },
        {
         "year": "2029.0",
         "runtimeMinutes": "51420.0",
         "_deepnote_index_column": "max"
        }
       ]
      },
      "text/plain": "                year  runtimeMinutes\ncount  662337.000000   478673.000000\nmean     1991.605895       86.429439\nstd        28.507317      116.039519\nmin      1894.000000        1.000000\n25%      1974.000000       66.000000\n50%      2002.000000       87.000000\n75%      2014.000000       99.000000\nmax      2029.000000    51420.000000",
      "text/html": "<div>\n<style scoped>\n    .dataframe tbody tr th:only-of-type {\n        vertical-align: middle;\n    }\n\n    .dataframe tbody tr th {\n        vertical-align: top;\n    }\n\n    .dataframe thead th {\n        text-align: right;\n    }\n</style>\n<table border=\"1\" class=\"dataframe\">\n  <thead>\n    <tr style=\"text-align: right;\">\n      <th></th>\n      <th>year</th>\n      <th>runtimeMinutes</th>\n    </tr>\n  </thead>\n  <tbody>\n    <tr>\n      <th>count</th>\n      <td>662337.000000</td>\n      <td>478673.000000</td>\n    </tr>\n    <tr>\n      <th>mean</th>\n      <td>1991.605895</td>\n      <td>86.429439</td>\n    </tr>\n    <tr>\n      <th>std</th>\n      <td>28.507317</td>\n      <td>116.039519</td>\n    </tr>\n    <tr>\n      <th>min</th>\n      <td>1894.000000</td>\n      <td>1.000000</td>\n    </tr>\n    <tr>\n      <th>25%</th>\n      <td>1974.000000</td>\n      <td>66.000000</td>\n    </tr>\n    <tr>\n      <th>50%</th>\n      <td>2002.000000</td>\n      <td>87.000000</td>\n    </tr>\n    <tr>\n      <th>75%</th>\n      <td>2014.000000</td>\n      <td>99.000000</td>\n    </tr>\n    <tr>\n      <th>max</th>\n      <td>2029.000000</td>\n      <td>51420.000000</td>\n    </tr>\n  </tbody>\n</table>\n</div>"
     },
     "metadata": {}
    }
   ],
   "execution_count": 6
  },
  {
   "cell_type": "code",
   "source": "movie_titles[\"titleType\"].value_counts()",
   "metadata": {
    "cell_id": "c873dfdce9a24208aaf1df70868285cf",
    "tags": [],
    "deepnote_to_be_reexecuted": false,
    "source_hash": "5ca15314",
    "execution_start": 1662632991110,
    "execution_millis": 14,
    "deepnote_cell_type": "code",
    "deepnote_cell_height": 150.5625,
    "deepnote_output_heights": [
     58.5625
    ]
   },
   "outputs": [
    {
     "output_type": "execute_result",
     "execution_count": 7,
     "data": {
      "text/plain": "movie      611121\ntvMovie    137403\nName: titleType, dtype: Int64"
     },
     "metadata": {}
    }
   ],
   "execution_count": 7
  },
  {
   "cell_type": "code",
   "source": "movie_titles[\"genres\"].value_counts()",
   "metadata": {
    "cell_id": "bca76bc5c92840728b3b4de711c2313b",
    "tags": [],
    "deepnote_to_be_reexecuted": false,
    "source_hash": "f9bd8ac3",
    "execution_start": 1662633053700,
    "execution_millis": 851,
    "deepnote_cell_type": "code",
    "deepnote_cell_height": 323.25,
    "deepnote_output_heights": [
     231.25
    ]
   },
   "outputs": [
    {
     "output_type": "execute_result",
     "execution_count": 9,
     "data": {
      "text/plain": "Drama                          138437\nDocumentary                    124846\nComedy                          60044\nHorror                          15891\nThriller                        15498\n                                ...  \nComedy,Romance,Short                1\nCrime,Music,Western                 1\nComedy,Sport,Western                1\nAction,Documentary,Thriller         1\nAction,Crime,Short                  1\nName: genres, Length: 1458, dtype: Int64"
     },
     "metadata": {}
    }
   ],
   "execution_count": 9
  },
  {
   "cell_type": "markdown",
   "source": "## Basic manipulation",
   "metadata": {
    "cell_id": "00001-3c37bef4-4236-4cdd-899a-ffc708f7d5cb",
    "deepnote_cell_type": "markdown",
    "deepnote_cell_height": 70
   }
  },
  {
   "cell_type": "markdown",
   "source": "### Adding a column\n\nThere are two ways:",
   "metadata": {
    "cell_id": "d41a5abe082545d4820276d524f917ec",
    "tags": [],
    "deepnote_cell_type": "markdown",
    "deepnote_cell_height": 100.390625
   }
  },
  {
   "cell_type": "code",
   "source": "movie_copy = movie_titles.copy()\nmovie_copy[\"\"]\n",
   "metadata": {
    "cell_id": "9e2fdf41b22d4ca98426b0b15123295b",
    "tags": [],
    "deepnote_cell_type": "code",
    "deepnote_cell_height": 97
   },
   "outputs": [],
   "execution_count": null
  },
  {
   "cell_type": "markdown",
   "source": "",
   "metadata": {
    "cell_id": "6faa9a3086ba4dfe83b113ef3a87aae2",
    "tags": [],
    "deepnote_cell_type": "markdown",
    "deepnote_cell_height": 46
   }
  },
  {
   "cell_type": "code",
   "source": "movie_titles[\"titleType\"].astype(\"category\")",
   "metadata": {
    "cell_id": "0705f29166484f86a3591d811528e43b",
    "tags": [],
    "deepnote_to_be_reexecuted": false,
    "source_hash": "77331fc7",
    "execution_start": 1662632785029,
    "execution_millis": 79,
    "deepnote_cell_type": "code",
    "deepnote_cell_height": 342.4375,
    "deepnote_output_heights": [
     250.4375
    ]
   },
   "outputs": [
    {
     "output_type": "execute_result",
     "execution_count": 3,
     "data": {
      "text/plain": "0           movie\n1           movie\n2           movie\n3           movie\n4           movie\n           ...   \n748519      movie\n748520    tvMovie\n748521      movie\n748522      movie\n748523      movie\nName: titleType, Length: 748524, dtype: category\nCategories (2, string): [movie, tvMovie]"
     },
     "metadata": {}
    }
   ],
   "execution_count": 3
  },
  {
   "cell_type": "markdown",
   "source": "### Adding a new row (and overwriting)\n\nThere is no simple non-destructive way of adding a new row (apart from creating a copy and operating on it; or concating two existing DataFrames).\n\n",
   "metadata": {
    "cell_id": "864c468ffccd481eb3cdfba2bf6ef667",
    "tags": [],
    "deepnote_cell_type": "markdown",
    "deepnote_cell_height": 259.78125
   }
  },
  {
   "cell_type": "markdown",
   "source": "## Arithmetics & string manipulation",
   "metadata": {
    "cell_id": "00002-61fd0831-e400-4c3e-bd8a-ac1d64bfabd9",
    "deepnote_cell_type": "markdown",
    "deepnote_cell_height": 70
   }
  },
  {
   "cell_type": "markdown",
   "source": "Standard arithmetic operators work on numerical columms too. And so do mathematical functions. Note all such operations are performed in a vector-like fashion.",
   "metadata": {
    "cell_id": "c9c14a8241d446b9a1fef93bac37643d",
    "tags": [],
    "deepnote_cell_type": "markdown",
    "deepnote_cell_height": 74.78125
   }
  },
  {
   "cell_type": "code",
   "metadata": {
    "cell_id": "1ac27443bcd2470bacf86115520281c2",
    "tags": [],
    "deepnote_to_be_reexecuted": false,
    "source_hash": "71c31970",
    "execution_start": 1662501109182,
    "execution_millis": 396,
    "deepnote_cell_type": "code",
    "deepnote_cell_height": 646
   },
   "source": "movie_titles.assign(\n    age=2022 - movie_titles[\"startYear\"]\n).sample(20)",
   "execution_count": null,
   "outputs": [
    {
     "output_type": "execute_result",
     "execution_count": 22,
     "data": {
      "application/vnd.deepnote.dataframe.v3+json": {
       "column_count": 7,
       "row_count": 20,
       "columns": [
        {
         "name": "tconst",
         "dtype": "string",
         "stats": {
          "unique_count": 20,
          "nan_count": 0,
          "categories": [
           {
            "name": "tt0778787",
            "count": 1
           },
           {
            "name": "tt13884444",
            "count": 1
           },
           {
            "name": "18 others",
            "count": 18
           }
          ]
         }
        },
        {
         "name": "primaryTitle",
         "dtype": "string",
         "stats": {
          "unique_count": 20,
          "nan_count": 0,
          "categories": [
           {
            "name": "Mulher de Proveta",
            "count": 1
           },
           {
            "name": "American Dreamer",
            "count": 1
           },
           {
            "name": "18 others",
            "count": 18
           }
          ]
         }
        },
        {
         "name": "originalTitle",
         "dtype": "string",
         "stats": {
          "unique_count": 20,
          "nan_count": 0,
          "categories": [
           {
            "name": "Mulher de Proveta",
            "count": 1
           },
           {
            "name": "American Dreamer",
            "count": 1
           },
           {
            "name": "18 others",
            "count": 18
           }
          ]
         }
        },
        {
         "name": "startYear",
         "dtype": "Int64",
         "stats": {
          "unique_count": 12,
          "nan_count": 7,
          "categories": [
           {
            "name": "2022",
            "count": 2
           },
           {
            "name": "11 others",
            "count": 11
           },
           {
            "name": "Missing",
            "count": 7
           }
          ]
         }
        },
        {
         "name": "runtimeMinutes",
         "dtype": "Int64",
         "stats": {
          "unique_count": 8,
          "nan_count": 12,
          "categories": [
           {
            "name": "90",
            "count": 1
           },
           {
            "name": "7 others",
            "count": 7
           },
           {
            "name": "Missing",
            "count": 12
           }
          ]
         }
        },
        {
         "name": "genres",
         "dtype": "string",
         "stats": {
          "unique_count": 11,
          "nan_count": 2,
          "categories": [
           {
            "name": "Comedy",
            "count": 5
           },
           {
            "name": "10 others",
            "count": 13
           },
           {
            "name": "Missing",
            "count": 2
           }
          ]
         }
        },
        {
         "name": "age",
         "dtype": "Int64",
         "stats": {
          "unique_count": 12,
          "nan_count": 7,
          "categories": [
           {
            "name": "0",
            "count": 2
           },
           {
            "name": "11 others",
            "count": 11
           },
           {
            "name": "Missing",
            "count": 7
           }
          ]
         }
        },
        {
         "name": "_deepnote_index_column",
         "dtype": "int64"
        }
       ],
       "rows": [
        {
         "tconst": "tt0778787",
         "primaryTitle": "Mulher de Proveta",
         "originalTitle": "Mulher de Proveta",
         "startYear": "1984",
         "runtimeMinutes": "90",
         "genres": "Comedy",
         "age": "38",
         "_deepnote_index_column": "754278"
        },
        {
         "tconst": "tt13884444",
         "primaryTitle": "American Dreamer",
         "originalTitle": "American Dreamer",
         "startYear": "2022",
         "runtimeMinutes": "106",
         "genres": "Comedy",
         "age": "0",
         "_deepnote_index_column": "3101083"
        },
        {
         "tconst": "tt0936490",
         "primaryTitle": "Planet Terry",
         "originalTitle": "Planet Terry",
         "startYear": "<NA>",
         "runtimeMinutes": "<NA>",
         "genres": "Action,Comedy,Sci-Fi",
         "age": "<NA>",
         "_deepnote_index_column": "906787"
        },
        {
         "tconst": "tt0380742",
         "primaryTitle": "Tapatan ng tapang",
         "originalTitle": "Tapatan ng tapang",
         "startYear": "1996",
         "runtimeMinutes": "<NA>",
         "genres": "Action",
         "age": "26",
         "_deepnote_index_column": "364908"
        },
        {
         "tconst": "tt1626135",
         "primaryTitle": "Balls to the Wall",
         "originalTitle": "Balls to the Wall",
         "startYear": "2011",
         "runtimeMinutes": "85",
         "genres": "Comedy",
         "age": "11",
         "_deepnote_index_column": "4342284"
        },
        {
         "tconst": "tt18566678",
         "primaryTitle": "Mojo Savage",
         "originalTitle": "Mojo Savage",
         "startYear": "<NA>",
         "runtimeMinutes": "<NA>",
         "genres": "Comedy,Drama",
         "age": "<NA>",
         "_deepnote_index_column": "4883132"
        },
        {
         "tconst": "tt0071761",
         "primaryTitle": "A Fu zheng chuan",
         "originalTitle": "A Fu zheng chuan",
         "startYear": "1974",
         "runtimeMinutes": "<NA>",
         "genres": "Comedy",
         "age": "48",
         "_deepnote_index_column": "70261"
        },
        {
         "tconst": "tt7710832",
         "primaryTitle": "Geschenk uit de bodem",
         "originalTitle": "Geschenk uit de bodem",
         "startYear": "2017",
         "runtimeMinutes": "88",
         "genres": "Documentary",
         "age": "5",
         "_deepnote_index_column": "8170235"
        },
        {
         "tconst": "tt12585702",
         "primaryTitle": "Zeit läuft",
         "originalTitle": "Zeit läuft",
         "startYear": "2019",
         "runtimeMinutes": "<NA>",
         "genres": "Drama",
         "age": "3",
         "_deepnote_index_column": "2399092"
        },
        {
         "tconst": "tt5754978",
         "primaryTitle": "Archaeology of the Future",
         "originalTitle": "Archaeology of the Future",
         "startYear": "<NA>",
         "runtimeMinutes": "<NA>",
         "genres": "Documentary",
         "age": "<NA>",
         "_deepnote_index_column": "7290055"
        }
       ]
      },
      "text/plain": "             tconst                                       primaryTitle  \\\n754278    tt0778787                                  Mulher de Proveta   \n3101083  tt13884444                                   American Dreamer   \n906787    tt0936490                                       Planet Terry   \n364908    tt0380742                                  Tapatan ng tapang   \n4342284   tt1626135                                  Balls to the Wall   \n4883132  tt18566678                                        Mojo Savage   \n70261     tt0071761                                   A Fu zheng chuan   \n8170235   tt7710832                              Geschenk uit de bodem   \n2399092  tt12585702                                         Zeit läuft   \n7290055   tt5754978                          Archaeology of the Future   \n1817570  tt11525020                                       Memory Lanes   \n91554     tt0093650  Summer Night with Greek Profile, Almond Eyes a...   \n1119486  tt10272402                                     Project Kahuta   \n3814645  tt15191986                                  That's Classified   \n7214123   tt5581528                                          Max Stone   \n7190165   tt5527634                                     Natural Beauty   \n5245305   tt2041424                                    Moscowin Kaveri   \n1097792  tt10233504                             Abbas Abbas Send Help!   \n376225    tt0392682                                          Ram Janma   \n125656    tt0129186                               Den kvindelige dæmon   \n\n                                             originalTitle  startYear  \\\n754278                                   Mulher de Proveta       1984   \n3101083                                   American Dreamer       2022   \n906787                                        Planet Terry       <NA>   \n364908                                   Tapatan ng tapang       1996   \n4342284                                  Balls to the Wall       2011   \n4883132                                        Mojo Savage       <NA>   \n70261                                     A Fu zheng chuan       1974   \n8170235                              Geschenk uit de bodem       2017   \n2399092                                         Zeit läuft       2019   \n7290055                          Archaeology of the Future       <NA>   \n1817570                                       Memory Lanes       <NA>   \n91554    Notte d'estate con profilo greco, occhi a mand...       1986   \n1119486                                     Project Kahuta       2022   \n3814645                                  That's Classified       <NA>   \n7214123                                          Max Stone       <NA>   \n7190165                                     Natural Beauty       <NA>   \n5245305                                    Moscowin Kaveri       2010   \n1097792                             Abbas Abbas Send Help!       2018   \n376225                                           Ram Janma       1920   \n125656                                Den kvindelige dæmon       1913   \n\n         runtimeMinutes                      genres   age  \n754278               90                      Comedy    38  \n3101083             106                      Comedy     0  \n906787             <NA>        Action,Comedy,Sci-Fi  <NA>  \n364908             <NA>                      Action    26  \n4342284              85                      Comedy    11  \n4883132            <NA>                Comedy,Drama  <NA>  \n70261              <NA>                      Comedy    48  \n8170235              88                 Documentary     5  \n2399092            <NA>                       Drama     3  \n7290055            <NA>                 Documentary  <NA>  \n1817570            <NA>              Mystery,Sci-Fi  <NA>  \n91554                94                      Comedy    36  \n1119486              82  Biography,History,Thriller     0  \n3814645            <NA>                    Thriller  <NA>  \n7214123            <NA>                      Action  <NA>  \n7190165            <NA>                 Documentary  <NA>  \n5245305              97                     Romance    12  \n1097792              86               Drama,Romance     4  \n376225             <NA>                        <NA>   102  \n125656             <NA>                        <NA>   109  ",
      "text/html": "<div>\n<style scoped>\n    .dataframe tbody tr th:only-of-type {\n        vertical-align: middle;\n    }\n\n    .dataframe tbody tr th {\n        vertical-align: top;\n    }\n\n    .dataframe thead th {\n        text-align: right;\n    }\n</style>\n<table border=\"1\" class=\"dataframe\">\n  <thead>\n    <tr style=\"text-align: right;\">\n      <th></th>\n      <th>tconst</th>\n      <th>primaryTitle</th>\n      <th>originalTitle</th>\n      <th>startYear</th>\n      <th>runtimeMinutes</th>\n      <th>genres</th>\n      <th>age</th>\n    </tr>\n  </thead>\n  <tbody>\n    <tr>\n      <th>754278</th>\n      <td>tt0778787</td>\n      <td>Mulher de Proveta</td>\n      <td>Mulher de Proveta</td>\n      <td>1984</td>\n      <td>90</td>\n      <td>Comedy</td>\n      <td>38</td>\n    </tr>\n    <tr>\n      <th>3101083</th>\n      <td>tt13884444</td>\n      <td>American Dreamer</td>\n      <td>American Dreamer</td>\n      <td>2022</td>\n      <td>106</td>\n      <td>Comedy</td>\n      <td>0</td>\n    </tr>\n    <tr>\n      <th>906787</th>\n      <td>tt0936490</td>\n      <td>Planet Terry</td>\n      <td>Planet Terry</td>\n      <td>&lt;NA&gt;</td>\n      <td>&lt;NA&gt;</td>\n      <td>Action,Comedy,Sci-Fi</td>\n      <td>&lt;NA&gt;</td>\n    </tr>\n    <tr>\n      <th>364908</th>\n      <td>tt0380742</td>\n      <td>Tapatan ng tapang</td>\n      <td>Tapatan ng tapang</td>\n      <td>1996</td>\n      <td>&lt;NA&gt;</td>\n      <td>Action</td>\n      <td>26</td>\n    </tr>\n    <tr>\n      <th>4342284</th>\n      <td>tt1626135</td>\n      <td>Balls to the Wall</td>\n      <td>Balls to the Wall</td>\n      <td>2011</td>\n      <td>85</td>\n      <td>Comedy</td>\n      <td>11</td>\n    </tr>\n    <tr>\n      <th>4883132</th>\n      <td>tt18566678</td>\n      <td>Mojo Savage</td>\n      <td>Mojo Savage</td>\n      <td>&lt;NA&gt;</td>\n      <td>&lt;NA&gt;</td>\n      <td>Comedy,Drama</td>\n      <td>&lt;NA&gt;</td>\n    </tr>\n    <tr>\n      <th>70261</th>\n      <td>tt0071761</td>\n      <td>A Fu zheng chuan</td>\n      <td>A Fu zheng chuan</td>\n      <td>1974</td>\n      <td>&lt;NA&gt;</td>\n      <td>Comedy</td>\n      <td>48</td>\n    </tr>\n    <tr>\n      <th>8170235</th>\n      <td>tt7710832</td>\n      <td>Geschenk uit de bodem</td>\n      <td>Geschenk uit de bodem</td>\n      <td>2017</td>\n      <td>88</td>\n      <td>Documentary</td>\n      <td>5</td>\n    </tr>\n    <tr>\n      <th>2399092</th>\n      <td>tt12585702</td>\n      <td>Zeit läuft</td>\n      <td>Zeit läuft</td>\n      <td>2019</td>\n      <td>&lt;NA&gt;</td>\n      <td>Drama</td>\n      <td>3</td>\n    </tr>\n    <tr>\n      <th>7290055</th>\n      <td>tt5754978</td>\n      <td>Archaeology of the Future</td>\n      <td>Archaeology of the Future</td>\n      <td>&lt;NA&gt;</td>\n      <td>&lt;NA&gt;</td>\n      <td>Documentary</td>\n      <td>&lt;NA&gt;</td>\n    </tr>\n    <tr>\n      <th>1817570</th>\n      <td>tt11525020</td>\n      <td>Memory Lanes</td>\n      <td>Memory Lanes</td>\n      <td>&lt;NA&gt;</td>\n      <td>&lt;NA&gt;</td>\n      <td>Mystery,Sci-Fi</td>\n      <td>&lt;NA&gt;</td>\n    </tr>\n    <tr>\n      <th>91554</th>\n      <td>tt0093650</td>\n      <td>Summer Night with Greek Profile, Almond Eyes a...</td>\n      <td>Notte d'estate con profilo greco, occhi a mand...</td>\n      <td>1986</td>\n      <td>94</td>\n      <td>Comedy</td>\n      <td>36</td>\n    </tr>\n    <tr>\n      <th>1119486</th>\n      <td>tt10272402</td>\n      <td>Project Kahuta</td>\n      <td>Project Kahuta</td>\n      <td>2022</td>\n      <td>82</td>\n      <td>Biography,History,Thriller</td>\n      <td>0</td>\n    </tr>\n    <tr>\n      <th>3814645</th>\n      <td>tt15191986</td>\n      <td>That's Classified</td>\n      <td>That's Classified</td>\n      <td>&lt;NA&gt;</td>\n      <td>&lt;NA&gt;</td>\n      <td>Thriller</td>\n      <td>&lt;NA&gt;</td>\n    </tr>\n    <tr>\n      <th>7214123</th>\n      <td>tt5581528</td>\n      <td>Max Stone</td>\n      <td>Max Stone</td>\n      <td>&lt;NA&gt;</td>\n      <td>&lt;NA&gt;</td>\n      <td>Action</td>\n      <td>&lt;NA&gt;</td>\n    </tr>\n    <tr>\n      <th>7190165</th>\n      <td>tt5527634</td>\n      <td>Natural Beauty</td>\n      <td>Natural Beauty</td>\n      <td>&lt;NA&gt;</td>\n      <td>&lt;NA&gt;</td>\n      <td>Documentary</td>\n      <td>&lt;NA&gt;</td>\n    </tr>\n    <tr>\n      <th>5245305</th>\n      <td>tt2041424</td>\n      <td>Moscowin Kaveri</td>\n      <td>Moscowin Kaveri</td>\n      <td>2010</td>\n      <td>97</td>\n      <td>Romance</td>\n      <td>12</td>\n    </tr>\n    <tr>\n      <th>1097792</th>\n      <td>tt10233504</td>\n      <td>Abbas Abbas Send Help!</td>\n      <td>Abbas Abbas Send Help!</td>\n      <td>2018</td>\n      <td>86</td>\n      <td>Drama,Romance</td>\n      <td>4</td>\n    </tr>\n    <tr>\n      <th>376225</th>\n      <td>tt0392682</td>\n      <td>Ram Janma</td>\n      <td>Ram Janma</td>\n      <td>1920</td>\n      <td>&lt;NA&gt;</td>\n      <td>&lt;NA&gt;</td>\n      <td>102</td>\n    </tr>\n    <tr>\n      <th>125656</th>\n      <td>tt0129186</td>\n      <td>Den kvindelige dæmon</td>\n      <td>Den kvindelige dæmon</td>\n      <td>1913</td>\n      <td>&lt;NA&gt;</td>\n      <td>&lt;NA&gt;</td>\n      <td>109</td>\n    </tr>\n  </tbody>\n</table>\n</div>"
     },
     "metadata": {}
    }
   ]
  },
  {
   "cell_type": "markdown",
   "source": "**Exercise hour_length**: Calculate the length of movies in hours.",
   "metadata": {
    "cell_id": "c17bf9ba2cff4ff2b6f0e1d25b17945b",
    "tags": [],
    "deepnote_cell_type": "markdown",
    "deepnote_cell_height": 52.390625
   }
  },
  {
   "cell_type": "code",
   "metadata": {
    "cell_id": "397a2220be0f423fbced624056fbee3f",
    "tags": [],
    "deepnote_to_be_reexecuted": false,
    "source_hash": "7d95eb02",
    "execution_start": 1662591791451,
    "execution_millis": 517,
    "deepnote_cell_type": "code",
    "deepnote_cell_height": 94
   },
   "source": "# run_solution(\"hour_length\")\n# show_solution(\"hour_length\")",
   "execution_count": null,
   "outputs": [
    {
     "output_type": "execute_result",
     "execution_count": 5,
     "data": {
      "application/vnd.deepnote.dataframe.v3+json": {
       "column_count": 8,
       "row_count": 748524,
       "columns": [
        {
         "name": "tconst",
         "dtype": "string"
        },
        {
         "name": "titleType",
         "dtype": "string"
        },
        {
         "name": "primaryTitle",
         "dtype": "string"
        },
        {
         "name": "originalTitle",
         "dtype": "string"
        },
        {
         "name": "year",
         "dtype": "Int64"
        },
        {
         "name": "runtimeMinutes",
         "dtype": "Int64"
        },
        {
         "name": "genres",
         "dtype": "string"
        },
        {
         "name": "runtimeHours",
         "dtype": "Float64"
        },
        {
         "name": "_deepnote_index_column",
         "dtype": "int64"
        }
       ],
       "rows": [
        {
         "tconst": "tt0000009",
         "titleType": "movie",
         "primaryTitle": "Miss Jerry",
         "originalTitle": "Miss Jerry",
         "year": "1894",
         "runtimeMinutes": "45",
         "genres": "Romance",
         "runtimeHours": "0.75",
         "_deepnote_index_column": "0"
        },
        {
         "tconst": "tt0000502",
         "titleType": "movie",
         "primaryTitle": "Bohemios",
         "originalTitle": "Bohemios",
         "year": "1905",
         "runtimeMinutes": "100",
         "genres": "<NA>",
         "runtimeHours": "1.6666666666666667",
         "_deepnote_index_column": "1"
        },
        {
         "tconst": "tt0000574",
         "titleType": "movie",
         "primaryTitle": "The Story of the Kelly Gang",
         "originalTitle": "The Story of the Kelly Gang",
         "year": "1906",
         "runtimeMinutes": "70",
         "genres": "Action,Adventure,Biography",
         "runtimeHours": "1.1666666666666667",
         "_deepnote_index_column": "2"
        },
        {
         "tconst": "tt0000591",
         "titleType": "movie",
         "primaryTitle": "The Prodigal Son",
         "originalTitle": "L'enfant prodigue",
         "year": "1907",
         "runtimeMinutes": "90",
         "genres": "Drama",
         "runtimeHours": "1.5",
         "_deepnote_index_column": "3"
        },
        {
         "tconst": "tt0000615",
         "titleType": "movie",
         "primaryTitle": "Robbery Under Arms",
         "originalTitle": "Robbery Under Arms",
         "year": "1907",
         "runtimeMinutes": "<NA>",
         "genres": "Drama",
         "runtimeHours": "<NA>",
         "_deepnote_index_column": "4"
        },
        {
         "tconst": "tt0000630",
         "titleType": "movie",
         "primaryTitle": "Hamlet",
         "originalTitle": "Amleto",
         "year": "1908",
         "runtimeMinutes": "<NA>",
         "genres": "Drama",
         "runtimeHours": "<NA>",
         "_deepnote_index_column": "5"
        },
        {
         "tconst": "tt0000675",
         "titleType": "movie",
         "primaryTitle": "Don Quijote",
         "originalTitle": "Don Quijote",
         "year": "1908",
         "runtimeMinutes": "<NA>",
         "genres": "Drama",
         "runtimeHours": "<NA>",
         "_deepnote_index_column": "6"
        },
        {
         "tconst": "tt0000679",
         "titleType": "movie",
         "primaryTitle": "The Fairylogue and Radio-Plays",
         "originalTitle": "The Fairylogue and Radio-Plays",
         "year": "1908",
         "runtimeMinutes": "120",
         "genres": "Adventure,Fantasy",
         "runtimeHours": "2.0",
         "_deepnote_index_column": "7"
        },
        {
         "tconst": "tt0000793",
         "titleType": "movie",
         "primaryTitle": "Andreas Hofer",
         "originalTitle": "Andreas Hofer",
         "year": "1909",
         "runtimeMinutes": "<NA>",
         "genres": "Drama",
         "runtimeHours": "<NA>",
         "_deepnote_index_column": "8"
        },
        {
         "tconst": "tt0000814",
         "titleType": "movie",
         "primaryTitle": "La bocana de Mar Chica",
         "originalTitle": "La bocana de Mar Chica",
         "year": "1909",
         "runtimeMinutes": "<NA>",
         "genres": "<NA>",
         "runtimeHours": "<NA>",
         "_deepnote_index_column": "9"
        }
       ]
      },
      "text/plain": "           tconst titleType  \\\n0       tt0000009     movie   \n1       tt0000502     movie   \n2       tt0000574     movie   \n3       tt0000591     movie   \n4       tt0000615     movie   \n...           ...       ...   \n748519  tt9916680     movie   \n748520  tt9916692   tvMovie   \n748521  tt9916706     movie   \n748522  tt9916730     movie   \n748523  tt9916754     movie   \n\n                                             primaryTitle  \\\n0                                              Miss Jerry   \n1                                                Bohemios   \n2                             The Story of the Kelly Gang   \n3                                        The Prodigal Son   \n4                                      Robbery Under Arms   \n...                                                   ...   \n748519  De la ilusión al desconcierto: cine colombiano...   \n748520                    Teatroteka: Czlowiek bez twarzy   \n748521                                    Dankyavar Danka   \n748522                                             6 Gunn   \n748523                     Chico Albuquerque - Revelações   \n\n                                            originalTitle  year  \\\n0                                              Miss Jerry  1894   \n1                                                Bohemios  1905   \n2                             The Story of the Kelly Gang  1906   \n3                                       L'enfant prodigue  1907   \n4                                      Robbery Under Arms  1907   \n...                                                   ...   ...   \n748519  De la ilusión al desconcierto: cine colombiano...  2007   \n748520                    Teatroteka: Czlowiek bez twarzy  2015   \n748521                                    Dankyavar Danka  2013   \n748522                                             6 Gunn  2017   \n748523                     Chico Albuquerque - Revelações  2013   \n\n        runtimeMinutes                      genres  runtimeHours  \n0                   45                     Romance          0.75  \n1                  100                        <NA>      1.666667  \n2                   70  Action,Adventure,Biography      1.166667  \n3                   90                       Drama           1.5  \n4                 <NA>                       Drama          <NA>  \n...                ...                         ...           ...  \n748519             100                 Documentary      1.666667  \n748520              66                       Drama           1.1  \n748521            <NA>                      Comedy          <NA>  \n748522             116                        <NA>      1.933333  \n748523              49                 Documentary      0.816667  \n\n[748524 rows x 8 columns]",
      "text/html": "<div>\n<style scoped>\n    .dataframe tbody tr th:only-of-type {\n        vertical-align: middle;\n    }\n\n    .dataframe tbody tr th {\n        vertical-align: top;\n    }\n\n    .dataframe thead th {\n        text-align: right;\n    }\n</style>\n<table border=\"1\" class=\"dataframe\">\n  <thead>\n    <tr style=\"text-align: right;\">\n      <th></th>\n      <th>tconst</th>\n      <th>titleType</th>\n      <th>primaryTitle</th>\n      <th>originalTitle</th>\n      <th>year</th>\n      <th>runtimeMinutes</th>\n      <th>genres</th>\n      <th>runtimeHours</th>\n    </tr>\n  </thead>\n  <tbody>\n    <tr>\n      <th>0</th>\n      <td>tt0000009</td>\n      <td>movie</td>\n      <td>Miss Jerry</td>\n      <td>Miss Jerry</td>\n      <td>1894</td>\n      <td>45</td>\n      <td>Romance</td>\n      <td>0.75</td>\n    </tr>\n    <tr>\n      <th>1</th>\n      <td>tt0000502</td>\n      <td>movie</td>\n      <td>Bohemios</td>\n      <td>Bohemios</td>\n      <td>1905</td>\n      <td>100</td>\n      <td>&lt;NA&gt;</td>\n      <td>1.666667</td>\n    </tr>\n    <tr>\n      <th>2</th>\n      <td>tt0000574</td>\n      <td>movie</td>\n      <td>The Story of the Kelly Gang</td>\n      <td>The Story of the Kelly Gang</td>\n      <td>1906</td>\n      <td>70</td>\n      <td>Action,Adventure,Biography</td>\n      <td>1.166667</td>\n    </tr>\n    <tr>\n      <th>3</th>\n      <td>tt0000591</td>\n      <td>movie</td>\n      <td>The Prodigal Son</td>\n      <td>L'enfant prodigue</td>\n      <td>1907</td>\n      <td>90</td>\n      <td>Drama</td>\n      <td>1.5</td>\n    </tr>\n    <tr>\n      <th>4</th>\n      <td>tt0000615</td>\n      <td>movie</td>\n      <td>Robbery Under Arms</td>\n      <td>Robbery Under Arms</td>\n      <td>1907</td>\n      <td>&lt;NA&gt;</td>\n      <td>Drama</td>\n      <td>&lt;NA&gt;</td>\n    </tr>\n    <tr>\n      <th>...</th>\n      <td>...</td>\n      <td>...</td>\n      <td>...</td>\n      <td>...</td>\n      <td>...</td>\n      <td>...</td>\n      <td>...</td>\n      <td>...</td>\n    </tr>\n    <tr>\n      <th>748519</th>\n      <td>tt9916680</td>\n      <td>movie</td>\n      <td>De la ilusión al desconcierto: cine colombiano...</td>\n      <td>De la ilusión al desconcierto: cine colombiano...</td>\n      <td>2007</td>\n      <td>100</td>\n      <td>Documentary</td>\n      <td>1.666667</td>\n    </tr>\n    <tr>\n      <th>748520</th>\n      <td>tt9916692</td>\n      <td>tvMovie</td>\n      <td>Teatroteka: Czlowiek bez twarzy</td>\n      <td>Teatroteka: Czlowiek bez twarzy</td>\n      <td>2015</td>\n      <td>66</td>\n      <td>Drama</td>\n      <td>1.1</td>\n    </tr>\n    <tr>\n      <th>748521</th>\n      <td>tt9916706</td>\n      <td>movie</td>\n      <td>Dankyavar Danka</td>\n      <td>Dankyavar Danka</td>\n      <td>2013</td>\n      <td>&lt;NA&gt;</td>\n      <td>Comedy</td>\n      <td>&lt;NA&gt;</td>\n    </tr>\n    <tr>\n      <th>748522</th>\n      <td>tt9916730</td>\n      <td>movie</td>\n      <td>6 Gunn</td>\n      <td>6 Gunn</td>\n      <td>2017</td>\n      <td>116</td>\n      <td>&lt;NA&gt;</td>\n      <td>1.933333</td>\n    </tr>\n    <tr>\n      <th>748523</th>\n      <td>tt9916754</td>\n      <td>movie</td>\n      <td>Chico Albuquerque - Revelações</td>\n      <td>Chico Albuquerque - Revelações</td>\n      <td>2013</td>\n      <td>49</td>\n      <td>Documentary</td>\n      <td>0.816667</td>\n    </tr>\n  </tbody>\n</table>\n<p>748524 rows × 8 columns</p>\n</div>"
     },
     "metadata": {}
    }
   ]
  },
  {
   "cell_type": "markdown",
   "source": "### Basic string operations\n\nThese are typically accessed using the `.str` \"accessor\" of the Series like this:\n    \n- series.str.lower\n- series.str.split\n- series.str.startswith\n- series.str.contains\n- ...",
   "metadata": {
    "cell_id": "5005ab7fb5cb4e2e8a6127145e276b38",
    "tags": [],
    "deepnote_cell_type": "markdown",
    "deepnote_cell_height": 252.34375
   }
  },
  {
   "cell_type": "markdown",
   "source": "**Exercise pink:** Find all Pink Panther movies. Note that their title does not necessarily start with \"Pink\"",
   "metadata": {
    "cell_id": "72bfaa67ccf94f23ad995b2dd041fcf4",
    "tags": [],
    "deepnote_cell_type": "markdown",
    "deepnote_cell_height": 52.390625
   }
  },
  {
   "cell_type": "code",
   "source": "# is_pink = ...\n# movie_titles[is_pink]",
   "metadata": {
    "cell_id": "c52603e7c5aa43e398771912d58bc6d6",
    "tags": [],
    "deepnote_to_be_reexecuted": false,
    "source_hash": "93bc2b31",
    "execution_start": 1662591829319,
    "execution_millis": 1644,
    "deepnote_cell_type": "code",
    "deepnote_cell_height": 157.1875
   },
   "execution_count": null,
   "outputs": [
    {
     "output_type": "error",
     "ename": "KeyError",
     "evalue": "Ellipsis",
     "traceback": [
      "\u001b[0;31m---------------------------------------------------------------------------\u001b[0m",
      "\u001b[0;31mKeyError\u001b[0m                                  Traceback (most recent call last)",
      "File \u001b[0;32m~/venv/lib/python3.9/site-packages/pandas/core/indexes/base.py:3629\u001b[0m, in \u001b[0;36mIndex.get_loc\u001b[0;34m(self, key, method, tolerance)\u001b[0m\n\u001b[1;32m   3628\u001b[0m \u001b[38;5;28;01mtry\u001b[39;00m:\n\u001b[0;32m-> 3629\u001b[0m     \u001b[38;5;28;01mreturn\u001b[39;00m \u001b[38;5;28;43mself\u001b[39;49m\u001b[38;5;241;43m.\u001b[39;49m\u001b[43m_engine\u001b[49m\u001b[38;5;241;43m.\u001b[39;49m\u001b[43mget_loc\u001b[49m\u001b[43m(\u001b[49m\u001b[43mcasted_key\u001b[49m\u001b[43m)\u001b[49m\n\u001b[1;32m   3630\u001b[0m \u001b[38;5;28;01mexcept\u001b[39;00m \u001b[38;5;167;01mKeyError\u001b[39;00m \u001b[38;5;28;01mas\u001b[39;00m err:\n",
      "File \u001b[0;32m~/venv/lib/python3.9/site-packages/pandas/_libs/index.pyx:136\u001b[0m, in \u001b[0;36mpandas._libs.index.IndexEngine.get_loc\u001b[0;34m()\u001b[0m\n",
      "File \u001b[0;32m~/venv/lib/python3.9/site-packages/pandas/_libs/index.pyx:163\u001b[0m, in \u001b[0;36mpandas._libs.index.IndexEngine.get_loc\u001b[0;34m()\u001b[0m\n",
      "File \u001b[0;32mpandas/_libs/hashtable_class_helper.pxi:5198\u001b[0m, in \u001b[0;36mpandas._libs.hashtable.PyObjectHashTable.get_item\u001b[0;34m()\u001b[0m\n",
      "File \u001b[0;32mpandas/_libs/hashtable_class_helper.pxi:5206\u001b[0m, in \u001b[0;36mpandas._libs.hashtable.PyObjectHashTable.get_item\u001b[0;34m()\u001b[0m\n",
      "\u001b[0;31mKeyError\u001b[0m: Ellipsis",
      "\nThe above exception was the direct cause of the following exception:\n",
      "\u001b[0;31mKeyError\u001b[0m                                  Traceback (most recent call last)",
      "Input \u001b[0;32mIn [6]\u001b[0m, in \u001b[0;36m<cell line: 2>\u001b[0;34m()\u001b[0m\n\u001b[1;32m      1\u001b[0m is_pink \u001b[38;5;241m=\u001b[39m \u001b[38;5;241m.\u001b[39m\u001b[38;5;241m.\u001b[39m\u001b[38;5;241m.\u001b[39m\n\u001b[0;32m----> 2\u001b[0m \u001b[43mmovie_titles\u001b[49m\u001b[43m[\u001b[49m\u001b[43mis_pink\u001b[49m\u001b[43m]\u001b[49m\n",
      "File \u001b[0;32m~/venv/lib/python3.9/site-packages/pandas/core/frame.py:3505\u001b[0m, in \u001b[0;36mDataFrame.__getitem__\u001b[0;34m(self, key)\u001b[0m\n\u001b[1;32m   3503\u001b[0m \u001b[38;5;28;01mif\u001b[39;00m \u001b[38;5;28mself\u001b[39m\u001b[38;5;241m.\u001b[39mcolumns\u001b[38;5;241m.\u001b[39mnlevels \u001b[38;5;241m>\u001b[39m \u001b[38;5;241m1\u001b[39m:\n\u001b[1;32m   3504\u001b[0m     \u001b[38;5;28;01mreturn\u001b[39;00m \u001b[38;5;28mself\u001b[39m\u001b[38;5;241m.\u001b[39m_getitem_multilevel(key)\n\u001b[0;32m-> 3505\u001b[0m indexer \u001b[38;5;241m=\u001b[39m \u001b[38;5;28;43mself\u001b[39;49m\u001b[38;5;241;43m.\u001b[39;49m\u001b[43mcolumns\u001b[49m\u001b[38;5;241;43m.\u001b[39;49m\u001b[43mget_loc\u001b[49m\u001b[43m(\u001b[49m\u001b[43mkey\u001b[49m\u001b[43m)\u001b[49m\n\u001b[1;32m   3506\u001b[0m \u001b[38;5;28;01mif\u001b[39;00m is_integer(indexer):\n\u001b[1;32m   3507\u001b[0m     indexer \u001b[38;5;241m=\u001b[39m [indexer]\n",
      "File \u001b[0;32m~/venv/lib/python3.9/site-packages/pandas/core/indexes/base.py:3631\u001b[0m, in \u001b[0;36mIndex.get_loc\u001b[0;34m(self, key, method, tolerance)\u001b[0m\n\u001b[1;32m   3629\u001b[0m     \u001b[38;5;28;01mreturn\u001b[39;00m \u001b[38;5;28mself\u001b[39m\u001b[38;5;241m.\u001b[39m_engine\u001b[38;5;241m.\u001b[39mget_loc(casted_key)\n\u001b[1;32m   3630\u001b[0m \u001b[38;5;28;01mexcept\u001b[39;00m \u001b[38;5;167;01mKeyError\u001b[39;00m \u001b[38;5;28;01mas\u001b[39;00m err:\n\u001b[0;32m-> 3631\u001b[0m     \u001b[38;5;28;01mraise\u001b[39;00m \u001b[38;5;167;01mKeyError\u001b[39;00m(key) \u001b[38;5;28;01mfrom\u001b[39;00m \u001b[38;5;21;01merr\u001b[39;00m\n\u001b[1;32m   3632\u001b[0m \u001b[38;5;28;01mexcept\u001b[39;00m \u001b[38;5;167;01mTypeError\u001b[39;00m:\n\u001b[1;32m   3633\u001b[0m     \u001b[38;5;66;03m# If we have a listlike key, _check_indexing_error will raise\u001b[39;00m\n\u001b[1;32m   3634\u001b[0m     \u001b[38;5;66;03m#  InvalidIndexError. Otherwise we fall through and re-raise\u001b[39;00m\n\u001b[1;32m   3635\u001b[0m     \u001b[38;5;66;03m#  the TypeError.\u001b[39;00m\n\u001b[1;32m   3636\u001b[0m     \u001b[38;5;28mself\u001b[39m\u001b[38;5;241m.\u001b[39m_check_indexing_error(key)\n",
      "\u001b[0;31mKeyError\u001b[0m: Ellipsis"
     ]
    }
   ]
  },
  {
   "cell_type": "code",
   "metadata": {
    "cell_id": "423212b64fe44c9691bd081e19944fe8",
    "tags": [],
    "deepnote_cell_type": "code",
    "deepnote_cell_height": 79
   },
   "source": "# run_solution(\"pink\")\n# show_solution(\"pink\")",
   "execution_count": null,
   "outputs": []
  },
  {
   "cell_type": "code",
   "metadata": {
    "cell_id": "c7f2259211444bdfbd5519ed15e05359",
    "tags": [],
    "deepnote_to_be_reexecuted": false,
    "source_hash": "da7e72d0",
    "execution_start": 1662505076764,
    "execution_millis": 1172,
    "deepnote_cell_type": "code",
    "deepnote_cell_height": 175.1875
   },
   "source": "# String arithmetics work too!\nurl = \"https://www.imdb.com/title/\" + movie_titles[\"tconst\"]\nmovie_titles[[\"primaryTitle\"]].assign(url=url).sample(10)",
   "execution_count": null,
   "outputs": [
    {
     "output_type": "error",
     "ename": "NameError",
     "evalue": "name 'movie_titles' is not defined",
     "traceback": [
      "\u001b[0;31m---------------------------------------------------------------------------\u001b[0m",
      "\u001b[0;31mNameError\u001b[0m                                 Traceback (most recent call last)",
      "Input \u001b[0;32mIn [1]\u001b[0m, in \u001b[0;36m<cell line: 2>\u001b[0;34m()\u001b[0m\n\u001b[1;32m      1\u001b[0m \u001b[38;5;66;03m# String arithmetics work too!\u001b[39;00m\n\u001b[0;32m----> 2\u001b[0m url \u001b[38;5;241m=\u001b[39m \u001b[38;5;124m\"\u001b[39m\u001b[38;5;124mhttps://www.imdb.com/title/\u001b[39m\u001b[38;5;124m\"\u001b[39m \u001b[38;5;241m+\u001b[39m \u001b[43mmovie_titles\u001b[49m[\u001b[38;5;124m\"\u001b[39m\u001b[38;5;124mtconst\u001b[39m\u001b[38;5;124m\"\u001b[39m]\n\u001b[1;32m      3\u001b[0m movie_titles[[\u001b[38;5;124m\"\u001b[39m\u001b[38;5;124mprimaryTitle\u001b[39m\u001b[38;5;124m\"\u001b[39m]]\u001b[38;5;241m.\u001b[39massign(url\u001b[38;5;241m=\u001b[39murl)\u001b[38;5;241m.\u001b[39msample(\u001b[38;5;241m10\u001b[39m)\n",
      "\u001b[0;31mNameError\u001b[0m: name 'movie_titles' is not defined"
     ]
    }
   ]
  },
  {
   "cell_type": "markdown",
   "source": "Let's investigate the genres a bit:",
   "metadata": {
    "cell_id": "0773c16b60c74d04bd792ff4b20cd9d1",
    "tags": [],
    "deepnote_cell_type": "markdown",
    "deepnote_cell_height": 52.390625
   }
  },
  {
   "cell_type": "code",
   "metadata": {
    "cell_id": "4c0a16d217cc4550aa02dd477250c173",
    "tags": [],
    "deepnote_to_be_reexecuted": false,
    "source_hash": "e55f542a",
    "execution_start": 1662504537656,
    "execution_millis": 1296,
    "deepnote_cell_type": "code",
    "deepnote_cell_height": 322.0625,
    "deepnote_output_heights": [
     212.0625
    ]
   },
   "source": "split_genres = movie_titles.genres.str.split(\",\").dropna()\nsplit_genres.sample(10)",
   "execution_count": null,
   "outputs": [
    {
     "output_type": "execute_result",
     "execution_count": 26,
     "data": {
      "text/plain": "251738         [Adventure, Comedy, Family]\n6732771                      [Documentary]\n59945                      [Comedy, Drama]\n113187                   [Comedy, Romance]\n7462                               [Drama]\n80714                              [Drama]\n1242242    [Biography, Documentary, Drama]\n5351350                           [Comedy]\n6138042           [Drama, Horror, Mystery]\n1407479                            [Sport]\nName: genres, dtype: object"
     },
     "metadata": {}
    }
   ]
  },
  {
   "cell_type": "markdown",
   "source": "## Comparison",
   "metadata": {
    "cell_id": "00003-c1bfe573-413a-48c8-929c-b0fffe7de320",
    "deepnote_cell_type": "markdown",
    "deepnote_cell_height": 70
   }
  },
  {
   "cell_type": "markdown",
   "source": "## Filtering",
   "metadata": {
    "cell_id": "00005-4556a1f4-b6a4-4776-86bd-e5a7aecd82d9",
    "deepnote_cell_type": "markdown",
    "deepnote_cell_height": 70
   }
  },
  {
   "cell_type": "markdown",
   "source": "Indexing in pandas Series / DataFrames (`[]`) support also boolean (masked) arrays. These arrays can be obtained by applying boolean operations on them.\n\nYou can also use standard **comparison operators** like `<`, `<=`, `==`, `>=`, `>`, `!=`. \n\nAs an example, find all movies from this year:",
   "metadata": {
    "cell_id": "b1a031840e3a4f89b2e75e058779fff7",
    "tags": [],
    "deepnote_cell_type": "markdown",
    "deepnote_cell_height": 147.5625
   }
  },
  {
   "cell_type": "code",
   "metadata": {
    "cell_id": "cfe6112c25f94a28ab0eaf764b62d111",
    "tags": [],
    "deepnote_to_be_reexecuted": false,
    "source_hash": "c5890661",
    "execution_start": 1662496389740,
    "execution_millis": 86,
    "deepnote_cell_type": "code",
    "deepnote_cell_height": 322.0625,
    "deepnote_output_heights": [
     212.0625
    ]
   },
   "source": "is_from_2022 = (movie_titles[\"startYear\"] == 2022)\nis_from_2022.sample(10)",
   "execution_count": null,
   "outputs": [
    {
     "output_type": "execute_result",
     "execution_count": 3,
     "data": {
      "text/plain": "6705009    False\n6463593    False\n8540713    False\n7112115     <NA>\n6166768    False\n3680922    False\n5454553    False\n8062571    False\n8892029    False\n6688448     <NA>\nName: startYear, dtype: boolean"
     },
     "metadata": {}
    }
   ]
  },
  {
   "cell_type": "markdown",
   "source": "Now we can directly apply the boolean mask. (Note: This is no magic. You can construct the mask yourself)",
   "metadata": {
    "cell_id": "506fbd6d6deb402c8bbe72137b8a5215",
    "tags": [],
    "deepnote_cell_type": "markdown",
    "deepnote_cell_height": 52.390625
   }
  },
  {
   "cell_type": "code",
   "metadata": {
    "cell_id": "b9e72880b6f84b43be2c535fb207c511",
    "tags": [],
    "deepnote_to_be_reexecuted": false,
    "source_hash": "4c4e7b2f",
    "execution_start": 1662496389798,
    "execution_millis": 171,
    "deepnote_cell_type": "code",
    "deepnote_cell_height": 595
   },
   "source": "movie_titles[is_from_2022]",
   "execution_count": null,
   "outputs": [
    {
     "output_type": "execute_result",
     "execution_count": 4,
     "data": {
      "application/vnd.deepnote.dataframe.v3+json": {
       "column_count": 6,
       "row_count": 14655,
       "columns": [
        {
         "name": "tconst",
         "dtype": "string",
         "stats": {
          "unique_count": 14655,
          "nan_count": 0,
          "categories": [
           {
            "name": "tt0120589",
            "count": 1
           },
           {
            "name": "tt0200940",
            "count": 1
           },
           {
            "name": "14653 others",
            "count": 14653
           }
          ]
         }
        },
        {
         "name": "primaryTitle",
         "dtype": "string",
         "stats": {
          "unique_count": 14414,
          "nan_count": 0,
          "categories": [
           {
            "name": "The Cabin",
            "count": 11
           },
           {
            "name": "Hero",
            "count": 5
           },
           {
            "name": "14412 others",
            "count": 14639
           }
          ]
         }
        },
        {
         "name": "originalTitle",
         "dtype": "string",
         "stats": {
          "unique_count": 14439,
          "nan_count": 0,
          "categories": [
           {
            "name": "The Cabin",
            "count": 11
           },
           {
            "name": "Hero",
            "count": 4
           },
           {
            "name": "14437 others",
            "count": 14640
           }
          ]
         }
        },
        {
         "name": "startYear",
         "dtype": "Int64",
         "stats": {
          "unique_count": 1,
          "nan_count": 0,
          "categories": [
           {
            "name": "2022",
            "count": 14655
           }
          ]
         }
        },
        {
         "name": "runtimeMinutes",
         "dtype": "Int64",
         "stats": {
          "unique_count": 220,
          "nan_count": 6682,
          "categories": [
           {
            "name": "90",
            "count": 515
           },
           {
            "name": "219 others",
            "count": 7458
           },
           {
            "name": "Missing",
            "count": 6682
           }
          ]
         }
        },
        {
         "name": "genres",
         "dtype": "string",
         "stats": {
          "unique_count": 512,
          "nan_count": 680,
          "categories": [
           {
            "name": "Documentary",
            "count": 2734
           },
           {
            "name": "511 others",
            "count": 11241
           },
           {
            "name": "Missing",
            "count": 680
           }
          ]
         }
        },
        {
         "name": "_deepnote_index_column",
         "dtype": "int64"
        }
       ],
       "rows": [
        {
         "tconst": "tt0120589",
         "primaryTitle": "A Dangerous Practice",
         "originalTitle": "A Dangerous Practice",
         "startYear": "2022",
         "runtimeMinutes": "108",
         "genres": "Drama",
         "_deepnote_index_column": "117686"
        },
        {
         "tconst": "tt0200940",
         "primaryTitle": "Over-sexed Rugsuckers from Mars",
         "originalTitle": "Over-sexed Rugsuckers from Mars",
         "startYear": "2022",
         "runtimeMinutes": "87",
         "genres": "Comedy,Sci-Fi",
         "_deepnote_index_column": "193052"
        },
        {
         "tconst": "tt0265705",
         "primaryTitle": "Saurians",
         "originalTitle": "Saurians",
         "startYear": "2022",
         "runtimeMinutes": "83",
         "genres": "Action,Sci-Fi",
         "_deepnote_index_column": "254387"
        },
        {
         "tconst": "tt0326716",
         "primaryTitle": "5-25-77",
         "originalTitle": "'77",
         "startYear": "2022",
         "runtimeMinutes": "132",
         "genres": "Comedy,Drama",
         "_deepnote_index_column": "312786"
        },
        {
         "tconst": "tt0400871",
         "primaryTitle": "Take Out",
         "originalTitle": "Take Out",
         "startYear": "2022",
         "runtimeMinutes": "<NA>",
         "genres": "Comedy",
         "_deepnote_index_column": "384150"
        },
        {
         "tconst": "tt0426522",
         "primaryTitle": "Making Angels",
         "originalTitle": "Making Angels",
         "startYear": "2022",
         "runtimeMinutes": "<NA>",
         "genres": "Comedy,Drama,Fantasy",
         "_deepnote_index_column": "409154"
        },
        {
         "tconst": "tt0451272",
         "primaryTitle": "Nefarious",
         "originalTitle": "Nefarious",
         "startYear": "2022",
         "runtimeMinutes": "85",
         "genres": "Crime,Thriller",
         "_deepnote_index_column": "433221"
        },
        {
         "tconst": "tt0473100",
         "primaryTitle": "Ten Tricks",
         "originalTitle": "10 Tricks",
         "startYear": "2022",
         "runtimeMinutes": "88",
         "genres": "Comedy,Drama",
         "_deepnote_index_column": "454467"
        },
        {
         "tconst": "tt0781524",
         "primaryTitle": "Vendetta",
         "originalTitle": "Vendetta",
         "startYear": "2022",
         "runtimeMinutes": "<NA>",
         "genres": "Horror,Mystery,Thriller",
         "_deepnote_index_column": "756930"
        },
        {
         "tconst": "tt0887261",
         "primaryTitle": "Hellraiser",
         "originalTitle": "Hellraiser",
         "startYear": "2022",
         "runtimeMinutes": "<NA>",
         "genres": "Horror,Mystery,Thriller",
         "_deepnote_index_column": "859288"
        }
       ]
      },
      "text/plain": "            tconst                       primaryTitle  \\\n117686   tt0120589               A Dangerous Practice   \n193052   tt0200940    Over-sexed Rugsuckers from Mars   \n254387   tt0265705                           Saurians   \n312786   tt0326716                            5-25-77   \n384150   tt0400871                           Take Out   \n...            ...                                ...   \n9174766  tt9893158                           Clowning   \n9174767  tt9893160                         No Way Out   \n9175140  tt9894000      Twice As Strong: Made of Fire   \n9179935  tt9904252  Nice & Naughty, A Christmas Story   \n9180112  tt9904648                       The Contrast   \n\n                             originalTitle  startYear  runtimeMinutes  \\\n117686                A Dangerous Practice       2022             108   \n193052     Over-sexed Rugsuckers from Mars       2022              87   \n254387                            Saurians       2022              83   \n312786                                 '77       2022             132   \n384150                            Take Out       2022            <NA>   \n...                                    ...        ...             ...   \n9174766                           Clowning       2022              96   \n9174767                         No Way Out       2022              89   \n9175140      Twice As Strong: Made of Fire       2022             122   \n9179935  Nice & Naughty, A Christmas Story       2022            <NA>   \n9180112                       The Contrast       2022              82   \n\n                        genres  \n117686                   Drama  \n193052           Comedy,Sci-Fi  \n254387           Action,Sci-Fi  \n312786            Comedy,Drama  \n384150                  Comedy  \n...                        ...  \n9174766          Crime,Romance  \n9174767  Action,Crime,Thriller  \n9175140                  Drama  \n9179935   Comedy,Drama,Fantasy  \n9180112                 Comedy  \n\n[14655 rows x 6 columns]",
      "text/html": "<div>\n<style scoped>\n    .dataframe tbody tr th:only-of-type {\n        vertical-align: middle;\n    }\n\n    .dataframe tbody tr th {\n        vertical-align: top;\n    }\n\n    .dataframe thead th {\n        text-align: right;\n    }\n</style>\n<table border=\"1\" class=\"dataframe\">\n  <thead>\n    <tr style=\"text-align: right;\">\n      <th></th>\n      <th>tconst</th>\n      <th>primaryTitle</th>\n      <th>originalTitle</th>\n      <th>startYear</th>\n      <th>runtimeMinutes</th>\n      <th>genres</th>\n    </tr>\n  </thead>\n  <tbody>\n    <tr>\n      <th>117686</th>\n      <td>tt0120589</td>\n      <td>A Dangerous Practice</td>\n      <td>A Dangerous Practice</td>\n      <td>2022</td>\n      <td>108</td>\n      <td>Drama</td>\n    </tr>\n    <tr>\n      <th>193052</th>\n      <td>tt0200940</td>\n      <td>Over-sexed Rugsuckers from Mars</td>\n      <td>Over-sexed Rugsuckers from Mars</td>\n      <td>2022</td>\n      <td>87</td>\n      <td>Comedy,Sci-Fi</td>\n    </tr>\n    <tr>\n      <th>254387</th>\n      <td>tt0265705</td>\n      <td>Saurians</td>\n      <td>Saurians</td>\n      <td>2022</td>\n      <td>83</td>\n      <td>Action,Sci-Fi</td>\n    </tr>\n    <tr>\n      <th>312786</th>\n      <td>tt0326716</td>\n      <td>5-25-77</td>\n      <td>'77</td>\n      <td>2022</td>\n      <td>132</td>\n      <td>Comedy,Drama</td>\n    </tr>\n    <tr>\n      <th>384150</th>\n      <td>tt0400871</td>\n      <td>Take Out</td>\n      <td>Take Out</td>\n      <td>2022</td>\n      <td>&lt;NA&gt;</td>\n      <td>Comedy</td>\n    </tr>\n    <tr>\n      <th>...</th>\n      <td>...</td>\n      <td>...</td>\n      <td>...</td>\n      <td>...</td>\n      <td>...</td>\n      <td>...</td>\n    </tr>\n    <tr>\n      <th>9174766</th>\n      <td>tt9893158</td>\n      <td>Clowning</td>\n      <td>Clowning</td>\n      <td>2022</td>\n      <td>96</td>\n      <td>Crime,Romance</td>\n    </tr>\n    <tr>\n      <th>9174767</th>\n      <td>tt9893160</td>\n      <td>No Way Out</td>\n      <td>No Way Out</td>\n      <td>2022</td>\n      <td>89</td>\n      <td>Action,Crime,Thriller</td>\n    </tr>\n    <tr>\n      <th>9175140</th>\n      <td>tt9894000</td>\n      <td>Twice As Strong: Made of Fire</td>\n      <td>Twice As Strong: Made of Fire</td>\n      <td>2022</td>\n      <td>122</td>\n      <td>Drama</td>\n    </tr>\n    <tr>\n      <th>9179935</th>\n      <td>tt9904252</td>\n      <td>Nice &amp; Naughty, A Christmas Story</td>\n      <td>Nice &amp; Naughty, A Christmas Story</td>\n      <td>2022</td>\n      <td>&lt;NA&gt;</td>\n      <td>Comedy,Drama,Fantasy</td>\n    </tr>\n    <tr>\n      <th>9180112</th>\n      <td>tt9904648</td>\n      <td>The Contrast</td>\n      <td>The Contrast</td>\n      <td>2022</td>\n      <td>82</td>\n      <td>Comedy</td>\n    </tr>\n  </tbody>\n</table>\n<p>14655 rows × 6 columns</p>\n</div>"
     },
     "metadata": {}
    }
   ]
  },
  {
   "cell_type": "markdown",
   "source": "It is possible to perform **logical operators** with boolean series too. But note that `and`, `or`, `not` are keywords. You should use `&`, `|` and `~` instead (as overloaded bit operators).",
   "metadata": {
    "cell_id": "96a447d6ac3f4a5cb2094c7af20a08dc",
    "tags": [],
    "deepnote_cell_type": "markdown",
    "deepnote_cell_height": 74.78125
   }
  },
  {
   "cell_type": "markdown",
   "source": "So perhaps we want to list all comedies longer than 3 hours?",
   "metadata": {
    "cell_id": "a1446c88f5964d25be1bee1310bf664d",
    "tags": [],
    "deepnote_cell_type": "markdown",
    "deepnote_cell_height": 52.390625
   }
  },
  {
   "cell_type": "code",
   "metadata": {
    "cell_id": "2d48412bdea440f088fd4a401499fac1",
    "tags": [],
    "deepnote_to_be_reexecuted": false,
    "source_hash": "f76cb616",
    "execution_start": 1662496389975,
    "execution_millis": 400,
    "deepnote_table_state": {
     "pageSize": 10,
     "pageIndex": 18,
     "filters": [],
     "sortBy": []
    },
    "deepnote_table_loading": false,
    "deepnote_cell_type": "code",
    "deepnote_cell_height": 618
   },
   "source": "is_a_long_comedy = (movie_titles[\"runtimeMinutes\"] > 180) & (movie_titles[\"genres\"].str.contains(\"Comedy\"))\nmovie_titles[is_a_long_comedy].sample(10)",
   "execution_count": null,
   "outputs": [
    {
     "output_type": "execute_result",
     "execution_count": 5,
     "data": {
      "application/vnd.deepnote.dataframe.v3+json": {
       "column_count": 6,
       "row_count": 10,
       "columns": [
        {
         "name": "tconst",
         "dtype": "string",
         "stats": {
          "unique_count": 10,
          "nan_count": 0,
          "categories": [
           {
            "name": "tt0138280",
            "count": 1
           },
           {
            "name": "tt15121776",
            "count": 1
           },
           {
            "name": "8 others",
            "count": 8
           }
          ]
         }
        },
        {
         "name": "primaryTitle",
         "dtype": "string",
         "stats": {
          "unique_count": 10,
          "nan_count": 0,
          "categories": [
           {
            "name": "Tre per sempre",
            "count": 1
           },
           {
            "name": "Playing Earthbound with one hand holding a tomato (2)",
            "count": 1
           },
           {
            "name": "8 others",
            "count": 8
           }
          ]
         }
        },
        {
         "name": "originalTitle",
         "dtype": "string",
         "stats": {
          "unique_count": 10,
          "nan_count": 0,
          "categories": [
           {
            "name": "Tre per sempre",
            "count": 1
           },
           {
            "name": "Playing Earthbound with one hand holding a tomato (2)",
            "count": 1
           },
           {
            "name": "8 others",
            "count": 8
           }
          ]
         }
        },
        {
         "name": "startYear",
         "dtype": "Int64",
         "stats": {
          "unique_count": 9,
          "nan_count": 0,
          "categories": [
           {
            "name": "2022",
            "count": 2
           },
           {
            "name": "1998",
            "count": 1
           },
           {
            "name": "7 others",
            "count": 7
           }
          ]
         }
        },
        {
         "name": "runtimeMinutes",
         "dtype": "Int64",
         "stats": {
          "unique_count": 10,
          "nan_count": 0,
          "categories": [
           {
            "name": "200",
            "count": 1
           },
           {
            "name": "361",
            "count": 1
           },
           {
            "name": "8 others",
            "count": 8
           }
          ]
         }
        },
        {
         "name": "genres",
         "dtype": "string",
         "stats": {
          "unique_count": 5,
          "nan_count": 0,
          "categories": [
           {
            "name": "Comedy",
            "count": 5
           },
           {
            "name": "Action,Comedy,Drama",
            "count": 2
           },
           {
            "name": "3 others",
            "count": 3
           }
          ]
         }
        },
        {
         "name": "_deepnote_index_column",
         "dtype": "int64"
        }
       ],
       "rows": [
        {
         "tconst": "tt0138280",
         "primaryTitle": "Tre per sempre",
         "originalTitle": "Tre per sempre",
         "startYear": "1998",
         "runtimeMinutes": "200",
         "genres": "Comedy,Drama",
         "_deepnote_index_column": "134279"
        },
        {
         "tconst": "tt15121776",
         "primaryTitle": "Playing Earthbound with one hand holding a tomato (2)",
         "originalTitle": "Playing Earthbound with one hand holding a tomato (2)",
         "startYear": "2021",
         "runtimeMinutes": "361",
         "genres": "Comedy",
         "_deepnote_index_column": "3776650"
        },
        {
         "tconst": "tt1579931",
         "primaryTitle": "Bahumathi",
         "originalTitle": "Bahumathi",
         "startYear": "2007",
         "runtimeMinutes": "194",
         "genres": "Comedy",
         "_deepnote_index_column": "4146569"
        },
        {
         "tconst": "tt0119424",
         "primaryTitle": "Jours de colère",
         "originalTitle": "Jours de colère",
         "startYear": "1997",
         "runtimeMinutes": "182",
         "genres": "Biography,Comedy,Drama",
         "_deepnote_index_column": "116589"
        },
        {
         "tconst": "tt21233332",
         "primaryTitle": "Smosh: Under the Influence",
         "originalTitle": "Smosh: Under the Influence",
         "startYear": "2022",
         "runtimeMinutes": "238",
         "genres": "Comedy",
         "_deepnote_index_column": "5446933"
        },
        {
         "tconst": "tt19263772",
         "primaryTitle": "UGK David's Sit Down Stand-Up Comedy Special",
         "originalTitle": "UGK David's Sit Down Stand-Up Comedy Special",
         "startYear": "2022",
         "runtimeMinutes": "181",
         "genres": "Comedy",
         "_deepnote_index_column": "5005796"
        },
        {
         "tconst": "tt12146282",
         "primaryTitle": "Gengsi Dong",
         "originalTitle": "Gengsi Dong",
         "startYear": "1980",
         "runtimeMinutes": "196",
         "genres": "Comedy",
         "_deepnote_index_column": "2163105"
        },
        {
         "tconst": "tt0155567",
         "primaryTitle": "Buddimantudu",
         "originalTitle": "Buddimantudu",
         "startYear": "1969",
         "runtimeMinutes": "187",
         "genres": "Action,Comedy,Drama",
         "_deepnote_index_column": "150753"
        },
        {
         "tconst": "tt0026435",
         "primaryTitle": "Tailspin Tommy in the Great Air Mystery",
         "originalTitle": "Tailspin Tommy in The Great Air Mystery",
         "startYear": "1935",
         "runtimeMinutes": "236",
         "genres": "Action,Adventure,Comedy",
         "_deepnote_index_column": "25967"
        },
        {
         "tconst": "tt0075669",
         "primaryTitle": "Amar Akbar Anthony",
         "originalTitle": "Amar Akbar Anthony",
         "startYear": "1977",
         "runtimeMinutes": "184",
         "genres": "Action,Comedy,Drama",
         "_deepnote_index_column": "74055"
        }
       ]
      },
      "text/plain": "             tconst                                       primaryTitle  \\\n134279    tt0138280                                     Tre per sempre   \n3776650  tt15121776  Playing Earthbound with one hand holding a tom...   \n4146569   tt1579931                                          Bahumathi   \n116589    tt0119424                                    Jours de colère   \n5446933  tt21233332                         Smosh: Under the Influence   \n5005796  tt19263772       UGK David's Sit Down Stand-Up Comedy Special   \n2163105  tt12146282                                        Gengsi Dong   \n150753    tt0155567                                       Buddimantudu   \n25967     tt0026435            Tailspin Tommy in the Great Air Mystery   \n74055     tt0075669                                 Amar Akbar Anthony   \n\n                                             originalTitle  startYear  \\\n134279                                      Tre per sempre       1998   \n3776650  Playing Earthbound with one hand holding a tom...       2021   \n4146569                                          Bahumathi       2007   \n116589                                     Jours de colère       1997   \n5446933                         Smosh: Under the Influence       2022   \n5005796       UGK David's Sit Down Stand-Up Comedy Special       2022   \n2163105                                        Gengsi Dong       1980   \n150753                                        Buddimantudu       1969   \n25967              Tailspin Tommy in The Great Air Mystery       1935   \n74055                                   Amar Akbar Anthony       1977   \n\n         runtimeMinutes                   genres  \n134279              200             Comedy,Drama  \n3776650             361                   Comedy  \n4146569             194                   Comedy  \n116589              182   Biography,Comedy,Drama  \n5446933             238                   Comedy  \n5005796             181                   Comedy  \n2163105             196                   Comedy  \n150753              187      Action,Comedy,Drama  \n25967               236  Action,Adventure,Comedy  \n74055               184      Action,Comedy,Drama  ",
      "text/html": "<div>\n<style scoped>\n    .dataframe tbody tr th:only-of-type {\n        vertical-align: middle;\n    }\n\n    .dataframe tbody tr th {\n        vertical-align: top;\n    }\n\n    .dataframe thead th {\n        text-align: right;\n    }\n</style>\n<table border=\"1\" class=\"dataframe\">\n  <thead>\n    <tr style=\"text-align: right;\">\n      <th></th>\n      <th>tconst</th>\n      <th>primaryTitle</th>\n      <th>originalTitle</th>\n      <th>startYear</th>\n      <th>runtimeMinutes</th>\n      <th>genres</th>\n    </tr>\n  </thead>\n  <tbody>\n    <tr>\n      <th>134279</th>\n      <td>tt0138280</td>\n      <td>Tre per sempre</td>\n      <td>Tre per sempre</td>\n      <td>1998</td>\n      <td>200</td>\n      <td>Comedy,Drama</td>\n    </tr>\n    <tr>\n      <th>3776650</th>\n      <td>tt15121776</td>\n      <td>Playing Earthbound with one hand holding a tom...</td>\n      <td>Playing Earthbound with one hand holding a tom...</td>\n      <td>2021</td>\n      <td>361</td>\n      <td>Comedy</td>\n    </tr>\n    <tr>\n      <th>4146569</th>\n      <td>tt1579931</td>\n      <td>Bahumathi</td>\n      <td>Bahumathi</td>\n      <td>2007</td>\n      <td>194</td>\n      <td>Comedy</td>\n    </tr>\n    <tr>\n      <th>116589</th>\n      <td>tt0119424</td>\n      <td>Jours de colère</td>\n      <td>Jours de colère</td>\n      <td>1997</td>\n      <td>182</td>\n      <td>Biography,Comedy,Drama</td>\n    </tr>\n    <tr>\n      <th>5446933</th>\n      <td>tt21233332</td>\n      <td>Smosh: Under the Influence</td>\n      <td>Smosh: Under the Influence</td>\n      <td>2022</td>\n      <td>238</td>\n      <td>Comedy</td>\n    </tr>\n    <tr>\n      <th>5005796</th>\n      <td>tt19263772</td>\n      <td>UGK David's Sit Down Stand-Up Comedy Special</td>\n      <td>UGK David's Sit Down Stand-Up Comedy Special</td>\n      <td>2022</td>\n      <td>181</td>\n      <td>Comedy</td>\n    </tr>\n    <tr>\n      <th>2163105</th>\n      <td>tt12146282</td>\n      <td>Gengsi Dong</td>\n      <td>Gengsi Dong</td>\n      <td>1980</td>\n      <td>196</td>\n      <td>Comedy</td>\n    </tr>\n    <tr>\n      <th>150753</th>\n      <td>tt0155567</td>\n      <td>Buddimantudu</td>\n      <td>Buddimantudu</td>\n      <td>1969</td>\n      <td>187</td>\n      <td>Action,Comedy,Drama</td>\n    </tr>\n    <tr>\n      <th>25967</th>\n      <td>tt0026435</td>\n      <td>Tailspin Tommy in the Great Air Mystery</td>\n      <td>Tailspin Tommy in The Great Air Mystery</td>\n      <td>1935</td>\n      <td>236</td>\n      <td>Action,Adventure,Comedy</td>\n    </tr>\n    <tr>\n      <th>74055</th>\n      <td>tt0075669</td>\n      <td>Amar Akbar Anthony</td>\n      <td>Amar Akbar Anthony</td>\n      <td>1977</td>\n      <td>184</td>\n      <td>Action,Comedy,Drama</td>\n    </tr>\n  </tbody>\n</table>\n</div>"
     },
     "metadata": {}
    }
   ]
  },
  {
   "cell_type": "markdown",
   "source": "We may wonder why we have two title-ish columns: originalTitle and primaryTitle.",
   "metadata": {
    "cell_id": "527cd03066094ae4859eca9809987dd6",
    "tags": [],
    "deepnote_cell_type": "markdown",
    "deepnote_cell_height": 52.390625
   }
  },
  {
   "cell_type": "code",
   "metadata": {
    "cell_id": "2aa60b1aee4744deb808d20927457e02",
    "tags": [],
    "deepnote_to_be_reexecuted": false,
    "source_hash": "55cb08f4",
    "execution_start": 1662496390416,
    "execution_millis": 225,
    "deepnote_cell_type": "code",
    "deepnote_cell_height": 186.5625,
    "deepnote_output_heights": [
     58.5625
    ]
   },
   "source": "different_title = (movie_titles[\"originalTitle\"] != movie_titles[\"primaryTitle\"])\ndifferent_title.name = \"Different title\"   # Series can have names (Note: DataFrames can't)\ndifferent_title.value_counts()",
   "execution_count": null,
   "outputs": [
    {
     "output_type": "execute_result",
     "execution_count": 6,
     "data": {
      "text/plain": "False    533888\nTrue      76356\nName: Different title, dtype: Int64"
     },
     "metadata": {}
    }
   ]
  },
  {
   "cell_type": "code",
   "metadata": {
    "cell_id": "67ae9abb92764f65ab76ae3a8a1d7aa7",
    "tags": [],
    "deepnote_to_be_reexecuted": false,
    "source_hash": "2b13dd07",
    "execution_start": 1662496390647,
    "execution_millis": 86,
    "deepnote_cell_type": "code",
    "deepnote_cell_height": 595
   },
   "source": "movie_titles[different_title].sample(10)",
   "execution_count": null,
   "outputs": [
    {
     "output_type": "execute_result",
     "execution_count": 7,
     "data": {
      "application/vnd.deepnote.dataframe.v3+json": {
       "column_count": 6,
       "row_count": 10,
       "columns": [
        {
         "name": "tconst",
         "dtype": "string",
         "stats": {
          "unique_count": 10,
          "nan_count": 0,
          "categories": [
           {
            "name": "tt0382586",
            "count": 1
           },
           {
            "name": "tt0032865",
            "count": 1
           },
           {
            "name": "8 others",
            "count": 8
           }
          ]
         }
        },
        {
         "name": "primaryTitle",
         "dtype": "string",
         "stats": {
          "unique_count": 10,
          "nan_count": 0,
          "categories": [
           {
            "name": "Beating a Drum",
            "count": 1
           },
           {
            "name": "Passione",
            "count": 1
           },
           {
            "name": "8 others",
            "count": 8
           }
          ]
         }
        },
        {
         "name": "originalTitle",
         "dtype": "string",
         "stats": {
          "unique_count": 10,
          "nan_count": 0,
          "categories": [
           {
            "name": "Bukchineun yeoja",
            "count": 1
           },
           {
            "name": "Oltre l'amore",
            "count": 1
           },
           {
            "name": "8 others",
            "count": 8
           }
          ]
         }
        },
        {
         "name": "startYear",
         "dtype": "Int64",
         "stats": {
          "unique_count": 9,
          "nan_count": 0,
          "categories": [
           {
            "name": "2020",
            "count": 2
           },
           {
            "name": "1987",
            "count": 1
           },
           {
            "name": "7 others",
            "count": 7
           }
          ]
         }
        },
        {
         "name": "runtimeMinutes",
         "dtype": "Int64",
         "stats": {
          "unique_count": 9,
          "nan_count": 1,
          "categories": [
           {
            "name": "86",
            "count": 1
           },
           {
            "name": "8 others",
            "count": 8
           },
           {
            "name": "Missing",
            "count": 1
           }
          ]
         }
        },
        {
         "name": "genres",
         "dtype": "string",
         "stats": {
          "unique_count": 8,
          "nan_count": 1,
          "categories": [
           {
            "name": "Drama",
            "count": 2
           },
           {
            "name": "7 others",
            "count": 7
           },
           {
            "name": "Missing",
            "count": 1
           }
          ]
         }
        },
        {
         "name": "_deepnote_index_column",
         "dtype": "int64"
        }
       ],
       "rows": [
        {
         "tconst": "tt0382586",
         "primaryTitle": "Beating a Drum",
         "originalTitle": "Bukchineun yeoja",
         "startYear": "1987",
         "runtimeMinutes": "86",
         "genres": "Thriller",
         "_deepnote_index_column": "366703"
        },
        {
         "tconst": "tt0032865",
         "primaryTitle": "Passione",
         "originalTitle": "Oltre l'amore",
         "startYear": "1940",
         "runtimeMinutes": "96",
         "genres": "Drama",
         "_deepnote_index_column": "32269"
        },
        {
         "tconst": "tt3259302",
         "primaryTitle": "The Bitter Sea",
         "originalTitle": "Kuhai",
         "startYear": "1934",
         "runtimeMinutes": "<NA>",
         "genres": "Drama",
         "_deepnote_index_column": "6189626"
        },
        {
         "tconst": "tt2498020",
         "primaryTitle": "Under the Umbrella",
         "originalTitle": "Kasa no shita",
         "startYear": "2012",
         "runtimeMinutes": "108",
         "genres": "Drama,Family,Romance",
         "_deepnote_index_column": "5871816"
        },
        {
         "tconst": "tt0068004",
         "primaryTitle": "The Shadow Whip",
         "originalTitle": "Ying zi shen bian",
         "startYear": "1971",
         "runtimeMinutes": "78",
         "genres": "Action,Drama",
         "_deepnote_index_column": "66615"
        },
        {
         "tconst": "tt11301882",
         "primaryTitle": "Choosi Choodangane",
         "originalTitle": "Choosi Choodangaane",
         "startYear": "2020",
         "runtimeMinutes": "113",
         "genres": "Romance",
         "_deepnote_index_column": "1693507"
        },
        {
         "tconst": "tt0330030",
         "primaryTitle": "Red Cherry 4",
         "originalTitle": "Balgan aengdu 4",
         "startYear": "1988",
         "runtimeMinutes": "95",
         "genres": "<NA>",
         "_deepnote_index_column": "315987"
        },
        {
         "tconst": "tt13218916",
         "primaryTitle": "We Wanted to Change the World",
         "originalTitle": "Mes gribejam izmainit pasauli",
         "startYear": "2020",
         "runtimeMinutes": "66",
         "genres": "Documentary,Music",
         "_deepnote_index_column": "2739243"
        },
        {
         "tconst": "tt0056905",
         "primaryTitle": "Les Carabiniers",
         "originalTitle": "Les carabiniers",
         "startYear": "1963",
         "runtimeMinutes": "75",
         "genres": "Comedy,Drama,War",
         "_deepnote_index_column": "55803"
        },
        {
         "tconst": "tt11273780",
         "primaryTitle": "The American Dream",
         "originalTitle": "Giac Mo My",
         "startYear": "2017",
         "runtimeMinutes": "103",
         "genres": "Drama,Romance",
         "_deepnote_index_column": "1677912"
        }
       ]
      },
      "text/plain": "             tconst                   primaryTitle  \\\n366703    tt0382586                 Beating a Drum   \n32269     tt0032865                       Passione   \n6189626   tt3259302                 The Bitter Sea   \n5871816   tt2498020             Under the Umbrella   \n66615     tt0068004                The Shadow Whip   \n1693507  tt11301882             Choosi Choodangane   \n315987    tt0330030                   Red Cherry 4   \n2739243  tt13218916  We Wanted to Change the World   \n55803     tt0056905                Les Carabiniers   \n1677912  tt11273780             The American Dream   \n\n                         originalTitle  startYear  runtimeMinutes  \\\n366703                Bukchineun yeoja       1987              86   \n32269                    Oltre l'amore       1940              96   \n6189626                          Kuhai       1934            <NA>   \n5871816                  Kasa no shita       2012             108   \n66615                Ying zi shen bian       1971              78   \n1693507            Choosi Choodangaane       2020             113   \n315987                 Balgan aengdu 4       1988              95   \n2739243  Mes gribejam izmainit pasauli       2020              66   \n55803                  Les carabiniers       1963              75   \n1677912                     Giac Mo My       2017             103   \n\n                       genres  \n366703               Thriller  \n32269                   Drama  \n6189626                 Drama  \n5871816  Drama,Family,Romance  \n66615            Action,Drama  \n1693507               Romance  \n315987                   <NA>  \n2739243     Documentary,Music  \n55803        Comedy,Drama,War  \n1677912         Drama,Romance  ",
      "text/html": "<div>\n<style scoped>\n    .dataframe tbody tr th:only-of-type {\n        vertical-align: middle;\n    }\n\n    .dataframe tbody tr th {\n        vertical-align: top;\n    }\n\n    .dataframe thead th {\n        text-align: right;\n    }\n</style>\n<table border=\"1\" class=\"dataframe\">\n  <thead>\n    <tr style=\"text-align: right;\">\n      <th></th>\n      <th>tconst</th>\n      <th>primaryTitle</th>\n      <th>originalTitle</th>\n      <th>startYear</th>\n      <th>runtimeMinutes</th>\n      <th>genres</th>\n    </tr>\n  </thead>\n  <tbody>\n    <tr>\n      <th>366703</th>\n      <td>tt0382586</td>\n      <td>Beating a Drum</td>\n      <td>Bukchineun yeoja</td>\n      <td>1987</td>\n      <td>86</td>\n      <td>Thriller</td>\n    </tr>\n    <tr>\n      <th>32269</th>\n      <td>tt0032865</td>\n      <td>Passione</td>\n      <td>Oltre l'amore</td>\n      <td>1940</td>\n      <td>96</td>\n      <td>Drama</td>\n    </tr>\n    <tr>\n      <th>6189626</th>\n      <td>tt3259302</td>\n      <td>The Bitter Sea</td>\n      <td>Kuhai</td>\n      <td>1934</td>\n      <td>&lt;NA&gt;</td>\n      <td>Drama</td>\n    </tr>\n    <tr>\n      <th>5871816</th>\n      <td>tt2498020</td>\n      <td>Under the Umbrella</td>\n      <td>Kasa no shita</td>\n      <td>2012</td>\n      <td>108</td>\n      <td>Drama,Family,Romance</td>\n    </tr>\n    <tr>\n      <th>66615</th>\n      <td>tt0068004</td>\n      <td>The Shadow Whip</td>\n      <td>Ying zi shen bian</td>\n      <td>1971</td>\n      <td>78</td>\n      <td>Action,Drama</td>\n    </tr>\n    <tr>\n      <th>1693507</th>\n      <td>tt11301882</td>\n      <td>Choosi Choodangane</td>\n      <td>Choosi Choodangaane</td>\n      <td>2020</td>\n      <td>113</td>\n      <td>Romance</td>\n    </tr>\n    <tr>\n      <th>315987</th>\n      <td>tt0330030</td>\n      <td>Red Cherry 4</td>\n      <td>Balgan aengdu 4</td>\n      <td>1988</td>\n      <td>95</td>\n      <td>&lt;NA&gt;</td>\n    </tr>\n    <tr>\n      <th>2739243</th>\n      <td>tt13218916</td>\n      <td>We Wanted to Change the World</td>\n      <td>Mes gribejam izmainit pasauli</td>\n      <td>2020</td>\n      <td>66</td>\n      <td>Documentary,Music</td>\n    </tr>\n    <tr>\n      <th>55803</th>\n      <td>tt0056905</td>\n      <td>Les Carabiniers</td>\n      <td>Les carabiniers</td>\n      <td>1963</td>\n      <td>75</td>\n      <td>Comedy,Drama,War</td>\n    </tr>\n    <tr>\n      <th>1677912</th>\n      <td>tt11273780</td>\n      <td>The American Dream</td>\n      <td>Giac Mo My</td>\n      <td>2017</td>\n      <td>103</td>\n      <td>Drama,Romance</td>\n    </tr>\n  </tbody>\n</table>\n</div>"
     },
     "metadata": {}
    }
   ]
  },
  {
   "cell_type": "markdown",
   "source": "## Sorting",
   "metadata": {
    "cell_id": "00004-348a43a5-c48f-46cd-b0c7-662bbe0b6f4b",
    "deepnote_cell_type": "markdown",
    "deepnote_cell_height": 70
   }
  },
  {
   "cell_type": "code",
   "metadata": {
    "cell_id": "c5f0eb3fc68f4ce985ce5fbbfa7b2857",
    "tags": [],
    "deepnote_to_be_reexecuted": false,
    "source_hash": "b3cbb0df",
    "execution_start": 1662496390735,
    "execution_millis": 427,
    "deepnote_cell_type": "code",
    "deepnote_cell_height": 408
   },
   "source": "# Display 5 longest movies \nmovie_titles.sort_values(\"runtimeMinutes\", ascending=False).head()",
   "execution_count": null,
   "outputs": [
    {
     "output_type": "execute_result",
     "execution_count": 8,
     "data": {
      "application/vnd.deepnote.dataframe.v3+json": {
       "column_count": 6,
       "row_count": 5,
       "columns": [
        {
         "name": "tconst",
         "dtype": "string",
         "stats": {
          "unique_count": 5,
          "nan_count": 0,
          "categories": [
           {
            "name": "tt8273150",
            "count": 1
           },
           {
            "name": "tt3854496",
            "count": 1
           },
           {
            "name": "3 others",
            "count": 3
           }
          ]
         }
        },
        {
         "name": "primaryTitle",
         "dtype": "string",
         "stats": {
          "unique_count": 5,
          "nan_count": 0,
          "categories": [
           {
            "name": "Logistics",
            "count": 1
           },
           {
            "name": "Ambiancé",
            "count": 1
           },
           {
            "name": "3 others",
            "count": 3
           }
          ]
         }
        },
        {
         "name": "originalTitle",
         "dtype": "string",
         "stats": {
          "unique_count": 5,
          "nan_count": 0,
          "categories": [
           {
            "name": "Logistics",
            "count": 1
           },
           {
            "name": "Ambiancé",
            "count": 1
           },
           {
            "name": "3 others",
            "count": 3
           }
          ]
         }
        },
        {
         "name": "startYear",
         "dtype": "Int64",
         "stats": {
          "unique_count": 4,
          "nan_count": 0,
          "categories": [
           {
            "name": "2019",
            "count": 2
           },
           {
            "name": "2012",
            "count": 1
           },
           {
            "name": "2 others",
            "count": 2
           }
          ]
         }
        },
        {
         "name": "runtimeMinutes",
         "dtype": "Int64",
         "stats": {
          "unique_count": 5,
          "nan_count": 0,
          "categories": [
           {
            "name": "51420",
            "count": 1
           },
           {
            "name": "43200",
            "count": 1
           },
           {
            "name": "3 others",
            "count": 3
           }
          ]
         }
        },
        {
         "name": "genres",
         "dtype": "string",
         "stats": {
          "unique_count": 2,
          "nan_count": 0,
          "categories": [
           {
            "name": "Documentary",
            "count": 4
           },
           {
            "name": "Drama",
            "count": 1
           }
          ]
         }
        },
        {
         "name": "_deepnote_index_column",
         "dtype": "int64"
        }
       ],
       "rows": [
        {
         "tconst": "tt8273150",
         "primaryTitle": "Logistics",
         "originalTitle": "Logistics",
         "startYear": "2012",
         "runtimeMinutes": "51420",
         "genres": "Documentary",
         "_deepnote_index_column": "8428894"
        },
        {
         "tconst": "tt3854496",
         "primaryTitle": "Ambiancé",
         "originalTitle": "Ambiancé",
         "startYear": "2020",
         "runtimeMinutes": "43200",
         "genres": "Documentary",
         "_deepnote_index_column": "6447115"
        },
        {
         "tconst": "tt12277054",
         "primaryTitle": "Carnets Filmés (Liste Complète)",
         "originalTitle": "Carnets Filmés (Liste Complète)",
         "startYear": "2019",
         "runtimeMinutes": "28643",
         "genres": "Documentary",
         "_deepnote_index_column": "2233947"
        },
        {
         "tconst": "tt2659636",
         "primaryTitle": "Modern Times Forever",
         "originalTitle": "Modern Times Forever",
         "startYear": "2011",
         "runtimeMinutes": "14400",
         "genres": "Documentary",
         "_deepnote_index_column": "5937444"
        },
        {
         "tconst": "tt10844900",
         "primaryTitle": "Qw",
         "originalTitle": "Qw",
         "startYear": "2019",
         "runtimeMinutes": "10062",
         "genres": "Drama",
         "_deepnote_index_column": "1438453"
        }
       ]
      },
      "text/plain": "             tconst                     primaryTitle  \\\n8428894   tt8273150                        Logistics   \n6447115   tt3854496                         Ambiancé   \n2233947  tt12277054  Carnets Filmés (Liste Complète)   \n5937444   tt2659636             Modern Times Forever   \n1438453  tt10844900                               Qw   \n\n                           originalTitle  startYear  runtimeMinutes  \\\n8428894                        Logistics       2012           51420   \n6447115                         Ambiancé       2020           43200   \n2233947  Carnets Filmés (Liste Complète)       2019           28643   \n5937444             Modern Times Forever       2011           14400   \n1438453                               Qw       2019           10062   \n\n              genres  \n8428894  Documentary  \n6447115  Documentary  \n2233947  Documentary  \n5937444  Documentary  \n1438453        Drama  ",
      "text/html": "<div>\n<style scoped>\n    .dataframe tbody tr th:only-of-type {\n        vertical-align: middle;\n    }\n\n    .dataframe tbody tr th {\n        vertical-align: top;\n    }\n\n    .dataframe thead th {\n        text-align: right;\n    }\n</style>\n<table border=\"1\" class=\"dataframe\">\n  <thead>\n    <tr style=\"text-align: right;\">\n      <th></th>\n      <th>tconst</th>\n      <th>primaryTitle</th>\n      <th>originalTitle</th>\n      <th>startYear</th>\n      <th>runtimeMinutes</th>\n      <th>genres</th>\n    </tr>\n  </thead>\n  <tbody>\n    <tr>\n      <th>8428894</th>\n      <td>tt8273150</td>\n      <td>Logistics</td>\n      <td>Logistics</td>\n      <td>2012</td>\n      <td>51420</td>\n      <td>Documentary</td>\n    </tr>\n    <tr>\n      <th>6447115</th>\n      <td>tt3854496</td>\n      <td>Ambiancé</td>\n      <td>Ambiancé</td>\n      <td>2020</td>\n      <td>43200</td>\n      <td>Documentary</td>\n    </tr>\n    <tr>\n      <th>2233947</th>\n      <td>tt12277054</td>\n      <td>Carnets Filmés (Liste Complète)</td>\n      <td>Carnets Filmés (Liste Complète)</td>\n      <td>2019</td>\n      <td>28643</td>\n      <td>Documentary</td>\n    </tr>\n    <tr>\n      <th>5937444</th>\n      <td>tt2659636</td>\n      <td>Modern Times Forever</td>\n      <td>Modern Times Forever</td>\n      <td>2011</td>\n      <td>14400</td>\n      <td>Documentary</td>\n    </tr>\n    <tr>\n      <th>1438453</th>\n      <td>tt10844900</td>\n      <td>Qw</td>\n      <td>Qw</td>\n      <td>2019</td>\n      <td>10062</td>\n      <td>Drama</td>\n    </tr>\n  </tbody>\n</table>\n</div>"
     },
     "metadata": {}
    }
   ]
  },
  {
   "cell_type": "code",
   "metadata": {
    "cell_id": "d273f31e831e4be6a8cb05e31c86dcbd",
    "tags": [],
    "deepnote_to_be_reexecuted": false,
    "source_hash": "d154c974",
    "execution_start": 1662496391165,
    "execution_millis": 207,
    "deepnote_cell_type": "code",
    "deepnote_cell_height": 408
   },
   "source": "# Alternative\nmovie_titles.nlargest(5, \"runtimeMinutes\")",
   "execution_count": null,
   "outputs": [
    {
     "output_type": "execute_result",
     "execution_count": 9,
     "data": {
      "application/vnd.deepnote.dataframe.v3+json": {
       "column_count": 6,
       "row_count": 5,
       "columns": [
        {
         "name": "tconst",
         "dtype": "string",
         "stats": {
          "unique_count": 5,
          "nan_count": 0,
          "categories": [
           {
            "name": "tt8273150",
            "count": 1
           },
           {
            "name": "tt3854496",
            "count": 1
           },
           {
            "name": "3 others",
            "count": 3
           }
          ]
         }
        },
        {
         "name": "primaryTitle",
         "dtype": "string",
         "stats": {
          "unique_count": 5,
          "nan_count": 0,
          "categories": [
           {
            "name": "Logistics",
            "count": 1
           },
           {
            "name": "Ambiancé",
            "count": 1
           },
           {
            "name": "3 others",
            "count": 3
           }
          ]
         }
        },
        {
         "name": "originalTitle",
         "dtype": "string",
         "stats": {
          "unique_count": 5,
          "nan_count": 0,
          "categories": [
           {
            "name": "Logistics",
            "count": 1
           },
           {
            "name": "Ambiancé",
            "count": 1
           },
           {
            "name": "3 others",
            "count": 3
           }
          ]
         }
        },
        {
         "name": "startYear",
         "dtype": "Int64",
         "stats": {
          "unique_count": 4,
          "nan_count": 0,
          "categories": [
           {
            "name": "2019",
            "count": 2
           },
           {
            "name": "2012",
            "count": 1
           },
           {
            "name": "2 others",
            "count": 2
           }
          ]
         }
        },
        {
         "name": "runtimeMinutes",
         "dtype": "Int64",
         "stats": {
          "unique_count": 5,
          "nan_count": 0,
          "categories": [
           {
            "name": "51420",
            "count": 1
           },
           {
            "name": "43200",
            "count": 1
           },
           {
            "name": "3 others",
            "count": 3
           }
          ]
         }
        },
        {
         "name": "genres",
         "dtype": "string",
         "stats": {
          "unique_count": 2,
          "nan_count": 0,
          "categories": [
           {
            "name": "Documentary",
            "count": 4
           },
           {
            "name": "Drama",
            "count": 1
           }
          ]
         }
        },
        {
         "name": "_deepnote_index_column",
         "dtype": "int64"
        }
       ],
       "rows": [
        {
         "tconst": "tt8273150",
         "primaryTitle": "Logistics",
         "originalTitle": "Logistics",
         "startYear": "2012",
         "runtimeMinutes": "51420",
         "genres": "Documentary",
         "_deepnote_index_column": "8428894"
        },
        {
         "tconst": "tt3854496",
         "primaryTitle": "Ambiancé",
         "originalTitle": "Ambiancé",
         "startYear": "2020",
         "runtimeMinutes": "43200",
         "genres": "Documentary",
         "_deepnote_index_column": "6447115"
        },
        {
         "tconst": "tt12277054",
         "primaryTitle": "Carnets Filmés (Liste Complète)",
         "originalTitle": "Carnets Filmés (Liste Complète)",
         "startYear": "2019",
         "runtimeMinutes": "28643",
         "genres": "Documentary",
         "_deepnote_index_column": "2233947"
        },
        {
         "tconst": "tt2659636",
         "primaryTitle": "Modern Times Forever",
         "originalTitle": "Modern Times Forever",
         "startYear": "2011",
         "runtimeMinutes": "14400",
         "genres": "Documentary",
         "_deepnote_index_column": "5937444"
        },
        {
         "tconst": "tt10844900",
         "primaryTitle": "Qw",
         "originalTitle": "Qw",
         "startYear": "2019",
         "runtimeMinutes": "10062",
         "genres": "Drama",
         "_deepnote_index_column": "1438453"
        }
       ]
      },
      "text/plain": "             tconst                     primaryTitle  \\\n8428894   tt8273150                        Logistics   \n6447115   tt3854496                         Ambiancé   \n2233947  tt12277054  Carnets Filmés (Liste Complète)   \n5937444   tt2659636             Modern Times Forever   \n1438453  tt10844900                               Qw   \n\n                           originalTitle  startYear  runtimeMinutes  \\\n8428894                        Logistics       2012           51420   \n6447115                         Ambiancé       2020           43200   \n2233947  Carnets Filmés (Liste Complète)       2019           28643   \n5937444             Modern Times Forever       2011           14400   \n1438453                               Qw       2019           10062   \n\n              genres  \n8428894  Documentary  \n6447115  Documentary  \n2233947  Documentary  \n5937444  Documentary  \n1438453        Drama  ",
      "text/html": "<div>\n<style scoped>\n    .dataframe tbody tr th:only-of-type {\n        vertical-align: middle;\n    }\n\n    .dataframe tbody tr th {\n        vertical-align: top;\n    }\n\n    .dataframe thead th {\n        text-align: right;\n    }\n</style>\n<table border=\"1\" class=\"dataframe\">\n  <thead>\n    <tr style=\"text-align: right;\">\n      <th></th>\n      <th>tconst</th>\n      <th>primaryTitle</th>\n      <th>originalTitle</th>\n      <th>startYear</th>\n      <th>runtimeMinutes</th>\n      <th>genres</th>\n    </tr>\n  </thead>\n  <tbody>\n    <tr>\n      <th>8428894</th>\n      <td>tt8273150</td>\n      <td>Logistics</td>\n      <td>Logistics</td>\n      <td>2012</td>\n      <td>51420</td>\n      <td>Documentary</td>\n    </tr>\n    <tr>\n      <th>6447115</th>\n      <td>tt3854496</td>\n      <td>Ambiancé</td>\n      <td>Ambiancé</td>\n      <td>2020</td>\n      <td>43200</td>\n      <td>Documentary</td>\n    </tr>\n    <tr>\n      <th>2233947</th>\n      <td>tt12277054</td>\n      <td>Carnets Filmés (Liste Complète)</td>\n      <td>Carnets Filmés (Liste Complète)</td>\n      <td>2019</td>\n      <td>28643</td>\n      <td>Documentary</td>\n    </tr>\n    <tr>\n      <th>5937444</th>\n      <td>tt2659636</td>\n      <td>Modern Times Forever</td>\n      <td>Modern Times Forever</td>\n      <td>2011</td>\n      <td>14400</td>\n      <td>Documentary</td>\n    </tr>\n    <tr>\n      <th>1438453</th>\n      <td>tt10844900</td>\n      <td>Qw</td>\n      <td>Qw</td>\n      <td>2019</td>\n      <td>10062</td>\n      <td>Drama</td>\n    </tr>\n  </tbody>\n</table>\n</div>"
     },
     "metadata": {}
    }
   ]
  },
  {
   "cell_type": "markdown",
   "source": "**Exercise 10_oldest:** Find the 10 oldest movies that are longer than 2 hours.",
   "metadata": {
    "cell_id": "f9cfe284c2f44a1e8c63749e3130cdd7",
    "tags": [],
    "deepnote_cell_type": "markdown",
    "deepnote_cell_height": 52.390625
   }
  },
  {
   "cell_type": "code",
   "metadata": {
    "cell_id": "76f75f1a6d7640698a818fe09f52c53b",
    "tags": [],
    "deepnote_to_be_reexecuted": false,
    "source_hash": "db30991c",
    "execution_start": 1662496533536,
    "execution_millis": 0,
    "deepnote_cell_type": "code",
    "deepnote_cell_height": 94
   },
   "source": "# run_solution(\"10_oldest\")\n# show_solution(\"10_oldest\")",
   "execution_count": null,
   "outputs": []
  },
  {
   "cell_type": "markdown",
   "source": "**Exercise longest_title:** Show the row with the movie having the longest (primary) title.\n\nHint: `idxmax()` method on the Series returns the index of the item with the maximum value. You can't (at least should) not use the maximum value itself.",
   "metadata": {
    "cell_id": "91cfbe5f20a441b58235bbd270fa536e",
    "tags": [],
    "deepnote_cell_type": "markdown",
    "deepnote_cell_height": 111.171875
   }
  },
  {
   "cell_type": "code",
   "metadata": {
    "cell_id": "f17a665e18864e06afbbf89bfe704ffb",
    "tags": [],
    "deepnote_to_be_reexecuted": false,
    "source_hash": "3d02eac0",
    "execution_start": 1662496564858,
    "execution_millis": 4,
    "deepnote_cell_type": "code",
    "deepnote_cell_height": 94
   },
   "source": "# run_solution(\"longest_title\")\n# show_solution(\"longest_title\")",
   "execution_count": null,
   "outputs": []
  },
  {
   "cell_type": "markdown",
   "source": "## Simple visual analysis",
   "metadata": {
    "cell_id": "729aa85662fc4ac58a2058148e996562",
    "tags": [],
    "deepnote_cell_type": "markdown",
    "deepnote_cell_height": 70
   }
  },
  {
   "cell_type": "code",
   "source": "import plotly.express as px",
   "metadata": {
    "cell_id": "8fa9f7e0f093468aa9509129f84fdce9",
    "tags": [],
    "deepnote_to_be_reexecuted": false,
    "source_hash": "bceeddb3",
    "execution_start": 1662632839636,
    "execution_millis": 185,
    "deepnote_cell_type": "code",
    "deepnote_cell_height": 76
   },
   "execution_count": 5,
   "outputs": []
  },
  {
   "cell_type": "code",
   "source": "px.histogram",
   "metadata": {
    "cell_id": "e5c0629d96c04c4d9d3fd0f53345028d",
    "tags": [],
    "deepnote_cell_type": "code",
    "deepnote_cell_height": 61
   },
   "outputs": [],
   "execution_count": null
  },
  {
   "cell_type": "markdown",
   "source": "<a style='text-decoration:none;line-height:16px;display:flex;color:#5B5B62;padding:10px;justify-content:end;' href='https://deepnote.com?utm_source=created-in-deepnote-cell&projectId=234de414-c5f7-4e4d-a314-25100ac19112' target=\"_blank\">\n<img alt='Created in deepnote.com' style='display:inline;max-height:16px;margin:0px;margin-right:7.5px;' src='data:image/svg+xml;base64,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' > </img>\nCreated in <span style='font-weight:600;margin-left:4px;'>Deepnote</span></a>",
   "metadata": {
    "tags": [],
    "created_in_deepnote_cell": true,
    "deepnote_cell_type": "markdown"
   }
  }
 ],
 "nbformat": 4,
 "nbformat_minor": 2,
 "metadata": {
  "kernelspec": {
   "display_name": "Python 3.10.4 64-bit ('3.10.4')",
   "language": "python",
   "name": "python3"
  },
  "language_info": {
   "codemirror_mode": {
    "name": "ipython",
    "version": 3
   },
   "file_extension": ".py",
   "mimetype": "text/x-python",
   "name": "python",
   "nbconvert_exporter": "python",
   "pygments_lexer": "ipython3",
   "version": "3.10.4"
  },
  "orig_nbformat": 4,
  "vscode": {
   "interpreter": {
    "hash": "1d8d7ddfcd7032e6fe693830a5931c5fe3782bc170fc968c3186119a03312acb"
   }
  },
  "deepnote_notebook_id": "049ef011-2fc9-465e-bd3d-bb4658d66d08",
  "deepnote": {},
  "deepnote_execution_queue": []
 }
}