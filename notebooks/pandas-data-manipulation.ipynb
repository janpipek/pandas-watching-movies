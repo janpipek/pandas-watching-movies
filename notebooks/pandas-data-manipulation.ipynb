{
 "cells": [
  {
   "cell_type": "markdown",
   "source": "# Pandas data manipulation",
   "metadata": {
    "cell_id": "59c80b67-4dd3-45ea-b85f-cf021e5fc1a0",
    "deepnote_cell_type": "markdown",
    "deepnote_cell_height": 82
   }
  },
  {
   "cell_type": "code",
   "source": "import pandas as pd\n\n# This allows \nfrom solutions import run_solution, show_solution",
   "metadata": {
    "cell_id": "fe061a1cf3434367a3cacd91e9fe6281",
    "tags": [],
    "deepnote_to_be_reexecuted": false,
    "source_hash": "20be138a",
    "execution_start": 1662496388663,
    "execution_millis": 0,
    "deepnote_cell_type": "code",
    "deepnote_cell_height": 130
   },
   "outputs": [],
   "execution_count": 1
  },
  {
   "cell_type": "markdown",
   "source": "We will enhance our previous data set:",
   "metadata": {
    "is_collapsed": false,
    "cell_id": "c797b60d0399429a92aa733f12bc39b2",
    "tags": [],
    "formattedRanges": [],
    "deepnote_cell_type": "text-cell-p"
   }
  },
  {
   "cell_type": "code",
   "source": "movie_titles = pd.read_parquet(\"../data/imdb_movie_titles.parquet\")\nmovie_titles",
   "metadata": {
    "cell_id": "4851e010b04e4350b7d15612bb54e825",
    "tags": [],
    "deepnote_to_be_reexecuted": false,
    "source_hash": "a965def2",
    "execution_start": 1662496388704,
    "execution_millis": 1114,
    "deepnote_cell_type": "code",
    "deepnote_cell_height": 613
   },
   "outputs": [
    {
     "output_type": "execute_result",
     "execution_count": 2,
     "data": {
      "application/vnd.deepnote.dataframe.v3+json": {
       "column_count": 6,
       "row_count": 610244,
       "columns": [
        {
         "name": "tconst",
         "dtype": "string"
        },
        {
         "name": "primaryTitle",
         "dtype": "string"
        },
        {
         "name": "originalTitle",
         "dtype": "string"
        },
        {
         "name": "startYear",
         "dtype": "Int64"
        },
        {
         "name": "runtimeMinutes",
         "dtype": "Int64"
        },
        {
         "name": "genres",
         "dtype": "string"
        },
        {
         "name": "_deepnote_index_column",
         "dtype": "int64"
        }
       ],
       "rows": [
        {
         "tconst": "tt0000009",
         "primaryTitle": "Miss Jerry",
         "originalTitle": "Miss Jerry",
         "startYear": "1894",
         "runtimeMinutes": "45",
         "genres": "Romance",
         "_deepnote_index_column": "8"
        },
        {
         "tconst": "tt0000502",
         "primaryTitle": "Bohemios",
         "originalTitle": "Bohemios",
         "startYear": "1905",
         "runtimeMinutes": "100",
         "genres": "<NA>",
         "_deepnote_index_column": "498"
        },
        {
         "tconst": "tt0000574",
         "primaryTitle": "The Story of the Kelly Gang",
         "originalTitle": "The Story of the Kelly Gang",
         "startYear": "1906",
         "runtimeMinutes": "70",
         "genres": "Action,Adventure,Biography",
         "_deepnote_index_column": "570"
        },
        {
         "tconst": "tt0000591",
         "primaryTitle": "The Prodigal Son",
         "originalTitle": "L'enfant prodigue",
         "startYear": "1907",
         "runtimeMinutes": "90",
         "genres": "Drama",
         "_deepnote_index_column": "587"
        },
        {
         "tconst": "tt0000615",
         "primaryTitle": "Robbery Under Arms",
         "originalTitle": "Robbery Under Arms",
         "startYear": "1907",
         "runtimeMinutes": "<NA>",
         "genres": "Drama",
         "_deepnote_index_column": "610"
        },
        {
         "tconst": "tt0000630",
         "primaryTitle": "Hamlet",
         "originalTitle": "Amleto",
         "startYear": "1908",
         "runtimeMinutes": "<NA>",
         "genres": "Drama",
         "_deepnote_index_column": "625"
        },
        {
         "tconst": "tt0000675",
         "primaryTitle": "Don Quijote",
         "originalTitle": "Don Quijote",
         "startYear": "1908",
         "runtimeMinutes": "<NA>",
         "genres": "Drama",
         "_deepnote_index_column": "668"
        },
        {
         "tconst": "tt0000679",
         "primaryTitle": "The Fairylogue and Radio-Plays",
         "originalTitle": "The Fairylogue and Radio-Plays",
         "startYear": "1908",
         "runtimeMinutes": "120",
         "genres": "Adventure,Fantasy",
         "_deepnote_index_column": "672"
        },
        {
         "tconst": "tt0000793",
         "primaryTitle": "Andreas Hofer",
         "originalTitle": "Andreas Hofer",
         "startYear": "1909",
         "runtimeMinutes": "<NA>",
         "genres": "Drama",
         "_deepnote_index_column": "783"
        },
        {
         "tconst": "tt0000814",
         "primaryTitle": "La bocana de Mar Chica",
         "originalTitle": "La bocana de Mar Chica",
         "startYear": "1909",
         "runtimeMinutes": "<NA>",
         "genres": "<NA>",
         "_deepnote_index_column": "804"
        }
       ]
      },
      "text/plain": "            tconst                                       primaryTitle  \\\n8        tt0000009                                         Miss Jerry   \n498      tt0000502                                           Bohemios   \n570      tt0000574                        The Story of the Kelly Gang   \n587      tt0000591                                   The Prodigal Son   \n610      tt0000615                                 Robbery Under Arms   \n...            ...                                                ...   \n9185668  tt9916622        Rodolpho Teóphilo - O Legado de um Pioneiro   \n9185695  tt9916680  De la ilusión al desconcierto: cine colombiano...   \n9185707  tt9916706                                    Dankyavar Danka   \n9185718  tt9916730                                             6 Gunn   \n9185728  tt9916754                     Chico Albuquerque - Revelações   \n\n                                             originalTitle  startYear  \\\n8                                               Miss Jerry       1894   \n498                                               Bohemios       1905   \n570                            The Story of the Kelly Gang       1906   \n587                                      L'enfant prodigue       1907   \n610                                     Robbery Under Arms       1907   \n...                                                    ...        ...   \n9185668        Rodolpho Teóphilo - O Legado de um Pioneiro       2015   \n9185695  De la ilusión al desconcierto: cine colombiano...       2007   \n9185707                                    Dankyavar Danka       2013   \n9185718                                             6 Gunn       2017   \n9185728                     Chico Albuquerque - Revelações       2013   \n\n         runtimeMinutes                      genres  \n8                    45                     Romance  \n498                 100                        <NA>  \n570                  70  Action,Adventure,Biography  \n587                  90                       Drama  \n610                <NA>                       Drama  \n...                 ...                         ...  \n9185668              57                 Documentary  \n9185695             100                 Documentary  \n9185707            <NA>                      Comedy  \n9185718             116                        <NA>  \n9185728              49                 Documentary  \n\n[610244 rows x 6 columns]",
      "text/html": "<div>\n<style scoped>\n    .dataframe tbody tr th:only-of-type {\n        vertical-align: middle;\n    }\n\n    .dataframe tbody tr th {\n        vertical-align: top;\n    }\n\n    .dataframe thead th {\n        text-align: right;\n    }\n</style>\n<table border=\"1\" class=\"dataframe\">\n  <thead>\n    <tr style=\"text-align: right;\">\n      <th></th>\n      <th>tconst</th>\n      <th>primaryTitle</th>\n      <th>originalTitle</th>\n      <th>startYear</th>\n      <th>runtimeMinutes</th>\n      <th>genres</th>\n    </tr>\n  </thead>\n  <tbody>\n    <tr>\n      <th>8</th>\n      <td>tt0000009</td>\n      <td>Miss Jerry</td>\n      <td>Miss Jerry</td>\n      <td>1894</td>\n      <td>45</td>\n      <td>Romance</td>\n    </tr>\n    <tr>\n      <th>498</th>\n      <td>tt0000502</td>\n      <td>Bohemios</td>\n      <td>Bohemios</td>\n      <td>1905</td>\n      <td>100</td>\n      <td>&lt;NA&gt;</td>\n    </tr>\n    <tr>\n      <th>570</th>\n      <td>tt0000574</td>\n      <td>The Story of the Kelly Gang</td>\n      <td>The Story of the Kelly Gang</td>\n      <td>1906</td>\n      <td>70</td>\n      <td>Action,Adventure,Biography</td>\n    </tr>\n    <tr>\n      <th>587</th>\n      <td>tt0000591</td>\n      <td>The Prodigal Son</td>\n      <td>L'enfant prodigue</td>\n      <td>1907</td>\n      <td>90</td>\n      <td>Drama</td>\n    </tr>\n    <tr>\n      <th>610</th>\n      <td>tt0000615</td>\n      <td>Robbery Under Arms</td>\n      <td>Robbery Under Arms</td>\n      <td>1907</td>\n      <td>&lt;NA&gt;</td>\n      <td>Drama</td>\n    </tr>\n    <tr>\n      <th>...</th>\n      <td>...</td>\n      <td>...</td>\n      <td>...</td>\n      <td>...</td>\n      <td>...</td>\n      <td>...</td>\n    </tr>\n    <tr>\n      <th>9185668</th>\n      <td>tt9916622</td>\n      <td>Rodolpho Teóphilo - O Legado de um Pioneiro</td>\n      <td>Rodolpho Teóphilo - O Legado de um Pioneiro</td>\n      <td>2015</td>\n      <td>57</td>\n      <td>Documentary</td>\n    </tr>\n    <tr>\n      <th>9185695</th>\n      <td>tt9916680</td>\n      <td>De la ilusión al desconcierto: cine colombiano...</td>\n      <td>De la ilusión al desconcierto: cine colombiano...</td>\n      <td>2007</td>\n      <td>100</td>\n      <td>Documentary</td>\n    </tr>\n    <tr>\n      <th>9185707</th>\n      <td>tt9916706</td>\n      <td>Dankyavar Danka</td>\n      <td>Dankyavar Danka</td>\n      <td>2013</td>\n      <td>&lt;NA&gt;</td>\n      <td>Comedy</td>\n    </tr>\n    <tr>\n      <th>9185718</th>\n      <td>tt9916730</td>\n      <td>6 Gunn</td>\n      <td>6 Gunn</td>\n      <td>2017</td>\n      <td>116</td>\n      <td>&lt;NA&gt;</td>\n    </tr>\n    <tr>\n      <th>9185728</th>\n      <td>tt9916754</td>\n      <td>Chico Albuquerque - Revelações</td>\n      <td>Chico Albuquerque - Revelações</td>\n      <td>2013</td>\n      <td>49</td>\n      <td>Documentary</td>\n    </tr>\n  </tbody>\n</table>\n<p>610244 rows × 6 columns</p>\n</div>"
     },
     "metadata": {}
    }
   ],
   "execution_count": 2
  },
  {
   "cell_type": "markdown",
   "source": "## Basic manipulation",
   "metadata": {
    "cell_id": "00001-3c37bef4-4236-4cdd-899a-ffc708f7d5cb",
    "deepnote_cell_type": "markdown",
    "deepnote_cell_height": 70
   }
  },
  {
   "cell_type": "markdown",
   "source": "## Mathematics",
   "metadata": {
    "cell_id": "00002-61fd0831-e400-4c3e-bd8a-ac1d64bfabd9",
    "deepnote_cell_type": "markdown",
    "deepnote_cell_height": 70
   }
  },
  {
   "cell_type": "markdown",
   "source": "## Comparison",
   "metadata": {
    "cell_id": "00003-c1bfe573-413a-48c8-929c-b0fffe7de320",
    "deepnote_cell_type": "markdown",
    "deepnote_cell_height": 70
   }
  },
  {
   "cell_type": "markdown",
   "source": "## Filtering",
   "metadata": {
    "cell_id": "00005-4556a1f4-b6a4-4776-86bd-e5a7aecd82d9",
    "deepnote_cell_type": "markdown",
    "deepnote_cell_height": 70
   }
  },
  {
   "cell_type": "markdown",
   "source": "Indexing in pandas Series / DataFrames (`[]`) support also boolean (masked) arrays. These arrays can be obtained by applying boolean operations on them.\n\nYou can also use standard **comparison operators** like `<`, `<=`, `==`, `>=`, `>`, `!=`. \n\nAs an example, find all movies from this year:",
   "metadata": {
    "cell_id": "b1a031840e3a4f89b2e75e058779fff7",
    "tags": [],
    "deepnote_cell_type": "markdown",
    "deepnote_cell_height": 147.59375
   }
  },
  {
   "cell_type": "code",
   "source": "is_from_2022 = (movie_titles[\"startYear\"] == 2022)\nis_from_2022.sample(10)",
   "metadata": {
    "cell_id": "cfe6112c25f94a28ab0eaf764b62d111",
    "tags": [],
    "deepnote_to_be_reexecuted": false,
    "source_hash": "c5890661",
    "execution_start": 1662496389740,
    "execution_millis": 86,
    "deepnote_cell_type": "code",
    "deepnote_cell_height": 322.1875,
    "deepnote_output_heights": [
     212.1875
    ]
   },
   "outputs": [
    {
     "output_type": "execute_result",
     "execution_count": 3,
     "data": {
      "text/plain": "6705009    False\n6463593    False\n8540713    False\n7112115     <NA>\n6166768    False\n3680922    False\n5454553    False\n8062571    False\n8892029    False\n6688448     <NA>\nName: startYear, dtype: boolean"
     },
     "metadata": {}
    }
   ],
   "execution_count": 3
  },
  {
   "cell_type": "markdown",
   "source": "Now we can directly apply the boolean mask. (Note: This is no magic. You can construct the mask yourself)",
   "metadata": {
    "cell_id": "506fbd6d6deb402c8bbe72137b8a5215",
    "tags": [],
    "deepnote_cell_type": "markdown",
    "deepnote_cell_height": 52.390625
   }
  },
  {
   "cell_type": "code",
   "source": "movie_titles[is_from_2022]",
   "metadata": {
    "cell_id": "b9e72880b6f84b43be2c535fb207c511",
    "tags": [],
    "deepnote_to_be_reexecuted": false,
    "source_hash": "4c4e7b2f",
    "execution_start": 1662496389798,
    "execution_millis": 171,
    "deepnote_cell_type": "code",
    "deepnote_cell_height": 595
   },
   "outputs": [
    {
     "output_type": "execute_result",
     "execution_count": 4,
     "data": {
      "application/vnd.deepnote.dataframe.v3+json": {
       "column_count": 6,
       "row_count": 14655,
       "columns": [
        {
         "name": "tconst",
         "dtype": "string",
         "stats": {
          "unique_count": 14655,
          "nan_count": 0,
          "categories": [
           {
            "name": "tt0120589",
            "count": 1
           },
           {
            "name": "tt0200940",
            "count": 1
           },
           {
            "name": "14653 others",
            "count": 14653
           }
          ]
         }
        },
        {
         "name": "primaryTitle",
         "dtype": "string",
         "stats": {
          "unique_count": 14414,
          "nan_count": 0,
          "categories": [
           {
            "name": "The Cabin",
            "count": 11
           },
           {
            "name": "Hero",
            "count": 5
           },
           {
            "name": "14412 others",
            "count": 14639
           }
          ]
         }
        },
        {
         "name": "originalTitle",
         "dtype": "string",
         "stats": {
          "unique_count": 14439,
          "nan_count": 0,
          "categories": [
           {
            "name": "The Cabin",
            "count": 11
           },
           {
            "name": "Hero",
            "count": 4
           },
           {
            "name": "14437 others",
            "count": 14640
           }
          ]
         }
        },
        {
         "name": "startYear",
         "dtype": "Int64",
         "stats": {
          "unique_count": 1,
          "nan_count": 0,
          "categories": [
           {
            "name": "2022",
            "count": 14655
           }
          ]
         }
        },
        {
         "name": "runtimeMinutes",
         "dtype": "Int64",
         "stats": {
          "unique_count": 220,
          "nan_count": 6682,
          "categories": [
           {
            "name": "90",
            "count": 515
           },
           {
            "name": "219 others",
            "count": 7458
           },
           {
            "name": "Missing",
            "count": 6682
           }
          ]
         }
        },
        {
         "name": "genres",
         "dtype": "string",
         "stats": {
          "unique_count": 512,
          "nan_count": 680,
          "categories": [
           {
            "name": "Documentary",
            "count": 2734
           },
           {
            "name": "511 others",
            "count": 11241
           },
           {
            "name": "Missing",
            "count": 680
           }
          ]
         }
        },
        {
         "name": "_deepnote_index_column",
         "dtype": "int64"
        }
       ],
       "rows": [
        {
         "tconst": "tt0120589",
         "primaryTitle": "A Dangerous Practice",
         "originalTitle": "A Dangerous Practice",
         "startYear": "2022",
         "runtimeMinutes": "108",
         "genres": "Drama",
         "_deepnote_index_column": "117686"
        },
        {
         "tconst": "tt0200940",
         "primaryTitle": "Over-sexed Rugsuckers from Mars",
         "originalTitle": "Over-sexed Rugsuckers from Mars",
         "startYear": "2022",
         "runtimeMinutes": "87",
         "genres": "Comedy,Sci-Fi",
         "_deepnote_index_column": "193052"
        },
        {
         "tconst": "tt0265705",
         "primaryTitle": "Saurians",
         "originalTitle": "Saurians",
         "startYear": "2022",
         "runtimeMinutes": "83",
         "genres": "Action,Sci-Fi",
         "_deepnote_index_column": "254387"
        },
        {
         "tconst": "tt0326716",
         "primaryTitle": "5-25-77",
         "originalTitle": "'77",
         "startYear": "2022",
         "runtimeMinutes": "132",
         "genres": "Comedy,Drama",
         "_deepnote_index_column": "312786"
        },
        {
         "tconst": "tt0400871",
         "primaryTitle": "Take Out",
         "originalTitle": "Take Out",
         "startYear": "2022",
         "runtimeMinutes": "<NA>",
         "genres": "Comedy",
         "_deepnote_index_column": "384150"
        },
        {
         "tconst": "tt0426522",
         "primaryTitle": "Making Angels",
         "originalTitle": "Making Angels",
         "startYear": "2022",
         "runtimeMinutes": "<NA>",
         "genres": "Comedy,Drama,Fantasy",
         "_deepnote_index_column": "409154"
        },
        {
         "tconst": "tt0451272",
         "primaryTitle": "Nefarious",
         "originalTitle": "Nefarious",
         "startYear": "2022",
         "runtimeMinutes": "85",
         "genres": "Crime,Thriller",
         "_deepnote_index_column": "433221"
        },
        {
         "tconst": "tt0473100",
         "primaryTitle": "Ten Tricks",
         "originalTitle": "10 Tricks",
         "startYear": "2022",
         "runtimeMinutes": "88",
         "genres": "Comedy,Drama",
         "_deepnote_index_column": "454467"
        },
        {
         "tconst": "tt0781524",
         "primaryTitle": "Vendetta",
         "originalTitle": "Vendetta",
         "startYear": "2022",
         "runtimeMinutes": "<NA>",
         "genres": "Horror,Mystery,Thriller",
         "_deepnote_index_column": "756930"
        },
        {
         "tconst": "tt0887261",
         "primaryTitle": "Hellraiser",
         "originalTitle": "Hellraiser",
         "startYear": "2022",
         "runtimeMinutes": "<NA>",
         "genres": "Horror,Mystery,Thriller",
         "_deepnote_index_column": "859288"
        }
       ]
      },
      "text/plain": "            tconst                       primaryTitle  \\\n117686   tt0120589               A Dangerous Practice   \n193052   tt0200940    Over-sexed Rugsuckers from Mars   \n254387   tt0265705                           Saurians   \n312786   tt0326716                            5-25-77   \n384150   tt0400871                           Take Out   \n...            ...                                ...   \n9174766  tt9893158                           Clowning   \n9174767  tt9893160                         No Way Out   \n9175140  tt9894000      Twice As Strong: Made of Fire   \n9179935  tt9904252  Nice & Naughty, A Christmas Story   \n9180112  tt9904648                       The Contrast   \n\n                             originalTitle  startYear  runtimeMinutes  \\\n117686                A Dangerous Practice       2022             108   \n193052     Over-sexed Rugsuckers from Mars       2022              87   \n254387                            Saurians       2022              83   \n312786                                 '77       2022             132   \n384150                            Take Out       2022            <NA>   \n...                                    ...        ...             ...   \n9174766                           Clowning       2022              96   \n9174767                         No Way Out       2022              89   \n9175140      Twice As Strong: Made of Fire       2022             122   \n9179935  Nice & Naughty, A Christmas Story       2022            <NA>   \n9180112                       The Contrast       2022              82   \n\n                        genres  \n117686                   Drama  \n193052           Comedy,Sci-Fi  \n254387           Action,Sci-Fi  \n312786            Comedy,Drama  \n384150                  Comedy  \n...                        ...  \n9174766          Crime,Romance  \n9174767  Action,Crime,Thriller  \n9175140                  Drama  \n9179935   Comedy,Drama,Fantasy  \n9180112                 Comedy  \n\n[14655 rows x 6 columns]",
      "text/html": "<div>\n<style scoped>\n    .dataframe tbody tr th:only-of-type {\n        vertical-align: middle;\n    }\n\n    .dataframe tbody tr th {\n        vertical-align: top;\n    }\n\n    .dataframe thead th {\n        text-align: right;\n    }\n</style>\n<table border=\"1\" class=\"dataframe\">\n  <thead>\n    <tr style=\"text-align: right;\">\n      <th></th>\n      <th>tconst</th>\n      <th>primaryTitle</th>\n      <th>originalTitle</th>\n      <th>startYear</th>\n      <th>runtimeMinutes</th>\n      <th>genres</th>\n    </tr>\n  </thead>\n  <tbody>\n    <tr>\n      <th>117686</th>\n      <td>tt0120589</td>\n      <td>A Dangerous Practice</td>\n      <td>A Dangerous Practice</td>\n      <td>2022</td>\n      <td>108</td>\n      <td>Drama</td>\n    </tr>\n    <tr>\n      <th>193052</th>\n      <td>tt0200940</td>\n      <td>Over-sexed Rugsuckers from Mars</td>\n      <td>Over-sexed Rugsuckers from Mars</td>\n      <td>2022</td>\n      <td>87</td>\n      <td>Comedy,Sci-Fi</td>\n    </tr>\n    <tr>\n      <th>254387</th>\n      <td>tt0265705</td>\n      <td>Saurians</td>\n      <td>Saurians</td>\n      <td>2022</td>\n      <td>83</td>\n      <td>Action,Sci-Fi</td>\n    </tr>\n    <tr>\n      <th>312786</th>\n      <td>tt0326716</td>\n      <td>5-25-77</td>\n      <td>'77</td>\n      <td>2022</td>\n      <td>132</td>\n      <td>Comedy,Drama</td>\n    </tr>\n    <tr>\n      <th>384150</th>\n      <td>tt0400871</td>\n      <td>Take Out</td>\n      <td>Take Out</td>\n      <td>2022</td>\n      <td>&lt;NA&gt;</td>\n      <td>Comedy</td>\n    </tr>\n    <tr>\n      <th>...</th>\n      <td>...</td>\n      <td>...</td>\n      <td>...</td>\n      <td>...</td>\n      <td>...</td>\n      <td>...</td>\n    </tr>\n    <tr>\n      <th>9174766</th>\n      <td>tt9893158</td>\n      <td>Clowning</td>\n      <td>Clowning</td>\n      <td>2022</td>\n      <td>96</td>\n      <td>Crime,Romance</td>\n    </tr>\n    <tr>\n      <th>9174767</th>\n      <td>tt9893160</td>\n      <td>No Way Out</td>\n      <td>No Way Out</td>\n      <td>2022</td>\n      <td>89</td>\n      <td>Action,Crime,Thriller</td>\n    </tr>\n    <tr>\n      <th>9175140</th>\n      <td>tt9894000</td>\n      <td>Twice As Strong: Made of Fire</td>\n      <td>Twice As Strong: Made of Fire</td>\n      <td>2022</td>\n      <td>122</td>\n      <td>Drama</td>\n    </tr>\n    <tr>\n      <th>9179935</th>\n      <td>tt9904252</td>\n      <td>Nice &amp; Naughty, A Christmas Story</td>\n      <td>Nice &amp; Naughty, A Christmas Story</td>\n      <td>2022</td>\n      <td>&lt;NA&gt;</td>\n      <td>Comedy,Drama,Fantasy</td>\n    </tr>\n    <tr>\n      <th>9180112</th>\n      <td>tt9904648</td>\n      <td>The Contrast</td>\n      <td>The Contrast</td>\n      <td>2022</td>\n      <td>82</td>\n      <td>Comedy</td>\n    </tr>\n  </tbody>\n</table>\n<p>14655 rows × 6 columns</p>\n</div>"
     },
     "metadata": {}
    }
   ],
   "execution_count": 4
  },
  {
   "cell_type": "markdown",
   "source": "It is possible to perform **logical operators** with boolean series too. But note that `and`, `or`, `not` are keywords. You should use `&`, `|` and `~` instead (as overloaded bit operators).",
   "metadata": {
    "cell_id": "96a447d6ac3f4a5cb2094c7af20a08dc",
    "tags": [],
    "deepnote_cell_type": "markdown",
    "deepnote_cell_height": 74.796875
   }
  },
  {
   "cell_type": "markdown",
   "source": "So perhaps we want to list all comedies longer than 3 hours?",
   "metadata": {
    "cell_id": "a1446c88f5964d25be1bee1310bf664d",
    "tags": [],
    "deepnote_cell_type": "markdown",
    "deepnote_cell_height": 52.390625
   }
  },
  {
   "cell_type": "code",
   "source": "is_a_long_comedy = (movie_titles[\"runtimeMinutes\"] > 180) & (movie_titles[\"genres\"].str.contains(\"Comedy\"))\nmovie_titles[is_a_long_comedy].sample(10)",
   "metadata": {
    "cell_id": "2d48412bdea440f088fd4a401499fac1",
    "tags": [],
    "deepnote_to_be_reexecuted": false,
    "source_hash": "f76cb616",
    "execution_start": 1662496389975,
    "execution_millis": 400,
    "deepnote_table_state": {
     "pageSize": 10,
     "pageIndex": 18,
     "filters": [],
     "sortBy": []
    },
    "deepnote_table_loading": false,
    "deepnote_cell_type": "code",
    "deepnote_cell_height": 618
   },
   "outputs": [
    {
     "output_type": "execute_result",
     "execution_count": 5,
     "data": {
      "application/vnd.deepnote.dataframe.v3+json": {
       "column_count": 6,
       "row_count": 10,
       "columns": [
        {
         "name": "tconst",
         "dtype": "string",
         "stats": {
          "unique_count": 10,
          "nan_count": 0,
          "categories": [
           {
            "name": "tt0138280",
            "count": 1
           },
           {
            "name": "tt15121776",
            "count": 1
           },
           {
            "name": "8 others",
            "count": 8
           }
          ]
         }
        },
        {
         "name": "primaryTitle",
         "dtype": "string",
         "stats": {
          "unique_count": 10,
          "nan_count": 0,
          "categories": [
           {
            "name": "Tre per sempre",
            "count": 1
           },
           {
            "name": "Playing Earthbound with one hand holding a tomato (2)",
            "count": 1
           },
           {
            "name": "8 others",
            "count": 8
           }
          ]
         }
        },
        {
         "name": "originalTitle",
         "dtype": "string",
         "stats": {
          "unique_count": 10,
          "nan_count": 0,
          "categories": [
           {
            "name": "Tre per sempre",
            "count": 1
           },
           {
            "name": "Playing Earthbound with one hand holding a tomato (2)",
            "count": 1
           },
           {
            "name": "8 others",
            "count": 8
           }
          ]
         }
        },
        {
         "name": "startYear",
         "dtype": "Int64",
         "stats": {
          "unique_count": 9,
          "nan_count": 0,
          "categories": [
           {
            "name": "2022",
            "count": 2
           },
           {
            "name": "1998",
            "count": 1
           },
           {
            "name": "7 others",
            "count": 7
           }
          ]
         }
        },
        {
         "name": "runtimeMinutes",
         "dtype": "Int64",
         "stats": {
          "unique_count": 10,
          "nan_count": 0,
          "categories": [
           {
            "name": "200",
            "count": 1
           },
           {
            "name": "361",
            "count": 1
           },
           {
            "name": "8 others",
            "count": 8
           }
          ]
         }
        },
        {
         "name": "genres",
         "dtype": "string",
         "stats": {
          "unique_count": 5,
          "nan_count": 0,
          "categories": [
           {
            "name": "Comedy",
            "count": 5
           },
           {
            "name": "Action,Comedy,Drama",
            "count": 2
           },
           {
            "name": "3 others",
            "count": 3
           }
          ]
         }
        },
        {
         "name": "_deepnote_index_column",
         "dtype": "int64"
        }
       ],
       "rows": [
        {
         "tconst": "tt0138280",
         "primaryTitle": "Tre per sempre",
         "originalTitle": "Tre per sempre",
         "startYear": "1998",
         "runtimeMinutes": "200",
         "genres": "Comedy,Drama",
         "_deepnote_index_column": "134279"
        },
        {
         "tconst": "tt15121776",
         "primaryTitle": "Playing Earthbound with one hand holding a tomato (2)",
         "originalTitle": "Playing Earthbound with one hand holding a tomato (2)",
         "startYear": "2021",
         "runtimeMinutes": "361",
         "genres": "Comedy",
         "_deepnote_index_column": "3776650"
        },
        {
         "tconst": "tt1579931",
         "primaryTitle": "Bahumathi",
         "originalTitle": "Bahumathi",
         "startYear": "2007",
         "runtimeMinutes": "194",
         "genres": "Comedy",
         "_deepnote_index_column": "4146569"
        },
        {
         "tconst": "tt0119424",
         "primaryTitle": "Jours de colère",
         "originalTitle": "Jours de colère",
         "startYear": "1997",
         "runtimeMinutes": "182",
         "genres": "Biography,Comedy,Drama",
         "_deepnote_index_column": "116589"
        },
        {
         "tconst": "tt21233332",
         "primaryTitle": "Smosh: Under the Influence",
         "originalTitle": "Smosh: Under the Influence",
         "startYear": "2022",
         "runtimeMinutes": "238",
         "genres": "Comedy",
         "_deepnote_index_column": "5446933"
        },
        {
         "tconst": "tt19263772",
         "primaryTitle": "UGK David's Sit Down Stand-Up Comedy Special",
         "originalTitle": "UGK David's Sit Down Stand-Up Comedy Special",
         "startYear": "2022",
         "runtimeMinutes": "181",
         "genres": "Comedy",
         "_deepnote_index_column": "5005796"
        },
        {
         "tconst": "tt12146282",
         "primaryTitle": "Gengsi Dong",
         "originalTitle": "Gengsi Dong",
         "startYear": "1980",
         "runtimeMinutes": "196",
         "genres": "Comedy",
         "_deepnote_index_column": "2163105"
        },
        {
         "tconst": "tt0155567",
         "primaryTitle": "Buddimantudu",
         "originalTitle": "Buddimantudu",
         "startYear": "1969",
         "runtimeMinutes": "187",
         "genres": "Action,Comedy,Drama",
         "_deepnote_index_column": "150753"
        },
        {
         "tconst": "tt0026435",
         "primaryTitle": "Tailspin Tommy in the Great Air Mystery",
         "originalTitle": "Tailspin Tommy in The Great Air Mystery",
         "startYear": "1935",
         "runtimeMinutes": "236",
         "genres": "Action,Adventure,Comedy",
         "_deepnote_index_column": "25967"
        },
        {
         "tconst": "tt0075669",
         "primaryTitle": "Amar Akbar Anthony",
         "originalTitle": "Amar Akbar Anthony",
         "startYear": "1977",
         "runtimeMinutes": "184",
         "genres": "Action,Comedy,Drama",
         "_deepnote_index_column": "74055"
        }
       ]
      },
      "text/plain": "             tconst                                       primaryTitle  \\\n134279    tt0138280                                     Tre per sempre   \n3776650  tt15121776  Playing Earthbound with one hand holding a tom...   \n4146569   tt1579931                                          Bahumathi   \n116589    tt0119424                                    Jours de colère   \n5446933  tt21233332                         Smosh: Under the Influence   \n5005796  tt19263772       UGK David's Sit Down Stand-Up Comedy Special   \n2163105  tt12146282                                        Gengsi Dong   \n150753    tt0155567                                       Buddimantudu   \n25967     tt0026435            Tailspin Tommy in the Great Air Mystery   \n74055     tt0075669                                 Amar Akbar Anthony   \n\n                                             originalTitle  startYear  \\\n134279                                      Tre per sempre       1998   \n3776650  Playing Earthbound with one hand holding a tom...       2021   \n4146569                                          Bahumathi       2007   \n116589                                     Jours de colère       1997   \n5446933                         Smosh: Under the Influence       2022   \n5005796       UGK David's Sit Down Stand-Up Comedy Special       2022   \n2163105                                        Gengsi Dong       1980   \n150753                                        Buddimantudu       1969   \n25967              Tailspin Tommy in The Great Air Mystery       1935   \n74055                                   Amar Akbar Anthony       1977   \n\n         runtimeMinutes                   genres  \n134279              200             Comedy,Drama  \n3776650             361                   Comedy  \n4146569             194                   Comedy  \n116589              182   Biography,Comedy,Drama  \n5446933             238                   Comedy  \n5005796             181                   Comedy  \n2163105             196                   Comedy  \n150753              187      Action,Comedy,Drama  \n25967               236  Action,Adventure,Comedy  \n74055               184      Action,Comedy,Drama  ",
      "text/html": "<div>\n<style scoped>\n    .dataframe tbody tr th:only-of-type {\n        vertical-align: middle;\n    }\n\n    .dataframe tbody tr th {\n        vertical-align: top;\n    }\n\n    .dataframe thead th {\n        text-align: right;\n    }\n</style>\n<table border=\"1\" class=\"dataframe\">\n  <thead>\n    <tr style=\"text-align: right;\">\n      <th></th>\n      <th>tconst</th>\n      <th>primaryTitle</th>\n      <th>originalTitle</th>\n      <th>startYear</th>\n      <th>runtimeMinutes</th>\n      <th>genres</th>\n    </tr>\n  </thead>\n  <tbody>\n    <tr>\n      <th>134279</th>\n      <td>tt0138280</td>\n      <td>Tre per sempre</td>\n      <td>Tre per sempre</td>\n      <td>1998</td>\n      <td>200</td>\n      <td>Comedy,Drama</td>\n    </tr>\n    <tr>\n      <th>3776650</th>\n      <td>tt15121776</td>\n      <td>Playing Earthbound with one hand holding a tom...</td>\n      <td>Playing Earthbound with one hand holding a tom...</td>\n      <td>2021</td>\n      <td>361</td>\n      <td>Comedy</td>\n    </tr>\n    <tr>\n      <th>4146569</th>\n      <td>tt1579931</td>\n      <td>Bahumathi</td>\n      <td>Bahumathi</td>\n      <td>2007</td>\n      <td>194</td>\n      <td>Comedy</td>\n    </tr>\n    <tr>\n      <th>116589</th>\n      <td>tt0119424</td>\n      <td>Jours de colère</td>\n      <td>Jours de colère</td>\n      <td>1997</td>\n      <td>182</td>\n      <td>Biography,Comedy,Drama</td>\n    </tr>\n    <tr>\n      <th>5446933</th>\n      <td>tt21233332</td>\n      <td>Smosh: Under the Influence</td>\n      <td>Smosh: Under the Influence</td>\n      <td>2022</td>\n      <td>238</td>\n      <td>Comedy</td>\n    </tr>\n    <tr>\n      <th>5005796</th>\n      <td>tt19263772</td>\n      <td>UGK David's Sit Down Stand-Up Comedy Special</td>\n      <td>UGK David's Sit Down Stand-Up Comedy Special</td>\n      <td>2022</td>\n      <td>181</td>\n      <td>Comedy</td>\n    </tr>\n    <tr>\n      <th>2163105</th>\n      <td>tt12146282</td>\n      <td>Gengsi Dong</td>\n      <td>Gengsi Dong</td>\n      <td>1980</td>\n      <td>196</td>\n      <td>Comedy</td>\n    </tr>\n    <tr>\n      <th>150753</th>\n      <td>tt0155567</td>\n      <td>Buddimantudu</td>\n      <td>Buddimantudu</td>\n      <td>1969</td>\n      <td>187</td>\n      <td>Action,Comedy,Drama</td>\n    </tr>\n    <tr>\n      <th>25967</th>\n      <td>tt0026435</td>\n      <td>Tailspin Tommy in the Great Air Mystery</td>\n      <td>Tailspin Tommy in The Great Air Mystery</td>\n      <td>1935</td>\n      <td>236</td>\n      <td>Action,Adventure,Comedy</td>\n    </tr>\n    <tr>\n      <th>74055</th>\n      <td>tt0075669</td>\n      <td>Amar Akbar Anthony</td>\n      <td>Amar Akbar Anthony</td>\n      <td>1977</td>\n      <td>184</td>\n      <td>Action,Comedy,Drama</td>\n    </tr>\n  </tbody>\n</table>\n</div>"
     },
     "metadata": {}
    }
   ],
   "execution_count": 5
  },
  {
   "cell_type": "markdown",
   "source": "We may wonder why we have two title-ish columns: originalTitle and primaryTitle.",
   "metadata": {
    "cell_id": "527cd03066094ae4859eca9809987dd6",
    "tags": [],
    "deepnote_cell_type": "markdown",
    "deepnote_cell_height": 52.390625
   }
  },
  {
   "cell_type": "code",
   "source": "different_title = (movie_titles[\"originalTitle\"] != movie_titles[\"primaryTitle\"])\ndifferent_title.name = \"Different title\"   # Series can have names (Note: DataFrames can't)\ndifferent_title.value_counts()",
   "metadata": {
    "cell_id": "2aa60b1aee4744deb808d20927457e02",
    "tags": [],
    "deepnote_to_be_reexecuted": false,
    "source_hash": "55cb08f4",
    "execution_start": 1662496390416,
    "execution_millis": 225,
    "deepnote_cell_type": "code",
    "deepnote_cell_height": 186.578125,
    "deepnote_output_heights": [
     58.59375
    ]
   },
   "outputs": [
    {
     "output_type": "execute_result",
     "execution_count": 6,
     "data": {
      "text/plain": "False    533888\nTrue      76356\nName: Different title, dtype: Int64"
     },
     "metadata": {}
    }
   ],
   "execution_count": 6
  },
  {
   "cell_type": "code",
   "source": "movie_titles[different_title].sample(10)",
   "metadata": {
    "cell_id": "67ae9abb92764f65ab76ae3a8a1d7aa7",
    "tags": [],
    "deepnote_to_be_reexecuted": false,
    "source_hash": "2b13dd07",
    "execution_start": 1662496390647,
    "execution_millis": 86,
    "deepnote_cell_type": "code",
    "deepnote_cell_height": 595
   },
   "outputs": [
    {
     "output_type": "execute_result",
     "execution_count": 7,
     "data": {
      "application/vnd.deepnote.dataframe.v3+json": {
       "column_count": 6,
       "row_count": 10,
       "columns": [
        {
         "name": "tconst",
         "dtype": "string",
         "stats": {
          "unique_count": 10,
          "nan_count": 0,
          "categories": [
           {
            "name": "tt0382586",
            "count": 1
           },
           {
            "name": "tt0032865",
            "count": 1
           },
           {
            "name": "8 others",
            "count": 8
           }
          ]
         }
        },
        {
         "name": "primaryTitle",
         "dtype": "string",
         "stats": {
          "unique_count": 10,
          "nan_count": 0,
          "categories": [
           {
            "name": "Beating a Drum",
            "count": 1
           },
           {
            "name": "Passione",
            "count": 1
           },
           {
            "name": "8 others",
            "count": 8
           }
          ]
         }
        },
        {
         "name": "originalTitle",
         "dtype": "string",
         "stats": {
          "unique_count": 10,
          "nan_count": 0,
          "categories": [
           {
            "name": "Bukchineun yeoja",
            "count": 1
           },
           {
            "name": "Oltre l'amore",
            "count": 1
           },
           {
            "name": "8 others",
            "count": 8
           }
          ]
         }
        },
        {
         "name": "startYear",
         "dtype": "Int64",
         "stats": {
          "unique_count": 9,
          "nan_count": 0,
          "categories": [
           {
            "name": "2020",
            "count": 2
           },
           {
            "name": "1987",
            "count": 1
           },
           {
            "name": "7 others",
            "count": 7
           }
          ]
         }
        },
        {
         "name": "runtimeMinutes",
         "dtype": "Int64",
         "stats": {
          "unique_count": 9,
          "nan_count": 1,
          "categories": [
           {
            "name": "86",
            "count": 1
           },
           {
            "name": "8 others",
            "count": 8
           },
           {
            "name": "Missing",
            "count": 1
           }
          ]
         }
        },
        {
         "name": "genres",
         "dtype": "string",
         "stats": {
          "unique_count": 8,
          "nan_count": 1,
          "categories": [
           {
            "name": "Drama",
            "count": 2
           },
           {
            "name": "7 others",
            "count": 7
           },
           {
            "name": "Missing",
            "count": 1
           }
          ]
         }
        },
        {
         "name": "_deepnote_index_column",
         "dtype": "int64"
        }
       ],
       "rows": [
        {
         "tconst": "tt0382586",
         "primaryTitle": "Beating a Drum",
         "originalTitle": "Bukchineun yeoja",
         "startYear": "1987",
         "runtimeMinutes": "86",
         "genres": "Thriller",
         "_deepnote_index_column": "366703"
        },
        {
         "tconst": "tt0032865",
         "primaryTitle": "Passione",
         "originalTitle": "Oltre l'amore",
         "startYear": "1940",
         "runtimeMinutes": "96",
         "genres": "Drama",
         "_deepnote_index_column": "32269"
        },
        {
         "tconst": "tt3259302",
         "primaryTitle": "The Bitter Sea",
         "originalTitle": "Kuhai",
         "startYear": "1934",
         "runtimeMinutes": "<NA>",
         "genres": "Drama",
         "_deepnote_index_column": "6189626"
        },
        {
         "tconst": "tt2498020",
         "primaryTitle": "Under the Umbrella",
         "originalTitle": "Kasa no shita",
         "startYear": "2012",
         "runtimeMinutes": "108",
         "genres": "Drama,Family,Romance",
         "_deepnote_index_column": "5871816"
        },
        {
         "tconst": "tt0068004",
         "primaryTitle": "The Shadow Whip",
         "originalTitle": "Ying zi shen bian",
         "startYear": "1971",
         "runtimeMinutes": "78",
         "genres": "Action,Drama",
         "_deepnote_index_column": "66615"
        },
        {
         "tconst": "tt11301882",
         "primaryTitle": "Choosi Choodangane",
         "originalTitle": "Choosi Choodangaane",
         "startYear": "2020",
         "runtimeMinutes": "113",
         "genres": "Romance",
         "_deepnote_index_column": "1693507"
        },
        {
         "tconst": "tt0330030",
         "primaryTitle": "Red Cherry 4",
         "originalTitle": "Balgan aengdu 4",
         "startYear": "1988",
         "runtimeMinutes": "95",
         "genres": "<NA>",
         "_deepnote_index_column": "315987"
        },
        {
         "tconst": "tt13218916",
         "primaryTitle": "We Wanted to Change the World",
         "originalTitle": "Mes gribejam izmainit pasauli",
         "startYear": "2020",
         "runtimeMinutes": "66",
         "genres": "Documentary,Music",
         "_deepnote_index_column": "2739243"
        },
        {
         "tconst": "tt0056905",
         "primaryTitle": "Les Carabiniers",
         "originalTitle": "Les carabiniers",
         "startYear": "1963",
         "runtimeMinutes": "75",
         "genres": "Comedy,Drama,War",
         "_deepnote_index_column": "55803"
        },
        {
         "tconst": "tt11273780",
         "primaryTitle": "The American Dream",
         "originalTitle": "Giac Mo My",
         "startYear": "2017",
         "runtimeMinutes": "103",
         "genres": "Drama,Romance",
         "_deepnote_index_column": "1677912"
        }
       ]
      },
      "text/plain": "             tconst                   primaryTitle  \\\n366703    tt0382586                 Beating a Drum   \n32269     tt0032865                       Passione   \n6189626   tt3259302                 The Bitter Sea   \n5871816   tt2498020             Under the Umbrella   \n66615     tt0068004                The Shadow Whip   \n1693507  tt11301882             Choosi Choodangane   \n315987    tt0330030                   Red Cherry 4   \n2739243  tt13218916  We Wanted to Change the World   \n55803     tt0056905                Les Carabiniers   \n1677912  tt11273780             The American Dream   \n\n                         originalTitle  startYear  runtimeMinutes  \\\n366703                Bukchineun yeoja       1987              86   \n32269                    Oltre l'amore       1940              96   \n6189626                          Kuhai       1934            <NA>   \n5871816                  Kasa no shita       2012             108   \n66615                Ying zi shen bian       1971              78   \n1693507            Choosi Choodangaane       2020             113   \n315987                 Balgan aengdu 4       1988              95   \n2739243  Mes gribejam izmainit pasauli       2020              66   \n55803                  Les carabiniers       1963              75   \n1677912                     Giac Mo My       2017             103   \n\n                       genres  \n366703               Thriller  \n32269                   Drama  \n6189626                 Drama  \n5871816  Drama,Family,Romance  \n66615            Action,Drama  \n1693507               Romance  \n315987                   <NA>  \n2739243     Documentary,Music  \n55803        Comedy,Drama,War  \n1677912         Drama,Romance  ",
      "text/html": "<div>\n<style scoped>\n    .dataframe tbody tr th:only-of-type {\n        vertical-align: middle;\n    }\n\n    .dataframe tbody tr th {\n        vertical-align: top;\n    }\n\n    .dataframe thead th {\n        text-align: right;\n    }\n</style>\n<table border=\"1\" class=\"dataframe\">\n  <thead>\n    <tr style=\"text-align: right;\">\n      <th></th>\n      <th>tconst</th>\n      <th>primaryTitle</th>\n      <th>originalTitle</th>\n      <th>startYear</th>\n      <th>runtimeMinutes</th>\n      <th>genres</th>\n    </tr>\n  </thead>\n  <tbody>\n    <tr>\n      <th>366703</th>\n      <td>tt0382586</td>\n      <td>Beating a Drum</td>\n      <td>Bukchineun yeoja</td>\n      <td>1987</td>\n      <td>86</td>\n      <td>Thriller</td>\n    </tr>\n    <tr>\n      <th>32269</th>\n      <td>tt0032865</td>\n      <td>Passione</td>\n      <td>Oltre l'amore</td>\n      <td>1940</td>\n      <td>96</td>\n      <td>Drama</td>\n    </tr>\n    <tr>\n      <th>6189626</th>\n      <td>tt3259302</td>\n      <td>The Bitter Sea</td>\n      <td>Kuhai</td>\n      <td>1934</td>\n      <td>&lt;NA&gt;</td>\n      <td>Drama</td>\n    </tr>\n    <tr>\n      <th>5871816</th>\n      <td>tt2498020</td>\n      <td>Under the Umbrella</td>\n      <td>Kasa no shita</td>\n      <td>2012</td>\n      <td>108</td>\n      <td>Drama,Family,Romance</td>\n    </tr>\n    <tr>\n      <th>66615</th>\n      <td>tt0068004</td>\n      <td>The Shadow Whip</td>\n      <td>Ying zi shen bian</td>\n      <td>1971</td>\n      <td>78</td>\n      <td>Action,Drama</td>\n    </tr>\n    <tr>\n      <th>1693507</th>\n      <td>tt11301882</td>\n      <td>Choosi Choodangane</td>\n      <td>Choosi Choodangaane</td>\n      <td>2020</td>\n      <td>113</td>\n      <td>Romance</td>\n    </tr>\n    <tr>\n      <th>315987</th>\n      <td>tt0330030</td>\n      <td>Red Cherry 4</td>\n      <td>Balgan aengdu 4</td>\n      <td>1988</td>\n      <td>95</td>\n      <td>&lt;NA&gt;</td>\n    </tr>\n    <tr>\n      <th>2739243</th>\n      <td>tt13218916</td>\n      <td>We Wanted to Change the World</td>\n      <td>Mes gribejam izmainit pasauli</td>\n      <td>2020</td>\n      <td>66</td>\n      <td>Documentary,Music</td>\n    </tr>\n    <tr>\n      <th>55803</th>\n      <td>tt0056905</td>\n      <td>Les Carabiniers</td>\n      <td>Les carabiniers</td>\n      <td>1963</td>\n      <td>75</td>\n      <td>Comedy,Drama,War</td>\n    </tr>\n    <tr>\n      <th>1677912</th>\n      <td>tt11273780</td>\n      <td>The American Dream</td>\n      <td>Giac Mo My</td>\n      <td>2017</td>\n      <td>103</td>\n      <td>Drama,Romance</td>\n    </tr>\n  </tbody>\n</table>\n</div>"
     },
     "metadata": {}
    }
   ],
   "execution_count": 7
  },
  {
   "cell_type": "markdown",
   "source": "## Sorting",
   "metadata": {
    "cell_id": "00004-348a43a5-c48f-46cd-b0c7-662bbe0b6f4b",
    "deepnote_cell_type": "markdown",
    "deepnote_cell_height": 70
   }
  },
  {
   "cell_type": "code",
   "source": "# Display 5 longest movies \nmovie_titles.sort_values(\"runtimeMinutes\", ascending=False).head()",
   "metadata": {
    "cell_id": "c5f0eb3fc68f4ce985ce5fbbfa7b2857",
    "tags": [],
    "deepnote_to_be_reexecuted": false,
    "source_hash": "b3cbb0df",
    "execution_start": 1662496390735,
    "execution_millis": 427,
    "deepnote_cell_type": "code",
    "deepnote_cell_height": 408
   },
   "outputs": [
    {
     "output_type": "execute_result",
     "execution_count": 8,
     "data": {
      "application/vnd.deepnote.dataframe.v3+json": {
       "column_count": 6,
       "row_count": 5,
       "columns": [
        {
         "name": "tconst",
         "dtype": "string",
         "stats": {
          "unique_count": 5,
          "nan_count": 0,
          "categories": [
           {
            "name": "tt8273150",
            "count": 1
           },
           {
            "name": "tt3854496",
            "count": 1
           },
           {
            "name": "3 others",
            "count": 3
           }
          ]
         }
        },
        {
         "name": "primaryTitle",
         "dtype": "string",
         "stats": {
          "unique_count": 5,
          "nan_count": 0,
          "categories": [
           {
            "name": "Logistics",
            "count": 1
           },
           {
            "name": "Ambiancé",
            "count": 1
           },
           {
            "name": "3 others",
            "count": 3
           }
          ]
         }
        },
        {
         "name": "originalTitle",
         "dtype": "string",
         "stats": {
          "unique_count": 5,
          "nan_count": 0,
          "categories": [
           {
            "name": "Logistics",
            "count": 1
           },
           {
            "name": "Ambiancé",
            "count": 1
           },
           {
            "name": "3 others",
            "count": 3
           }
          ]
         }
        },
        {
         "name": "startYear",
         "dtype": "Int64",
         "stats": {
          "unique_count": 4,
          "nan_count": 0,
          "categories": [
           {
            "name": "2019",
            "count": 2
           },
           {
            "name": "2012",
            "count": 1
           },
           {
            "name": "2 others",
            "count": 2
           }
          ]
         }
        },
        {
         "name": "runtimeMinutes",
         "dtype": "Int64",
         "stats": {
          "unique_count": 5,
          "nan_count": 0,
          "categories": [
           {
            "name": "51420",
            "count": 1
           },
           {
            "name": "43200",
            "count": 1
           },
           {
            "name": "3 others",
            "count": 3
           }
          ]
         }
        },
        {
         "name": "genres",
         "dtype": "string",
         "stats": {
          "unique_count": 2,
          "nan_count": 0,
          "categories": [
           {
            "name": "Documentary",
            "count": 4
           },
           {
            "name": "Drama",
            "count": 1
           }
          ]
         }
        },
        {
         "name": "_deepnote_index_column",
         "dtype": "int64"
        }
       ],
       "rows": [
        {
         "tconst": "tt8273150",
         "primaryTitle": "Logistics",
         "originalTitle": "Logistics",
         "startYear": "2012",
         "runtimeMinutes": "51420",
         "genres": "Documentary",
         "_deepnote_index_column": "8428894"
        },
        {
         "tconst": "tt3854496",
         "primaryTitle": "Ambiancé",
         "originalTitle": "Ambiancé",
         "startYear": "2020",
         "runtimeMinutes": "43200",
         "genres": "Documentary",
         "_deepnote_index_column": "6447115"
        },
        {
         "tconst": "tt12277054",
         "primaryTitle": "Carnets Filmés (Liste Complète)",
         "originalTitle": "Carnets Filmés (Liste Complète)",
         "startYear": "2019",
         "runtimeMinutes": "28643",
         "genres": "Documentary",
         "_deepnote_index_column": "2233947"
        },
        {
         "tconst": "tt2659636",
         "primaryTitle": "Modern Times Forever",
         "originalTitle": "Modern Times Forever",
         "startYear": "2011",
         "runtimeMinutes": "14400",
         "genres": "Documentary",
         "_deepnote_index_column": "5937444"
        },
        {
         "tconst": "tt10844900",
         "primaryTitle": "Qw",
         "originalTitle": "Qw",
         "startYear": "2019",
         "runtimeMinutes": "10062",
         "genres": "Drama",
         "_deepnote_index_column": "1438453"
        }
       ]
      },
      "text/plain": "             tconst                     primaryTitle  \\\n8428894   tt8273150                        Logistics   \n6447115   tt3854496                         Ambiancé   \n2233947  tt12277054  Carnets Filmés (Liste Complète)   \n5937444   tt2659636             Modern Times Forever   \n1438453  tt10844900                               Qw   \n\n                           originalTitle  startYear  runtimeMinutes  \\\n8428894                        Logistics       2012           51420   \n6447115                         Ambiancé       2020           43200   \n2233947  Carnets Filmés (Liste Complète)       2019           28643   \n5937444             Modern Times Forever       2011           14400   \n1438453                               Qw       2019           10062   \n\n              genres  \n8428894  Documentary  \n6447115  Documentary  \n2233947  Documentary  \n5937444  Documentary  \n1438453        Drama  ",
      "text/html": "<div>\n<style scoped>\n    .dataframe tbody tr th:only-of-type {\n        vertical-align: middle;\n    }\n\n    .dataframe tbody tr th {\n        vertical-align: top;\n    }\n\n    .dataframe thead th {\n        text-align: right;\n    }\n</style>\n<table border=\"1\" class=\"dataframe\">\n  <thead>\n    <tr style=\"text-align: right;\">\n      <th></th>\n      <th>tconst</th>\n      <th>primaryTitle</th>\n      <th>originalTitle</th>\n      <th>startYear</th>\n      <th>runtimeMinutes</th>\n      <th>genres</th>\n    </tr>\n  </thead>\n  <tbody>\n    <tr>\n      <th>8428894</th>\n      <td>tt8273150</td>\n      <td>Logistics</td>\n      <td>Logistics</td>\n      <td>2012</td>\n      <td>51420</td>\n      <td>Documentary</td>\n    </tr>\n    <tr>\n      <th>6447115</th>\n      <td>tt3854496</td>\n      <td>Ambiancé</td>\n      <td>Ambiancé</td>\n      <td>2020</td>\n      <td>43200</td>\n      <td>Documentary</td>\n    </tr>\n    <tr>\n      <th>2233947</th>\n      <td>tt12277054</td>\n      <td>Carnets Filmés (Liste Complète)</td>\n      <td>Carnets Filmés (Liste Complète)</td>\n      <td>2019</td>\n      <td>28643</td>\n      <td>Documentary</td>\n    </tr>\n    <tr>\n      <th>5937444</th>\n      <td>tt2659636</td>\n      <td>Modern Times Forever</td>\n      <td>Modern Times Forever</td>\n      <td>2011</td>\n      <td>14400</td>\n      <td>Documentary</td>\n    </tr>\n    <tr>\n      <th>1438453</th>\n      <td>tt10844900</td>\n      <td>Qw</td>\n      <td>Qw</td>\n      <td>2019</td>\n      <td>10062</td>\n      <td>Drama</td>\n    </tr>\n  </tbody>\n</table>\n</div>"
     },
     "metadata": {}
    }
   ],
   "execution_count": 8
  },
  {
   "cell_type": "code",
   "source": "# Alternative\nmovie_titles.nlargest(5, \"runtimeMinutes\")",
   "metadata": {
    "cell_id": "d273f31e831e4be6a8cb05e31c86dcbd",
    "tags": [],
    "deepnote_to_be_reexecuted": false,
    "source_hash": "d154c974",
    "execution_start": 1662496391165,
    "execution_millis": 207,
    "deepnote_cell_type": "code",
    "deepnote_cell_height": 408
   },
   "outputs": [
    {
     "output_type": "execute_result",
     "execution_count": 9,
     "data": {
      "application/vnd.deepnote.dataframe.v3+json": {
       "column_count": 6,
       "row_count": 5,
       "columns": [
        {
         "name": "tconst",
         "dtype": "string",
         "stats": {
          "unique_count": 5,
          "nan_count": 0,
          "categories": [
           {
            "name": "tt8273150",
            "count": 1
           },
           {
            "name": "tt3854496",
            "count": 1
           },
           {
            "name": "3 others",
            "count": 3
           }
          ]
         }
        },
        {
         "name": "primaryTitle",
         "dtype": "string",
         "stats": {
          "unique_count": 5,
          "nan_count": 0,
          "categories": [
           {
            "name": "Logistics",
            "count": 1
           },
           {
            "name": "Ambiancé",
            "count": 1
           },
           {
            "name": "3 others",
            "count": 3
           }
          ]
         }
        },
        {
         "name": "originalTitle",
         "dtype": "string",
         "stats": {
          "unique_count": 5,
          "nan_count": 0,
          "categories": [
           {
            "name": "Logistics",
            "count": 1
           },
           {
            "name": "Ambiancé",
            "count": 1
           },
           {
            "name": "3 others",
            "count": 3
           }
          ]
         }
        },
        {
         "name": "startYear",
         "dtype": "Int64",
         "stats": {
          "unique_count": 4,
          "nan_count": 0,
          "categories": [
           {
            "name": "2019",
            "count": 2
           },
           {
            "name": "2012",
            "count": 1
           },
           {
            "name": "2 others",
            "count": 2
           }
          ]
         }
        },
        {
         "name": "runtimeMinutes",
         "dtype": "Int64",
         "stats": {
          "unique_count": 5,
          "nan_count": 0,
          "categories": [
           {
            "name": "51420",
            "count": 1
           },
           {
            "name": "43200",
            "count": 1
           },
           {
            "name": "3 others",
            "count": 3
           }
          ]
         }
        },
        {
         "name": "genres",
         "dtype": "string",
         "stats": {
          "unique_count": 2,
          "nan_count": 0,
          "categories": [
           {
            "name": "Documentary",
            "count": 4
           },
           {
            "name": "Drama",
            "count": 1
           }
          ]
         }
        },
        {
         "name": "_deepnote_index_column",
         "dtype": "int64"
        }
       ],
       "rows": [
        {
         "tconst": "tt8273150",
         "primaryTitle": "Logistics",
         "originalTitle": "Logistics",
         "startYear": "2012",
         "runtimeMinutes": "51420",
         "genres": "Documentary",
         "_deepnote_index_column": "8428894"
        },
        {
         "tconst": "tt3854496",
         "primaryTitle": "Ambiancé",
         "originalTitle": "Ambiancé",
         "startYear": "2020",
         "runtimeMinutes": "43200",
         "genres": "Documentary",
         "_deepnote_index_column": "6447115"
        },
        {
         "tconst": "tt12277054",
         "primaryTitle": "Carnets Filmés (Liste Complète)",
         "originalTitle": "Carnets Filmés (Liste Complète)",
         "startYear": "2019",
         "runtimeMinutes": "28643",
         "genres": "Documentary",
         "_deepnote_index_column": "2233947"
        },
        {
         "tconst": "tt2659636",
         "primaryTitle": "Modern Times Forever",
         "originalTitle": "Modern Times Forever",
         "startYear": "2011",
         "runtimeMinutes": "14400",
         "genres": "Documentary",
         "_deepnote_index_column": "5937444"
        },
        {
         "tconst": "tt10844900",
         "primaryTitle": "Qw",
         "originalTitle": "Qw",
         "startYear": "2019",
         "runtimeMinutes": "10062",
         "genres": "Drama",
         "_deepnote_index_column": "1438453"
        }
       ]
      },
      "text/plain": "             tconst                     primaryTitle  \\\n8428894   tt8273150                        Logistics   \n6447115   tt3854496                         Ambiancé   \n2233947  tt12277054  Carnets Filmés (Liste Complète)   \n5937444   tt2659636             Modern Times Forever   \n1438453  tt10844900                               Qw   \n\n                           originalTitle  startYear  runtimeMinutes  \\\n8428894                        Logistics       2012           51420   \n6447115                         Ambiancé       2020           43200   \n2233947  Carnets Filmés (Liste Complète)       2019           28643   \n5937444             Modern Times Forever       2011           14400   \n1438453                               Qw       2019           10062   \n\n              genres  \n8428894  Documentary  \n6447115  Documentary  \n2233947  Documentary  \n5937444  Documentary  \n1438453        Drama  ",
      "text/html": "<div>\n<style scoped>\n    .dataframe tbody tr th:only-of-type {\n        vertical-align: middle;\n    }\n\n    .dataframe tbody tr th {\n        vertical-align: top;\n    }\n\n    .dataframe thead th {\n        text-align: right;\n    }\n</style>\n<table border=\"1\" class=\"dataframe\">\n  <thead>\n    <tr style=\"text-align: right;\">\n      <th></th>\n      <th>tconst</th>\n      <th>primaryTitle</th>\n      <th>originalTitle</th>\n      <th>startYear</th>\n      <th>runtimeMinutes</th>\n      <th>genres</th>\n    </tr>\n  </thead>\n  <tbody>\n    <tr>\n      <th>8428894</th>\n      <td>tt8273150</td>\n      <td>Logistics</td>\n      <td>Logistics</td>\n      <td>2012</td>\n      <td>51420</td>\n      <td>Documentary</td>\n    </tr>\n    <tr>\n      <th>6447115</th>\n      <td>tt3854496</td>\n      <td>Ambiancé</td>\n      <td>Ambiancé</td>\n      <td>2020</td>\n      <td>43200</td>\n      <td>Documentary</td>\n    </tr>\n    <tr>\n      <th>2233947</th>\n      <td>tt12277054</td>\n      <td>Carnets Filmés (Liste Complète)</td>\n      <td>Carnets Filmés (Liste Complète)</td>\n      <td>2019</td>\n      <td>28643</td>\n      <td>Documentary</td>\n    </tr>\n    <tr>\n      <th>5937444</th>\n      <td>tt2659636</td>\n      <td>Modern Times Forever</td>\n      <td>Modern Times Forever</td>\n      <td>2011</td>\n      <td>14400</td>\n      <td>Documentary</td>\n    </tr>\n    <tr>\n      <th>1438453</th>\n      <td>tt10844900</td>\n      <td>Qw</td>\n      <td>Qw</td>\n      <td>2019</td>\n      <td>10062</td>\n      <td>Drama</td>\n    </tr>\n  </tbody>\n</table>\n</div>"
     },
     "metadata": {}
    }
   ],
   "execution_count": 9
  },
  {
   "cell_type": "markdown",
   "source": "**Exercise 10_oldest:** Find the 10 oldest movies that are longer than 2 hours.",
   "metadata": {
    "cell_id": "f9cfe284c2f44a1e8c63749e3130cdd7",
    "tags": [],
    "deepnote_cell_type": "markdown",
    "deepnote_cell_height": 52.390625
   }
  },
  {
   "cell_type": "code",
   "source": "# run_solution(\"10_oldest\")\n# show_solution(\"10_oldest\")",
   "metadata": {
    "cell_id": "76f75f1a6d7640698a818fe09f52c53b",
    "tags": [],
    "deepnote_to_be_reexecuted": false,
    "source_hash": "db30991c",
    "execution_start": 1662496533536,
    "execution_millis": 0,
    "deepnote_cell_type": "code",
    "deepnote_cell_height": 94,
    "deepnote_output_heights": [
     46
    ]
   },
   "outputs": [],
   "execution_count": 18
  },
  {
   "cell_type": "markdown",
   "source": "**Exercise longest_title:** Show the row with the movie having the longest (primary) title.\n\nHint: `idxmax()` method on the Series returns the index of the item with the maximum value. You can't (at least should) not use the maximum value itself.",
   "metadata": {
    "cell_id": "91cfbe5f20a441b58235bbd270fa536e",
    "tags": [],
    "deepnote_cell_type": "markdown",
    "deepnote_cell_height": 111.1875
   }
  },
  {
   "cell_type": "code",
   "source": "# run_solution(\"longest_title\")\n# show_solution(\"longest_title\")",
   "metadata": {
    "cell_id": "f17a665e18864e06afbbf89bfe704ffb",
    "tags": [],
    "deepnote_to_be_reexecuted": false,
    "source_hash": "3d02eac0",
    "execution_start": 1662496564858,
    "execution_millis": 4,
    "deepnote_cell_type": "code",
    "deepnote_cell_height": 94
   },
   "outputs": [],
   "execution_count": 20
  },
  {
   "cell_type": "markdown",
   "source": "<a style='text-decoration:none;line-height:16px;display:flex;color:#5B5B62;padding:10px;justify-content:end;' href='https://deepnote.com?utm_source=created-in-deepnote-cell&projectId=234de414-c5f7-4e4d-a314-25100ac19112' target=\"_blank\">\n<img alt='Created in deepnote.com' style='display:inline;max-height:16px;margin:0px;margin-right:7.5px;' src='data:image/svg+xml;base64,PD94bWwgdmVyc2lvbj0iMS4wIiBlbmNvZGluZz0iVVRGLTgiPz4KPHN2ZyB3aWR0aD0iODBweCIgaGVpZ2h0PSI4MHB4IiB2aWV3Qm94PSIwIDAgODAgODAiIHZlcnNpb249IjEuMSIgeG1sbnM9Imh0dHA6Ly93d3cudzMub3JnLzIwMDAvc3ZnIiB4bWxuczp4bGluaz0iaHR0cDovL3d3dy53My5vcmcvMTk5OS94bGluayI+CiAgICA8IS0tIEdlbmVyYXRvcjogU2tldGNoIDU0LjEgKDc2NDkwKSAtIGh0dHBzOi8vc2tldGNoYXBwLmNvbSAtLT4KICAgIDx0aXRsZT5Hcm91cCAzPC90aXRsZT4KICAgIDxkZXNjPkNyZWF0ZWQgd2l0aCBTa2V0Y2guPC9kZXNjPgogICAgPGcgaWQ9IkxhbmRpbmciIHN0cm9rZT0ibm9uZSIgc3Ryb2tlLXdpZHRoPSIxIiBmaWxsPSJub25lIiBmaWxsLXJ1bGU9ImV2ZW5vZGQiPgogICAgICAgIDxnIGlkPSJBcnRib2FyZCIgdHJhbnNmb3JtPSJ0cmFuc2xhdGUoLTEyMzUuMDAwMDAwLCAtNzkuMDAwMDAwKSI+CiAgICAgICAgICAgIDxnIGlkPSJHcm91cC0zIiB0cmFuc2Zvcm09InRyYW5zbGF0ZSgxMjM1LjAwMDAwMCwgNzkuMDAwMDAwKSI+CiAgICAgICAgICAgICAgICA8cG9seWdvbiBpZD0iUGF0aC0yMCIgZmlsbD0iIzAyNjVCNCIgcG9pbnRzPSIyLjM3NjIzNzYyIDgwIDM4LjA0NzY2NjcgODAgNTcuODIxNzgyMiA3My44MDU3NTkyIDU3LjgyMTc4MjIgMzIuNzU5MjczOSAzOS4xNDAyMjc4IDMxLjY4MzE2ODMiPjwvcG9seWdvbj4KICAgICAgICAgICAgICAgIDxwYXRoIGQ9Ik0zNS4wMDc3MTgsODAgQzQyLjkwNjIwMDcsNzYuNDU0OTM1OCA0Ny41NjQ5MTY3LDcxLjU0MjI2NzEgNDguOTgzODY2LDY1LjI2MTk5MzkgQzUxLjExMjI4OTksNTUuODQxNTg0MiA0MS42NzcxNzk1LDQ5LjIxMjIyODQgMjUuNjIzOTg0Niw0OS4yMTIyMjg0IEMyNS40ODQ5Mjg5LDQ5LjEyNjg0NDggMjkuODI2MTI5Niw0My4yODM4MjQ4IDM4LjY0NzU4NjksMzEuNjgzMTY4MyBMNzIuODcxMjg3MSwzMi41NTQ0MjUgTDY1LjI4MDk3Myw2Ny42NzYzNDIxIEw1MS4xMTIyODk5LDc3LjM3NjE0NCBMMzUuMDA3NzE4LDgwIFoiIGlkPSJQYXRoLTIyIiBmaWxsPSIjMDAyODY4Ij48L3BhdGg+CiAgICAgICAgICAgICAgICA8cGF0aCBkPSJNMCwzNy43MzA0NDA1IEwyNy4xMTQ1MzcsMC4yNTcxMTE0MzYgQzYyLjM3MTUxMjMsLTEuOTkwNzE3MDEgODAsMTAuNTAwMzkyNyA4MCwzNy43MzA0NDA1IEM4MCw2NC45NjA0ODgyIDY0Ljc3NjUwMzgsNzkuMDUwMzQxNCAzNC4zMjk1MTEzLDgwIEM0Ny4wNTUzNDg5LDc3LjU2NzA4MDggNTMuNDE4MjY3Nyw3MC4zMTM2MTAzIDUzLjQxODI2NzcsNTguMjM5NTg4NSBDNTMuNDE4MjY3Nyw0MC4xMjg1NTU3IDM2LjMwMzk1NDQsMzcuNzMwNDQwNSAyNS4yMjc0MTcsMzcuNzMwNDQwNSBDMTcuODQzMDU4NiwzNy43MzA0NDA1IDkuNDMzOTE5NjYsMzcuNzMwNDQwNSAwLDM3LjczMDQ0MDUgWiIgaWQ9IlBhdGgtMTkiIGZpbGw9IiMzNzkzRUYiPjwvcGF0aD4KICAgICAgICAgICAgPC9nPgogICAgICAgIDwvZz4KICAgIDwvZz4KPC9zdmc+' > </img>\nCreated in <span style='font-weight:600;margin-left:4px;'>Deepnote</span></a>",
   "metadata": {
    "tags": [],
    "created_in_deepnote_cell": true,
    "deepnote_cell_type": "markdown"
   }
  }
 ],
 "nbformat": 4,
 "nbformat_minor": 2,
 "metadata": {
  "kernelspec": {
   "display_name": "Python 3.10.4 64-bit ('3.10.4')",
   "language": "python",
   "name": "python3"
  },
  "language_info": {
   "codemirror_mode": {
    "name": "ipython",
    "version": 3
   },
   "file_extension": ".py",
   "mimetype": "text/x-python",
   "name": "python",
   "nbconvert_exporter": "python",
   "pygments_lexer": "ipython3",
   "version": "3.10.4"
  },
  "orig_nbformat": 4,
  "vscode": {
   "interpreter": {
    "hash": "1d8d7ddfcd7032e6fe693830a5931c5fe3782bc170fc968c3186119a03312acb"
   }
  },
  "deepnote_notebook_id": "049ef011-2fc9-465e-bd3d-bb4658d66d08",
  "deepnote": {},
  "deepnote_execution_queue": []
 }
}