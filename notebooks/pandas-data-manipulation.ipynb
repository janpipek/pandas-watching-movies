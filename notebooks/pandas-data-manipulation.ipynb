{
 "cells": [
  {
   "cell_type": "markdown",
   "source": [
    "# Pandas data manipulation\n",
    "\n",
    "In the previous notebook, we learnt the basic data structures of pandas and how to look at them. In this notebook, we will manipulate them and"
   ],
   "metadata": {
    "cell_id": "59c80b67-4dd3-45ea-b85f-cf021e5fc1a0",
    "deepnote_cell_type": "markdown",
    "deepnote_cell_height": 82,
    "pycharm": {
     "name": "#%% md\n"
    }
   }
  },
  {
   "cell_type": "code",
   "source": [
    "import pandas as pd\n",
    "\n",
    "# Support the exercises\n",
    "from solutions import run_solution, show_solution"
   ],
   "metadata": {
    "cell_id": "fe061a1cf3434367a3cacd91e9fe6281",
    "tags": [],
    "deepnote_to_be_reexecuted": false,
    "source_hash": "20be138a",
    "execution_start": 1662632765845,
    "execution_millis": 4,
    "deepnote_cell_type": "code",
    "deepnote_cell_height": 130,
    "pycharm": {
     "name": "#%%\n"
    }
   },
   "execution_count": 7,
   "outputs": []
  },
  {
   "cell_type": "markdown",
   "source": [
    "We will enhance our previous analysis to all movies listed in IMDB."
   ],
   "metadata": {
    "cell_id": "a71c81124de64fa38f8f7b0de26fd240",
    "tags": [],
    "deepnote_cell_type": "markdown",
    "deepnote_cell_height": 52.390625,
    "pycharm": {
     "name": "#%% md\n"
    }
   }
  },
  {
   "cell_type": "code",
   "metadata": {
    "cell_id": "4851e010b04e4350b7d15612bb54e825",
    "tags": [],
    "deepnote_to_be_reexecuted": false,
    "source_hash": "4ee21951",
    "execution_start": 1662632766976,
    "execution_millis": 701,
    "deepnote_cell_type": "code",
    "deepnote_cell_height": 628,
    "pycharm": {
     "name": "#%%\n"
    }
   },
   "source": [
    "movie_titles = pd.read_parquet(\"../data/imdb_movie_titles.parquet\")\n",
    "movie_titles.sample(10)"
   ],
   "execution_count": 14,
   "outputs": [
    {
     "data": {
      "text/plain": "           tconst titleType                  primaryTitle  \\\n508479  tt2238032     movie                     Skiptrace   \n631316  tt5509142     movie                      IceCream   \n578845  tt3961160     movie      Las aventuras de Moriana   \n466900  tt1905047     movie                     The Icing   \n447817  tt1748227     movie                The Collection   \n159650  tt0263813     movie  Ommegang 1930. Eerste sortie   \n23037   tt0033669     movie              Golden Gate Girl   \n311563  tt1156337     movie                      Swagatam   \n556829  tt3416528     movie                        Frisco   \n722318  tt8747544     movie                The Other Side   \n\n                       originalTitle  year  runtimeMinutes  \\\n508479               Jue di tao wang  2016             107   \n631316                      IceCream  2016             122   \n578845      Las aventuras de Moriana  2015             101   \n466900                     The Icing  2016             120   \n447817                The Collection  2012              82   \n159650  Ommegang 1930. Eerste sortie  1930            <NA>   \n23037               Golden Gate Girl  1941             110   \n311563                      Swagatam  2008            <NA>   \n556829                        Frisco  <NA>            <NA>   \n722318                The Other Side  <NA>            <NA>   \n\n                         genres  \n508479  Action,Adventure,Comedy  \n631316            Drama,Romance  \n578845                   Comedy  \n466900    Action,Crime,Thriller  \n447817  Action,Adventure,Horror  \n159650              Documentary  \n23037                     Drama  \n311563                    Drama  \n556829                    Drama  \n722318                    Drama  ",
      "text/html": "<div>\n<style scoped>\n    .dataframe tbody tr th:only-of-type {\n        vertical-align: middle;\n    }\n\n    .dataframe tbody tr th {\n        vertical-align: top;\n    }\n\n    .dataframe thead th {\n        text-align: right;\n    }\n</style>\n<table border=\"1\" class=\"dataframe\">\n  <thead>\n    <tr style=\"text-align: right;\">\n      <th></th>\n      <th>tconst</th>\n      <th>titleType</th>\n      <th>primaryTitle</th>\n      <th>originalTitle</th>\n      <th>year</th>\n      <th>runtimeMinutes</th>\n      <th>genres</th>\n    </tr>\n  </thead>\n  <tbody>\n    <tr>\n      <th>508479</th>\n      <td>tt2238032</td>\n      <td>movie</td>\n      <td>Skiptrace</td>\n      <td>Jue di tao wang</td>\n      <td>2016</td>\n      <td>107</td>\n      <td>Action,Adventure,Comedy</td>\n    </tr>\n    <tr>\n      <th>631316</th>\n      <td>tt5509142</td>\n      <td>movie</td>\n      <td>IceCream</td>\n      <td>IceCream</td>\n      <td>2016</td>\n      <td>122</td>\n      <td>Drama,Romance</td>\n    </tr>\n    <tr>\n      <th>578845</th>\n      <td>tt3961160</td>\n      <td>movie</td>\n      <td>Las aventuras de Moriana</td>\n      <td>Las aventuras de Moriana</td>\n      <td>2015</td>\n      <td>101</td>\n      <td>Comedy</td>\n    </tr>\n    <tr>\n      <th>466900</th>\n      <td>tt1905047</td>\n      <td>movie</td>\n      <td>The Icing</td>\n      <td>The Icing</td>\n      <td>2016</td>\n      <td>120</td>\n      <td>Action,Crime,Thriller</td>\n    </tr>\n    <tr>\n      <th>447817</th>\n      <td>tt1748227</td>\n      <td>movie</td>\n      <td>The Collection</td>\n      <td>The Collection</td>\n      <td>2012</td>\n      <td>82</td>\n      <td>Action,Adventure,Horror</td>\n    </tr>\n    <tr>\n      <th>159650</th>\n      <td>tt0263813</td>\n      <td>movie</td>\n      <td>Ommegang 1930. Eerste sortie</td>\n      <td>Ommegang 1930. Eerste sortie</td>\n      <td>1930</td>\n      <td>&lt;NA&gt;</td>\n      <td>Documentary</td>\n    </tr>\n    <tr>\n      <th>23037</th>\n      <td>tt0033669</td>\n      <td>movie</td>\n      <td>Golden Gate Girl</td>\n      <td>Golden Gate Girl</td>\n      <td>1941</td>\n      <td>110</td>\n      <td>Drama</td>\n    </tr>\n    <tr>\n      <th>311563</th>\n      <td>tt1156337</td>\n      <td>movie</td>\n      <td>Swagatam</td>\n      <td>Swagatam</td>\n      <td>2008</td>\n      <td>&lt;NA&gt;</td>\n      <td>Drama</td>\n    </tr>\n    <tr>\n      <th>556829</th>\n      <td>tt3416528</td>\n      <td>movie</td>\n      <td>Frisco</td>\n      <td>Frisco</td>\n      <td>&lt;NA&gt;</td>\n      <td>&lt;NA&gt;</td>\n      <td>Drama</td>\n    </tr>\n    <tr>\n      <th>722318</th>\n      <td>tt8747544</td>\n      <td>movie</td>\n      <td>The Other Side</td>\n      <td>The Other Side</td>\n      <td>&lt;NA&gt;</td>\n      <td>&lt;NA&gt;</td>\n      <td>Drama</td>\n    </tr>\n  </tbody>\n</table>\n</div>"
     },
     "execution_count": 14,
     "metadata": {},
     "output_type": "execute_result"
    }
   ]
  },
  {
   "cell_type": "markdown",
   "source": [
    "And we will explore it a bit:"
   ],
   "metadata": {
    "cell_id": "310770c743cd4903a6413e291c28c72d",
    "tags": [],
    "deepnote_cell_type": "markdown",
    "deepnote_cell_height": 52.390625,
    "pycharm": {
     "name": "#%% md\n"
    }
   }
  },
  {
   "cell_type": "code",
   "execution_count": 17,
   "outputs": [
    {
     "data": {
      "text/plain": "tconst            string\ntitleType         string\nprimaryTitle      string\noriginalTitle     string\nyear               Int64\nruntimeMinutes     Int64\ngenres            string\ndtype: object"
     },
     "execution_count": 17,
     "metadata": {},
     "output_type": "execute_result"
    }
   ],
   "source": [
    "movie_titles.dtypes"
   ],
   "metadata": {
    "collapsed": false,
    "pycharm": {
     "name": "#%%\n"
    }
   }
  },
  {
   "cell_type": "markdown",
   "source": [
    "TODO TODO TODO"
   ],
   "metadata": {
    "collapsed": false,
    "pycharm": {
     "name": "#%% md\n"
    }
   }
  },
  {
   "cell_type": "code",
   "source": [
    "movie_titles[\"titleType\"].value_counts()"
   ],
   "metadata": {
    "cell_id": "c873dfdce9a24208aaf1df70868285cf",
    "tags": [],
    "deepnote_to_be_reexecuted": false,
    "source_hash": "5ca15314",
    "execution_start": 1662632991110,
    "execution_millis": 14,
    "deepnote_cell_type": "code",
    "deepnote_cell_height": 150.5625,
    "deepnote_output_heights": [
     58.5625
    ],
    "pycharm": {
     "name": "#%%\n"
    }
   },
   "outputs": [
    {
     "data": {
      "text/plain": "movie      611121\ntvMovie    137403\nName: titleType, dtype: Int64"
     },
     "execution_count": 18,
     "metadata": {},
     "output_type": "execute_result"
    }
   ],
   "execution_count": 18
  },
  {
   "cell_type": "markdown",
   "source": [
    "This looks like a good candidate to convert to categorical (using the [`astype`](https://pandas.pydata.org/docs/reference/api/pandas.DataFrame.astype.html) method):"
   ],
   "metadata": {
    "collapsed": false,
    "pycharm": {
     "name": "#%% md\n"
    }
   }
  },
  {
   "cell_type": "code",
   "execution_count": 23,
   "outputs": [
    {
     "data": {
      "text/plain": "0           movie\n1           movie\n2           movie\n3           movie\n4           movie\n           ...   \n748519      movie\n748520    tvMovie\n748521      movie\n748522      movie\n748523      movie\nName: titleType, Length: 748524, dtype: category\nCategories (2, string): [movie, tvMovie]"
     },
     "execution_count": 23,
     "metadata": {},
     "output_type": "execute_result"
    }
   ],
   "source": [
    "movie_titles[\"titleType\"].astype(\"category\")"
   ],
   "metadata": {
    "collapsed": false,
    "pycharm": {
     "name": "#%%\n"
    }
   }
  },
  {
   "cell_type": "markdown",
   "source": [
    "Perhaps we could the same with genres..."
   ],
   "metadata": {
    "collapsed": false,
    "pycharm": {
     "name": "#%% md\n"
    }
   }
  },
  {
   "cell_type": "code",
   "source": [
    "movie_titles[\"genres\"].value_counts()"
   ],
   "metadata": {
    "cell_id": "bca76bc5c92840728b3b4de711c2313b",
    "tags": [],
    "deepnote_to_be_reexecuted": false,
    "source_hash": "f9bd8ac3",
    "execution_start": 1662633053700,
    "execution_millis": 851,
    "deepnote_cell_type": "code",
    "deepnote_cell_height": 323.25,
    "deepnote_output_heights": [
     231.25
    ],
    "pycharm": {
     "name": "#%%\n"
    }
   },
   "outputs": [
    {
     "data": {
      "text/plain": "Drama                          138437\nDocumentary                    124846\nComedy                          60044\nHorror                          15891\nThriller                        15498\n                                ...  \nComedy,Romance,Short                1\nCrime,Music,Western                 1\nComedy,Sport,Western                1\nAction,Documentary,Thriller         1\nAction,Crime,Short                  1\nName: genres, Length: 1458, dtype: Int64"
     },
     "execution_count": 12,
     "metadata": {},
     "output_type": "execute_result"
    }
   ],
   "execution_count": 12
  },
  {
   "cell_type": "markdown",
   "source": [
    "The `tconst` column looks like a good candidate for index:"
   ],
   "metadata": {
    "collapsed": false,
    "pycharm": {
     "name": "#%% md\n"
    }
   }
  },
  {
   "cell_type": "code",
   "execution_count": 27,
   "outputs": [
    {
     "data": {
      "text/plain": "          titleType                                       primaryTitle  \\\ntconst                                                                   \ntt0000009     movie                                         Miss Jerry   \ntt0000502     movie                                           Bohemios   \ntt0000574     movie                        The Story of the Kelly Gang   \ntt0000591     movie                                   The Prodigal Son   \ntt0000615     movie                                 Robbery Under Arms   \n...             ...                                                ...   \ntt9916680     movie  De la ilusión al desconcierto: cine colombiano...   \ntt9916692   tvMovie                    Teatroteka: Czlowiek bez twarzy   \ntt9916706     movie                                    Dankyavar Danka   \ntt9916730     movie                                             6 Gunn   \ntt9916754     movie                     Chico Albuquerque - Revelações   \n\n                                               originalTitle  year  \\\ntconst                                                               \ntt0000009                                         Miss Jerry  1894   \ntt0000502                                           Bohemios  1905   \ntt0000574                        The Story of the Kelly Gang  1906   \ntt0000591                                  L'enfant prodigue  1907   \ntt0000615                                 Robbery Under Arms  1907   \n...                                                      ...   ...   \ntt9916680  De la ilusión al desconcierto: cine colombiano...  2007   \ntt9916692                    Teatroteka: Czlowiek bez twarzy  2015   \ntt9916706                                    Dankyavar Danka  2013   \ntt9916730                                             6 Gunn  2017   \ntt9916754                     Chico Albuquerque - Revelações  2013   \n\n           runtimeMinutes                      genres  \ntconst                                                 \ntt0000009              45                     Romance  \ntt0000502             100                        <NA>  \ntt0000574              70  Action,Adventure,Biography  \ntt0000591              90                       Drama  \ntt0000615            <NA>                       Drama  \n...                   ...                         ...  \ntt9916680             100                 Documentary  \ntt9916692              66                       Drama  \ntt9916706            <NA>                      Comedy  \ntt9916730             116                        <NA>  \ntt9916754              49                 Documentary  \n\n[748524 rows x 6 columns]",
      "text/html": "<div>\n<style scoped>\n    .dataframe tbody tr th:only-of-type {\n        vertical-align: middle;\n    }\n\n    .dataframe tbody tr th {\n        vertical-align: top;\n    }\n\n    .dataframe thead th {\n        text-align: right;\n    }\n</style>\n<table border=\"1\" class=\"dataframe\">\n  <thead>\n    <tr style=\"text-align: right;\">\n      <th></th>\n      <th>titleType</th>\n      <th>primaryTitle</th>\n      <th>originalTitle</th>\n      <th>year</th>\n      <th>runtimeMinutes</th>\n      <th>genres</th>\n    </tr>\n    <tr>\n      <th>tconst</th>\n      <th></th>\n      <th></th>\n      <th></th>\n      <th></th>\n      <th></th>\n      <th></th>\n    </tr>\n  </thead>\n  <tbody>\n    <tr>\n      <th>tt0000009</th>\n      <td>movie</td>\n      <td>Miss Jerry</td>\n      <td>Miss Jerry</td>\n      <td>1894</td>\n      <td>45</td>\n      <td>Romance</td>\n    </tr>\n    <tr>\n      <th>tt0000502</th>\n      <td>movie</td>\n      <td>Bohemios</td>\n      <td>Bohemios</td>\n      <td>1905</td>\n      <td>100</td>\n      <td>&lt;NA&gt;</td>\n    </tr>\n    <tr>\n      <th>tt0000574</th>\n      <td>movie</td>\n      <td>The Story of the Kelly Gang</td>\n      <td>The Story of the Kelly Gang</td>\n      <td>1906</td>\n      <td>70</td>\n      <td>Action,Adventure,Biography</td>\n    </tr>\n    <tr>\n      <th>tt0000591</th>\n      <td>movie</td>\n      <td>The Prodigal Son</td>\n      <td>L'enfant prodigue</td>\n      <td>1907</td>\n      <td>90</td>\n      <td>Drama</td>\n    </tr>\n    <tr>\n      <th>tt0000615</th>\n      <td>movie</td>\n      <td>Robbery Under Arms</td>\n      <td>Robbery Under Arms</td>\n      <td>1907</td>\n      <td>&lt;NA&gt;</td>\n      <td>Drama</td>\n    </tr>\n    <tr>\n      <th>...</th>\n      <td>...</td>\n      <td>...</td>\n      <td>...</td>\n      <td>...</td>\n      <td>...</td>\n      <td>...</td>\n    </tr>\n    <tr>\n      <th>tt9916680</th>\n      <td>movie</td>\n      <td>De la ilusión al desconcierto: cine colombiano...</td>\n      <td>De la ilusión al desconcierto: cine colombiano...</td>\n      <td>2007</td>\n      <td>100</td>\n      <td>Documentary</td>\n    </tr>\n    <tr>\n      <th>tt9916692</th>\n      <td>tvMovie</td>\n      <td>Teatroteka: Czlowiek bez twarzy</td>\n      <td>Teatroteka: Czlowiek bez twarzy</td>\n      <td>2015</td>\n      <td>66</td>\n      <td>Drama</td>\n    </tr>\n    <tr>\n      <th>tt9916706</th>\n      <td>movie</td>\n      <td>Dankyavar Danka</td>\n      <td>Dankyavar Danka</td>\n      <td>2013</td>\n      <td>&lt;NA&gt;</td>\n      <td>Comedy</td>\n    </tr>\n    <tr>\n      <th>tt9916730</th>\n      <td>movie</td>\n      <td>6 Gunn</td>\n      <td>6 Gunn</td>\n      <td>2017</td>\n      <td>116</td>\n      <td>&lt;NA&gt;</td>\n    </tr>\n    <tr>\n      <th>tt9916754</th>\n      <td>movie</td>\n      <td>Chico Albuquerque - Revelações</td>\n      <td>Chico Albuquerque - Revelações</td>\n      <td>2013</td>\n      <td>49</td>\n      <td>Documentary</td>\n    </tr>\n  </tbody>\n</table>\n<p>748524 rows × 6 columns</p>\n</div>"
     },
     "execution_count": 27,
     "metadata": {},
     "output_type": "execute_result"
    }
   ],
   "source": [
    "movie_titles.set_index(\"tconst\", verify_integrity=True)"
   ],
   "metadata": {
    "collapsed": false,
    "pycharm": {
     "name": "#%%\n"
    }
   }
  },
  {
   "cell_type": "markdown",
   "source": [
    "## Basic manipulation"
   ],
   "metadata": {
    "collapsed": false,
    "pycharm": {
     "name": "#%% md\n"
    }
   }
  },
  {
   "cell_type": "markdown",
   "source": [
    "### Destructive or non-destructive?\n",
    "\n",
    "Whenever you perform multiple operations that take you from one DataFrame (or Series) to another one, you can follow one of the distinct approaches (:\n",
    "\n",
    "- **non-destructive approach**: In each step, you take an original DataFrame and create a new one from it. You can either save the new data structure to a variable or directly perform a new operation on it (binding several such steps in one \"pipe-line\"). As we recommend this approach, you will see it used in the rest of the workshop frequently.\n",
    "\n",
    "- **destructive approach**: You have one object, you write directly to it and wherever a method accepts the `inplace` argument, you pass it a `True` value. This is not encourages, especially if your object lives in many cells / functions and it is not always clear in which of potentially many states it is in.\n",
    "\n",
    "Sometimes the latter approach is more efficient performance-wise (this depends on a concrete situation) but adds heavier cognitive burden on your and your readers' heads. Use it wisely and always limit the changes to one cell or one function."
   ],
   "metadata": {
    "collapsed": false,
    "pycharm": {
     "name": "#%% md\n"
    }
   }
  },
  {
   "cell_type": "markdown",
   "source": [
    "### Adding (or replacing) a column\n"
   ],
   "metadata": {
    "cell_id": "d41a5abe082545d4820276d524f917ec",
    "tags": [],
    "deepnote_cell_type": "markdown",
    "deepnote_cell_height": 100.390625,
    "pycharm": {
     "name": "#%% md\n"
    }
   }
  },
  {
   "cell_type": "code",
   "source": [
    "# Destructive way\n",
    "movie_copy = movie_titles.copy()  # We want to operate on a new object.\n",
    "movie_copy[\"titleTypeCat\"] = movie_titles[\"titleType\"].astype(\"category\")\n",
    "movie_copy"
   ],
   "metadata": {
    "cell_id": "9e2fdf41b22d4ca98426b0b15123295b",
    "tags": [],
    "deepnote_cell_type": "code",
    "deepnote_cell_height": 97,
    "pycharm": {
     "name": "#%%\n"
    }
   },
   "outputs": [
    {
     "data": {
      "text/plain": "           tconst titleType  \\\n0       tt0000009     movie   \n1       tt0000502     movie   \n2       tt0000574     movie   \n3       tt0000591     movie   \n4       tt0000615     movie   \n...           ...       ...   \n748519  tt9916680     movie   \n748520  tt9916692   tvMovie   \n748521  tt9916706     movie   \n748522  tt9916730     movie   \n748523  tt9916754     movie   \n\n                                             primaryTitle  \\\n0                                              Miss Jerry   \n1                                                Bohemios   \n2                             The Story of the Kelly Gang   \n3                                        The Prodigal Son   \n4                                      Robbery Under Arms   \n...                                                   ...   \n748519  De la ilusión al desconcierto: cine colombiano...   \n748520                    Teatroteka: Czlowiek bez twarzy   \n748521                                    Dankyavar Danka   \n748522                                             6 Gunn   \n748523                     Chico Albuquerque - Revelações   \n\n                                            originalTitle  year  \\\n0                                              Miss Jerry  1894   \n1                                                Bohemios  1905   \n2                             The Story of the Kelly Gang  1906   \n3                                       L'enfant prodigue  1907   \n4                                      Robbery Under Arms  1907   \n...                                                   ...   ...   \n748519  De la ilusión al desconcierto: cine colombiano...  2007   \n748520                    Teatroteka: Czlowiek bez twarzy  2015   \n748521                                    Dankyavar Danka  2013   \n748522                                             6 Gunn  2017   \n748523                     Chico Albuquerque - Revelações  2013   \n\n        runtimeMinutes                      genres titleTypeCat  \n0                   45                     Romance        movie  \n1                  100                        <NA>        movie  \n2                   70  Action,Adventure,Biography        movie  \n3                   90                       Drama        movie  \n4                 <NA>                       Drama        movie  \n...                ...                         ...          ...  \n748519             100                 Documentary        movie  \n748520              66                       Drama      tvMovie  \n748521            <NA>                      Comedy        movie  \n748522             116                        <NA>        movie  \n748523              49                 Documentary        movie  \n\n[748524 rows x 8 columns]",
      "text/html": "<div>\n<style scoped>\n    .dataframe tbody tr th:only-of-type {\n        vertical-align: middle;\n    }\n\n    .dataframe tbody tr th {\n        vertical-align: top;\n    }\n\n    .dataframe thead th {\n        text-align: right;\n    }\n</style>\n<table border=\"1\" class=\"dataframe\">\n  <thead>\n    <tr style=\"text-align: right;\">\n      <th></th>\n      <th>tconst</th>\n      <th>titleType</th>\n      <th>primaryTitle</th>\n      <th>originalTitle</th>\n      <th>year</th>\n      <th>runtimeMinutes</th>\n      <th>genres</th>\n      <th>titleTypeCat</th>\n    </tr>\n  </thead>\n  <tbody>\n    <tr>\n      <th>0</th>\n      <td>tt0000009</td>\n      <td>movie</td>\n      <td>Miss Jerry</td>\n      <td>Miss Jerry</td>\n      <td>1894</td>\n      <td>45</td>\n      <td>Romance</td>\n      <td>movie</td>\n    </tr>\n    <tr>\n      <th>1</th>\n      <td>tt0000502</td>\n      <td>movie</td>\n      <td>Bohemios</td>\n      <td>Bohemios</td>\n      <td>1905</td>\n      <td>100</td>\n      <td>&lt;NA&gt;</td>\n      <td>movie</td>\n    </tr>\n    <tr>\n      <th>2</th>\n      <td>tt0000574</td>\n      <td>movie</td>\n      <td>The Story of the Kelly Gang</td>\n      <td>The Story of the Kelly Gang</td>\n      <td>1906</td>\n      <td>70</td>\n      <td>Action,Adventure,Biography</td>\n      <td>movie</td>\n    </tr>\n    <tr>\n      <th>3</th>\n      <td>tt0000591</td>\n      <td>movie</td>\n      <td>The Prodigal Son</td>\n      <td>L'enfant prodigue</td>\n      <td>1907</td>\n      <td>90</td>\n      <td>Drama</td>\n      <td>movie</td>\n    </tr>\n    <tr>\n      <th>4</th>\n      <td>tt0000615</td>\n      <td>movie</td>\n      <td>Robbery Under Arms</td>\n      <td>Robbery Under Arms</td>\n      <td>1907</td>\n      <td>&lt;NA&gt;</td>\n      <td>Drama</td>\n      <td>movie</td>\n    </tr>\n    <tr>\n      <th>...</th>\n      <td>...</td>\n      <td>...</td>\n      <td>...</td>\n      <td>...</td>\n      <td>...</td>\n      <td>...</td>\n      <td>...</td>\n      <td>...</td>\n    </tr>\n    <tr>\n      <th>748519</th>\n      <td>tt9916680</td>\n      <td>movie</td>\n      <td>De la ilusión al desconcierto: cine colombiano...</td>\n      <td>De la ilusión al desconcierto: cine colombiano...</td>\n      <td>2007</td>\n      <td>100</td>\n      <td>Documentary</td>\n      <td>movie</td>\n    </tr>\n    <tr>\n      <th>748520</th>\n      <td>tt9916692</td>\n      <td>tvMovie</td>\n      <td>Teatroteka: Czlowiek bez twarzy</td>\n      <td>Teatroteka: Czlowiek bez twarzy</td>\n      <td>2015</td>\n      <td>66</td>\n      <td>Drama</td>\n      <td>tvMovie</td>\n    </tr>\n    <tr>\n      <th>748521</th>\n      <td>tt9916706</td>\n      <td>movie</td>\n      <td>Dankyavar Danka</td>\n      <td>Dankyavar Danka</td>\n      <td>2013</td>\n      <td>&lt;NA&gt;</td>\n      <td>Comedy</td>\n      <td>movie</td>\n    </tr>\n    <tr>\n      <th>748522</th>\n      <td>tt9916730</td>\n      <td>movie</td>\n      <td>6 Gunn</td>\n      <td>6 Gunn</td>\n      <td>2017</td>\n      <td>116</td>\n      <td>&lt;NA&gt;</td>\n      <td>movie</td>\n    </tr>\n    <tr>\n      <th>748523</th>\n      <td>tt9916754</td>\n      <td>movie</td>\n      <td>Chico Albuquerque - Revelações</td>\n      <td>Chico Albuquerque - Revelações</td>\n      <td>2013</td>\n      <td>49</td>\n      <td>Documentary</td>\n      <td>movie</td>\n    </tr>\n  </tbody>\n</table>\n<p>748524 rows × 8 columns</p>\n</div>"
     },
     "execution_count": 25,
     "metadata": {},
     "output_type": "execute_result"
    }
   ],
   "execution_count": 25
  },
  {
   "cell_type": "markdown",
   "source": [],
   "metadata": {
    "cell_id": "6faa9a3086ba4dfe83b113ef3a87aae2",
    "tags": [],
    "deepnote_cell_type": "markdown",
    "deepnote_cell_height": 46,
    "pycharm": {
     "name": "#%% md\n"
    }
   }
  },
  {
   "cell_type": "code",
   "source": [
    "# Non-destructive way\n",
    "movie_titles.iloc[:,:2].assign(\n",
    "    titleTypeCat=movie_titles[\"titleType\"].astype(\"category\"),\n",
    "    constant=42\n",
    ")"
   ],
   "metadata": {
    "cell_id": "0705f29166484f86a3591d811528e43b",
    "tags": [],
    "deepnote_to_be_reexecuted": false,
    "source_hash": "77331fc7",
    "execution_start": 1662632785029,
    "execution_millis": 79,
    "deepnote_cell_type": "code",
    "deepnote_cell_height": 342.4375,
    "deepnote_output_heights": [
     250.4375
    ],
    "pycharm": {
     "name": "#%%\n"
    }
   },
   "outputs": [
    {
     "data": {
      "text/plain": "           tconst titleType titleTypeCat  constant\n0       tt0000009     movie        movie        42\n1       tt0000502     movie        movie        42\n2       tt0000574     movie        movie        42\n3       tt0000591     movie        movie        42\n4       tt0000615     movie        movie        42\n...           ...       ...          ...       ...\n748519  tt9916680     movie        movie        42\n748520  tt9916692   tvMovie      tvMovie        42\n748521  tt9916706     movie        movie        42\n748522  tt9916730     movie        movie        42\n748523  tt9916754     movie        movie        42\n\n[748524 rows x 4 columns]",
      "text/html": "<div>\n<style scoped>\n    .dataframe tbody tr th:only-of-type {\n        vertical-align: middle;\n    }\n\n    .dataframe tbody tr th {\n        vertical-align: top;\n    }\n\n    .dataframe thead th {\n        text-align: right;\n    }\n</style>\n<table border=\"1\" class=\"dataframe\">\n  <thead>\n    <tr style=\"text-align: right;\">\n      <th></th>\n      <th>tconst</th>\n      <th>titleType</th>\n      <th>titleTypeCat</th>\n      <th>constant</th>\n    </tr>\n  </thead>\n  <tbody>\n    <tr>\n      <th>0</th>\n      <td>tt0000009</td>\n      <td>movie</td>\n      <td>movie</td>\n      <td>42</td>\n    </tr>\n    <tr>\n      <th>1</th>\n      <td>tt0000502</td>\n      <td>movie</td>\n      <td>movie</td>\n      <td>42</td>\n    </tr>\n    <tr>\n      <th>2</th>\n      <td>tt0000574</td>\n      <td>movie</td>\n      <td>movie</td>\n      <td>42</td>\n    </tr>\n    <tr>\n      <th>3</th>\n      <td>tt0000591</td>\n      <td>movie</td>\n      <td>movie</td>\n      <td>42</td>\n    </tr>\n    <tr>\n      <th>4</th>\n      <td>tt0000615</td>\n      <td>movie</td>\n      <td>movie</td>\n      <td>42</td>\n    </tr>\n    <tr>\n      <th>...</th>\n      <td>...</td>\n      <td>...</td>\n      <td>...</td>\n      <td>...</td>\n    </tr>\n    <tr>\n      <th>748519</th>\n      <td>tt9916680</td>\n      <td>movie</td>\n      <td>movie</td>\n      <td>42</td>\n    </tr>\n    <tr>\n      <th>748520</th>\n      <td>tt9916692</td>\n      <td>tvMovie</td>\n      <td>tvMovie</td>\n      <td>42</td>\n    </tr>\n    <tr>\n      <th>748521</th>\n      <td>tt9916706</td>\n      <td>movie</td>\n      <td>movie</td>\n      <td>42</td>\n    </tr>\n    <tr>\n      <th>748522</th>\n      <td>tt9916730</td>\n      <td>movie</td>\n      <td>movie</td>\n      <td>42</td>\n    </tr>\n    <tr>\n      <th>748523</th>\n      <td>tt9916754</td>\n      <td>movie</td>\n      <td>movie</td>\n      <td>42</td>\n    </tr>\n  </tbody>\n</table>\n<p>748524 rows × 4 columns</p>\n</div>"
     },
     "execution_count": 29,
     "metadata": {},
     "output_type": "execute_result"
    }
   ],
   "execution_count": 29
  },
  {
   "cell_type": "markdown",
   "source": [
    "The [assign](https://pandas.pydata.org/docs/reference/api/pandas.DataFrame.assign.html) method allows"
   ],
   "metadata": {
    "collapsed": false,
    "pycharm": {
     "name": "#%% md\n"
    }
   }
  },
  {
   "cell_type": "markdown",
   "source": [
    "### Adding a new row (and overwriting)\n",
    "\n",
    "There is no simple non-destructive way of adding a new row (apart from creating a copy and operating on it; or concating two existing DataFrames). Also there is no fundamental difference between adding and overwriting the rows - like with writing to a `dict`.\n"
   ],
   "metadata": {
    "cell_id": "864c468ffccd481eb3cdfba2bf6ef667",
    "tags": [],
    "deepnote_cell_type": "markdown",
    "deepnote_cell_height": 259.78125,
    "pycharm": {
     "name": "#%% md\n"
    }
   }
  },
  {
   "cell_type": "code",
   "execution_count": 40,
   "outputs": [
    {
     "data": {
      "text/plain": "           tconst   titleType                         primaryTitle  \\\n748520  tt9916692     tvMovie      Teatroteka: Czlowiek bez twarzy   \n748521  tt9916706       movie                      Dankyavar Danka   \n748522  tt9916730       movie                               6 Gunn   \n748523  tt9916754       movie       Chico Albuquerque - Revelações   \n999999       <NA>  phoneVideo  My Pink Fluffy Unicorn Holiday 2022   \n\n                          originalTitle  year  runtimeMinutes         genres  \n748520  Teatroteka: Czlowiek bez twarzy  2015              66          Drama  \n748521                  Dankyavar Danka  2013            <NA>         Comedy  \n748522                           6 Gunn  2017             116           <NA>  \n748523   Chico Albuquerque - Revelações  2013              49    Documentary  \n999999                             <NA>  2022               5  #insta:heart:  ",
      "text/html": "<div>\n<style scoped>\n    .dataframe tbody tr th:only-of-type {\n        vertical-align: middle;\n    }\n\n    .dataframe tbody tr th {\n        vertical-align: top;\n    }\n\n    .dataframe thead th {\n        text-align: right;\n    }\n</style>\n<table border=\"1\" class=\"dataframe\">\n  <thead>\n    <tr style=\"text-align: right;\">\n      <th></th>\n      <th>tconst</th>\n      <th>titleType</th>\n      <th>primaryTitle</th>\n      <th>originalTitle</th>\n      <th>year</th>\n      <th>runtimeMinutes</th>\n      <th>genres</th>\n    </tr>\n  </thead>\n  <tbody>\n    <tr>\n      <th>748520</th>\n      <td>tt9916692</td>\n      <td>tvMovie</td>\n      <td>Teatroteka: Czlowiek bez twarzy</td>\n      <td>Teatroteka: Czlowiek bez twarzy</td>\n      <td>2015</td>\n      <td>66</td>\n      <td>Drama</td>\n    </tr>\n    <tr>\n      <th>748521</th>\n      <td>tt9916706</td>\n      <td>movie</td>\n      <td>Dankyavar Danka</td>\n      <td>Dankyavar Danka</td>\n      <td>2013</td>\n      <td>&lt;NA&gt;</td>\n      <td>Comedy</td>\n    </tr>\n    <tr>\n      <th>748522</th>\n      <td>tt9916730</td>\n      <td>movie</td>\n      <td>6 Gunn</td>\n      <td>6 Gunn</td>\n      <td>2017</td>\n      <td>116</td>\n      <td>&lt;NA&gt;</td>\n    </tr>\n    <tr>\n      <th>748523</th>\n      <td>tt9916754</td>\n      <td>movie</td>\n      <td>Chico Albuquerque - Revelações</td>\n      <td>Chico Albuquerque - Revelações</td>\n      <td>2013</td>\n      <td>49</td>\n      <td>Documentary</td>\n    </tr>\n    <tr>\n      <th>999999</th>\n      <td>&lt;NA&gt;</td>\n      <td>phoneVideo</td>\n      <td>My Pink Fluffy Unicorn Holiday 2022</td>\n      <td>&lt;NA&gt;</td>\n      <td>2022</td>\n      <td>5</td>\n      <td>#insta:heart:</td>\n    </tr>\n  </tbody>\n</table>\n</div>"
     },
     "execution_count": 40,
     "metadata": {},
     "output_type": "execute_result"
    }
   ],
   "source": [
    "movies_copy = movie_titles.copy()\n",
    "movies_copy.loc[999999] = {\n",
    "    \"titleType\": \"phoneVideo\",\n",
    "    \"primaryTitle\": \"My Pink Fluffy Unicorn Holiday 2022\",\n",
    "    \"year\": 2022,\n",
    "    \"runtimeMinutes\": 5,\n",
    "    \"genres\": \"#insta:heart:\",\n",
    "}\n",
    "movies_copy.tail()"
   ],
   "metadata": {
    "collapsed": false,
    "pycharm": {
     "name": "#%%\n"
    }
   }
  },
  {
   "cell_type": "code",
   "execution_count": 54,
   "outputs": [
    {
     "data": {
      "text/plain": "           tconst   titleType  \\\n748519  tt9916680       movie   \n748520  tt9916692     tvMovie   \n748521  tt9916706       movie   \n748522  tt9916730       movie   \n748523       <NA>  phoneVideo   \n\n                                             primaryTitle  \\\n748519  De la ilusión al desconcierto: cine colombiano...   \n748520                    Teatroteka: Czlowiek bez twarzy   \n748521                                    Dankyavar Danka   \n748522                                             6 Gunn   \n748523                My Pink Fluffy Unicorn Holiday 2022   \n\n                                            originalTitle  year  \\\n748519  De la ilusión al desconcierto: cine colombiano...  2007   \n748520                    Teatroteka: Czlowiek bez twarzy  2015   \n748521                                    Dankyavar Danka  2013   \n748522                                             6 Gunn  2017   \n748523                                               <NA>  2022   \n\n        runtimeMinutes         genres  \n748519             100    Documentary  \n748520              66          Drama  \n748521            <NA>         Comedy  \n748522             116           <NA>  \n748523               5  #insta:heart:  ",
      "text/html": "<div>\n<style scoped>\n    .dataframe tbody tr th:only-of-type {\n        vertical-align: middle;\n    }\n\n    .dataframe tbody tr th {\n        vertical-align: top;\n    }\n\n    .dataframe thead th {\n        text-align: right;\n    }\n</style>\n<table border=\"1\" class=\"dataframe\">\n  <thead>\n    <tr style=\"text-align: right;\">\n      <th></th>\n      <th>tconst</th>\n      <th>titleType</th>\n      <th>primaryTitle</th>\n      <th>originalTitle</th>\n      <th>year</th>\n      <th>runtimeMinutes</th>\n      <th>genres</th>\n    </tr>\n  </thead>\n  <tbody>\n    <tr>\n      <th>748519</th>\n      <td>tt9916680</td>\n      <td>movie</td>\n      <td>De la ilusión al desconcierto: cine colombiano...</td>\n      <td>De la ilusión al desconcierto: cine colombiano...</td>\n      <td>2007</td>\n      <td>100</td>\n      <td>Documentary</td>\n    </tr>\n    <tr>\n      <th>748520</th>\n      <td>tt9916692</td>\n      <td>tvMovie</td>\n      <td>Teatroteka: Czlowiek bez twarzy</td>\n      <td>Teatroteka: Czlowiek bez twarzy</td>\n      <td>2015</td>\n      <td>66</td>\n      <td>Drama</td>\n    </tr>\n    <tr>\n      <th>748521</th>\n      <td>tt9916706</td>\n      <td>movie</td>\n      <td>Dankyavar Danka</td>\n      <td>Dankyavar Danka</td>\n      <td>2013</td>\n      <td>&lt;NA&gt;</td>\n      <td>Comedy</td>\n    </tr>\n    <tr>\n      <th>748522</th>\n      <td>tt9916730</td>\n      <td>movie</td>\n      <td>6 Gunn</td>\n      <td>6 Gunn</td>\n      <td>2017</td>\n      <td>116</td>\n      <td>&lt;NA&gt;</td>\n    </tr>\n    <tr>\n      <th>748523</th>\n      <td>&lt;NA&gt;</td>\n      <td>phoneVideo</td>\n      <td>My Pink Fluffy Unicorn Holiday 2022</td>\n      <td>&lt;NA&gt;</td>\n      <td>2022</td>\n      <td>5</td>\n      <td>#insta:heart:</td>\n    </tr>\n  </tbody>\n</table>\n</div>"
     },
     "execution_count": 54,
     "metadata": {},
     "output_type": "execute_result"
    }
   ],
   "source": [
    "movies_copy = movie_titles.copy()\n",
    "movies_copy.iloc[-1] = {\n",
    "    \"titleType\": \"phoneVideo\",\n",
    "    \"primaryTitle\": \"My Pink Fluffy Unicorn Holiday 2022\",\n",
    "    \"year\": 2022,\n",
    "    \"runtimeMinutes\": 5,\n",
    "    \"genres\": \"#insta:heart:\",\n",
    "}\n",
    "movies_copy.tail()"
   ],
   "metadata": {
    "collapsed": false,
    "pycharm": {
     "name": "#%%\n"
    }
   }
  },
  {
   "cell_type": "markdown",
   "source": [
    "Writing to one particular cell uses indexers in the same way as when reading it."
   ],
   "metadata": {
    "collapsed": false,
    "pycharm": {
     "name": "#%% md\n"
    }
   }
  },
  {
   "cell_type": "code",
   "execution_count": 63,
   "outputs": [
    {
     "data": {
      "text/plain": "           tconst titleType                                       primaryTitle\n748519  tt9916680     movie  De la ilusión al desconcierto: cine colombiano...\n748520  tt9916692   tvMovie                    Teatroteka: Czlowiek bez twarzy\n748521  tt9916706     movie                                    Dankyavar Danka\n748522  tt9916730     movie                                             6 Gunn\n748523  tt9916754     movie                                         CHANGED!!!",
      "text/html": "<div>\n<style scoped>\n    .dataframe tbody tr th:only-of-type {\n        vertical-align: middle;\n    }\n\n    .dataframe tbody tr th {\n        vertical-align: top;\n    }\n\n    .dataframe thead th {\n        text-align: right;\n    }\n</style>\n<table border=\"1\" class=\"dataframe\">\n  <thead>\n    <tr style=\"text-align: right;\">\n      <th></th>\n      <th>tconst</th>\n      <th>titleType</th>\n      <th>primaryTitle</th>\n    </tr>\n  </thead>\n  <tbody>\n    <tr>\n      <th>748519</th>\n      <td>tt9916680</td>\n      <td>movie</td>\n      <td>De la ilusión al desconcierto: cine colombiano...</td>\n    </tr>\n    <tr>\n      <th>748520</th>\n      <td>tt9916692</td>\n      <td>tvMovie</td>\n      <td>Teatroteka: Czlowiek bez twarzy</td>\n    </tr>\n    <tr>\n      <th>748521</th>\n      <td>tt9916706</td>\n      <td>movie</td>\n      <td>Dankyavar Danka</td>\n    </tr>\n    <tr>\n      <th>748522</th>\n      <td>tt9916730</td>\n      <td>movie</td>\n      <td>6 Gunn</td>\n    </tr>\n    <tr>\n      <th>748523</th>\n      <td>tt9916754</td>\n      <td>movie</td>\n      <td>CHANGED!!!</td>\n    </tr>\n  </tbody>\n</table>\n</div>"
     },
     "execution_count": 63,
     "metadata": {},
     "output_type": "execute_result"
    }
   ],
   "source": [
    "movies_copy = movie_titles.iloc[:,:3].copy()\n",
    "movies_copy.loc[748523, \"primaryTitle\"] = \"CHANGED!!!\"\n",
    "movies_copy.tail()"
   ],
   "metadata": {
    "collapsed": false,
    "pycharm": {
     "name": "#%%\n"
    }
   }
  },
  {
   "cell_type": "markdown",
   "source": [
    "Note that pandas doesn't object, if we want to write to non-existent column or when we use a string key instead of an integer one. It happily adds a new column and changes the index type!"
   ],
   "metadata": {
    "collapsed": false,
    "pycharm": {
     "name": "#%% md\n"
    }
   }
  },
  {
   "cell_type": "code",
   "execution_count": 62,
   "outputs": [
    {
     "data": {
      "text/plain": "           tconst titleType                     primaryTitle primarytitle\n748520  tt9916692   tvMovie  Teatroteka: Czlowiek bez twarzy          NaN\n748521  tt9916706     movie                  Dankyavar Danka          NaN\n748522  tt9916730     movie                           6 Gunn          NaN\n748523  tt9916754     movie   Chico Albuquerque - Revelações          NaN\n748523       <NA>      <NA>                             <NA>        6 Gun",
      "text/html": "<div>\n<style scoped>\n    .dataframe tbody tr th:only-of-type {\n        vertical-align: middle;\n    }\n\n    .dataframe tbody tr th {\n        vertical-align: top;\n    }\n\n    .dataframe thead th {\n        text-align: right;\n    }\n</style>\n<table border=\"1\" class=\"dataframe\">\n  <thead>\n    <tr style=\"text-align: right;\">\n      <th></th>\n      <th>tconst</th>\n      <th>titleType</th>\n      <th>primaryTitle</th>\n      <th>primarytitle</th>\n    </tr>\n  </thead>\n  <tbody>\n    <tr>\n      <th>748520</th>\n      <td>tt9916692</td>\n      <td>tvMovie</td>\n      <td>Teatroteka: Czlowiek bez twarzy</td>\n      <td>NaN</td>\n    </tr>\n    <tr>\n      <th>748521</th>\n      <td>tt9916706</td>\n      <td>movie</td>\n      <td>Dankyavar Danka</td>\n      <td>NaN</td>\n    </tr>\n    <tr>\n      <th>748522</th>\n      <td>tt9916730</td>\n      <td>movie</td>\n      <td>6 Gunn</td>\n      <td>NaN</td>\n    </tr>\n    <tr>\n      <th>748523</th>\n      <td>tt9916754</td>\n      <td>movie</td>\n      <td>Chico Albuquerque - Revelações</td>\n      <td>NaN</td>\n    </tr>\n    <tr>\n      <th>748523</th>\n      <td>&lt;NA&gt;</td>\n      <td>&lt;NA&gt;</td>\n      <td>&lt;NA&gt;</td>\n      <td>6 Gun</td>\n    </tr>\n  </tbody>\n</table>\n</div>"
     },
     "execution_count": 62,
     "metadata": {},
     "output_type": "execute_result"
    }
   ],
   "source": [
    "movies_copy = movie_titles.iloc[:,:3].copy()\n",
    "movies_copy.loc[\"748523\",\"primarytitle\"] = \"ADDED!!!\"\n",
    "movies_copy.tail()"
   ],
   "metadata": {
    "collapsed": false,
    "pycharm": {
     "name": "#%%\n"
    }
   }
  },
  {
   "cell_type": "markdown",
   "source": [
    "## Deleting columns and rows\n",
    "\n",
    "There are basically three ways how to do this (two destructive and one non-destructive way):\n",
    "\n",
    "- the non-destructive [drop](https://pandas.pydata.org/docs/reference/api/pandas.DataFrame.drop.html) method\n",
    "- the destructive variant of drop with `inplace=True`\n",
    "- the del statement (rarely used, not shown)\n",
    "\n",
    "Instead of removing, you can also explicitly select the rows/columns you want."
   ],
   "metadata": {
    "collapsed": false,
    "pycharm": {
     "name": "#%% md\n"
    }
   }
  },
  {
   "cell_type": "code",
   "execution_count": 67,
   "outputs": [
    {
     "data": {
      "text/plain": "                                             primaryTitle  \\\n0                                              Miss Jerry   \n1                                                Bohemios   \n2                             The Story of the Kelly Gang   \n3                                        The Prodigal Son   \n4                                      Robbery Under Arms   \n...                                                   ...   \n748519  De la ilusión al desconcierto: cine colombiano...   \n748520                    Teatroteka: Czlowiek bez twarzy   \n748521                                    Dankyavar Danka   \n748522                                             6 Gunn   \n748523                     Chico Albuquerque - Revelações   \n\n                                            originalTitle  year  \\\n0                                              Miss Jerry  1894   \n1                                                Bohemios  1905   \n2                             The Story of the Kelly Gang  1906   \n3                                       L'enfant prodigue  1907   \n4                                      Robbery Under Arms  1907   \n...                                                   ...   ...   \n748519  De la ilusión al desconcierto: cine colombiano...  2007   \n748520                    Teatroteka: Czlowiek bez twarzy  2015   \n748521                                    Dankyavar Danka  2013   \n748522                                             6 Gunn  2017   \n748523                     Chico Albuquerque - Revelações  2013   \n\n        runtimeMinutes                      genres  \n0                   45                     Romance  \n1                  100                        <NA>  \n2                   70  Action,Adventure,Biography  \n3                   90                       Drama  \n4                 <NA>                       Drama  \n...                ...                         ...  \n748519             100                 Documentary  \n748520              66                       Drama  \n748521            <NA>                      Comedy  \n748522             116                        <NA>  \n748523              49                 Documentary  \n\n[748524 rows x 5 columns]",
      "text/html": "<div>\n<style scoped>\n    .dataframe tbody tr th:only-of-type {\n        vertical-align: middle;\n    }\n\n    .dataframe tbody tr th {\n        vertical-align: top;\n    }\n\n    .dataframe thead th {\n        text-align: right;\n    }\n</style>\n<table border=\"1\" class=\"dataframe\">\n  <thead>\n    <tr style=\"text-align: right;\">\n      <th></th>\n      <th>primaryTitle</th>\n      <th>originalTitle</th>\n      <th>year</th>\n      <th>runtimeMinutes</th>\n      <th>genres</th>\n    </tr>\n  </thead>\n  <tbody>\n    <tr>\n      <th>0</th>\n      <td>Miss Jerry</td>\n      <td>Miss Jerry</td>\n      <td>1894</td>\n      <td>45</td>\n      <td>Romance</td>\n    </tr>\n    <tr>\n      <th>1</th>\n      <td>Bohemios</td>\n      <td>Bohemios</td>\n      <td>1905</td>\n      <td>100</td>\n      <td>&lt;NA&gt;</td>\n    </tr>\n    <tr>\n      <th>2</th>\n      <td>The Story of the Kelly Gang</td>\n      <td>The Story of the Kelly Gang</td>\n      <td>1906</td>\n      <td>70</td>\n      <td>Action,Adventure,Biography</td>\n    </tr>\n    <tr>\n      <th>3</th>\n      <td>The Prodigal Son</td>\n      <td>L'enfant prodigue</td>\n      <td>1907</td>\n      <td>90</td>\n      <td>Drama</td>\n    </tr>\n    <tr>\n      <th>4</th>\n      <td>Robbery Under Arms</td>\n      <td>Robbery Under Arms</td>\n      <td>1907</td>\n      <td>&lt;NA&gt;</td>\n      <td>Drama</td>\n    </tr>\n    <tr>\n      <th>...</th>\n      <td>...</td>\n      <td>...</td>\n      <td>...</td>\n      <td>...</td>\n      <td>...</td>\n    </tr>\n    <tr>\n      <th>748519</th>\n      <td>De la ilusión al desconcierto: cine colombiano...</td>\n      <td>De la ilusión al desconcierto: cine colombiano...</td>\n      <td>2007</td>\n      <td>100</td>\n      <td>Documentary</td>\n    </tr>\n    <tr>\n      <th>748520</th>\n      <td>Teatroteka: Czlowiek bez twarzy</td>\n      <td>Teatroteka: Czlowiek bez twarzy</td>\n      <td>2015</td>\n      <td>66</td>\n      <td>Drama</td>\n    </tr>\n    <tr>\n      <th>748521</th>\n      <td>Dankyavar Danka</td>\n      <td>Dankyavar Danka</td>\n      <td>2013</td>\n      <td>&lt;NA&gt;</td>\n      <td>Comedy</td>\n    </tr>\n    <tr>\n      <th>748522</th>\n      <td>6 Gunn</td>\n      <td>6 Gunn</td>\n      <td>2017</td>\n      <td>116</td>\n      <td>&lt;NA&gt;</td>\n    </tr>\n    <tr>\n      <th>748523</th>\n      <td>Chico Albuquerque - Revelações</td>\n      <td>Chico Albuquerque - Revelações</td>\n      <td>2013</td>\n      <td>49</td>\n      <td>Documentary</td>\n    </tr>\n  </tbody>\n</table>\n<p>748524 rows × 5 columns</p>\n</div>"
     },
     "execution_count": 67,
     "metadata": {},
     "output_type": "execute_result"
    }
   ],
   "source": [
    "# Non-destructive drop\n",
    "movie_titles.drop(columns=[\"tconst\", \"titleType\"])  # Returns a new object"
   ],
   "metadata": {
    "collapsed": false,
    "pycharm": {
     "name": "#%%\n"
    }
   }
  },
  {
   "cell_type": "code",
   "execution_count": 69,
   "outputs": [
    {
     "data": {
      "text/plain": "                                             primaryTitle  \\\n0                                              Miss Jerry   \n1                                                Bohemios   \n2                             The Story of the Kelly Gang   \n3                                        The Prodigal Son   \n4                                      Robbery Under Arms   \n...                                                   ...   \n748519  De la ilusión al desconcierto: cine colombiano...   \n748520                    Teatroteka: Czlowiek bez twarzy   \n748521                                    Dankyavar Danka   \n748522                                             6 Gunn   \n748523                     Chico Albuquerque - Revelações   \n\n                                            originalTitle  year  \\\n0                                              Miss Jerry  1894   \n1                                                Bohemios  1905   \n2                             The Story of the Kelly Gang  1906   \n3                                       L'enfant prodigue  1907   \n4                                      Robbery Under Arms  1907   \n...                                                   ...   ...   \n748519  De la ilusión al desconcierto: cine colombiano...  2007   \n748520                    Teatroteka: Czlowiek bez twarzy  2015   \n748521                                    Dankyavar Danka  2013   \n748522                                             6 Gunn  2017   \n748523                     Chico Albuquerque - Revelações  2013   \n\n        runtimeMinutes                      genres  \n0                   45                     Romance  \n1                  100                        <NA>  \n2                   70  Action,Adventure,Biography  \n3                   90                       Drama  \n4                 <NA>                       Drama  \n...                ...                         ...  \n748519             100                 Documentary  \n748520              66                       Drama  \n748521            <NA>                      Comedy  \n748522             116                        <NA>  \n748523              49                 Documentary  \n\n[748524 rows x 5 columns]",
      "text/html": "<div>\n<style scoped>\n    .dataframe tbody tr th:only-of-type {\n        vertical-align: middle;\n    }\n\n    .dataframe tbody tr th {\n        vertical-align: top;\n    }\n\n    .dataframe thead th {\n        text-align: right;\n    }\n</style>\n<table border=\"1\" class=\"dataframe\">\n  <thead>\n    <tr style=\"text-align: right;\">\n      <th></th>\n      <th>primaryTitle</th>\n      <th>originalTitle</th>\n      <th>year</th>\n      <th>runtimeMinutes</th>\n      <th>genres</th>\n    </tr>\n  </thead>\n  <tbody>\n    <tr>\n      <th>0</th>\n      <td>Miss Jerry</td>\n      <td>Miss Jerry</td>\n      <td>1894</td>\n      <td>45</td>\n      <td>Romance</td>\n    </tr>\n    <tr>\n      <th>1</th>\n      <td>Bohemios</td>\n      <td>Bohemios</td>\n      <td>1905</td>\n      <td>100</td>\n      <td>&lt;NA&gt;</td>\n    </tr>\n    <tr>\n      <th>2</th>\n      <td>The Story of the Kelly Gang</td>\n      <td>The Story of the Kelly Gang</td>\n      <td>1906</td>\n      <td>70</td>\n      <td>Action,Adventure,Biography</td>\n    </tr>\n    <tr>\n      <th>3</th>\n      <td>The Prodigal Son</td>\n      <td>L'enfant prodigue</td>\n      <td>1907</td>\n      <td>90</td>\n      <td>Drama</td>\n    </tr>\n    <tr>\n      <th>4</th>\n      <td>Robbery Under Arms</td>\n      <td>Robbery Under Arms</td>\n      <td>1907</td>\n      <td>&lt;NA&gt;</td>\n      <td>Drama</td>\n    </tr>\n    <tr>\n      <th>...</th>\n      <td>...</td>\n      <td>...</td>\n      <td>...</td>\n      <td>...</td>\n      <td>...</td>\n    </tr>\n    <tr>\n      <th>748519</th>\n      <td>De la ilusión al desconcierto: cine colombiano...</td>\n      <td>De la ilusión al desconcierto: cine colombiano...</td>\n      <td>2007</td>\n      <td>100</td>\n      <td>Documentary</td>\n    </tr>\n    <tr>\n      <th>748520</th>\n      <td>Teatroteka: Czlowiek bez twarzy</td>\n      <td>Teatroteka: Czlowiek bez twarzy</td>\n      <td>2015</td>\n      <td>66</td>\n      <td>Drama</td>\n    </tr>\n    <tr>\n      <th>748521</th>\n      <td>Dankyavar Danka</td>\n      <td>Dankyavar Danka</td>\n      <td>2013</td>\n      <td>&lt;NA&gt;</td>\n      <td>Comedy</td>\n    </tr>\n    <tr>\n      <th>748522</th>\n      <td>6 Gunn</td>\n      <td>6 Gunn</td>\n      <td>2017</td>\n      <td>116</td>\n      <td>&lt;NA&gt;</td>\n    </tr>\n    <tr>\n      <th>748523</th>\n      <td>Chico Albuquerque - Revelações</td>\n      <td>Chico Albuquerque - Revelações</td>\n      <td>2013</td>\n      <td>49</td>\n      <td>Documentary</td>\n    </tr>\n  </tbody>\n</table>\n<p>748524 rows × 5 columns</p>\n</div>"
     },
     "execution_count": 69,
     "metadata": {},
     "output_type": "execute_result"
    }
   ],
   "source": [
    "# Destructive drop\n",
    "movies_copy = movie_titles.copy()\n",
    "movies_copy.drop(columns=[\"tconst\", \"titleType\"], inplace=True)  # Returns None\n",
    "movies_copy"
   ],
   "metadata": {
    "collapsed": false,
    "pycharm": {
     "name": "#%%\n"
    }
   }
  },
  {
   "cell_type": "code",
   "execution_count": 74,
   "outputs": [
    {
     "data": {
      "text/plain": "           tconst titleType  \\\n700000  tt7798040     movie   \n700001  tt7798090     movie   \n700002  tt7798098     movie   \n700003  tt7798104     movie   \n700004  tt7798110   tvMovie   \n...           ...       ...   \n748519  tt9916680     movie   \n748520  tt9916692   tvMovie   \n748521  tt9916706     movie   \n748522  tt9916730     movie   \n748523  tt9916754     movie   \n\n                                             primaryTitle  \\\n700000                                        April Fools   \n700001                         Ju jue lian kao de xiao zi   \n700002                                   Persuasion Rooms   \n700003  Heavy Metal: A Mining Disaster in Northern Quebec   \n700004                                        Just Fix It   \n...                                                   ...   \n748519  De la ilusión al desconcierto: cine colombiano...   \n748520                    Teatroteka: Czlowiek bez twarzy   \n748521                                    Dankyavar Danka   \n748522                                             6 Gunn   \n748523                     Chico Albuquerque - Revelações   \n\n                                            originalTitle  year  \\\n700000                                    4-gatsu no baka  2017   \n700001                         Ju jue lian kao de xiao zi  1979   \n700002                                       Ikna Odalari  2013   \n700003  Heavy Metal: A Mining Disaster in Northern Quebec  2004   \n700004                                        Just Fix It  2019   \n...                                                   ...   ...   \n748519  De la ilusión al desconcierto: cine colombiano...  2007   \n748520                    Teatroteka: Czlowiek bez twarzy  2015   \n748521                                    Dankyavar Danka  2013   \n748522                                             6 Gunn  2017   \n748523                     Chico Albuquerque - Revelações  2013   \n\n        runtimeMinutes         genres  \n700000              91  Drama,Fantasy  \n700001            <NA>          Drama  \n700002              67    Documentary  \n700003              48    Documentary  \n700004              25         Comedy  \n...                ...            ...  \n748519             100    Documentary  \n748520              66          Drama  \n748521            <NA>         Comedy  \n748522             116           <NA>  \n748523              49    Documentary  \n\n[48524 rows x 7 columns]",
      "text/html": "<div>\n<style scoped>\n    .dataframe tbody tr th:only-of-type {\n        vertical-align: middle;\n    }\n\n    .dataframe tbody tr th {\n        vertical-align: top;\n    }\n\n    .dataframe thead th {\n        text-align: right;\n    }\n</style>\n<table border=\"1\" class=\"dataframe\">\n  <thead>\n    <tr style=\"text-align: right;\">\n      <th></th>\n      <th>tconst</th>\n      <th>titleType</th>\n      <th>primaryTitle</th>\n      <th>originalTitle</th>\n      <th>year</th>\n      <th>runtimeMinutes</th>\n      <th>genres</th>\n    </tr>\n  </thead>\n  <tbody>\n    <tr>\n      <th>700000</th>\n      <td>tt7798040</td>\n      <td>movie</td>\n      <td>April Fools</td>\n      <td>4-gatsu no baka</td>\n      <td>2017</td>\n      <td>91</td>\n      <td>Drama,Fantasy</td>\n    </tr>\n    <tr>\n      <th>700001</th>\n      <td>tt7798090</td>\n      <td>movie</td>\n      <td>Ju jue lian kao de xiao zi</td>\n      <td>Ju jue lian kao de xiao zi</td>\n      <td>1979</td>\n      <td>&lt;NA&gt;</td>\n      <td>Drama</td>\n    </tr>\n    <tr>\n      <th>700002</th>\n      <td>tt7798098</td>\n      <td>movie</td>\n      <td>Persuasion Rooms</td>\n      <td>Ikna Odalari</td>\n      <td>2013</td>\n      <td>67</td>\n      <td>Documentary</td>\n    </tr>\n    <tr>\n      <th>700003</th>\n      <td>tt7798104</td>\n      <td>movie</td>\n      <td>Heavy Metal: A Mining Disaster in Northern Quebec</td>\n      <td>Heavy Metal: A Mining Disaster in Northern Quebec</td>\n      <td>2004</td>\n      <td>48</td>\n      <td>Documentary</td>\n    </tr>\n    <tr>\n      <th>700004</th>\n      <td>tt7798110</td>\n      <td>tvMovie</td>\n      <td>Just Fix It</td>\n      <td>Just Fix It</td>\n      <td>2019</td>\n      <td>25</td>\n      <td>Comedy</td>\n    </tr>\n    <tr>\n      <th>...</th>\n      <td>...</td>\n      <td>...</td>\n      <td>...</td>\n      <td>...</td>\n      <td>...</td>\n      <td>...</td>\n      <td>...</td>\n    </tr>\n    <tr>\n      <th>748519</th>\n      <td>tt9916680</td>\n      <td>movie</td>\n      <td>De la ilusión al desconcierto: cine colombiano...</td>\n      <td>De la ilusión al desconcierto: cine colombiano...</td>\n      <td>2007</td>\n      <td>100</td>\n      <td>Documentary</td>\n    </tr>\n    <tr>\n      <th>748520</th>\n      <td>tt9916692</td>\n      <td>tvMovie</td>\n      <td>Teatroteka: Czlowiek bez twarzy</td>\n      <td>Teatroteka: Czlowiek bez twarzy</td>\n      <td>2015</td>\n      <td>66</td>\n      <td>Drama</td>\n    </tr>\n    <tr>\n      <th>748521</th>\n      <td>tt9916706</td>\n      <td>movie</td>\n      <td>Dankyavar Danka</td>\n      <td>Dankyavar Danka</td>\n      <td>2013</td>\n      <td>&lt;NA&gt;</td>\n      <td>Comedy</td>\n    </tr>\n    <tr>\n      <th>748522</th>\n      <td>tt9916730</td>\n      <td>movie</td>\n      <td>6 Gunn</td>\n      <td>6 Gunn</td>\n      <td>2017</td>\n      <td>116</td>\n      <td>&lt;NA&gt;</td>\n    </tr>\n    <tr>\n      <th>748523</th>\n      <td>tt9916754</td>\n      <td>movie</td>\n      <td>Chico Albuquerque - Revelações</td>\n      <td>Chico Albuquerque - Revelações</td>\n      <td>2013</td>\n      <td>49</td>\n      <td>Documentary</td>\n    </tr>\n  </tbody>\n</table>\n<p>48524 rows × 7 columns</p>\n</div>"
     },
     "execution_count": 74,
     "metadata": {},
     "output_type": "execute_result"
    }
   ],
   "source": [
    "# Non-destructive removal of the first 700000 rows\n",
    "movie_titles.drop(labels=range(0, 700000))"
   ],
   "metadata": {
    "collapsed": false,
    "pycharm": {
     "name": "#%%\n"
    }
   }
  },
  {
   "cell_type": "markdown",
   "source": [
    "## Arithmetics & string manipulation"
   ],
   "metadata": {
    "cell_id": "00002-61fd0831-e400-4c3e-bd8a-ac1d64bfabd9",
    "deepnote_cell_type": "markdown",
    "deepnote_cell_height": 70,
    "pycharm": {
     "name": "#%% md\n"
    }
   }
  },
  {
   "cell_type": "markdown",
   "source": [
    "Standard arithmetic operators work on numerical columms too. And so do mathematical functions. Note all such operations are performed in a vector-like fashion."
   ],
   "metadata": {
    "cell_id": "c9c14a8241d446b9a1fef93bac37643d",
    "tags": [],
    "deepnote_cell_type": "markdown",
    "deepnote_cell_height": 74.78125,
    "pycharm": {
     "name": "#%% md\n"
    }
   }
  },
  {
   "cell_type": "code",
   "metadata": {
    "cell_id": "1ac27443bcd2470bacf86115520281c2",
    "tags": [],
    "deepnote_to_be_reexecuted": false,
    "source_hash": "71c31970",
    "execution_start": 1662501109182,
    "execution_millis": 396,
    "deepnote_cell_type": "code",
    "deepnote_cell_height": 646,
    "pycharm": {
     "name": "#%%\n"
    }
   },
   "source": [
    "movie_titles.assign(\n",
    "    age=2022 - movie_titles[\"startYear\"]\n",
    ").sample(20)"
   ],
   "execution_count": null,
   "outputs": []
  },
  {
   "cell_type": "markdown",
   "source": [
    "**Exercise hour_length**: Calculate the length of movies in hours."
   ],
   "metadata": {
    "cell_id": "c17bf9ba2cff4ff2b6f0e1d25b17945b",
    "tags": [],
    "deepnote_cell_type": "markdown",
    "deepnote_cell_height": 52.390625,
    "pycharm": {
     "name": "#%% md\n"
    }
   }
  },
  {
   "cell_type": "code",
   "metadata": {
    "cell_id": "397a2220be0f423fbced624056fbee3f",
    "tags": [],
    "deepnote_to_be_reexecuted": false,
    "source_hash": "7d95eb02",
    "execution_start": 1662591791451,
    "execution_millis": 517,
    "deepnote_cell_type": "code",
    "deepnote_cell_height": 94,
    "pycharm": {
     "name": "#%%\n"
    }
   },
   "source": [
    "# run_solution(\"hour_length\")\n",
    "# show_solution(\"hour_length\")"
   ],
   "execution_count": null,
   "outputs": []
  },
  {
   "cell_type": "markdown",
   "source": [
    "### Basic string operations\n",
    "\n",
    "These are typically accessed using the `.str` \"accessor\" of the Series like this:\n",
    "    \n",
    "- series.str.lower\n",
    "- series.str.split\n",
    "- series.str.startswith\n",
    "- series.str.contains\n",
    "- ..."
   ],
   "metadata": {
    "cell_id": "5005ab7fb5cb4e2e8a6127145e276b38",
    "tags": [],
    "deepnote_cell_type": "markdown",
    "deepnote_cell_height": 252.34375,
    "pycharm": {
     "name": "#%% md\n"
    }
   }
  },
  {
   "cell_type": "markdown",
   "source": [
    "**Exercise pink:** Find all Pink Panther movies. Note that their title does not necessarily start with \"Pink\""
   ],
   "metadata": {
    "cell_id": "72bfaa67ccf94f23ad995b2dd041fcf4",
    "tags": [],
    "deepnote_cell_type": "markdown",
    "deepnote_cell_height": 52.390625,
    "pycharm": {
     "name": "#%% md\n"
    }
   }
  },
  {
   "cell_type": "code",
   "source": [
    "# is_pink = ...\n",
    "# movie_titles[is_pink]"
   ],
   "metadata": {
    "cell_id": "c52603e7c5aa43e398771912d58bc6d6",
    "tags": [],
    "deepnote_to_be_reexecuted": false,
    "source_hash": "93bc2b31",
    "execution_start": 1662591829319,
    "execution_millis": 1644,
    "deepnote_cell_type": "code",
    "deepnote_cell_height": 157.1875,
    "pycharm": {
     "name": "#%%\n"
    }
   },
   "execution_count": null,
   "outputs": []
  },
  {
   "cell_type": "code",
   "metadata": {
    "cell_id": "423212b64fe44c9691bd081e19944fe8",
    "tags": [],
    "deepnote_cell_type": "code",
    "deepnote_cell_height": 79,
    "pycharm": {
     "name": "#%%\n"
    }
   },
   "source": [
    "# run_solution(\"pink\")\n",
    "# show_solution(\"pink\")"
   ],
   "execution_count": null,
   "outputs": []
  },
  {
   "cell_type": "code",
   "metadata": {
    "cell_id": "c7f2259211444bdfbd5519ed15e05359",
    "tags": [],
    "deepnote_to_be_reexecuted": false,
    "source_hash": "da7e72d0",
    "execution_start": 1662505076764,
    "execution_millis": 1172,
    "deepnote_cell_type": "code",
    "deepnote_cell_height": 175.1875,
    "pycharm": {
     "name": "#%%\n"
    }
   },
   "source": [
    "# String arithmetics work too!\n",
    "url = \"https://www.imdb.com/title/\" + movie_titles[\"tconst\"]\n",
    "movie_titles[[\"primaryTitle\"]].assign(url=url).sample(10)"
   ],
   "execution_count": 41,
   "outputs": [
    {
     "data": {
      "text/plain": "                               primaryTitle  \\\n223920                             Gambling   \n699851      The Comedy Roast of Chris Gehrt   \n217782  Chroniques de la violence ordinaire   \n49054                         The Policeman   \n262017                                Green   \n665539                          Le Styliste   \n566321              No Easy Walk to Freedom   \n587567                Vier kriegen ein Kind   \n656414                                Obeah   \n465781                          Winterreise   \n\n                                          url  \n223920   https://www.imdb.com/title/tt0421059  \n699851   https://www.imdb.com/title/tt7790880  \n217782   https://www.imdb.com/title/tt0401864  \n49054    https://www.imdb.com/title/tt0066374  \n262017   https://www.imdb.com/title/tt0943964  \n665539   https://www.imdb.com/title/tt6520630  \n566321   https://www.imdb.com/title/tt3633242  \n587567   https://www.imdb.com/title/tt4217144  \n656414   https://www.imdb.com/title/tt6259816  \n465781  https://www.imdb.com/title/tt18926958  ",
      "text/html": "<div>\n<style scoped>\n    .dataframe tbody tr th:only-of-type {\n        vertical-align: middle;\n    }\n\n    .dataframe tbody tr th {\n        vertical-align: top;\n    }\n\n    .dataframe thead th {\n        text-align: right;\n    }\n</style>\n<table border=\"1\" class=\"dataframe\">\n  <thead>\n    <tr style=\"text-align: right;\">\n      <th></th>\n      <th>primaryTitle</th>\n      <th>url</th>\n    </tr>\n  </thead>\n  <tbody>\n    <tr>\n      <th>223920</th>\n      <td>Gambling</td>\n      <td>https://www.imdb.com/title/tt0421059</td>\n    </tr>\n    <tr>\n      <th>699851</th>\n      <td>The Comedy Roast of Chris Gehrt</td>\n      <td>https://www.imdb.com/title/tt7790880</td>\n    </tr>\n    <tr>\n      <th>217782</th>\n      <td>Chroniques de la violence ordinaire</td>\n      <td>https://www.imdb.com/title/tt0401864</td>\n    </tr>\n    <tr>\n      <th>49054</th>\n      <td>The Policeman</td>\n      <td>https://www.imdb.com/title/tt0066374</td>\n    </tr>\n    <tr>\n      <th>262017</th>\n      <td>Green</td>\n      <td>https://www.imdb.com/title/tt0943964</td>\n    </tr>\n    <tr>\n      <th>665539</th>\n      <td>Le Styliste</td>\n      <td>https://www.imdb.com/title/tt6520630</td>\n    </tr>\n    <tr>\n      <th>566321</th>\n      <td>No Easy Walk to Freedom</td>\n      <td>https://www.imdb.com/title/tt3633242</td>\n    </tr>\n    <tr>\n      <th>587567</th>\n      <td>Vier kriegen ein Kind</td>\n      <td>https://www.imdb.com/title/tt4217144</td>\n    </tr>\n    <tr>\n      <th>656414</th>\n      <td>Obeah</td>\n      <td>https://www.imdb.com/title/tt6259816</td>\n    </tr>\n    <tr>\n      <th>465781</th>\n      <td>Winterreise</td>\n      <td>https://www.imdb.com/title/tt18926958</td>\n    </tr>\n  </tbody>\n</table>\n</div>"
     },
     "execution_count": 41,
     "metadata": {},
     "output_type": "execute_result"
    }
   ]
  },
  {
   "cell_type": "markdown",
   "source": [
    "Let's investigate the genres a bit:"
   ],
   "metadata": {
    "cell_id": "0773c16b60c74d04bd792ff4b20cd9d1",
    "tags": [],
    "deepnote_cell_type": "markdown",
    "deepnote_cell_height": 52.390625,
    "pycharm": {
     "name": "#%% md\n"
    }
   }
  },
  {
   "cell_type": "code",
   "metadata": {
    "cell_id": "4c0a16d217cc4550aa02dd477250c173",
    "tags": [],
    "deepnote_to_be_reexecuted": false,
    "source_hash": "e55f542a",
    "execution_start": 1662504537656,
    "execution_millis": 1296,
    "deepnote_cell_type": "code",
    "deepnote_cell_height": 322.0625,
    "deepnote_output_heights": [
     212.0625
    ],
    "pycharm": {
     "name": "#%%\n"
    }
   },
   "source": [
    "split_genres = movie_titles.genres.str.split(\",\").dropna()\n",
    "split_genres.sample(10)"
   ],
   "execution_count": 42,
   "outputs": [
    {
     "data": {
      "text/plain": "346337                   [Documentary]\n656522                   [Documentary]\n691196                [Drama, Romance]\n129258                 [Comedy, Drama]\n450803       [Adventure, Crime, Drama]\n141588                         [Drama]\n315945                        [Comedy]\n498234                        [Action]\n431104    [Adventure, Family, Fantasy]\n355225                   [Documentary]\nName: genres, dtype: object"
     },
     "execution_count": 42,
     "metadata": {},
     "output_type": "execute_result"
    }
   ]
  },
  {
   "cell_type": "code",
   "execution_count": 49,
   "outputs": [
    {
     "data": {
      "text/plain": "            tconst titleType                               primaryTitle  \\\n500869   tt2171735   tvMovie                           Imaginary Friend   \n315829   tt1172198     movie                            Redemption Song   \n311770  tt11570180   tvMovie  Isabel Marant, naissance d'une collection   \n265157   tt0986232     movie                          Mr. Kuka's Advice   \n319760  tt11859772     movie                       Holding the Devil In   \n218091   tt0402594     movie                             XV en Zaachila   \n322123  tt11948410     movie            Forest City: A Documentary Film   \n155553   tt0256898     movie                The Garden Was Full of Moon   \n197523   tt0350088     movie                              Sana totoo na   \n161683   tt0267869     movie                      Rajendrudu Gajendrudu   \n\n                                    originalTitle  year  runtimeMinutes  \\\n500869                           Imaginary Friend  2012              86   \n315829                            Redemption Song  2008              90   \n311770  Isabel Marant, naissance d'une collection  2019              51   \n265157                           Lekcje pana Kuki  2008              93   \n319760                       Holding the Devil In  2020              55   \n218091                             XV en Zaachila  2003              52   \n322123            Forest City: A Documentary Film  2019            <NA>   \n155553                        Lunoy byl polon sad  2000             115   \n197523                              Sana totoo na  2002            <NA>   \n161683                      Rajendrudu Gajendrudu  1993             152   \n\n              genres     split_genres  genre_count  \n500869      Thriller       [Thriller]            1  \n315829   Documentary    [Documentary]            1  \n311770   Documentary    [Documentary]            1  \n265157        Comedy         [Comedy]            1  \n319760      Thriller       [Thriller]            1  \n218091   Documentary    [Documentary]            1  \n322123   Documentary    [Documentary]            1  \n155553       Romance        [Romance]            1  \n197523         Drama          [Drama]            1  \n161683  Comedy,Drama  [Comedy, Drama]            2  ",
      "text/html": "<div>\n<style scoped>\n    .dataframe tbody tr th:only-of-type {\n        vertical-align: middle;\n    }\n\n    .dataframe tbody tr th {\n        vertical-align: top;\n    }\n\n    .dataframe thead th {\n        text-align: right;\n    }\n</style>\n<table border=\"1\" class=\"dataframe\">\n  <thead>\n    <tr style=\"text-align: right;\">\n      <th></th>\n      <th>tconst</th>\n      <th>titleType</th>\n      <th>primaryTitle</th>\n      <th>originalTitle</th>\n      <th>year</th>\n      <th>runtimeMinutes</th>\n      <th>genres</th>\n      <th>split_genres</th>\n      <th>genre_count</th>\n    </tr>\n  </thead>\n  <tbody>\n    <tr>\n      <th>500869</th>\n      <td>tt2171735</td>\n      <td>tvMovie</td>\n      <td>Imaginary Friend</td>\n      <td>Imaginary Friend</td>\n      <td>2012</td>\n      <td>86</td>\n      <td>Thriller</td>\n      <td>[Thriller]</td>\n      <td>1</td>\n    </tr>\n    <tr>\n      <th>315829</th>\n      <td>tt1172198</td>\n      <td>movie</td>\n      <td>Redemption Song</td>\n      <td>Redemption Song</td>\n      <td>2008</td>\n      <td>90</td>\n      <td>Documentary</td>\n      <td>[Documentary]</td>\n      <td>1</td>\n    </tr>\n    <tr>\n      <th>311770</th>\n      <td>tt11570180</td>\n      <td>tvMovie</td>\n      <td>Isabel Marant, naissance d'une collection</td>\n      <td>Isabel Marant, naissance d'une collection</td>\n      <td>2019</td>\n      <td>51</td>\n      <td>Documentary</td>\n      <td>[Documentary]</td>\n      <td>1</td>\n    </tr>\n    <tr>\n      <th>265157</th>\n      <td>tt0986232</td>\n      <td>movie</td>\n      <td>Mr. Kuka's Advice</td>\n      <td>Lekcje pana Kuki</td>\n      <td>2008</td>\n      <td>93</td>\n      <td>Comedy</td>\n      <td>[Comedy]</td>\n      <td>1</td>\n    </tr>\n    <tr>\n      <th>319760</th>\n      <td>tt11859772</td>\n      <td>movie</td>\n      <td>Holding the Devil In</td>\n      <td>Holding the Devil In</td>\n      <td>2020</td>\n      <td>55</td>\n      <td>Thriller</td>\n      <td>[Thriller]</td>\n      <td>1</td>\n    </tr>\n    <tr>\n      <th>218091</th>\n      <td>tt0402594</td>\n      <td>movie</td>\n      <td>XV en Zaachila</td>\n      <td>XV en Zaachila</td>\n      <td>2003</td>\n      <td>52</td>\n      <td>Documentary</td>\n      <td>[Documentary]</td>\n      <td>1</td>\n    </tr>\n    <tr>\n      <th>322123</th>\n      <td>tt11948410</td>\n      <td>movie</td>\n      <td>Forest City: A Documentary Film</td>\n      <td>Forest City: A Documentary Film</td>\n      <td>2019</td>\n      <td>&lt;NA&gt;</td>\n      <td>Documentary</td>\n      <td>[Documentary]</td>\n      <td>1</td>\n    </tr>\n    <tr>\n      <th>155553</th>\n      <td>tt0256898</td>\n      <td>movie</td>\n      <td>The Garden Was Full of Moon</td>\n      <td>Lunoy byl polon sad</td>\n      <td>2000</td>\n      <td>115</td>\n      <td>Romance</td>\n      <td>[Romance]</td>\n      <td>1</td>\n    </tr>\n    <tr>\n      <th>197523</th>\n      <td>tt0350088</td>\n      <td>movie</td>\n      <td>Sana totoo na</td>\n      <td>Sana totoo na</td>\n      <td>2002</td>\n      <td>&lt;NA&gt;</td>\n      <td>Drama</td>\n      <td>[Drama]</td>\n      <td>1</td>\n    </tr>\n    <tr>\n      <th>161683</th>\n      <td>tt0267869</td>\n      <td>movie</td>\n      <td>Rajendrudu Gajendrudu</td>\n      <td>Rajendrudu Gajendrudu</td>\n      <td>1993</td>\n      <td>152</td>\n      <td>Comedy,Drama</td>\n      <td>[Comedy, Drama]</td>\n      <td>2</td>\n    </tr>\n  </tbody>\n</table>\n</div>"
     },
     "execution_count": 49,
     "metadata": {},
     "output_type": "execute_result"
    }
   ],
   "source": [
    "movie_titles.dropna(subset=\"genres\").assign(\n",
    "    split_genres = movie_titles.genres.str.split(\",\"),\n",
    "    genre_count = lambda df: df[\"split_genres\"].apply(lambda item: len(item))\n",
    ").sample(10)"
   ],
   "metadata": {
    "collapsed": false,
    "pycharm": {
     "name": "#%%\n"
    }
   }
  },
  {
   "cell_type": "markdown",
   "source": [
    "## Filtering and comparison"
   ],
   "metadata": {
    "cell_id": "00005-4556a1f4-b6a4-4776-86bd-e5a7aecd82d9",
    "deepnote_cell_type": "markdown",
    "deepnote_cell_height": 70,
    "pycharm": {
     "name": "#%% md\n"
    }
   }
  },
  {
   "cell_type": "markdown",
   "source": [
    "Indexing in pandas Series / DataFrames (`[]`) support also boolean (masked) arrays. These arrays can be obtained by applying boolean operations on data.\n",
    "\n",
    "You can also use standard **comparison operators** like `<`, `<=`, `==`, `>=`, `>`, `!=`. \n",
    "\n",
    "As an example, find all movies from this year:"
   ],
   "metadata": {
    "cell_id": "b1a031840e3a4f89b2e75e058779fff7",
    "tags": [],
    "deepnote_cell_type": "markdown",
    "deepnote_cell_height": 147.5625,
    "pycharm": {
     "name": "#%% md\n"
    }
   }
  },
  {
   "cell_type": "code",
   "metadata": {
    "cell_id": "cfe6112c25f94a28ab0eaf764b62d111",
    "tags": [],
    "deepnote_to_be_reexecuted": false,
    "source_hash": "c5890661",
    "execution_start": 1662496389740,
    "execution_millis": 86,
    "deepnote_cell_type": "code",
    "deepnote_cell_height": 322.0625,
    "deepnote_output_heights": [
     212.0625
    ],
    "pycharm": {
     "name": "#%%\n"
    }
   },
   "source": [
    "is_from_2022 = (movie_titles[\"startYear\"] == 2022)\n",
    "is_from_2022.sample(10)"
   ],
   "execution_count": null,
   "outputs": []
  },
  {
   "cell_type": "markdown",
   "source": [
    "Now we can directly apply the boolean mask. (Note: This is no magic. You can construct the mask yourself)"
   ],
   "metadata": {
    "cell_id": "506fbd6d6deb402c8bbe72137b8a5215",
    "tags": [],
    "deepnote_cell_type": "markdown",
    "deepnote_cell_height": 52.390625,
    "pycharm": {
     "name": "#%% md\n"
    }
   }
  },
  {
   "cell_type": "code",
   "metadata": {
    "cell_id": "b9e72880b6f84b43be2c535fb207c511",
    "tags": [],
    "deepnote_to_be_reexecuted": false,
    "source_hash": "4c4e7b2f",
    "execution_start": 1662496389798,
    "execution_millis": 171,
    "deepnote_cell_type": "code",
    "deepnote_cell_height": 595,
    "pycharm": {
     "name": "#%%\n"
    }
   },
   "source": [
    "movie_titles[is_from_2022]"
   ],
   "execution_count": null,
   "outputs": []
  },
  {
   "cell_type": "markdown",
   "source": [
    "It is possible to perform **logical operators** with boolean series too. But note that `and`, `or`, `not` are keywords. You should use `&`, `|` and `~` instead (as overloaded bit operators)."
   ],
   "metadata": {
    "cell_id": "96a447d6ac3f4a5cb2094c7af20a08dc",
    "tags": [],
    "deepnote_cell_type": "markdown",
    "deepnote_cell_height": 74.78125,
    "pycharm": {
     "name": "#%% md\n"
    }
   }
  },
  {
   "cell_type": "markdown",
   "source": [
    "So perhaps we want to list all comedies longer than 3 hours?"
   ],
   "metadata": {
    "cell_id": "a1446c88f5964d25be1bee1310bf664d",
    "tags": [],
    "deepnote_cell_type": "markdown",
    "deepnote_cell_height": 52.390625,
    "pycharm": {
     "name": "#%% md\n"
    }
   }
  },
  {
   "cell_type": "code",
   "metadata": {
    "cell_id": "2d48412bdea440f088fd4a401499fac1",
    "tags": [],
    "deepnote_to_be_reexecuted": false,
    "source_hash": "f76cb616",
    "execution_start": 1662496389975,
    "execution_millis": 400,
    "deepnote_table_state": {
     "pageSize": 10,
     "pageIndex": 18,
     "filters": [],
     "sortBy": []
    },
    "deepnote_table_loading": false,
    "deepnote_cell_type": "code",
    "deepnote_cell_height": 618,
    "pycharm": {
     "name": "#%%\n"
    }
   },
   "source": [
    "is_a_long_comedy = (movie_titles[\"runtimeMinutes\"] > 180) & (movie_titles[\"genres\"].str.contains(\"Comedy\"))\n",
    "movie_titles[is_a_long_comedy].sample(10)"
   ],
   "execution_count": null,
   "outputs": []
  },
  {
   "cell_type": "markdown",
   "source": [
    "We may wonder why we have two title-ish columns: originalTitle and primaryTitle."
   ],
   "metadata": {
    "cell_id": "527cd03066094ae4859eca9809987dd6",
    "tags": [],
    "deepnote_cell_type": "markdown",
    "deepnote_cell_height": 52.390625,
    "pycharm": {
     "name": "#%% md\n"
    }
   }
  },
  {
   "cell_type": "code",
   "metadata": {
    "cell_id": "2aa60b1aee4744deb808d20927457e02",
    "tags": [],
    "deepnote_to_be_reexecuted": false,
    "source_hash": "55cb08f4",
    "execution_start": 1662496390416,
    "execution_millis": 225,
    "deepnote_cell_type": "code",
    "deepnote_cell_height": 186.5625,
    "deepnote_output_heights": [
     58.5625
    ],
    "pycharm": {
     "name": "#%%\n"
    }
   },
   "source": [
    "different_title = (movie_titles[\"originalTitle\"] != movie_titles[\"primaryTitle\"])\n",
    "different_title.name = \"Different title\"   # Series can have names (Note: DataFrames can't)\n",
    "different_title.value_counts()"
   ],
   "execution_count": null,
   "outputs": []
  },
  {
   "cell_type": "code",
   "metadata": {
    "cell_id": "67ae9abb92764f65ab76ae3a8a1d7aa7",
    "tags": [],
    "deepnote_to_be_reexecuted": false,
    "source_hash": "2b13dd07",
    "execution_start": 1662496390647,
    "execution_millis": 86,
    "deepnote_cell_type": "code",
    "deepnote_cell_height": 595,
    "pycharm": {
     "name": "#%%\n"
    }
   },
   "source": [
    "movie_titles[different_title].sample(10)"
   ],
   "execution_count": null,
   "outputs": []
  },
  {
   "cell_type": "markdown",
   "source": [
    "## Sorting"
   ],
   "metadata": {
    "cell_id": "00004-348a43a5-c48f-46cd-b0c7-662bbe0b6f4b",
    "deepnote_cell_type": "markdown",
    "deepnote_cell_height": 70,
    "pycharm": {
     "name": "#%% md\n"
    }
   }
  },
  {
   "cell_type": "code",
   "metadata": {
    "cell_id": "c5f0eb3fc68f4ce985ce5fbbfa7b2857",
    "tags": [],
    "deepnote_to_be_reexecuted": false,
    "source_hash": "b3cbb0df",
    "execution_start": 1662496390735,
    "execution_millis": 427,
    "deepnote_cell_type": "code",
    "deepnote_cell_height": 408,
    "pycharm": {
     "name": "#%%\n"
    }
   },
   "source": [
    "# Display 5 longest movies \n",
    "movie_titles.sort_values(\"runtimeMinutes\", ascending=False).head()"
   ],
   "execution_count": null,
   "outputs": []
  },
  {
   "cell_type": "code",
   "metadata": {
    "cell_id": "d273f31e831e4be6a8cb05e31c86dcbd",
    "tags": [],
    "deepnote_to_be_reexecuted": false,
    "source_hash": "d154c974",
    "execution_start": 1662496391165,
    "execution_millis": 207,
    "deepnote_cell_type": "code",
    "deepnote_cell_height": 408,
    "pycharm": {
     "name": "#%%\n"
    }
   },
   "source": [
    "# Alternative\n",
    "movie_titles.nlargest(5, \"runtimeMinutes\")"
   ],
   "execution_count": null,
   "outputs": []
  },
  {
   "cell_type": "markdown",
   "source": [
    "**Exercise 10_oldest:** Find the 10 oldest movies that are longer than 2 hours."
   ],
   "metadata": {
    "cell_id": "f9cfe284c2f44a1e8c63749e3130cdd7",
    "tags": [],
    "deepnote_cell_type": "markdown",
    "deepnote_cell_height": 52.390625,
    "pycharm": {
     "name": "#%% md\n"
    }
   }
  },
  {
   "cell_type": "code",
   "metadata": {
    "cell_id": "76f75f1a6d7640698a818fe09f52c53b",
    "tags": [],
    "deepnote_to_be_reexecuted": false,
    "source_hash": "db30991c",
    "execution_start": 1662496533536,
    "execution_millis": 0,
    "deepnote_cell_type": "code",
    "deepnote_cell_height": 94,
    "pycharm": {
     "name": "#%%\n"
    }
   },
   "source": [
    "# run_solution(\"10_oldest\")\n",
    "# show_solution(\"10_oldest\")"
   ],
   "execution_count": null,
   "outputs": []
  },
  {
   "cell_type": "markdown",
   "source": [
    "**Exercise longest_title:** Show the row with the movie having the longest (primary) title.\n",
    "\n",
    "Hint: `idxmax()` method on the Series returns the index of the item with the maximum value. You can't (at least should) not use the maximum value itself."
   ],
   "metadata": {
    "cell_id": "91cfbe5f20a441b58235bbd270fa536e",
    "tags": [],
    "deepnote_cell_type": "markdown",
    "deepnote_cell_height": 111.171875,
    "pycharm": {
     "name": "#%% md\n"
    }
   }
  },
  {
   "cell_type": "code",
   "metadata": {
    "cell_id": "f17a665e18864e06afbbf89bfe704ffb",
    "tags": [],
    "deepnote_to_be_reexecuted": false,
    "source_hash": "3d02eac0",
    "execution_start": 1662496564858,
    "execution_millis": 4,
    "deepnote_cell_type": "code",
    "deepnote_cell_height": 94,
    "pycharm": {
     "name": "#%%\n"
    }
   },
   "source": [
    "# run_solution(\"longest_title\")\n",
    "# show_solution(\"longest_title\")"
   ],
   "execution_count": null,
   "outputs": []
  }
 ],
 "nbformat": 4,
 "nbformat_minor": 2,
 "metadata": {
  "kernelspec": {
   "display_name": "Python 3.10.4 64-bit ('3.10.4')",
   "language": "python",
   "name": "python3"
  },
  "language_info": {
   "codemirror_mode": {
    "name": "ipython",
    "version": 3
   },
   "file_extension": ".py",
   "mimetype": "text/x-python",
   "name": "python",
   "nbconvert_exporter": "python",
   "pygments_lexer": "ipython3",
   "version": "3.10.4"
  },
  "orig_nbformat": 4,
  "vscode": {
   "interpreter": {
    "hash": "1d8d7ddfcd7032e6fe693830a5931c5fe3782bc170fc968c3186119a03312acb"
   }
  },
  "deepnote_notebook_id": "049ef011-2fc9-465e-bd3d-bb4658d66d08",
  "deepnote": {},
  "deepnote_execution_queue": []
 }
}