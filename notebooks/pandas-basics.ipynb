{
 "cells": [
  {
   "cell_type": "markdown",
   "source": "# Pandas basics",
   "metadata": {
    "cell_id": "eac88a2d-0b11-46d1-b9c9-8cfb55c99200",
    "deepnote_cell_type": "markdown",
    "deepnote_cell_height": 82
   }
  },
  {
   "cell_type": "markdown",
   "source": "## What is pandas?\n\nTo cite the [project page](https://pandas.pydata.org/), it is:\n\n> a fast, powerful, flexible and easy to use open source data analysis and manipulation tool, built on top of the Python programming language.\n\nFor the wide data science community (its Python-speaking part), it is the de-facto tool for analysis and manipulation of data that:\n- are in tabular format, i.e. having columns (usually describing a certain property) and rows (usually representing individual objects having those properties)\n- are big/complex enough not to be easily handled by lists and dicts.\n- are small enough to fit within a computer memory multiple times (rarely more than a few hundred million rows)",
   "metadata": {
    "cell_id": "00001-99fb8d2e-4cdf-4e26-8134-8af8cf1a3a63",
    "deepnote_cell_type": "markdown",
    "deepnote_cell_height": 327.125
   }
  },
  {
   "cell_type": "markdown",
   "source": "Let's start by importing the library using its typical alias:",
   "metadata": {
    "formattedRanges": [],
    "is_collapsed": false,
    "cell_id": "2619aded94f748a2b3d14469a8372d87",
    "tags": [],
    "deepnote_cell_type": "text-cell-p"
   }
  },
  {
   "cell_type": "code",
   "metadata": {
    "cell_id": "00002-b5a9abd8-9660-461f-a15f-df2daf8b236f",
    "deepnote_to_be_reexecuted": false,
    "source_hash": "d5e55f2d",
    "execution_start": 1662326250157,
    "execution_millis": 42,
    "deepnote_cell_type": "code",
    "deepnote_cell_height": 76
   },
   "source": "import pandas as pd  # common alias",
   "execution_count": null,
   "outputs": []
  },
  {
   "cell_type": "markdown",
   "source": "## Reading data",
   "metadata": {
    "formattedRanges": [],
    "is_collapsed": false,
    "cell_id": "4633c35781a04bbbaa6a2679c3b86db0",
    "tags": [],
    "deepnote_cell_type": "text-cell-h2"
   }
  },
  {
   "cell_type": "markdown",
   "source": "We will start by reading existing data. For this, we have a simple table scraped from IMDB.com that shows the most favourite movies, as retrieved on a certain date in 2022. You can have a look in `data/top_movies.csv`:\n\n```csv\nrank,title,year,rating\n1,The Shawshank Redemption,1994,9.2\n2,The Godfather,1972,9.2\n3,The Dark Knight,2008,9.0\n4,The Godfather Part II,1974,9.0\n5,12 Angry Men,1957,8.9\n6,Schindler's List,1993,8.9\n7,The Lord of the Rings: The Return of the King,2003,8.9\n8,Pulp Fiction,1994,8.8\n9,The Lord of the Rings: The Fellowship of the Ring,2001,8.8\n10,\"The Good, the Bad and the Ugly\",1966,8.8\n```",
   "metadata": {
    "cell_id": "00003-43ad61f5-f756-4b0e-a8c5-e890f4f14db8",
    "deepnote_cell_type": "markdown",
    "deepnote_cell_height": 355.078125
   }
  },
  {
   "cell_type": "markdown",
   "source": "\nTo read external data sources, pandas provides many functions, all named `read_*` (e.g. read_csv, read_excel, ...), which support most relevant data formats (and even databases, clipboard, ...). One of the most common (though perhaps not most suitable) formats is **comma-separated values** (or **CSV**). This is also the case of our input file, so we will use `read_csv`:",
   "metadata": {
    "cell_id": "00004-c7ba0b83-fe5b-4a74-931c-afb0964566f7",
    "deepnote_cell_type": "markdown",
    "deepnote_cell_height": 97.171875
   }
  },
  {
   "cell_type": "code",
   "metadata": {
    "cell_id": "00005-54d2c228-ded5-4e2d-b1ee-d8c0f54857b5",
    "deepnote_to_be_reexecuted": false,
    "source_hash": "1c9a5b7",
    "execution_start": 1662327288495,
    "execution_millis": 1,
    "deepnote_cell_type": "code",
    "deepnote_cell_height": 76
   },
   "source": "data = pd.read_csv(\"../data/top_movies.csv\")",
   "execution_count": null,
   "outputs": []
  },
  {
   "cell_type": "markdown",
   "source": "If there was no error (it shouldn't), you should have receive some Python representation of the input data. Let's see.",
   "metadata": {
    "cell_id": "00006-fe2dbde3-829a-4fa7-9a1a-049bf10fc618",
    "deepnote_cell_type": "markdown",
    "deepnote_cell_height": 52.390625
   }
  },
  {
   "cell_type": "code",
   "metadata": {
    "cell_id": "00007-fb7aa1f2-a4ac-4371-9ee2-33e400c3b434",
    "deepnote_to_be_reexecuted": false,
    "source_hash": "e6928a8f",
    "execution_start": 1662327290989,
    "execution_millis": 23,
    "deepnote_cell_type": "code",
    "deepnote_cell_height": 595
   },
   "source": "data",
   "execution_count": null,
   "outputs": [
    {
     "output_type": "execute_result",
     "execution_count": 4,
     "data": {
      "application/vnd.deepnote.dataframe.v3+json": {
       "column_count": 4,
       "row_count": 250,
       "columns": [
        {
         "name": "rank",
         "dtype": "int64",
         "stats": {
          "unique_count": 250,
          "nan_count": 0,
          "min": "1",
          "max": "250",
          "histogram": [
           {
            "bin_start": 1,
            "bin_end": 25.9,
            "count": 25
           },
           {
            "bin_start": 25.9,
            "bin_end": 50.8,
            "count": 25
           },
           {
            "bin_start": 50.8,
            "bin_end": 75.69999999999999,
            "count": 25
           },
           {
            "bin_start": 75.69999999999999,
            "bin_end": 100.6,
            "count": 25
           },
           {
            "bin_start": 100.6,
            "bin_end": 125.5,
            "count": 25
           },
           {
            "bin_start": 125.5,
            "bin_end": 150.39999999999998,
            "count": 25
           },
           {
            "bin_start": 150.39999999999998,
            "bin_end": 175.29999999999998,
            "count": 25
           },
           {
            "bin_start": 175.29999999999998,
            "bin_end": 200.2,
            "count": 25
           },
           {
            "bin_start": 200.2,
            "bin_end": 225.1,
            "count": 25
           },
           {
            "bin_start": 225.1,
            "bin_end": 250,
            "count": 25
           }
          ]
         }
        },
        {
         "name": "title",
         "dtype": "object",
         "stats": {
          "unique_count": 250,
          "nan_count": 0,
          "categories": [
           {
            "name": "The Shawshank Redemption",
            "count": 1
           },
           {
            "name": "The Godfather",
            "count": 1
           },
           {
            "name": "248 others",
            "count": 248
           }
          ]
         }
        },
        {
         "name": "year",
         "dtype": "int64",
         "stats": {
          "unique_count": 86,
          "nan_count": 0,
          "min": "1921",
          "max": "2022",
          "histogram": [
           {
            "bin_start": 1921,
            "bin_end": 1931.1,
            "count": 8
           },
           {
            "bin_start": 1931.1,
            "bin_end": 1941.2,
            "count": 9
           },
           {
            "bin_start": 1941.2,
            "bin_end": 1951.3,
            "count": 11
           },
           {
            "bin_start": 1951.3,
            "bin_end": 1961.4,
            "count": 24
           },
           {
            "bin_start": 1961.4,
            "bin_end": 1971.5,
            "count": 15
           },
           {
            "bin_start": 1971.5,
            "bin_end": 1981.6,
            "count": 24
           },
           {
            "bin_start": 1981.6,
            "bin_end": 1991.7,
            "count": 24
           },
           {
            "bin_start": 1991.7,
            "bin_end": 2001.8,
            "count": 48
           },
           {
            "bin_start": 2001.8,
            "bin_end": 2011.9,
            "count": 48
           },
           {
            "bin_start": 2011.9,
            "bin_end": 2022,
            "count": 39
           }
          ]
         }
        },
        {
         "name": "rating",
         "dtype": "float64",
         "stats": {
          "unique_count": 12,
          "nan_count": 0,
          "min": "8.0",
          "max": "9.2",
          "histogram": [
           {
            "bin_start": 8,
            "bin_end": 8.12,
            "count": 106
           },
           {
            "bin_start": 8.12,
            "bin_end": 8.24,
            "count": 46
           },
           {
            "bin_start": 8.24,
            "bin_end": 8.36,
            "count": 33
           },
           {
            "bin_start": 8.36,
            "bin_end": 8.48,
            "count": 19
           },
           {
            "bin_start": 8.48,
            "bin_end": 8.6,
            "count": 18
           },
           {
            "bin_start": 8.6,
            "bin_end": 8.719999999999999,
            "count": 17
           },
           {
            "bin_start": 8.719999999999999,
            "bin_end": 8.84,
            "count": 4
           },
           {
            "bin_start": 8.84,
            "bin_end": 8.959999999999999,
            "count": 3
           },
           {
            "bin_start": 8.959999999999999,
            "bin_end": 9.08,
            "count": 2
           },
           {
            "bin_start": 9.08,
            "bin_end": 9.2,
            "count": 2
           }
          ]
         }
        },
        {
         "name": "_deepnote_index_column",
         "dtype": "int64"
        }
       ],
       "rows": [
        {
         "rank": "1",
         "title": "The Shawshank Redemption",
         "year": "1994",
         "rating": "9.2",
         "_deepnote_index_column": "0"
        },
        {
         "rank": "2",
         "title": "The Godfather",
         "year": "1972",
         "rating": "9.2",
         "_deepnote_index_column": "1"
        },
        {
         "rank": "3",
         "title": "The Dark Knight",
         "year": "2008",
         "rating": "9.0",
         "_deepnote_index_column": "2"
        },
        {
         "rank": "4",
         "title": "The Godfather Part II",
         "year": "1974",
         "rating": "9.0",
         "_deepnote_index_column": "3"
        },
        {
         "rank": "5",
         "title": "12 Angry Men",
         "year": "1957",
         "rating": "8.9",
         "_deepnote_index_column": "4"
        },
        {
         "rank": "6",
         "title": "Schindler's List",
         "year": "1993",
         "rating": "8.9",
         "_deepnote_index_column": "5"
        },
        {
         "rank": "7",
         "title": "The Lord of the Rings: The Return of the King",
         "year": "2003",
         "rating": "8.9",
         "_deepnote_index_column": "6"
        },
        {
         "rank": "8",
         "title": "Pulp Fiction",
         "year": "1994",
         "rating": "8.8",
         "_deepnote_index_column": "7"
        },
        {
         "rank": "9",
         "title": "The Lord of the Rings: The Fellowship of the Ring",
         "year": "2001",
         "rating": "8.8",
         "_deepnote_index_column": "8"
        },
        {
         "rank": "10",
         "title": "The Good, the Bad and the Ugly",
         "year": "1966",
         "rating": "8.8",
         "_deepnote_index_column": "9"
        }
       ]
      },
      "text/plain": "     rank                     title  year  rating\n0       1  The Shawshank Redemption  1994     9.2\n1       2             The Godfather  1972     9.2\n2       3           The Dark Knight  2008     9.0\n3       4     The Godfather Part II  1974     9.0\n4       5              12 Angry Men  1957     8.9\n..    ...                       ...   ...     ...\n245   246               Dersu Uzala  1975     8.0\n246   247                   Aladdin  1992     8.0\n247   248                    Gandhi  1982     8.0\n248   249                  The Help  2011     8.0\n249   250            The Iron Giant  1999     8.0\n\n[250 rows x 4 columns]",
      "text/html": "<div>\n<style scoped>\n    .dataframe tbody tr th:only-of-type {\n        vertical-align: middle;\n    }\n\n    .dataframe tbody tr th {\n        vertical-align: top;\n    }\n\n    .dataframe thead th {\n        text-align: right;\n    }\n</style>\n<table border=\"1\" class=\"dataframe\">\n  <thead>\n    <tr style=\"text-align: right;\">\n      <th></th>\n      <th>rank</th>\n      <th>title</th>\n      <th>year</th>\n      <th>rating</th>\n    </tr>\n  </thead>\n  <tbody>\n    <tr>\n      <th>0</th>\n      <td>1</td>\n      <td>The Shawshank Redemption</td>\n      <td>1994</td>\n      <td>9.2</td>\n    </tr>\n    <tr>\n      <th>1</th>\n      <td>2</td>\n      <td>The Godfather</td>\n      <td>1972</td>\n      <td>9.2</td>\n    </tr>\n    <tr>\n      <th>2</th>\n      <td>3</td>\n      <td>The Dark Knight</td>\n      <td>2008</td>\n      <td>9.0</td>\n    </tr>\n    <tr>\n      <th>3</th>\n      <td>4</td>\n      <td>The Godfather Part II</td>\n      <td>1974</td>\n      <td>9.0</td>\n    </tr>\n    <tr>\n      <th>4</th>\n      <td>5</td>\n      <td>12 Angry Men</td>\n      <td>1957</td>\n      <td>8.9</td>\n    </tr>\n    <tr>\n      <th>...</th>\n      <td>...</td>\n      <td>...</td>\n      <td>...</td>\n      <td>...</td>\n    </tr>\n    <tr>\n      <th>245</th>\n      <td>246</td>\n      <td>Dersu Uzala</td>\n      <td>1975</td>\n      <td>8.0</td>\n    </tr>\n    <tr>\n      <th>246</th>\n      <td>247</td>\n      <td>Aladdin</td>\n      <td>1992</td>\n      <td>8.0</td>\n    </tr>\n    <tr>\n      <th>247</th>\n      <td>248</td>\n      <td>Gandhi</td>\n      <td>1982</td>\n      <td>8.0</td>\n    </tr>\n    <tr>\n      <th>248</th>\n      <td>249</td>\n      <td>The Help</td>\n      <td>2011</td>\n      <td>8.0</td>\n    </tr>\n    <tr>\n      <th>249</th>\n      <td>250</td>\n      <td>The Iron Giant</td>\n      <td>1999</td>\n      <td>8.0</td>\n    </tr>\n  </tbody>\n</table>\n<p>250 rows × 4 columns</p>\n</div>"
     },
     "metadata": {}
    }
   ]
  },
  {
   "cell_type": "markdown",
   "source": "Nice, looks almost like a spreadsheet. The basic view (unless you are running this notebook in a more sophisticated environment) shows the first and last five rows and four columns (i.e. rank, title, year and rating).",
   "metadata": {
    "cell_id": "00008-589dca8f-7a13-412c-8ac9-1e8a2b975a89",
    "deepnote_cell_type": "markdown",
    "deepnote_cell_height": 74.78125
   }
  },
  {
   "cell_type": "markdown",
   "source": "## Pandas data structures\n\n(see https://pandas.pydata.org/docs/user_guide/dsintro.html)",
   "metadata": {
    "cell_id": "00009-751fe376-88ec-4154-966c-18a25b29e13f",
    "deepnote_cell_type": "markdown",
    "deepnote_cell_height": 108.390625
   }
  },
  {
   "cell_type": "code",
   "metadata": {
    "cell_id": "eb928d708a32419b9cfbaf0f532ad768",
    "tags": [],
    "deepnote_to_be_reexecuted": false,
    "source_hash": "9653dc5",
    "execution_start": 1662327558145,
    "execution_millis": 6,
    "deepnote_cell_type": "code",
    "deepnote_cell_height": 112.1875
   },
   "source": "type(data)",
   "execution_count": null,
   "outputs": [
    {
     "output_type": "execute_result",
     "execution_count": 7,
     "data": {
      "text/plain": "pandas.core.frame.DataFrame"
     },
     "metadata": {}
    }
   ]
  },
  {
   "cell_type": "code",
   "metadata": {
    "cell_id": "bcdfc1de10f4483195c1bfa583a4f8ec",
    "tags": [],
    "deepnote_to_be_reexecuted": false,
    "source_hash": "c8ee383e",
    "execution_start": 1662327632840,
    "execution_millis": 27,
    "deepnote_cell_type": "code",
    "deepnote_cell_height": 341.390625
   },
   "source": "titles = data[\"title\"]\ntitles",
   "execution_count": null,
   "outputs": [
    {
     "output_type": "execute_result",
     "execution_count": 12,
     "data": {
      "text/plain": "0      The Shawshank Redemption\n1                 The Godfather\n2               The Dark Knight\n3         The Godfather Part II\n4                  12 Angry Men\n                 ...           \n245                 Dersu Uzala\n246                     Aladdin\n247                      Gandhi\n248                    The Help\n249              The Iron Giant\nName: title, Length: 250, dtype: object"
     },
     "metadata": {}
    }
   ]
  },
  {
   "cell_type": "code",
   "metadata": {
    "cell_id": "28b4494d2ea34bc78afa08bbe6e7c383",
    "tags": [],
    "deepnote_to_be_reexecuted": false,
    "source_hash": "924144af",
    "execution_start": 1662327633618,
    "execution_millis": 4,
    "deepnote_cell_type": "code",
    "deepnote_cell_height": 112.1875
   },
   "source": "type(titles)",
   "execution_count": null,
   "outputs": [
    {
     "output_type": "execute_result",
     "execution_count": 13,
     "data": {
      "text/plain": "pandas.core.series.Series"
     },
     "metadata": {}
    }
   ]
  },
  {
   "cell_type": "markdown",
   "source": "### Series",
   "metadata": {
    "cell_id": "00011-d3bb446b-f81f-4c3a-b9c7-fac6610e5c76",
    "deepnote_cell_type": "markdown",
    "deepnote_cell_height": 62
   }
  },
  {
   "cell_type": "code",
   "metadata": {
    "cell_id": "ee052aba49504f64822d9d31415e78c3",
    "tags": [],
    "deepnote_to_be_reexecuted": false,
    "source_hash": "5dca8971",
    "execution_start": 1662327634871,
    "execution_millis": 6,
    "deepnote_cell_type": "code",
    "deepnote_cell_height": 112.1875
   },
   "source": "titles[0]",
   "execution_count": null,
   "outputs": [
    {
     "output_type": "execute_result",
     "execution_count": 14,
     "data": {
      "text/plain": "'The Shawshank Redemption'"
     },
     "metadata": {}
    }
   ]
  },
  {
   "cell_type": "code",
   "metadata": {
    "cell_id": "b9fe7b017b9f41bda4c45e98497b6a51",
    "tags": [],
    "deepnote_to_be_reexecuted": false,
    "source_hash": "9a4594c8",
    "execution_start": 1662327647562,
    "execution_millis": 4,
    "deepnote_cell_type": "code",
    "deepnote_cell_height": 208.1875
   },
   "source": "titles[-5:]",
   "execution_count": null,
   "outputs": [
    {
     "output_type": "execute_result",
     "execution_count": 15,
     "data": {
      "text/plain": "245       Dersu Uzala\n246           Aladdin\n247            Gandhi\n248          The Help\n249    The Iron Giant\nName: title, dtype: object"
     },
     "metadata": {}
    }
   ]
  },
  {
   "cell_type": "code",
   "metadata": {
    "cell_id": "ee9ee5efd2714a129f54391b5ac6cffb",
    "tags": [],
    "deepnote_to_be_reexecuted": false,
    "source_hash": "bc9207d",
    "execution_start": 1662327670902,
    "execution_millis": 15,
    "deepnote_cell_type": "code",
    "deepnote_cell_height": 720
   },
   "source": "titles.tolist()\nlist(titles)",
   "execution_count": null,
   "outputs": [
    {
     "output_type": "execute_result",
     "execution_count": 16,
     "data": {
      "text/plain": "['The Shawshank Redemption',\n 'The Godfather',\n 'The Dark Knight',\n 'The Godfather Part II',\n '12 Angry Men',\n \"Schindler's List\",\n 'The Lord of the Rings: The Return of the King',\n 'Pulp Fiction',\n 'The Lord of the Rings: The Fellowship of the Ring',\n 'The Good, the Bad and the Ugly',\n 'Forrest Gump',\n 'Fight Club',\n 'Inception',\n 'The Lord of the Rings: The Two Towers',\n 'Star Wars: Episode V - The Empire Strikes Back',\n 'The Matrix',\n 'Goodfellas',\n \"One Flew Over the Cuckoo's Nest\",\n 'Se7en',\n 'Seven Samurai',\n \"It's a Wonderful Life\",\n 'The Silence of the Lambs',\n 'City of God',\n 'Saving Private Ryan',\n 'Life Is Beautiful',\n 'The Green Mile',\n 'Interstellar',\n 'Star Wars',\n 'Terminator 2: Judgment Day',\n 'Back to the Future',\n 'Spirited Away',\n 'Psycho',\n 'The Pianist',\n 'Léon: The Professional',\n 'Parasite',\n 'The Lion King',\n 'Gladiator',\n 'American History X',\n 'The Departed',\n 'The Usual Suspects',\n 'The Prestige',\n 'Casablanca',\n 'Whiplash',\n 'The Intouchables',\n 'Grave of the Fireflies',\n 'Harakiri',\n 'Modern Times',\n 'Once Upon a Time in the West',\n 'Rear Window',\n 'Alien',\n 'City Lights',\n 'Cinema Paradiso',\n 'Apocalypse Now',\n 'Memento',\n 'Indiana Jones and the Raiders of the Lost Ark',\n 'Django Unchained',\n 'WALL·E',\n 'The Lives of Others',\n 'Sunset Blvd.',\n 'Paths of Glory',\n 'Top Gun: Maverick',\n 'The Shining',\n 'The Great Dictator',\n 'Witness for the Prosecution',\n 'Avengers: Infinity War',\n 'Aliens',\n 'American Beauty',\n 'Dr. Strangelove or: How I Learned to Stop Worrying and Love the Bomb',\n 'Spider-Man: Into the Spider-Verse',\n 'The Dark Knight Rises',\n 'Oldboy',\n 'Joker',\n 'Amadeus',\n 'Braveheart',\n 'Toy Story',\n 'Coco',\n 'Inglourious Basterds',\n 'The Boat',\n 'Princess Mononoke',\n 'Avengers: Endgame',\n 'Once Upon a Time in America',\n 'Good Will Hunting',\n 'Your Name.',\n 'Requiem for a Dream',\n 'Toy Story 3',\n \"Singin' in the Rain\",\n '3 Idiots',\n 'Star Wars: Episode VI - Return of the Jedi',\n 'High and Low',\n '2001: A Space Odyssey',\n 'Eternal Sunshine of the Spotless Mind',\n 'Reservoir Dogs',\n 'Capernaum',\n 'Lawrence of Arabia',\n 'Citizen Kane',\n 'The Hunt',\n 'M',\n 'North by Northwest',\n 'Come and See',\n 'Vertigo',\n 'Amélie',\n 'A Clockwork Orange',\n 'Double Indemnity',\n 'Full Metal Jacket',\n 'The Apartment',\n 'Scarface',\n 'Ikiru',\n 'The Sting',\n 'To Kill a Mockingbird',\n 'Taxi Driver',\n 'Heat',\n 'Up',\n 'L.A. Confidential',\n 'Incendies',\n 'Metropolis',\n 'A Separation',\n 'Die Hard',\n 'Hamilton',\n 'Snatch',\n 'Indiana Jones and the Last Crusade',\n 'Bicycle Thieves',\n '1917',\n 'Like Stars on Earth',\n 'Downfall',\n 'For a Few Dollars More',\n 'Batman Begins',\n 'Dangal',\n 'The Kid',\n 'Some Like It Hot',\n 'All About Eve',\n 'The Father',\n 'Green Book',\n 'The Wolf of Wall Street',\n 'Spider-Man: No Way Home',\n 'Judgment at Nuremberg',\n 'Ran',\n 'Casino',\n 'Unforgiven',\n \"Pan's Labyrinth\",\n 'There Will Be Blood',\n 'The Truman Show',\n 'The Sixth Sense',\n 'A Beautiful Mind',\n 'Monty Python and the Holy Grail',\n 'Yojimbo',\n 'The Treasure of the Sierra Madre',\n 'Shutter Island',\n 'Jurassic Park',\n 'The Great Escape',\n 'Rashomon',\n 'Kill Bill: Vol. 1',\n 'No Country for Old Men',\n 'Finding Nemo',\n 'The Elephant Man',\n 'Chinatown',\n 'Raging Bull',\n 'The Thing',\n 'Gone with the Wind',\n 'V for Vendetta',\n 'Inside Out',\n 'Lock, Stock and Two Smoking Barrels',\n 'Dial M for Murder',\n 'The Secret in Their Eyes',\n \"Howl's Moving Castle\",\n 'The Bridge on the River Kwai',\n 'Three Billboards Outside Ebbing, Missouri',\n 'Trainspotting',\n 'Warrior',\n 'Gran Torino',\n 'Fargo',\n 'Prisoners',\n 'My Neighbor Totoro',\n 'Million Dollar Baby',\n 'Catch Me If You Can',\n 'The Gold Rush',\n 'Blade Runner',\n 'On the Waterfront',\n 'Children of Heaven',\n 'The Third Man',\n 'Before Sunrise',\n 'Ben-Hur',\n '12 Years a Slave',\n 'Wild Strawberries',\n 'Harry Potter and the Deathly Hallows: Part 2',\n 'Gone Girl',\n 'The General',\n 'Everything Everywhere All at Once',\n 'The Deer Hunter',\n 'In the Name of the Father',\n 'The Grand Budapest Hotel',\n 'Barry Lyndon',\n 'Mr. Smith Goes to Washington',\n 'The Wages of Fear',\n 'Sherlock Jr.',\n 'Hacksaw Ridge',\n 'Memories of Murder',\n 'Klaus',\n 'Wild Tales',\n 'The Seventh Seal',\n 'Room',\n 'Mad Max: Fury Road',\n 'How to Train Your Dragon',\n 'The Big Lebowski',\n 'Mary and Max',\n 'Monsters, Inc.',\n 'Jaws',\n 'Tokyo Story',\n 'Dead Poets Society',\n 'The Passion of Joan of Arc',\n 'Hotel Rwanda',\n 'Rocky',\n 'Ford v Ferrari',\n 'Platoon',\n 'Pather Panchali',\n 'Stand by Me',\n 'The Terminator',\n 'Spotlight',\n 'Rush',\n 'Logan',\n 'Network',\n 'Ratatouille',\n 'Into the Wild',\n 'The Wizard of Oz',\n 'Groundhog Day',\n 'Before Sunset',\n 'The Exorcist',\n 'The Best Years of Our Lives',\n 'The Incredibles',\n 'To Be or Not to Be',\n 'The Battle of Algiers',\n 'The Grapes of Wrath',\n 'Rebecca',\n \"Hachi: A Dog's Tale\",\n 'Cool Hand Luke',\n 'Amores perros',\n 'Pirates of the Caribbean: The Curse of the Black Pearl',\n 'La Haine',\n 'My Father and My Son',\n 'The 400 Blows',\n 'Jai Bhim',\n 'It Happened One Night',\n 'Persona',\n 'The Sound of Music',\n 'Life of Brian',\n 'The Handmaiden',\n 'Dersu Uzala',\n 'Aladdin',\n 'Gandhi',\n 'The Help',\n 'The Iron Giant']"
     },
     "metadata": {}
    }
   ]
  },
  {
   "cell_type": "code",
   "metadata": {
    "cell_id": "4ffae5e600ea405bbae913354dfd1415",
    "tags": [],
    "deepnote_to_be_reexecuted": false,
    "source_hash": "62ec1ef5",
    "execution_start": 1662327799035,
    "execution_millis": 369,
    "deepnote_cell_type": "code",
    "deepnote_cell_height": 265.796875
   },
   "source": "titles[:20].values",
   "execution_count": null,
   "outputs": [
    {
     "output_type": "execute_result",
     "execution_count": 23,
     "data": {
      "text/plain": "array(['The Shawshank Redemption', 'The Godfather', 'The Dark Knight',\n       'The Godfather Part II', '12 Angry Men', \"Schindler's List\",\n       'The Lord of the Rings: The Return of the King', 'Pulp Fiction',\n       'The Lord of the Rings: The Fellowship of the Ring',\n       'The Good, the Bad and the Ugly', 'Forrest Gump', 'Fight Club',\n       'Inception', 'The Lord of the Rings: The Two Towers',\n       'Star Wars: Episode V - The Empire Strikes Back', 'The Matrix',\n       'Goodfellas', \"One Flew Over the Cuckoo's Nest\", 'Se7en',\n       'Seven Samurai'], dtype=object)"
     },
     "metadata": {}
    }
   ]
  },
  {
   "cell_type": "code",
   "metadata": {
    "cell_id": "0c70ec26762047a6af72190a3854953c",
    "tags": [],
    "deepnote_to_be_reexecuted": false,
    "source_hash": "a508fd21",
    "execution_start": 1662327706872,
    "execution_millis": 41,
    "deepnote_cell_type": "code",
    "deepnote_cell_height": 112.1875
   },
   "source": "type(titles.values)",
   "execution_count": null,
   "outputs": [
    {
     "output_type": "execute_result",
     "execution_count": 18,
     "data": {
      "text/plain": "numpy.ndarray"
     },
     "metadata": {}
    }
   ]
  },
  {
   "cell_type": "code",
   "metadata": {
    "cell_id": "219296631d15415584018d2112248429",
    "tags": [],
    "deepnote_to_be_reexecuted": false,
    "source_hash": "4b02bf65",
    "execution_start": 1662327722038,
    "execution_millis": 7,
    "deepnote_cell_type": "code",
    "deepnote_cell_height": 112.1875
   },
   "source": "titles.dtype",
   "execution_count": null,
   "outputs": [
    {
     "output_type": "execute_result",
     "execution_count": 19,
     "data": {
      "text/plain": "dtype('O')"
     },
     "metadata": {}
    }
   ]
  },
  {
   "cell_type": "code",
   "metadata": {
    "cell_id": "dfeb8cb31f2f478b9df93fed44b7a537",
    "tags": [],
    "deepnote_to_be_reexecuted": false,
    "source_hash": "7bb7da30",
    "execution_start": 1662327737313,
    "execution_millis": 3,
    "deepnote_cell_type": "code",
    "deepnote_cell_height": 112.1875
   },
   "source": "titles.index",
   "execution_count": null,
   "outputs": [
    {
     "output_type": "execute_result",
     "execution_count": 20,
     "data": {
      "text/plain": "RangeIndex(start=0, stop=250, step=1)"
     },
     "metadata": {}
    }
   ]
  },
  {
   "cell_type": "code",
   "metadata": {
    "cell_id": "ecd63871f2b345be8fb4ab4b7fe47a0d",
    "tags": [],
    "deepnote_to_be_reexecuted": false,
    "source_hash": "ffb08166",
    "execution_start": 1662327752266,
    "execution_millis": 3,
    "deepnote_cell_type": "code",
    "deepnote_cell_height": 112.1875
   },
   "source": "titles.name",
   "execution_count": null,
   "outputs": [
    {
     "output_type": "execute_result",
     "execution_count": 21,
     "data": {
      "text/plain": "'title'"
     },
     "metadata": {}
    }
   ]
  },
  {
   "cell_type": "code",
   "metadata": {
    "cell_id": "c312238826134d448fced3b506e7a193",
    "tags": [],
    "deepnote_to_be_reexecuted": false,
    "source_hash": "34dfefac",
    "execution_start": 1662327770483,
    "execution_millis": 6,
    "deepnote_cell_type": "code",
    "deepnote_cell_height": 112.1875
   },
   "source": "titles.size",
   "execution_count": null,
   "outputs": [
    {
     "output_type": "execute_result",
     "execution_count": 22,
     "data": {
      "text/plain": "250"
     },
     "metadata": {}
    }
   ]
  },
  {
   "cell_type": "markdown",
   "source": "### Index",
   "metadata": {
    "cell_id": "00012-4c41cc3d-9802-4514-9d61-142e4bb648e9",
    "deepnote_cell_type": "markdown",
    "deepnote_cell_height": 62
   }
  },
  {
   "cell_type": "code",
   "metadata": {
    "cell_id": "8c2565f171af4d24bcc9ee481462bade",
    "tags": [],
    "deepnote_to_be_reexecuted": false,
    "source_hash": "7bb7da30",
    "execution_start": 1662327826044,
    "execution_millis": 681,
    "deepnote_cell_type": "code",
    "deepnote_cell_height": 112.1875
   },
   "source": "titles.index",
   "execution_count": null,
   "outputs": [
    {
     "output_type": "execute_result",
     "execution_count": 24,
     "data": {
      "text/plain": "RangeIndex(start=0, stop=250, step=1)"
     },
     "metadata": {}
    }
   ]
  },
  {
   "cell_type": "code",
   "metadata": {
    "cell_id": "b1aba939c22c48fda4416fad0ce36c6e",
    "tags": [],
    "deepnote_cell_type": "code",
    "deepnote_cell_height": 61
   },
   "source": "",
   "execution_count": null,
   "outputs": []
  },
  {
   "cell_type": "markdown",
   "source": "### DataFrame",
   "metadata": {
    "cell_id": "00013-5a792c08-d00f-470b-b076-c1f2911a320e",
    "deepnote_cell_type": "markdown",
    "deepnote_cell_height": 62
   }
  },
  {
   "cell_type": "code",
   "metadata": {
    "cell_id": "104170c7a5574b7f9eff42222049f6bd",
    "tags": [],
    "deepnote_to_be_reexecuted": false,
    "source_hash": "c8a8c27a",
    "execution_start": 1662327879841,
    "execution_millis": 190,
    "deepnote_cell_type": "code",
    "deepnote_cell_height": 112.1875
   },
   "source": "data.columns",
   "execution_count": null,
   "outputs": [
    {
     "output_type": "execute_result",
     "execution_count": 25,
     "data": {
      "text/plain": "Index(['rank', 'title', 'year', 'rating'], dtype='object')"
     },
     "metadata": {}
    }
   ]
  },
  {
   "cell_type": "code",
   "metadata": {
    "cell_id": "ced1321e1a28484d9feab070c3b4f90f",
    "tags": [],
    "deepnote_to_be_reexecuted": false,
    "source_hash": "1abd022c",
    "execution_start": 1662327889978,
    "execution_millis": 3,
    "deepnote_cell_type": "code",
    "deepnote_cell_height": 112.1875
   },
   "source": "data.index",
   "execution_count": null,
   "outputs": [
    {
     "output_type": "execute_result",
     "execution_count": 26,
     "data": {
      "text/plain": "RangeIndex(start=0, stop=250, step=1)"
     },
     "metadata": {}
    }
   ]
  },
  {
   "cell_type": "code",
   "metadata": {
    "cell_id": "465322595e6840ca9eabbbdbaa8bd266",
    "tags": [],
    "deepnote_to_be_reexecuted": false,
    "source_hash": "527c3d59",
    "execution_start": 1662327897542,
    "execution_millis": 11,
    "deepnote_cell_type": "code",
    "deepnote_cell_height": 702
   },
   "source": "data.values",
   "execution_count": null,
   "outputs": [
    {
     "output_type": "execute_result",
     "execution_count": 27,
     "data": {
      "text/plain": "array([[1, 'The Shawshank Redemption', 1994, 9.2],\n       [2, 'The Godfather', 1972, 9.2],\n       [3, 'The Dark Knight', 2008, 9.0],\n       [4, 'The Godfather Part II', 1974, 9.0],\n       [5, '12 Angry Men', 1957, 8.9],\n       [6, \"Schindler's List\", 1993, 8.9],\n       [7, 'The Lord of the Rings: The Return of the King', 2003, 8.9],\n       [8, 'Pulp Fiction', 1994, 8.8],\n       [9, 'The Lord of the Rings: The Fellowship of the Ring', 2001,\n        8.8],\n       [10, 'The Good, the Bad and the Ugly', 1966, 8.8],\n       [11, 'Forrest Gump', 1994, 8.8],\n       [12, 'Fight Club', 1999, 8.7],\n       [13, 'Inception', 2010, 8.7],\n       [14, 'The Lord of the Rings: The Two Towers', 2002, 8.7],\n       [15, 'Star Wars: Episode V - The Empire Strikes Back', 1980, 8.7],\n       [16, 'The Matrix', 1999, 8.7],\n       [17, 'Goodfellas', 1990, 8.7],\n       [18, \"One Flew Over the Cuckoo's Nest\", 1975, 8.6],\n       [19, 'Se7en', 1995, 8.6],\n       [20, 'Seven Samurai', 1954, 8.6],\n       [21, \"It's a Wonderful Life\", 1946, 8.6],\n       [22, 'The Silence of the Lambs', 1991, 8.6],\n       [23, 'City of God', 2002, 8.6],\n       [24, 'Saving Private Ryan', 1998, 8.6],\n       [25, 'Life Is Beautiful', 1997, 8.6],\n       [26, 'The Green Mile', 1999, 8.6],\n       [27, 'Interstellar', 2014, 8.6],\n       [28, 'Star Wars', 1977, 8.6],\n       [29, 'Terminator 2: Judgment Day', 1991, 8.5],\n       [30, 'Back to the Future', 1985, 8.5],\n       [31, 'Spirited Away', 2001, 8.5],\n       [32, 'Psycho', 1960, 8.5],\n       [33, 'The Pianist', 2002, 8.5],\n       [34, 'Léon: The Professional', 1994, 8.5],\n       [35, 'Parasite', 2019, 8.5],\n       [36, 'The Lion King', 1994, 8.5],\n       [37, 'Gladiator', 2000, 8.5],\n       [38, 'American History X', 1998, 8.5],\n       [39, 'The Departed', 2006, 8.5],\n       [40, 'The Usual Suspects', 1995, 8.5],\n       [41, 'The Prestige', 2006, 8.5],\n       [42, 'Casablanca', 1942, 8.5],\n       [43, 'Whiplash', 2014, 8.5],\n       [44, 'The Intouchables', 2011, 8.5],\n       [45, 'Grave of the Fireflies', 1988, 8.5],\n       [46, 'Harakiri', 1962, 8.5],\n       [47, 'Modern Times', 1936, 8.4],\n       [48, 'Once Upon a Time in the West', 1968, 8.4],\n       [49, 'Rear Window', 1954, 8.4],\n       [50, 'Alien', 1979, 8.4],\n       [51, 'City Lights', 1931, 8.4],\n       [52, 'Cinema Paradiso', 1988, 8.4],\n       [53, 'Apocalypse Now', 1979, 8.4],\n       [54, 'Memento', 2000, 8.4],\n       [55, 'Indiana Jones and the Raiders of the Lost Ark', 1981, 8.4],\n       [56, 'Django Unchained', 2012, 8.4],\n       [57, 'WALL·E', 2008, 8.4],\n       [58, 'The Lives of Others', 2006, 8.4],\n       [59, 'Sunset Blvd.', 1950, 8.4],\n       [60, 'Paths of Glory', 1957, 8.4],\n       [61, 'Top Gun: Maverick', 2022, 8.4],\n       [62, 'The Shining', 1980, 8.4],\n       [63, 'The Great Dictator', 1940, 8.4],\n       [64, 'Witness for the Prosecution', 1957, 8.4],\n       [65, 'Avengers: Infinity War', 2018, 8.4],\n       [66, 'Aliens', 1986, 8.3],\n       [67, 'American Beauty', 1999, 8.3],\n       [68,\n        'Dr. Strangelove or: How I Learned to Stop Worrying and Love the Bomb',\n        1964, 8.3],\n       [69, 'Spider-Man: Into the Spider-Verse', 2018, 8.3],\n       [70, 'The Dark Knight Rises', 2012, 8.3],\n       [71, 'Oldboy', 2003, 8.3],\n       [72, 'Joker', 2019, 8.3],\n       [73, 'Amadeus', 1984, 8.3],\n       [74, 'Braveheart', 1995, 8.3],\n       [75, 'Toy Story', 1995, 8.3],\n       [76, 'Coco', 2017, 8.3],\n       [77, 'Inglourious Basterds', 2009, 8.3],\n       [78, 'The Boat', 1981, 8.3],\n       [79, 'Princess Mononoke', 1997, 8.3],\n       [80, 'Avengers: Endgame', 2019, 8.3],\n       [81, 'Once Upon a Time in America', 1984, 8.3],\n       [82, 'Good Will Hunting', 1997, 8.3],\n       [83, 'Your Name.', 2016, 8.3],\n       [84, 'Requiem for a Dream', 2000, 8.3],\n       [85, 'Toy Story 3', 2010, 8.3],\n       [86, \"Singin' in the Rain\", 1952, 8.3],\n       [87, '3 Idiots', 2009, 8.3],\n       [88, 'Star Wars: Episode VI - Return of the Jedi', 1983, 8.3],\n       [89, 'High and Low', 1963, 8.3],\n       [90, '2001: A Space Odyssey', 1968, 8.3],\n       [91, 'Eternal Sunshine of the Spotless Mind', 2004, 8.3],\n       [92, 'Reservoir Dogs', 1992, 8.3],\n       [93, 'Capernaum', 2018, 8.3],\n       [94, 'Lawrence of Arabia', 1962, 8.3],\n       [95, 'Citizen Kane', 1941, 8.3],\n       [96, 'The Hunt', 2012, 8.3],\n       [97, 'M', 1931, 8.3],\n       [98, 'North by Northwest', 1959, 8.3],\n       [99, 'Come and See', 1985, 8.2],\n       [100, 'Vertigo', 1958, 8.2],\n       [101, 'Amélie', 2001, 8.2],\n       [102, 'A Clockwork Orange', 1971, 8.2],\n       [103, 'Double Indemnity', 1944, 8.2],\n       [104, 'Full Metal Jacket', 1987, 8.2],\n       [105, 'The Apartment', 1960, 8.2],\n       [106, 'Scarface', 1983, 8.2],\n       [107, 'Ikiru', 1952, 8.2],\n       [108, 'The Sting', 1973, 8.2],\n       [109, 'To Kill a Mockingbird', 1962, 8.2],\n       [110, 'Taxi Driver', 1976, 8.2],\n       [111, 'Heat', 1995, 8.2],\n       [112, 'Up', 2009, 8.2],\n       [113, 'L.A. Confidential', 1997, 8.2],\n       [114, 'Incendies', 2010, 8.2],\n       [115, 'Metropolis', 1927, 8.2],\n       [116, 'A Separation', 2011, 8.2],\n       [117, 'Die Hard', 1988, 8.2],\n       [118, 'Hamilton', 2020, 8.2],\n       [119, 'Snatch', 2000, 8.2],\n       [120, 'Indiana Jones and the Last Crusade', 1989, 8.2],\n       [121, 'Bicycle Thieves', 1948, 8.2],\n       [122, '1917', 2019, 8.2],\n       [123, 'Like Stars on Earth', 2007, 8.2],\n       [124, 'Downfall', 2004, 8.2],\n       [125, 'For a Few Dollars More', 1965, 8.2],\n       [126, 'Batman Begins', 2005, 8.2],\n       [127, 'Dangal', 2016, 8.2],\n       [128, 'The Kid', 1921, 8.2],\n       [129, 'Some Like It Hot', 1959, 8.2],\n       [130, 'All About Eve', 1950, 8.2],\n       [131, 'The Father', 2020, 8.2],\n       [132, 'Green Book', 2018, 8.2],\n       [133, 'The Wolf of Wall Street', 2013, 8.2],\n       [134, 'Spider-Man: No Way Home', 2021, 8.2],\n       [135, 'Judgment at Nuremberg', 1961, 8.2],\n       [136, 'Ran', 1985, 8.2],\n       [137, 'Casino', 1995, 8.2],\n       [138, 'Unforgiven', 1992, 8.2],\n       [139, \"Pan's Labyrinth\", 2006, 8.2],\n       [140, 'There Will Be Blood', 2007, 8.2],\n       [141, 'The Truman Show', 1998, 8.2],\n       [142, 'The Sixth Sense', 1999, 8.2],\n       [143, 'A Beautiful Mind', 2001, 8.2],\n       [144, 'Monty Python and the Holy Grail', 1975, 8.2],\n       [145, 'Yojimbo', 1961, 8.1],\n       [146, 'The Treasure of the Sierra Madre', 1948, 8.1],\n       [147, 'Shutter Island', 2010, 8.1],\n       [148, 'Jurassic Park', 1993, 8.1],\n       [149, 'The Great Escape', 1963, 8.1],\n       [150, 'Rashomon', 1950, 8.1],\n       [151, 'Kill Bill: Vol. 1', 2003, 8.1],\n       [152, 'No Country for Old Men', 2007, 8.1],\n       [153, 'Finding Nemo', 2003, 8.1],\n       [154, 'The Elephant Man', 1980, 8.1],\n       [155, 'Chinatown', 1974, 8.1],\n       [156, 'Raging Bull', 1980, 8.1],\n       [157, 'The Thing', 1982, 8.1],\n       [158, 'Gone with the Wind', 1939, 8.1],\n       [159, 'V for Vendetta', 2005, 8.1],\n       [160, 'Inside Out', 2015, 8.1],\n       [161, 'Lock, Stock and Two Smoking Barrels', 1998, 8.1],\n       [162, 'Dial M for Murder', 1954, 8.1],\n       [163, 'The Secret in Their Eyes', 2009, 8.1],\n       [164, \"Howl's Moving Castle\", 2004, 8.1],\n       [165, 'The Bridge on the River Kwai', 1957, 8.1],\n       [166, 'Three Billboards Outside Ebbing, Missouri', 2017, 8.1],\n       [167, 'Trainspotting', 1996, 8.1],\n       [168, 'Warrior', 2011, 8.1],\n       [169, 'Gran Torino', 2008, 8.1],\n       [170, 'Fargo', 1996, 8.1],\n       [171, 'Prisoners', 2013, 8.1],\n       [172, 'My Neighbor Totoro', 1988, 8.1],\n       [173, 'Million Dollar Baby', 2004, 8.1],\n       [174, 'Catch Me If You Can', 2002, 8.1],\n       [175, 'The Gold Rush', 1925, 8.1],\n       [176, 'Blade Runner', 1982, 8.1],\n       [177, 'On the Waterfront', 1954, 8.1],\n       [178, 'Children of Heaven', 1997, 8.1],\n       [179, 'The Third Man', 1949, 8.1],\n       [180, 'Before Sunrise', 1995, 8.1],\n       [181, 'Ben-Hur', 1959, 8.1],\n       [182, '12 Years a Slave', 2013, 8.1],\n       [183, 'Wild Strawberries', 1957, 8.1],\n       [184, 'Harry Potter and the Deathly Hallows: Part 2', 2011, 8.1],\n       [185, 'Gone Girl', 2014, 8.1],\n       [186, 'The General', 1926, 8.1],\n       [187, 'Everything Everywhere All at Once', 2022, 8.1],\n       [188, 'The Deer Hunter', 1978, 8.1],\n       [189, 'In the Name of the Father', 1993, 8.1],\n       [190, 'The Grand Budapest Hotel', 2014, 8.1],\n       [191, 'Barry Lyndon', 1975, 8.1],\n       [192, 'Mr. Smith Goes to Washington', 1939, 8.1],\n       [193, 'The Wages of Fear', 1953, 8.1],\n       [194, 'Sherlock Jr.', 1924, 8.1],\n       [195, 'Hacksaw Ridge', 2016, 8.1],\n       [196, 'Memories of Murder', 2003, 8.1],\n       [197, 'Klaus', 2019, 8.1],\n       [198, 'Wild Tales', 2014, 8.1],\n       [199, 'The Seventh Seal', 1957, 8.1],\n       [200, 'Room', 2015, 8.1],\n       [201, 'Mad Max: Fury Road', 2015, 8.1],\n       [202, 'How to Train Your Dragon', 2010, 8.1],\n       [203, 'The Big Lebowski', 1998, 8.1],\n       [204, 'Mary and Max', 2009, 8.1],\n       [205, 'Monsters, Inc.', 2001, 8.1],\n       [206, 'Jaws', 1975, 8.1],\n       [207, 'Tokyo Story', 1953, 8.1],\n       [208, 'Dead Poets Society', 1989, 8.1],\n       [209, 'The Passion of Joan of Arc', 1928, 8.1],\n       [210, 'Hotel Rwanda', 2004, 8.1],\n       [211, 'Rocky', 1976, 8.0],\n       [212, 'Ford v Ferrari', 2019, 8.0],\n       [213, 'Platoon', 1986, 8.0],\n       [214, 'Pather Panchali', 1955, 8.0],\n       [215, 'Stand by Me', 1986, 8.0],\n       [216, 'The Terminator', 1984, 8.0],\n       [217, 'Spotlight', 2015, 8.0],\n       [218, 'Rush', 2013, 8.0],\n       [219, 'Logan', 2017, 8.0],\n       [220, 'Network', 1976, 8.0],\n       [221, 'Ratatouille', 2007, 8.0],\n       [222, 'Into the Wild', 2007, 8.0],\n       [223, 'The Wizard of Oz', 1939, 8.0],\n       [224, 'Groundhog Day', 1993, 8.0],\n       [225, 'Before Sunset', 2004, 8.0],\n       [226, 'The Exorcist', 1973, 8.0],\n       [227, 'The Best Years of Our Lives', 1946, 8.0],\n       [228, 'The Incredibles', 2004, 8.0],\n       [229, 'To Be or Not to Be', 1942, 8.0],\n       [230, 'The Battle of Algiers', 1966, 8.0],\n       [231, 'The Grapes of Wrath', 1940, 8.0],\n       [232, 'Rebecca', 1940, 8.0],\n       [233, \"Hachi: A Dog's Tale\", 2009, 8.0],\n       [234, 'Cool Hand Luke', 1967, 8.0],\n       [235, 'Amores perros', 2000, 8.0],\n       [236, 'Pirates of the Caribbean: The Curse of the Black Pearl',\n        2003, 8.0],\n       [237, 'La Haine', 1995, 8.0],\n       [238, 'My Father and My Son', 2005, 8.0],\n       [239, 'The 400 Blows', 1959, 8.0],\n       [240, 'Jai Bhim', 2021, 8.0],\n       [241, 'It Happened One Night', 1934, 8.0],\n       [242, 'Persona', 1966, 8.0],\n       [243, 'The Sound of Music', 1965, 8.0],\n       [244, 'Life of Brian', 1979, 8.0],\n       [245, 'The Handmaiden', 2016, 8.0],\n       [246, 'Dersu Uzala', 1975, 8.0],\n       [247, 'Aladdin', 1992, 8.0],\n       [248, 'Gandhi', 1982, 8.0],\n       [249, 'The Help', 2011, 8.0],\n       [250, 'The Iron Giant', 1999, 8.0]], dtype=object)"
     },
     "metadata": {}
    }
   ]
  },
  {
   "cell_type": "code",
   "metadata": {
    "cell_id": "124f50ccfc304f5c9aabf73400a8ab17",
    "tags": [],
    "deepnote_to_be_reexecuted": false,
    "source_hash": "2007f58",
    "execution_start": 1662327906166,
    "execution_millis": 2381,
    "deepnote_cell_type": "code",
    "deepnote_cell_height": 112.1875
   },
   "source": "data.shape",
   "execution_count": null,
   "outputs": [
    {
     "output_type": "execute_result",
     "execution_count": 28,
     "data": {
      "text/plain": "(250, 4)"
     },
     "metadata": {}
    }
   ]
  },
  {
   "cell_type": "code",
   "metadata": {
    "cell_id": "ea2e919b6e7846bca55ee3e69e8f47c1",
    "tags": [],
    "deepnote_to_be_reexecuted": false,
    "source_hash": "31e2c75",
    "execution_start": 1662328208693,
    "execution_millis": 6,
    "deepnote_cell_type": "code",
    "deepnote_cell_height": 380
   },
   "source": "my_df = pd.DataFrame({\n    \"movie\": [\"Trainspotting\", \"The Matrix\", \"Forrest Gump\"],\n    \"main character\": [\"Mark Renton\", \"Neo\", \"Forrest Gump\"]\n})\nmy_df",
   "execution_count": null,
   "outputs": [
    {
     "output_type": "execute_result",
     "execution_count": 29,
     "data": {
      "application/vnd.deepnote.dataframe.v3+json": {
       "column_count": 2,
       "row_count": 3,
       "columns": [
        {
         "name": "movie",
         "dtype": "object",
         "stats": {
          "unique_count": 3,
          "nan_count": 0,
          "categories": [
           {
            "name": "Trainspotting",
            "count": 1
           },
           {
            "name": "The Matrix",
            "count": 1
           },
           {
            "name": "Forrest Gump",
            "count": 1
           }
          ]
         }
        },
        {
         "name": "main character",
         "dtype": "object",
         "stats": {
          "unique_count": 3,
          "nan_count": 0,
          "categories": [
           {
            "name": "Mark Renton",
            "count": 1
           },
           {
            "name": "Neo",
            "count": 1
           },
           {
            "name": "Forrest Gump",
            "count": 1
           }
          ]
         }
        },
        {
         "name": "_deepnote_index_column",
         "dtype": "int64"
        }
       ],
       "rows": [
        {
         "movie": "Trainspotting",
         "main character": "Mark Renton",
         "_deepnote_index_column": "0"
        },
        {
         "movie": "The Matrix",
         "main character": "Neo",
         "_deepnote_index_column": "1"
        },
        {
         "movie": "Forrest Gump",
         "main character": "Forrest Gump",
         "_deepnote_index_column": "2"
        }
       ]
      },
      "text/plain": "           movie main character\n0  Trainspotting    Mark Renton\n1     The Matrix            Neo\n2   Forrest Gump   Forrest Gump",
      "text/html": "<div>\n<style scoped>\n    .dataframe tbody tr th:only-of-type {\n        vertical-align: middle;\n    }\n\n    .dataframe tbody tr th {\n        vertical-align: top;\n    }\n\n    .dataframe thead th {\n        text-align: right;\n    }\n</style>\n<table border=\"1\" class=\"dataframe\">\n  <thead>\n    <tr style=\"text-align: right;\">\n      <th></th>\n      <th>movie</th>\n      <th>main character</th>\n    </tr>\n  </thead>\n  <tbody>\n    <tr>\n      <th>0</th>\n      <td>Trainspotting</td>\n      <td>Mark Renton</td>\n    </tr>\n    <tr>\n      <th>1</th>\n      <td>The Matrix</td>\n      <td>Neo</td>\n    </tr>\n    <tr>\n      <th>2</th>\n      <td>Forrest Gump</td>\n      <td>Forrest Gump</td>\n    </tr>\n  </tbody>\n</table>\n</div>"
     },
     "metadata": {}
    }
   ]
  },
  {
   "cell_type": "markdown",
   "source": "## Data types\n\n(see https://pandas.pydata.org/docs/user_guide/basics.html#basics-dtypes)",
   "metadata": {
    "cell_id": "00015-73cdaafa-2a4f-4345-ab5f-b1453d3026b2",
    "deepnote_cell_type": "markdown",
    "deepnote_cell_height": 108.390625
   }
  },
  {
   "cell_type": "code",
   "metadata": {
    "cell_id": "00016-de87515c-1455-4789-9126-73be37737ea6",
    "deepnote_cell_type": "code",
    "deepnote_cell_height": 189
   },
   "source": "data.dtypes",
   "execution_count": null,
   "outputs": [
    {
     "data": {
      "text/plain": "rank        int64\ntitle      object\nyear        int64\nrating    float64\ndtype: object"
     },
     "execution_count": 7,
     "metadata": {},
     "output_type": "execute_result"
    }
   ]
  },
  {
   "cell_type": "markdown",
   "source": "### Integers",
   "metadata": {
    "cell_id": "00017-52e6d0a9-f675-4380-afa7-621bdaa6a40f",
    "deepnote_cell_type": "markdown",
    "deepnote_cell_height": 62
   }
  },
  {
   "cell_type": "markdown",
   "source": "### Floats",
   "metadata": {
    "cell_id": "00018-2cf91625-90a9-42b7-bfb1-0e6994ecc38f",
    "deepnote_cell_type": "markdown",
    "deepnote_cell_height": 62
   }
  },
  {
   "cell_type": "markdown",
   "source": "### Booleans",
   "metadata": {
    "cell_id": "00019-a5311162-b687-4f12-b4e6-2b5bd0ac8e6e",
    "deepnote_cell_type": "markdown",
    "deepnote_cell_height": 62
   }
  },
  {
   "cell_type": "markdown",
   "source": "### Strings (& objects)",
   "metadata": {
    "cell_id": "00020-8a7da2e8-b004-4853-89df-0eb4fb68fe58",
    "deepnote_cell_type": "markdown",
    "deepnote_cell_height": 62
   }
  },
  {
   "cell_type": "markdown",
   "source": "### Other types",
   "metadata": {
    "cell_id": "00021-6951019e-fd43-4df2-a4f3-b6c1ffd9063c",
    "deepnote_cell_type": "markdown",
    "deepnote_cell_height": 62
   }
  },
  {
   "cell_type": "markdown",
   "source": "TODO: Mention extension types\n\n- ",
   "metadata": {
    "cell_id": "00022-a9ad3530-2663-4a42-9c0b-d9a7ddf4fc96",
    "deepnote_cell_type": "markdown",
    "deepnote_cell_height": 102.78125
   }
  },
  {
   "cell_type": "markdown",
   "source": "## Indexing\n\n(see https://pandas.pydata.org/docs/user_guide/indexing.html)",
   "metadata": {
    "cell_id": "00023-3742473c-570d-4a8f-b33e-8b33c5291c2b",
    "deepnote_cell_type": "markdown",
    "deepnote_cell_height": 108.390625
   }
  },
  {
   "cell_type": "markdown",
   "source": "<a style='text-decoration:none;line-height:16px;display:flex;color:#5B5B62;padding:10px;justify-content:end;' href='https://deepnote.com?utm_source=created-in-deepnote-cell&projectId=234de414-c5f7-4e4d-a314-25100ac19112' target=\"_blank\">\n<img alt='Created in deepnote.com' style='display:inline;max-height:16px;margin:0px;margin-right:7.5px;' src='data:image/svg+xml;base64,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' > </img>\nCreated in <span style='font-weight:600;margin-left:4px;'>Deepnote</span></a>",
   "metadata": {
    "tags": [],
    "created_in_deepnote_cell": true,
    "deepnote_cell_type": "markdown"
   }
  }
 ],
 "nbformat": 4,
 "nbformat_minor": 2,
 "metadata": {
  "kernelspec": {
   "display_name": "Python 3.10.4 64-bit ('3.10.4')",
   "language": "python",
   "name": "python3"
  },
  "language_info": {
   "codemirror_mode": {
    "name": "ipython",
    "version": 3
   },
   "file_extension": ".py",
   "mimetype": "text/x-python",
   "name": "python",
   "nbconvert_exporter": "python",
   "pygments_lexer": "ipython3",
   "version": "3.10.4"
  },
  "orig_nbformat": 4,
  "vscode": {
   "interpreter": {
    "hash": "1d8d7ddfcd7032e6fe693830a5931c5fe3782bc170fc968c3186119a03312acb"
   }
  },
  "deepnote_notebook_id": "4567cfd0-f6d8-4081-a68a-bbd5f3de53be",
  "deepnote": {},
  "deepnote_persisted_session": {
   "filename": "session_dump_4567cfd0-f6d8-4081-a68a-bbd5f3de53be.pkl",
   "createdAt": "2022-09-04T22:16:31.500Z"
  },
  "deepnote_execution_queue": []
 }
}