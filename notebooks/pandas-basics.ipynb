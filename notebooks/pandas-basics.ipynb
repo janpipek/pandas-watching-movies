{
 "cells": [
  {
   "cell_type": "markdown",
   "source": "# Pandas basics",
   "metadata": {
    "cell_id": "eac88a2d-0b11-46d1-b9c9-8cfb55c99200",
    "pycharm": {
     "name": "#%% md\n"
    },
    "deepnote_cell_type": "markdown",
    "deepnote_cell_height": 82
   }
  },
  {
   "cell_type": "markdown",
   "source": "## What is pandas?\n\nTo cite the [project page](https://pandas.pydata.org/), it is:\n\n> a fast, powerful, flexible and easy to use open source data analysis and manipulation tool, built on top of the Python programming language.\n\nFor the wide data science community (its Python-speaking part), it is the de-facto tool for analysis and manipulation of data that:\n- are in tabular format, i.e. having **columns** (usually describing a certain property) and **rows** (usually representing individual objects having those properties)\n- are big/complex enough not to be easily handled by lists and dicts.\n- are small enough to fit within a computer memory multiple times (rarely more than a few hundred million rows)",
   "metadata": {
    "cell_id": "00001-99fb8d2e-4cdf-4e26-8134-8af8cf1a3a63",
    "pycharm": {
     "name": "#%% md\n"
    },
    "deepnote_cell_type": "markdown",
    "deepnote_cell_height": 327.125
   }
  },
  {
   "cell_type": "markdown",
   "source": "Let's start by importing the library using its typical alias:",
   "metadata": {
    "formattedRanges": [],
    "cell_id": "2619aded94f748a2b3d14469a8372d87",
    "is_collapsed": false,
    "tags": [],
    "pycharm": {
     "name": "#%% md\n"
    },
    "deepnote_cell_type": "text-cell-p"
   }
  },
  {
   "cell_type": "code",
   "metadata": {
    "cell_id": "00002-b5a9abd8-9660-461f-a15f-df2daf8b236f",
    "deepnote_to_be_reexecuted": false,
    "execution_millis": 875222,
    "execution_start": 1662632638186,
    "source_hash": "d5e55f2d",
    "pycharm": {
     "name": "#%%\n"
    },
    "deepnote_cell_type": "code",
    "deepnote_cell_height": 76
   },
   "source": "import pandas as pd  # common alias",
   "execution_count": 1,
   "outputs": []
  },
  {
   "cell_type": "code",
   "metadata": {
    "collapsed": false,
    "pycharm": {
     "name": "#%%\n"
    },
    "cell_id": "00004-8b5dc47f-818d-43b7-b0e2-2805c0fee5cf",
    "deepnote_to_be_reexecuted": false,
    "source_hash": "41e7ebbd",
    "execution_start": 1662632638187,
    "execution_millis": 38410049,
    "deepnote_cell_type": "code",
    "deepnote_cell_height": 130
   },
   "source": "# And two functions to support the exercises\n\nfrom solutions import run_solution    # Gives the expected output\nfrom solutions import show_solution   # Show (one of) the right solution(s)",
   "execution_count": 2,
   "outputs": []
  },
  {
   "cell_type": "markdown",
   "source": "**Exercise hello_world**: Print \"hello world\"",
   "metadata": {
    "cell_id": "01adbb3c176045c9b46dbe8fac196504",
    "tags": [],
    "deepnote_cell_type": "markdown",
    "deepnote_cell_height": 52.390625
   }
  },
  {
   "cell_type": "code",
   "metadata": {
    "collapsed": false,
    "pycharm": {
     "name": "#%%\n"
    },
    "cell_id": "00005-d7c9dd2c-0243-47b8-a394-59196a43123c",
    "deepnote_to_be_reexecuted": false,
    "source_hash": "21088e7",
    "execution_start": 1662632638189,
    "execution_millis": 38410004,
    "deepnote_cell_type": "code",
    "deepnote_cell_height": 107.1875
   },
   "source": "run_solution(\"hello_world\")",
   "execution_count": 3,
   "outputs": [
    {
     "name": "stdout",
     "text": "Hello world!\n",
     "output_type": "stream"
    }
   ]
  },
  {
   "cell_type": "code",
   "metadata": {
    "collapsed": false,
    "pycharm": {
     "name": "#%%\n"
    },
    "cell_id": "00006-0aabc0f2-e693-466b-818b-a3e3e398dbd2",
    "deepnote_to_be_reexecuted": false,
    "source_hash": "6d986f4c",
    "execution_start": 1662632638195,
    "execution_millis": 8,
    "deepnote_cell_type": "code",
    "deepnote_cell_height": 147.5625
   },
   "source": "show_solution(\"hello_world\")",
   "execution_count": 4,
   "outputs": [
    {
     "name": "stdout",
     "text": "def solution_hello_world():\n    print(\"Hello world!\")\n\n",
     "output_type": "stream"
    }
   ]
  },
  {
   "cell_type": "markdown",
   "source": "## Reading data",
   "metadata": {
    "collapsed": false,
    "pycharm": {
     "name": "#%% md\n"
    },
    "cell_id": "00007-33f7ff4d-1a46-48f9-93b5-677e3829858d",
    "deepnote_cell_type": "markdown",
    "deepnote_cell_height": 70
   }
  },
  {
   "cell_type": "markdown",
   "source": "We will start by reading existing data. For this, we have a simple table scraped from IMDB.com that shows the most favourite movies, as retrieved on a certain date in 2022. You can have a look in `data/top_movies.csv`:\n\n```csv\nrank,title,year,rating\n1,The Shawshank Redemption,1994,9.2\n2,The Godfather,1972,9.2\n3,The Dark Knight,2008,9.0\n4,The Godfather Part II,1974,9.0\n5,12 Angry Men,1957,8.9\n6,Schindler's List,1993,8.9\n7,The Lord of the Rings: The Return of the King,2003,8.9\n8,Pulp Fiction,1994,8.8\n9,The Lord of the Rings: The Fellowship of the Ring,2001,8.8\n10,\"The Good, the Bad and the Ugly\",1966,8.8\n```",
   "metadata": {
    "cell_id": "00003-43ad61f5-f756-4b0e-a8c5-e890f4f14db8",
    "pycharm": {
     "name": "#%% md\n"
    },
    "deepnote_cell_type": "markdown",
    "deepnote_cell_height": 355.078125
   }
  },
  {
   "cell_type": "markdown",
   "source": "To read external data sources, pandas provides many functions, all named `read_*` (e.g. read_csv, read_excel, ...), which support most relevant data formats (and even databases, clipboard, ...). One of the most common (though perhaps not most suitable) formats is [**comma-separated values**](https://en.wikipedia.org/wiki/Comma-separated_values) (or **CSV**). This is also the case of our input file, so we will use [`read_csv`](https://pandas.pydata.org/docs/reference/api/pandas.read_csv.html):",
   "metadata": {
    "cell_id": "00004-c7ba0b83-fe5b-4a74-931c-afb0964566f7",
    "pycharm": {
     "name": "#%% md\n"
    },
    "deepnote_cell_type": "markdown",
    "deepnote_cell_height": 97.171875
   }
  },
  {
   "cell_type": "code",
   "metadata": {
    "cell_id": "00005-54d2c228-ded5-4e2d-b1ee-d8c0f54857b5",
    "deepnote_to_be_reexecuted": false,
    "execution_millis": 2,
    "execution_start": 1662632638201,
    "source_hash": "1c9a5b7",
    "pycharm": {
     "name": "#%%\n"
    },
    "deepnote_cell_type": "code",
    "deepnote_cell_height": 76
   },
   "source": "data = pd.read_csv(\"../data/top_movies.csv\")",
   "execution_count": 5,
   "outputs": []
  },
  {
   "cell_type": "markdown",
   "source": "If there was no error (it shouldn't), you should have receive some Python representation of the input data. Let's see.",
   "metadata": {
    "cell_id": "00006-fe2dbde3-829a-4fa7-9a1a-049bf10fc618",
    "pycharm": {
     "name": "#%% md\n"
    },
    "deepnote_cell_type": "markdown",
    "deepnote_cell_height": 52.390625
   }
  },
  {
   "cell_type": "code",
   "metadata": {
    "cell_id": "00007-fb7aa1f2-a4ac-4371-9ee2-33e400c3b434",
    "deepnote_to_be_reexecuted": false,
    "execution_millis": 27,
    "execution_start": 1662632638205,
    "source_hash": "e6928a8f",
    "pycharm": {
     "name": "#%%\n"
    },
    "deepnote_cell_type": "code",
    "deepnote_cell_height": 595
   },
   "source": "data",
   "execution_count": 6,
   "outputs": [
    {
     "output_type": "execute_result",
     "execution_count": 6,
     "data": {
      "application/vnd.deepnote.dataframe.v3+json": {
       "column_count": 4,
       "row_count": 250,
       "columns": [
        {
         "name": "rank",
         "dtype": "int64",
         "stats": {
          "unique_count": 250,
          "nan_count": 0,
          "min": "1",
          "max": "250",
          "histogram": [
           {
            "bin_start": 1,
            "bin_end": 25.9,
            "count": 25
           },
           {
            "bin_start": 25.9,
            "bin_end": 50.8,
            "count": 25
           },
           {
            "bin_start": 50.8,
            "bin_end": 75.69999999999999,
            "count": 25
           },
           {
            "bin_start": 75.69999999999999,
            "bin_end": 100.6,
            "count": 25
           },
           {
            "bin_start": 100.6,
            "bin_end": 125.5,
            "count": 25
           },
           {
            "bin_start": 125.5,
            "bin_end": 150.39999999999998,
            "count": 25
           },
           {
            "bin_start": 150.39999999999998,
            "bin_end": 175.29999999999998,
            "count": 25
           },
           {
            "bin_start": 175.29999999999998,
            "bin_end": 200.2,
            "count": 25
           },
           {
            "bin_start": 200.2,
            "bin_end": 225.1,
            "count": 25
           },
           {
            "bin_start": 225.1,
            "bin_end": 250,
            "count": 25
           }
          ]
         }
        },
        {
         "name": "title",
         "dtype": "object",
         "stats": {
          "unique_count": 250,
          "nan_count": 0,
          "categories": [
           {
            "name": "The Shawshank Redemption",
            "count": 1
           },
           {
            "name": "The Godfather",
            "count": 1
           },
           {
            "name": "248 others",
            "count": 248
           }
          ]
         }
        },
        {
         "name": "year",
         "dtype": "int64",
         "stats": {
          "unique_count": 86,
          "nan_count": 0,
          "min": "1921",
          "max": "2022",
          "histogram": [
           {
            "bin_start": 1921,
            "bin_end": 1931.1,
            "count": 8
           },
           {
            "bin_start": 1931.1,
            "bin_end": 1941.2,
            "count": 9
           },
           {
            "bin_start": 1941.2,
            "bin_end": 1951.3,
            "count": 11
           },
           {
            "bin_start": 1951.3,
            "bin_end": 1961.4,
            "count": 24
           },
           {
            "bin_start": 1961.4,
            "bin_end": 1971.5,
            "count": 15
           },
           {
            "bin_start": 1971.5,
            "bin_end": 1981.6,
            "count": 24
           },
           {
            "bin_start": 1981.6,
            "bin_end": 1991.7,
            "count": 24
           },
           {
            "bin_start": 1991.7,
            "bin_end": 2001.8,
            "count": 48
           },
           {
            "bin_start": 2001.8,
            "bin_end": 2011.9,
            "count": 48
           },
           {
            "bin_start": 2011.9,
            "bin_end": 2022,
            "count": 39
           }
          ]
         }
        },
        {
         "name": "rating",
         "dtype": "float64",
         "stats": {
          "unique_count": 12,
          "nan_count": 0,
          "min": "8.0",
          "max": "9.2",
          "histogram": [
           {
            "bin_start": 8,
            "bin_end": 8.12,
            "count": 106
           },
           {
            "bin_start": 8.12,
            "bin_end": 8.24,
            "count": 46
           },
           {
            "bin_start": 8.24,
            "bin_end": 8.36,
            "count": 33
           },
           {
            "bin_start": 8.36,
            "bin_end": 8.48,
            "count": 19
           },
           {
            "bin_start": 8.48,
            "bin_end": 8.6,
            "count": 18
           },
           {
            "bin_start": 8.6,
            "bin_end": 8.719999999999999,
            "count": 17
           },
           {
            "bin_start": 8.719999999999999,
            "bin_end": 8.84,
            "count": 4
           },
           {
            "bin_start": 8.84,
            "bin_end": 8.959999999999999,
            "count": 3
           },
           {
            "bin_start": 8.959999999999999,
            "bin_end": 9.08,
            "count": 2
           },
           {
            "bin_start": 9.08,
            "bin_end": 9.2,
            "count": 2
           }
          ]
         }
        },
        {
         "name": "_deepnote_index_column",
         "dtype": "int64"
        }
       ],
       "rows": [
        {
         "rank": "1",
         "title": "The Shawshank Redemption",
         "year": "1994",
         "rating": "9.2",
         "_deepnote_index_column": "0"
        },
        {
         "rank": "2",
         "title": "The Godfather",
         "year": "1972",
         "rating": "9.2",
         "_deepnote_index_column": "1"
        },
        {
         "rank": "3",
         "title": "The Dark Knight",
         "year": "2008",
         "rating": "9.0",
         "_deepnote_index_column": "2"
        },
        {
         "rank": "4",
         "title": "The Godfather Part II",
         "year": "1974",
         "rating": "9.0",
         "_deepnote_index_column": "3"
        },
        {
         "rank": "5",
         "title": "12 Angry Men",
         "year": "1957",
         "rating": "8.9",
         "_deepnote_index_column": "4"
        },
        {
         "rank": "6",
         "title": "Schindler's List",
         "year": "1993",
         "rating": "8.9",
         "_deepnote_index_column": "5"
        },
        {
         "rank": "7",
         "title": "The Lord of the Rings: The Return of the King",
         "year": "2003",
         "rating": "8.9",
         "_deepnote_index_column": "6"
        },
        {
         "rank": "8",
         "title": "Pulp Fiction",
         "year": "1994",
         "rating": "8.8",
         "_deepnote_index_column": "7"
        },
        {
         "rank": "9",
         "title": "The Lord of the Rings: The Fellowship of the Ring",
         "year": "2001",
         "rating": "8.8",
         "_deepnote_index_column": "8"
        },
        {
         "rank": "10",
         "title": "The Good, the Bad and the Ugly",
         "year": "1966",
         "rating": "8.8",
         "_deepnote_index_column": "9"
        }
       ]
      },
      "text/plain": "     rank                     title  year  rating\n0       1  The Shawshank Redemption  1994     9.2\n1       2             The Godfather  1972     9.2\n2       3           The Dark Knight  2008     9.0\n3       4     The Godfather Part II  1974     9.0\n4       5              12 Angry Men  1957     8.9\n..    ...                       ...   ...     ...\n245   246               Dersu Uzala  1975     8.0\n246   247                   Aladdin  1992     8.0\n247   248                    Gandhi  1982     8.0\n248   249                  The Help  2011     8.0\n249   250            The Iron Giant  1999     8.0\n\n[250 rows x 4 columns]",
      "text/html": "<div>\n<style scoped>\n    .dataframe tbody tr th:only-of-type {\n        vertical-align: middle;\n    }\n\n    .dataframe tbody tr th {\n        vertical-align: top;\n    }\n\n    .dataframe thead th {\n        text-align: right;\n    }\n</style>\n<table border=\"1\" class=\"dataframe\">\n  <thead>\n    <tr style=\"text-align: right;\">\n      <th></th>\n      <th>rank</th>\n      <th>title</th>\n      <th>year</th>\n      <th>rating</th>\n    </tr>\n  </thead>\n  <tbody>\n    <tr>\n      <th>0</th>\n      <td>1</td>\n      <td>The Shawshank Redemption</td>\n      <td>1994</td>\n      <td>9.2</td>\n    </tr>\n    <tr>\n      <th>1</th>\n      <td>2</td>\n      <td>The Godfather</td>\n      <td>1972</td>\n      <td>9.2</td>\n    </tr>\n    <tr>\n      <th>2</th>\n      <td>3</td>\n      <td>The Dark Knight</td>\n      <td>2008</td>\n      <td>9.0</td>\n    </tr>\n    <tr>\n      <th>3</th>\n      <td>4</td>\n      <td>The Godfather Part II</td>\n      <td>1974</td>\n      <td>9.0</td>\n    </tr>\n    <tr>\n      <th>4</th>\n      <td>5</td>\n      <td>12 Angry Men</td>\n      <td>1957</td>\n      <td>8.9</td>\n    </tr>\n    <tr>\n      <th>...</th>\n      <td>...</td>\n      <td>...</td>\n      <td>...</td>\n      <td>...</td>\n    </tr>\n    <tr>\n      <th>245</th>\n      <td>246</td>\n      <td>Dersu Uzala</td>\n      <td>1975</td>\n      <td>8.0</td>\n    </tr>\n    <tr>\n      <th>246</th>\n      <td>247</td>\n      <td>Aladdin</td>\n      <td>1992</td>\n      <td>8.0</td>\n    </tr>\n    <tr>\n      <th>247</th>\n      <td>248</td>\n      <td>Gandhi</td>\n      <td>1982</td>\n      <td>8.0</td>\n    </tr>\n    <tr>\n      <th>248</th>\n      <td>249</td>\n      <td>The Help</td>\n      <td>2011</td>\n      <td>8.0</td>\n    </tr>\n    <tr>\n      <th>249</th>\n      <td>250</td>\n      <td>The Iron Giant</td>\n      <td>1999</td>\n      <td>8.0</td>\n    </tr>\n  </tbody>\n</table>\n<p>250 rows × 4 columns</p>\n</div>"
     },
     "metadata": {}
    }
   ]
  },
  {
   "cell_type": "markdown",
   "source": "Nice, looks almost like a spreadsheet. The basic view (unless you are running this notebook in a more sophisticated environment) shows the first and last five rows and four named columns (i.e. rank, title, year and rating).\n\nSo what is this `data` object exactly?",
   "metadata": {
    "cell_id": "00008-589dca8f-7a13-412c-8ac9-1e8a2b975a89",
    "pycharm": {
     "name": "#%% md\n"
    },
    "deepnote_cell_type": "markdown",
    "deepnote_cell_height": 111.171875
   }
  },
  {
   "cell_type": "markdown",
   "source": "## Pandas data structures\n\n(see <https://pandas.pydata.org/docs/user_guide/dsintro.html>)",
   "metadata": {
    "cell_id": "00009-751fe376-88ec-4154-966c-18a25b29e13f",
    "pycharm": {
     "name": "#%% md\n"
    },
    "deepnote_cell_type": "markdown",
    "deepnote_cell_height": 108.390625
   }
  },
  {
   "cell_type": "code",
   "metadata": {
    "cell_id": "eb928d708a32419b9cfbaf0f532ad768",
    "deepnote_to_be_reexecuted": false,
    "execution_millis": 3,
    "execution_start": 1662632638234,
    "source_hash": "9653dc5",
    "tags": [],
    "pycharm": {
     "name": "#%%\n"
    },
    "deepnote_cell_type": "code",
    "deepnote_cell_height": 112.1875,
    "deepnote_output_heights": [
     20.1875
    ]
   },
   "source": "type(data)",
   "execution_count": 7,
   "outputs": [
    {
     "output_type": "execute_result",
     "execution_count": 7,
     "data": {
      "text/plain": "pandas.core.frame.DataFrame"
     },
     "metadata": {}
    }
   ]
  },
  {
   "cell_type": "markdown",
   "source": "It is a **data frame**, which basically means \"a table\" with somewhat strict requirements about the columns and rows (unlike spreadsheats, this is not a free-form area). You'll find a similar concept in statistical languages like [R](https://www.r-project.org/).\n\nLet's dig in:",
   "metadata": {
    "collapsed": false,
    "pycharm": {
     "name": "#%% md\n"
    },
    "cell_id": "00016-eea16373-17af-4f2b-87cd-a234dbbd1d45",
    "deepnote_cell_type": "markdown",
    "deepnote_cell_height": 111.171875
   }
  },
  {
   "cell_type": "code",
   "metadata": {
    "cell_id": "bcdfc1de10f4483195c1bfa583a4f8ec",
    "deepnote_to_be_reexecuted": false,
    "execution_millis": 3,
    "execution_start": 1662632638258,
    "source_hash": "68e851f8",
    "tags": [],
    "pycharm": {
     "name": "#%%\n"
    },
    "deepnote_cell_type": "code",
    "deepnote_cell_height": 359.25,
    "deepnote_output_heights": [
     231.25
    ]
   },
   "source": "# Select just one \"column\"\ntitles = data[\"title\"]\ntitles",
   "execution_count": 8,
   "outputs": [
    {
     "output_type": "execute_result",
     "execution_count": 8,
     "data": {
      "text/plain": "0      The Shawshank Redemption\n1                 The Godfather\n2               The Dark Knight\n3         The Godfather Part II\n4                  12 Angry Men\n                 ...           \n245                 Dersu Uzala\n246                     Aladdin\n247                      Gandhi\n248                    The Help\n249              The Iron Giant\nName: title, Length: 250, dtype: object"
     },
     "metadata": {}
    }
   ]
  },
  {
   "cell_type": "code",
   "metadata": {
    "cell_id": "28b4494d2ea34bc78afa08bbe6e7c383",
    "deepnote_to_be_reexecuted": false,
    "execution_millis": 3,
    "execution_start": 1662632638258,
    "source_hash": "924144af",
    "tags": [],
    "pycharm": {
     "name": "#%%\n"
    },
    "deepnote_cell_type": "code",
    "deepnote_cell_height": 112.1875,
    "deepnote_output_heights": [
     20.1875
    ]
   },
   "source": "type(titles)",
   "execution_count": 9,
   "outputs": [
    {
     "output_type": "execute_result",
     "execution_count": 9,
     "data": {
      "text/plain": "pandas.core.series.Series"
     },
     "metadata": {}
    }
   ]
  },
  {
   "cell_type": "markdown",
   "source": "### Series",
   "metadata": {
    "cell_id": "00011-d3bb446b-f81f-4c3a-b9c7-fac6610e5c76",
    "pycharm": {
     "name": "#%% md\n"
    },
    "deepnote_cell_type": "markdown",
    "deepnote_cell_height": 62
   }
  },
  {
   "cell_type": "markdown",
   "source": "The second fundamental pandas type is a [`Series`](https://pandas.pydata.org/docs/reference/api/pandas.Series.html), a one-dimensional data structure looking a bit like a list. Does it behave like one?",
   "metadata": {
    "collapsed": false,
    "pycharm": {
     "name": "#%% md\n"
    },
    "cell_id": "00020-2a7f08a6-d9b3-4375-8999-562cf8dec1ab",
    "deepnote_cell_type": "markdown",
    "deepnote_cell_height": 74.78125
   }
  },
  {
   "cell_type": "code",
   "metadata": {
    "cell_id": "ee052aba49504f64822d9d31415e78c3",
    "deepnote_to_be_reexecuted": false,
    "execution_millis": 6,
    "execution_start": 1662632638259,
    "source_hash": "92ac98b0",
    "tags": [],
    "pycharm": {
     "name": "#%%\n"
    },
    "deepnote_cell_type": "code",
    "deepnote_cell_height": 112.1875,
    "deepnote_output_heights": [
     20.1875
    ]
   },
   "source": "titles[0]    # First item",
   "execution_count": 10,
   "outputs": [
    {
     "output_type": "execute_result",
     "execution_count": 10,
     "data": {
      "text/plain": "'The Shawshank Redemption'"
     },
     "metadata": {}
    }
   ]
  },
  {
   "cell_type": "code",
   "metadata": {
    "cell_id": "b9fe7b017b9f41bda4c45e98497b6a51",
    "deepnote_to_be_reexecuted": false,
    "execution_millis": 6,
    "execution_start": 1662632638260,
    "source_hash": "32327a70",
    "tags": [],
    "pycharm": {
     "name": "#%%\n"
    },
    "deepnote_cell_type": "code",
    "deepnote_cell_height": 208.125,
    "deepnote_output_heights": [
     116.125
    ]
   },
   "source": "titles[:5]  # First five items",
   "execution_count": 11,
   "outputs": [
    {
     "output_type": "execute_result",
     "execution_count": 11,
     "data": {
      "text/plain": "0    The Shawshank Redemption\n1               The Godfather\n2             The Dark Knight\n3       The Godfather Part II\n4                12 Angry Men\nName: title, dtype: object"
     },
     "metadata": {}
    }
   ]
  },
  {
   "cell_type": "markdown",
   "source": "**Exercise last_10_titles**: Select the last 10 movie titles from the list.",
   "metadata": {
    "collapsed": false,
    "pycharm": {
     "name": "#%% md\n"
    },
    "cell_id": "00023-4fd7d66c-381d-4b60-ae06-a12ce2f03050",
    "deepnote_cell_type": "markdown",
    "deepnote_cell_height": 52.390625
   }
  },
  {
   "cell_type": "code",
   "metadata": {
    "collapsed": false,
    "pycharm": {
     "name": "#%%\n"
    },
    "cell_id": "00024-675c8b06-4124-4169-b768-2d8e7f3de12b",
    "deepnote_to_be_reexecuted": false,
    "source_hash": "fc66f597",
    "execution_start": 1662632638268,
    "execution_millis": 8,
    "deepnote_cell_type": "code",
    "deepnote_cell_height": 185.75
   },
   "source": "run_solution(\"last_10_titles\")\nshow_solution(\"last_10_titles\")",
   "execution_count": 12,
   "outputs": [
    {
     "name": "stdout",
     "text": "def solution_last_10_titles(titles: pd.Series) -> pd.Series:\n    \"\"\"Select the last 10 movie titles from the list.\"\"\"\n    return titles[-10:]\n\n",
     "output_type": "stream"
    }
   ]
  },
  {
   "cell_type": "markdown",
   "source": "**Exercise list_like**: Choose a few more operations you would typically do with a list and try to apply them on `titles`. What will happen?",
   "metadata": {
    "collapsed": false,
    "pycharm": {
     "name": "#%% md\n"
    },
    "cell_id": "00025-013fead1-36b0-42e1-8dba-b0ec0aa59840",
    "deepnote_cell_type": "markdown",
    "deepnote_cell_height": 74.78125
   }
  },
  {
   "cell_type": "code",
   "metadata": {
    "collapsed": false,
    "pycharm": {
     "name": "#%%\n"
    },
    "cell_id": "00026-e6456518-3e93-481c-8bae-330efd0703af",
    "deepnote_to_be_reexecuted": false,
    "source_hash": "7ade1f37",
    "execution_start": 1662632638274,
    "execution_millis": 6,
    "deepnote_cell_type": "code",
    "deepnote_cell_height": 228.3125
   },
   "source": "show_solution(\"list_like\")",
   "execution_count": 13,
   "outputs": [
    {
     "name": "stdout",
     "text": "def solution_list_like(titles: pd.Series) -> None:\n    \"\"\"Choose a few more operations you would typically do with\n    a list and try to apply them on titles. What will happen?\"\"\"\n    sorted(titles)  # OK\n    reversed(titles)  # OK\n    # TODO: Add a few?\n\n",
     "output_type": "stream"
    }
   ]
  },
  {
   "cell_type": "markdown",
   "source": "It's quite easy to convert a Series to a list and vice versa. The easiest way to\ncreate a Series is actually to create its instance from a list (passed as a first argument):",
   "metadata": {
    "collapsed": false,
    "pycharm": {
     "name": "#%% md\n"
    },
    "cell_id": "00027-2a5463ae-ac91-4587-b5ce-ee09e2c13565",
    "deepnote_cell_type": "markdown",
    "deepnote_cell_height": 74.78125
   }
  },
  {
   "cell_type": "code",
   "metadata": {
    "collapsed": false,
    "pycharm": {
     "name": "#%%\n"
    },
    "cell_id": "00028-6a3e8920-fd6c-42f7-b6b3-b771dd03f78a",
    "deepnote_to_be_reexecuted": false,
    "source_hash": "6705cf47",
    "execution_start": 1662632638277,
    "execution_millis": 4,
    "deepnote_cell_type": "code",
    "deepnote_cell_height": 187.75,
    "deepnote_output_heights": [
     77.75
    ]
   },
   "source": "directors = pd.Series([\"Sofia Coppola\", \"Miloš Forman\", \"Lana Wachowski\"])\ndirectors",
   "execution_count": 14,
   "outputs": [
    {
     "output_type": "execute_result",
     "execution_count": 14,
     "data": {
      "text/plain": "0     Sofia Coppola\n1      Miloš Forman\n2    Lana Wachowski\ndtype: object"
     },
     "metadata": {}
    }
   ]
  },
  {
   "cell_type": "code",
   "metadata": {
    "cell_id": "ee9ee5efd2714a129f54391b5ac6cffb",
    "deepnote_to_be_reexecuted": false,
    "execution_millis": 2,
    "execution_start": 1662632638281,
    "source_hash": "9d96b933",
    "tags": [],
    "pycharm": {
     "name": "#%%\n"
    },
    "deepnote_cell_type": "code",
    "deepnote_cell_height": 148.1875,
    "deepnote_output_heights": [
     20.1875
    ]
   },
   "source": "directors.tolist()\n# or equivalently\nlist(directors)",
   "execution_count": 15,
   "outputs": [
    {
     "output_type": "execute_result",
     "execution_count": 15,
     "data": {
      "text/plain": "['Sofia Coppola', 'Miloš Forman', 'Lana Wachowski']"
     },
     "metadata": {}
    }
   ]
  },
  {
   "cell_type": "markdown",
   "source": "![Series](images/series.png)",
   "metadata": {
    "collapsed": false,
    "pycharm": {
     "name": "#%% md\n"
    },
    "cell_id": "00030-29286a48-f401-465c-9216-711baa052804",
    "deepnote_cell_type": "markdown",
    "deepnote_cell_height": 452
   }
  },
  {
   "cell_type": "markdown",
   "source": "The Series has 5 interesting properties:",
   "metadata": {
    "cell_id": "57e8e94de874419ea566bc0220f48fd6",
    "tags": [],
    "deepnote_cell_type": "markdown",
    "deepnote_cell_height": 52.390625
   }
  },
  {
   "cell_type": "markdown",
   "source": "#### [.values](https://pandas.pydata.org/docs/reference/api/pandas.Series.values.html)\n\nThe data itself, in the form of a numpy array (we are not covering this library in this workshop but be free to explore it!). Quite close to the list.",
   "metadata": {
    "cell_id": "c0c2d391834840649e125a2202cc5763",
    "tags": [],
    "deepnote_cell_type": "markdown",
    "deepnote_cell_height": 110.78125
   }
  },
  {
   "cell_type": "code",
   "metadata": {
    "cell_id": "4ffae5e600ea405bbae913354dfd1415",
    "deepnote_to_be_reexecuted": false,
    "execution_millis": 39,
    "execution_start": 1662632638285,
    "source_hash": "62ec1ef5",
    "tags": [],
    "pycharm": {
     "name": "#%%\n"
    },
    "deepnote_cell_type": "code",
    "deepnote_cell_height": 266,
    "deepnote_output_heights": [
     173.6875
    ]
   },
   "source": "titles[:20].values",
   "execution_count": 16,
   "outputs": [
    {
     "output_type": "execute_result",
     "execution_count": 16,
     "data": {
      "text/plain": "array(['The Shawshank Redemption', 'The Godfather', 'The Dark Knight',\n       'The Godfather Part II', '12 Angry Men', \"Schindler's List\",\n       'The Lord of the Rings: The Return of the King', 'Pulp Fiction',\n       'The Lord of the Rings: The Fellowship of the Ring',\n       'The Good, the Bad and the Ugly', 'Forrest Gump', 'Fight Club',\n       'Inception', 'The Lord of the Rings: The Two Towers',\n       'Star Wars: Episode V - The Empire Strikes Back', 'The Matrix',\n       'Goodfellas', \"One Flew Over the Cuckoo's Nest\", 'Se7en',\n       'Seven Samurai'], dtype=object)"
     },
     "metadata": {}
    }
   ]
  },
  {
   "cell_type": "code",
   "metadata": {
    "cell_id": "0c70ec26762047a6af72190a3854953c",
    "deepnote_to_be_reexecuted": false,
    "execution_millis": 3,
    "execution_start": 1662632638325,
    "source_hash": "a508fd21",
    "tags": [],
    "pycharm": {
     "name": "#%%\n"
    },
    "deepnote_cell_type": "code",
    "deepnote_cell_height": 112.1875,
    "deepnote_output_heights": [
     20.1875
    ]
   },
   "source": "type(titles.values)",
   "execution_count": 17,
   "outputs": [
    {
     "output_type": "execute_result",
     "execution_count": 17,
     "data": {
      "text/plain": "numpy.ndarray"
     },
     "metadata": {}
    }
   ]
  },
  {
   "cell_type": "markdown",
   "source": "#### [.dtype](https://pandas.pydata.org/docs/reference/api/pandas.Series.dtype.html)",
   "metadata": {
    "cell_id": "cc48abe41f0141b6abe4b3b835a6b24e",
    "tags": [],
    "deepnote_cell_type": "markdown",
    "deepnote_cell_height": 54
   }
  },
  {
   "cell_type": "markdown",
   "source": "Unlike list, all values of a series must be of the same type. Pandas has its own set of types, so-called **dtypes** that are close to basic Python types (like int, float, str) and can be converted to and from them but are (especially in the case of numbers) more specific in terms of precision and memory used. More on that later.\n\nBy default, objects are stored in the least efficient dtypes, \"object\" (or \"O\")",
   "metadata": {
    "cell_id": "d4ec3c7944aa43cf82b5a8989986f051",
    "tags": [],
    "deepnote_cell_type": "markdown",
    "deepnote_cell_height": 133.5625
   }
  },
  {
   "cell_type": "code",
   "metadata": {
    "cell_id": "219296631d15415584018d2112248429",
    "deepnote_to_be_reexecuted": false,
    "execution_millis": 9,
    "execution_start": 1662632638330,
    "source_hash": "4b02bf65",
    "tags": [],
    "pycharm": {
     "name": "#%%\n"
    },
    "deepnote_cell_type": "code",
    "deepnote_cell_height": 112.1875,
    "deepnote_output_heights": [
     20.1875
    ]
   },
   "source": "titles.dtype",
   "execution_count": 18,
   "outputs": [
    {
     "output_type": "execute_result",
     "execution_count": 18,
     "data": {
      "text/plain": "dtype('O')"
     },
     "metadata": {}
    }
   ]
  },
  {
   "cell_type": "markdown",
   "source": "#### [.index](https://pandas.pydata.org/docs/reference/api/pandas.Series.index.html)\n\nIn a list, you select items by their numerical order; in a dict, you use a key (but not order). Pandas introduces a generalized (potentially multi-level) index that allows accessing items by both the order or label, and also allows using ranges in natural scales like time.\n\nBy default, a range index is created for you that corresponds exactly to the order of items.",
   "metadata": {
    "cell_id": "7612a5ba55284a0f9437a24c0959fa66",
    "tags": [],
    "deepnote_cell_type": "markdown",
    "deepnote_cell_height": 169.5625
   }
  },
  {
   "cell_type": "code",
   "metadata": {
    "cell_id": "dfeb8cb31f2f478b9df93fed44b7a537",
    "deepnote_to_be_reexecuted": false,
    "execution_millis": 4,
    "execution_start": 1662632638338,
    "source_hash": "7bb7da30",
    "tags": [],
    "pycharm": {
     "name": "#%%\n"
    },
    "deepnote_cell_type": "code",
    "deepnote_cell_height": 112.1875,
    "deepnote_output_heights": [
     20.1875
    ]
   },
   "source": "titles.index",
   "execution_count": 19,
   "outputs": [
    {
     "output_type": "execute_result",
     "execution_count": 19,
     "data": {
      "text/plain": "RangeIndex(start=0, stop=250, step=1)"
     },
     "metadata": {}
    }
   ]
  },
  {
   "cell_type": "markdown",
   "source": "### [.name](https://pandas.pydata.org/docs/reference/api/pandas.Series.name.html)\n\nAn optional attribute, used e.g. in the DataFrames. It does not have anything to do with the variable the Series is stored in.",
   "metadata": {
    "cell_id": "1a2ef4ed134249119de17a41f7e4f716",
    "tags": [],
    "deepnote_cell_type": "markdown",
    "deepnote_cell_height": 100.390625
   }
  },
  {
   "cell_type": "code",
   "metadata": {
    "cell_id": "ecd63871f2b345be8fb4ab4b7fe47a0d",
    "deepnote_to_be_reexecuted": false,
    "execution_millis": 3,
    "execution_start": 1662632638340,
    "source_hash": "ffb08166",
    "tags": [],
    "pycharm": {
     "name": "#%%\n"
    },
    "deepnote_cell_type": "code",
    "deepnote_cell_height": 112.1875,
    "deepnote_output_heights": [
     20.1875
    ]
   },
   "source": "titles.name",
   "execution_count": 20,
   "outputs": [
    {
     "output_type": "execute_result",
     "execution_count": 20,
     "data": {
      "text/plain": "'title'"
     },
     "metadata": {}
    }
   ]
  },
  {
   "cell_type": "markdown",
   "source": "### [.size](https://pandas.pydata.org/docs/reference/api/pandas.Series.size.html)",
   "metadata": {
    "cell_id": "94f717971e3d470787e1ac54abc3df44",
    "tags": [],
    "deepnote_cell_type": "markdown",
    "deepnote_cell_height": 62
   }
  },
  {
   "cell_type": "markdown",
   "source": "A read-only property telling how many items are stored in the series.",
   "metadata": {
    "cell_id": "fa6cc9fb2cbf449190991935149d8962",
    "tags": [],
    "deepnote_cell_type": "markdown",
    "deepnote_cell_height": 52.390625
   }
  },
  {
   "cell_type": "code",
   "metadata": {
    "cell_id": "c312238826134d448fced3b506e7a193",
    "deepnote_to_be_reexecuted": false,
    "execution_millis": 2,
    "execution_start": 1662632638344,
    "source_hash": "a2df03e7",
    "tags": [],
    "pycharm": {
     "name": "#%%\n"
    },
    "deepnote_cell_type": "code",
    "deepnote_cell_height": 148.1875,
    "deepnote_output_heights": [
     20.1875
    ]
   },
   "source": "titles.size\n\n# or len(titles)",
   "execution_count": 21,
   "outputs": [
    {
     "output_type": "execute_result",
     "execution_count": 21,
     "data": {
      "text/plain": "250"
     },
     "metadata": {}
    }
   ]
  },
  {
   "cell_type": "markdown",
   "source": "When creating a Series, you may state these attributes (apart from `size`) explicitly using keyword arguments:",
   "metadata": {
    "cell_id": "47a1c940390a4a99a3173003068b0517",
    "tags": [],
    "deepnote_cell_type": "markdown",
    "deepnote_cell_height": 52.390625
   }
  },
  {
   "cell_type": "code",
   "metadata": {
    "cell_id": "341300a7990b42c5b3b3cae1a881015d",
    "tags": [],
    "deepnote_to_be_reexecuted": false,
    "source_hash": "bd6f797b",
    "execution_start": 1662632638348,
    "execution_millis": 4,
    "deepnote_cell_type": "code",
    "deepnote_cell_height": 277.75,
    "deepnote_output_heights": [
     77.75
    ]
   },
   "source": "ages = pd.Series(\n    [73, 32, 83],\n    name=\"Actor age\",\n    index=[\"Meryl Streep\", \"Emma Watson\", \"Ian MacKellen\"],\n    dtype=float\n)\nages",
   "execution_count": 22,
   "outputs": [
    {
     "output_type": "execute_result",
     "execution_count": 22,
     "data": {
      "text/plain": "Meryl Streep     73.0\nEmma Watson      32.0\nIan MacKellen    83.0\nName: Actor age, dtype: float64"
     },
     "metadata": {}
    }
   ]
  },
  {
   "cell_type": "markdown",
   "source": "### Index\n\nAs stated, the index is a generalized key/order label for the series items (or data frame rows or columns).\n\nBy default, a RangeIndex starts with 0 and monotonically increaes item-by-item (or row-by-row).",
   "metadata": {
    "cell_id": "00012-4c41cc3d-9802-4514-9d61-142e4bb648e9",
    "pycharm": {
     "name": "#%% md\n"
    },
    "deepnote_cell_type": "markdown",
    "deepnote_cell_height": 136.78125
   }
  },
  {
   "cell_type": "code",
   "metadata": {
    "cell_id": "8c2565f171af4d24bcc9ee481462bade",
    "deepnote_to_be_reexecuted": false,
    "execution_millis": 6,
    "execution_start": 1662632638351,
    "source_hash": "7bb7da30",
    "tags": [],
    "pycharm": {
     "name": "#%%\n"
    },
    "deepnote_cell_type": "code",
    "deepnote_cell_height": 112.1875,
    "deepnote_output_heights": [
     20.1875
    ]
   },
   "source": "titles.index",
   "execution_count": 23,
   "outputs": [
    {
     "output_type": "execute_result",
     "execution_count": 23,
     "data": {
      "text/plain": "RangeIndex(start=0, stop=250, step=1)"
     },
     "metadata": {}
    }
   ]
  },
  {
   "cell_type": "markdown",
   "source": "However, there are other types of indices too:",
   "metadata": {
    "cell_id": "b758a60169c84bcca0aa61bcb2da2e14",
    "tags": [],
    "deepnote_cell_type": "markdown",
    "deepnote_cell_height": 52.390625
   }
  },
  {
   "cell_type": "code",
   "metadata": {
    "cell_id": "b1aba939c22c48fda4416fad0ce36c6e",
    "tags": [],
    "pycharm": {
     "name": "#%%\n"
    },
    "deepnote_to_be_reexecuted": false,
    "source_hash": "84fedacf",
    "execution_start": 1662632638356,
    "execution_millis": 5,
    "deepnote_cell_type": "code",
    "deepnote_cell_height": 112.1875,
    "deepnote_output_heights": [
     20.1875
    ]
   },
   "source": "ages.index",
   "execution_count": 24,
   "outputs": [
    {
     "output_type": "execute_result",
     "execution_count": 24,
     "data": {
      "text/plain": "Index(['Meryl Streep', 'Emma Watson', 'Ian MacKellen'], dtype='object')"
     },
     "metadata": {}
    }
   ]
  },
  {
   "cell_type": "code",
   "metadata": {
    "cell_id": "418ecdbf884b408e99a0899195c27c92",
    "tags": [],
    "deepnote_to_be_reexecuted": false,
    "source_hash": "183eae56",
    "execution_start": 1662632638360,
    "execution_millis": 5,
    "deepnote_cell_type": "code",
    "deepnote_cell_height": 184.1875,
    "deepnote_output_heights": [
     20.1875
    ]
   },
   "source": "best_picture = pd.Series(\n    [\"Parasite\", \"Nomadland\", \"Coda\"],\n    index=[2019, 2020, 2021]\n)\nbest_picture.index",
   "execution_count": 25,
   "outputs": [
    {
     "output_type": "execute_result",
     "execution_count": 25,
     "data": {
      "text/plain": "Int64Index([2019, 2020, 2021], dtype='int64')"
     },
     "metadata": {}
    }
   ]
  },
  {
   "cell_type": "markdown",
   "source": "You can create a index also explicitly or using various utility functions:",
   "metadata": {
    "cell_id": "c90af59194dd4de7a2736bea38a504ea",
    "tags": [],
    "deepnote_cell_type": "markdown",
    "deepnote_cell_height": 52.390625
   }
  },
  {
   "cell_type": "code",
   "metadata": {
    "cell_id": "2d79390a88f14196abf3b7d4bf946440",
    "tags": [],
    "deepnote_to_be_reexecuted": false,
    "source_hash": "b3d2a092",
    "execution_start": 1662632638365,
    "execution_millis": 9,
    "deepnote_cell_type": "code",
    "deepnote_cell_height": 265.6875,
    "deepnote_output_heights": [
     173.6875
    ]
   },
   "source": "pd.date_range(\"2022-09-01\", \"2022-09-30\")",
   "execution_count": 26,
   "outputs": [
    {
     "output_type": "execute_result",
     "execution_count": 26,
     "data": {
      "text/plain": "DatetimeIndex(['2022-09-01', '2022-09-02', '2022-09-03', '2022-09-04',\n               '2022-09-05', '2022-09-06', '2022-09-07', '2022-09-08',\n               '2022-09-09', '2022-09-10', '2022-09-11', '2022-09-12',\n               '2022-09-13', '2022-09-14', '2022-09-15', '2022-09-16',\n               '2022-09-17', '2022-09-18', '2022-09-19', '2022-09-20',\n               '2022-09-21', '2022-09-22', '2022-09-23', '2022-09-24',\n               '2022-09-25', '2022-09-26', '2022-09-27', '2022-09-28',\n               '2022-09-29', '2022-09-30'],\n              dtype='datetime64[ns]', freq='D')"
     },
     "metadata": {}
    }
   ]
  },
  {
   "cell_type": "markdown",
   "source": "**Exercise own_series**: Create your own series with your favourites in the movie industry, setting a custom index.",
   "metadata": {
    "cell_id": "806376415ab14405a5724250d2113d26",
    "tags": [],
    "deepnote_cell_type": "markdown",
    "deepnote_cell_height": 52.390625
   }
  },
  {
   "cell_type": "code",
   "metadata": {
    "cell_id": "c2746ab31bf54e25a9699237c9e80fec",
    "tags": [],
    "deepnote_to_be_reexecuted": false,
    "source_hash": "65e4f229",
    "execution_start": 1662632638375,
    "execution_millis": 46,
    "deepnote_cell_type": "code",
    "deepnote_cell_height": 203.375,
    "deepnote_output_heights": [
     39.375
    ]
   },
   "source": "pd.Series(\n    ...\n)\n\n# No correct answer :-)",
   "execution_count": 27,
   "outputs": [
    {
     "output_type": "execute_result",
     "execution_count": 27,
     "data": {
      "text/plain": "0    Ellipsis\ndtype: object"
     },
     "metadata": {}
    }
   ]
  },
  {
   "cell_type": "markdown",
   "source": "### DataFrame",
   "metadata": {
    "cell_id": "00013-5a792c08-d00f-470b-b076-c1f2911a320e",
    "pycharm": {
     "name": "#%% md\n"
    },
    "deepnote_cell_type": "markdown",
    "deepnote_cell_height": 62
   }
  },
  {
   "cell_type": "markdown",
   "source": "![DataFrame](images/data_frame.png)",
   "metadata": {
    "collapsed": false,
    "pycharm": {
     "name": "#%% md\n"
    },
    "cell_id": "00041-6576f8d3-87e7-4177-ae06-37850d3c86bc",
    "deepnote_cell_type": "markdown",
    "deepnote_cell_height": 543.15625
   }
  },
  {
   "cell_type": "markdown",
   "source": "Let's get back to DataFrame...\n\nAs `Series`is a container of values labeled by an `Index`, a `DataFrame` is a two-dimensional container that wraps an array (`.values`) in two indices: one for rows and one for columns.\n\nIt has a similar set of properties:",
   "metadata": {
    "cell_id": "76b7cd7a42db47e2b31c3402910402b8",
    "tags": [],
    "deepnote_cell_type": "markdown",
    "deepnote_cell_height": 147.5625
   }
  },
  {
   "cell_type": "code",
   "metadata": {
    "cell_id": "104170c7a5574b7f9eff42222049f6bd",
    "deepnote_to_be_reexecuted": false,
    "execution_millis": 5,
    "execution_start": 1662632638421,
    "source_hash": "c8a8c27a",
    "tags": [],
    "pycharm": {
     "name": "#%%\n"
    },
    "deepnote_cell_type": "code",
    "deepnote_cell_height": 112.1875,
    "deepnote_output_heights": [
     20.1875
    ]
   },
   "source": "data.columns",
   "execution_count": 28,
   "outputs": [
    {
     "output_type": "execute_result",
     "execution_count": 28,
     "data": {
      "text/plain": "Index(['rank', 'title', 'year', 'rating'], dtype='object')"
     },
     "metadata": {}
    }
   ]
  },
  {
   "cell_type": "markdown",
   "source": "Note that the index is shared by all columns (Series) the DataFrame is composed of:",
   "metadata": {
    "cell_id": "87dbbaf00182413d97642e38b36c587a",
    "tags": [],
    "deepnote_cell_type": "markdown",
    "deepnote_cell_height": 52.390625
   }
  },
  {
   "cell_type": "code",
   "metadata": {
    "cell_id": "ced1321e1a28484d9feab070c3b4f90f",
    "deepnote_to_be_reexecuted": false,
    "execution_millis": 4,
    "execution_start": 1662632638440,
    "source_hash": "1abd022c",
    "tags": [],
    "pycharm": {
     "name": "#%%\n"
    },
    "deepnote_cell_type": "code",
    "deepnote_cell_height": 112.1875,
    "deepnote_output_heights": [
     20.1875
    ]
   },
   "source": "data.index",
   "execution_count": 29,
   "outputs": [
    {
     "output_type": "execute_result",
     "execution_count": 29,
     "data": {
      "text/plain": "RangeIndex(start=0, stop=250, step=1)"
     },
     "metadata": {}
    }
   ]
  },
  {
   "cell_type": "code",
   "metadata": {
    "cell_id": "3770dbcaaa014de38fdd8183ed33d682",
    "tags": [],
    "deepnote_to_be_reexecuted": false,
    "source_hash": "b6766319",
    "execution_start": 1662632638441,
    "execution_millis": 3,
    "deepnote_cell_type": "code",
    "deepnote_cell_height": 112.1875,
    "deepnote_output_heights": [
     20.1875
    ]
   },
   "source": "data.index is titles.index",
   "execution_count": 30,
   "outputs": [
    {
     "output_type": "execute_result",
     "execution_count": 30,
     "data": {
      "text/plain": "True"
     },
     "metadata": {}
    }
   ]
  },
  {
   "cell_type": "code",
   "metadata": {
    "cell_id": "465322595e6840ca9eabbbdbaa8bd266",
    "deepnote_to_be_reexecuted": false,
    "execution_millis": 4,
    "execution_start": 1662632638441,
    "source_hash": "836adc95",
    "tags": [],
    "pycharm": {
     "name": "#%%\n"
    },
    "deepnote_cell_type": "code",
    "deepnote_cell_height": 304.0625,
    "deepnote_output_heights": [
     212.0625
    ]
   },
   "source": "data.values[:10]",
   "execution_count": 31,
   "outputs": [
    {
     "output_type": "execute_result",
     "execution_count": 31,
     "data": {
      "text/plain": "array([[1, 'The Shawshank Redemption', 1994, 9.2],\n       [2, 'The Godfather', 1972, 9.2],\n       [3, 'The Dark Knight', 2008, 9.0],\n       [4, 'The Godfather Part II', 1974, 9.0],\n       [5, '12 Angry Men', 1957, 8.9],\n       [6, \"Schindler's List\", 1993, 8.9],\n       [7, 'The Lord of the Rings: The Return of the King', 2003, 8.9],\n       [8, 'Pulp Fiction', 1994, 8.8],\n       [9, 'The Lord of the Rings: The Fellowship of the Ring', 2001,\n        8.8],\n       [10, 'The Good, the Bad and the Ugly', 1966, 8.8]], dtype=object)"
     },
     "metadata": {}
    }
   ]
  },
  {
   "cell_type": "code",
   "metadata": {
    "cell_id": "124f50ccfc304f5c9aabf73400a8ab17",
    "deepnote_to_be_reexecuted": false,
    "execution_millis": 7,
    "execution_start": 1662632638443,
    "source_hash": "c3f8cc01",
    "tags": [],
    "pycharm": {
     "name": "#%%\n"
    },
    "deepnote_cell_type": "code",
    "deepnote_cell_height": 112.1875,
    "deepnote_output_heights": [
     20.1875
    ]
   },
   "source": "data.shape   # Size (rows x columns)",
   "execution_count": 32,
   "outputs": [
    {
     "output_type": "execute_result",
     "execution_count": 32,
     "data": {
      "text/plain": "(250, 4)"
     },
     "metadata": {}
    }
   ]
  },
  {
   "cell_type": "code",
   "source": "data.dtypes",
   "metadata": {
    "cell_id": "e6a7abec19e744e0ad04d3ff43650b37",
    "tags": [],
    "deepnote_to_be_reexecuted": false,
    "source_hash": "ae3db336",
    "execution_start": 1662632638450,
    "execution_millis": 4,
    "deepnote_cell_type": "code",
    "deepnote_cell_height": 188.9375,
    "deepnote_output_heights": [
     96.9375
    ]
   },
   "outputs": [
    {
     "output_type": "execute_result",
     "execution_count": 33,
     "data": {
      "text/plain": "rank        int64\ntitle      object\nyear        int64\nrating    float64\ndtype: object"
     },
     "metadata": {}
    }
   ],
   "execution_count": 33
  },
  {
   "cell_type": "markdown",
   "source": "If you want to create a new DataFrame (apart from reading it from an external source), you can select one of several ways, most frequently from a list of dicts or a dict of lists (or even a dict of dicts).",
   "metadata": {
    "cell_id": "9b87ee3ef6b7471fa10d43cf532a3ae2",
    "tags": [],
    "deepnote_cell_type": "markdown",
    "deepnote_cell_height": 74.78125
   }
  },
  {
   "cell_type": "code",
   "metadata": {
    "cell_id": "ea2e919b6e7846bca55ee3e69e8f47c1",
    "deepnote_to_be_reexecuted": false,
    "execution_millis": 3,
    "execution_start": 1662632638473,
    "source_hash": "ca4a8f6e",
    "tags": [],
    "pycharm": {
     "name": "#%%\n"
    },
    "deepnote_cell_type": "code",
    "deepnote_cell_height": 362
   },
   "source": "pd.DataFrame({\n    \"movie\": [\"Trainspotting\", \"The Matrix\", \"Forrest Gump\"],\n    \"main character\": [\"Mark Renton\", \"Neo\", \"Forrest Gump\"]\n})",
   "execution_count": 34,
   "outputs": [
    {
     "output_type": "execute_result",
     "execution_count": 34,
     "data": {
      "application/vnd.deepnote.dataframe.v3+json": {
       "column_count": 2,
       "row_count": 3,
       "columns": [
        {
         "name": "movie",
         "dtype": "object",
         "stats": {
          "unique_count": 3,
          "nan_count": 0,
          "categories": [
           {
            "name": "Trainspotting",
            "count": 1
           },
           {
            "name": "The Matrix",
            "count": 1
           },
           {
            "name": "Forrest Gump",
            "count": 1
           }
          ]
         }
        },
        {
         "name": "main character",
         "dtype": "object",
         "stats": {
          "unique_count": 3,
          "nan_count": 0,
          "categories": [
           {
            "name": "Mark Renton",
            "count": 1
           },
           {
            "name": "Neo",
            "count": 1
           },
           {
            "name": "Forrest Gump",
            "count": 1
           }
          ]
         }
        },
        {
         "name": "_deepnote_index_column",
         "dtype": "int64"
        }
       ],
       "rows": [
        {
         "movie": "Trainspotting",
         "main character": "Mark Renton",
         "_deepnote_index_column": "0"
        },
        {
         "movie": "The Matrix",
         "main character": "Neo",
         "_deepnote_index_column": "1"
        },
        {
         "movie": "Forrest Gump",
         "main character": "Forrest Gump",
         "_deepnote_index_column": "2"
        }
       ]
      },
      "text/plain": "           movie main character\n0  Trainspotting    Mark Renton\n1     The Matrix            Neo\n2   Forrest Gump   Forrest Gump",
      "text/html": "<div>\n<style scoped>\n    .dataframe tbody tr th:only-of-type {\n        vertical-align: middle;\n    }\n\n    .dataframe tbody tr th {\n        vertical-align: top;\n    }\n\n    .dataframe thead th {\n        text-align: right;\n    }\n</style>\n<table border=\"1\" class=\"dataframe\">\n  <thead>\n    <tr style=\"text-align: right;\">\n      <th></th>\n      <th>movie</th>\n      <th>main character</th>\n    </tr>\n  </thead>\n  <tbody>\n    <tr>\n      <th>0</th>\n      <td>Trainspotting</td>\n      <td>Mark Renton</td>\n    </tr>\n    <tr>\n      <th>1</th>\n      <td>The Matrix</td>\n      <td>Neo</td>\n    </tr>\n    <tr>\n      <th>2</th>\n      <td>Forrest Gump</td>\n      <td>Forrest Gump</td>\n    </tr>\n  </tbody>\n</table>\n</div>"
     },
     "metadata": {}
    }
   ]
  },
  {
   "cell_type": "markdown",
   "source": "is equivalent to:",
   "metadata": {
    "cell_id": "603bdab20e394db6b1a3be8b6fee7471",
    "tags": [],
    "deepnote_cell_type": "markdown",
    "deepnote_cell_height": 52.390625
   }
  },
  {
   "cell_type": "code",
   "metadata": {
    "cell_id": "89675dbbdae940a0bb253f629e001370",
    "tags": [],
    "deepnote_to_be_reexecuted": false,
    "source_hash": "8413e7ce",
    "execution_start": 1662632638474,
    "execution_millis": 3,
    "deepnote_cell_type": "code",
    "deepnote_cell_height": 380
   },
   "source": "pd.DataFrame([\n    {\"movie\": \"Trainspotting\",  \"main character\": \"Mark Renton\"},\n    {\"movie\": \"The Matrix\",  \"main character\": \"Neo\"},\n    {\"movie\": \"Forrest Gump\",  \"main character\": \"Forrest Gump\"},\n])",
   "execution_count": 35,
   "outputs": [
    {
     "output_type": "execute_result",
     "execution_count": 35,
     "data": {
      "application/vnd.deepnote.dataframe.v3+json": {
       "column_count": 2,
       "row_count": 3,
       "columns": [
        {
         "name": "movie",
         "dtype": "object",
         "stats": {
          "unique_count": 3,
          "nan_count": 0,
          "categories": [
           {
            "name": "Trainspotting",
            "count": 1
           },
           {
            "name": "The Matrix",
            "count": 1
           },
           {
            "name": "Forrest Gump",
            "count": 1
           }
          ]
         }
        },
        {
         "name": "main character",
         "dtype": "object",
         "stats": {
          "unique_count": 3,
          "nan_count": 0,
          "categories": [
           {
            "name": "Mark Renton",
            "count": 1
           },
           {
            "name": "Neo",
            "count": 1
           },
           {
            "name": "Forrest Gump",
            "count": 1
           }
          ]
         }
        },
        {
         "name": "_deepnote_index_column",
         "dtype": "int64"
        }
       ],
       "rows": [
        {
         "movie": "Trainspotting",
         "main character": "Mark Renton",
         "_deepnote_index_column": "0"
        },
        {
         "movie": "The Matrix",
         "main character": "Neo",
         "_deepnote_index_column": "1"
        },
        {
         "movie": "Forrest Gump",
         "main character": "Forrest Gump",
         "_deepnote_index_column": "2"
        }
       ]
      },
      "text/plain": "           movie main character\n0  Trainspotting    Mark Renton\n1     The Matrix            Neo\n2   Forrest Gump   Forrest Gump",
      "text/html": "<div>\n<style scoped>\n    .dataframe tbody tr th:only-of-type {\n        vertical-align: middle;\n    }\n\n    .dataframe tbody tr th {\n        vertical-align: top;\n    }\n\n    .dataframe thead th {\n        text-align: right;\n    }\n</style>\n<table border=\"1\" class=\"dataframe\">\n  <thead>\n    <tr style=\"text-align: right;\">\n      <th></th>\n      <th>movie</th>\n      <th>main character</th>\n    </tr>\n  </thead>\n  <tbody>\n    <tr>\n      <th>0</th>\n      <td>Trainspotting</td>\n      <td>Mark Renton</td>\n    </tr>\n    <tr>\n      <th>1</th>\n      <td>The Matrix</td>\n      <td>Neo</td>\n    </tr>\n    <tr>\n      <th>2</th>\n      <td>Forrest Gump</td>\n      <td>Forrest Gump</td>\n    </tr>\n  </tbody>\n</table>\n</div>"
     },
     "metadata": {}
    }
   ]
  },
  {
   "cell_type": "markdown",
   "source": "**Exercise actors_and_ages:** Similar to the `ages` Series defined above, create a DataFrame that contains three columns \"first_name\", \"surname\" and \"age\" of the listed actors (or your favourite ones.)",
   "metadata": {
    "cell_id": "9e506ae8527841cc83d35186041380da",
    "tags": [],
    "deepnote_cell_type": "markdown",
    "deepnote_cell_height": 74.78125
   }
  },
  {
   "cell_type": "code",
   "metadata": {
    "cell_id": "c1cb0470f9744138a7ba544f04e8189d",
    "tags": [],
    "deepnote_to_be_reexecuted": false,
    "source_hash": "58933308",
    "execution_start": 1662632638475,
    "execution_millis": 44,
    "deepnote_cell_type": "code",
    "deepnote_cell_height": 94
   },
   "source": "# run_solution(\"actors_and_ages\")\n# show_solution(\"actors_and_ages\")",
   "execution_count": 36,
   "outputs": []
  },
  {
   "cell_type": "markdown",
   "source": "## Data types\n\n(see https://pandas.pydata.org/docs/user_guide/basics.html#basics-dtypes)",
   "metadata": {
    "cell_id": "00015-73cdaafa-2a4f-4345-ab5f-b1453d3026b2",
    "pycharm": {
     "name": "#%% md\n"
    },
    "deepnote_cell_type": "markdown",
    "deepnote_cell_height": 108.390625
   }
  },
  {
   "cell_type": "code",
   "metadata": {
    "cell_id": "00016-de87515c-1455-4789-9126-73be37737ea6",
    "pycharm": {
     "name": "#%%\n"
    },
    "deepnote_to_be_reexecuted": false,
    "source_hash": "ae3db336",
    "execution_start": 1662632638535,
    "execution_millis": 3,
    "deepnote_cell_type": "code",
    "deepnote_cell_height": 188.9375,
    "deepnote_output_heights": [
     96.9375
    ]
   },
   "source": "data.dtypes",
   "execution_count": 37,
   "outputs": [
    {
     "output_type": "execute_result",
     "execution_count": 37,
     "data": {
      "text/plain": "rank        int64\ntitle      object\nyear        int64\nrating    float64\ndtype: object"
     },
     "metadata": {}
    }
   ]
  },
  {
   "cell_type": "markdown",
   "source": "### Integers",
   "metadata": {
    "cell_id": "00017-52e6d0a9-f675-4380-afa7-621bdaa6a40f",
    "pycharm": {
     "name": "#%% md\n"
    },
    "deepnote_cell_type": "markdown",
    "deepnote_cell_height": 62
   }
  },
  {
   "cell_type": "markdown",
   "source": "",
   "metadata": {
    "cell_id": "3bca4178715849ad93873b21c9216195",
    "tags": [],
    "deepnote_cell_type": "markdown",
    "deepnote_cell_height": 46
   }
  },
  {
   "cell_type": "markdown",
   "source": "In recent versions, pandas introduce a [nullable integer dtype](https://pandas.pydata.org/docs/user_guide/integer_na.html), that allows to express missing values (NA).",
   "metadata": {
    "cell_id": "4be3cff4afec4832af611a2394a108ab",
    "tags": [],
    "deepnote_cell_type": "markdown",
    "deepnote_cell_height": 52.390625
   }
  },
  {
   "cell_type": "code",
   "source": "# pd.Series([1, 2, 3, None, 5, 6], dtype=int)   # This would cause an error\n\npd.Series([1, 2, 3, None, 5, 6], dtype=\"Int64\") \n",
   "metadata": {
    "cell_id": "a6c5dc488ae54d4c8674d60724512f61",
    "tags": [],
    "deepnote_to_be_reexecuted": false,
    "source_hash": "6d2de436",
    "execution_start": 1662632638536,
    "execution_millis": 2,
    "deepnote_cell_type": "code",
    "deepnote_cell_height": 281.3125,
    "deepnote_output_heights": [
     135.3125
    ]
   },
   "outputs": [
    {
     "output_type": "execute_result",
     "execution_count": 38,
     "data": {
      "text/plain": "0       1\n1       2\n2       3\n3    <NA>\n4       5\n5       6\ndtype: Int64"
     },
     "metadata": {}
    }
   ],
   "execution_count": 38
  },
  {
   "cell_type": "markdown",
   "source": "### Floats",
   "metadata": {
    "cell_id": "00018-2cf91625-90a9-42b7-bfb1-0e6994ecc38f",
    "pycharm": {
     "name": "#%% md\n"
    },
    "deepnote_cell_type": "markdown",
    "deepnote_cell_height": 62
   }
  },
  {
   "cell_type": "markdown",
   "source": "### Booleans",
   "metadata": {
    "cell_id": "00019-a5311162-b687-4f12-b4e6-2b5bd0ac8e6e",
    "pycharm": {
     "name": "#%% md\n"
    },
    "deepnote_cell_type": "markdown",
    "deepnote_cell_height": 62
   }
  },
  {
   "cell_type": "markdown",
   "source": "### Strings (& objects)",
   "metadata": {
    "cell_id": "00020-8a7da2e8-b004-4853-89df-0eb4fb68fe58",
    "pycharm": {
     "name": "#%% md\n"
    },
    "deepnote_cell_type": "markdown",
    "deepnote_cell_height": 62
   }
  },
  {
   "cell_type": "markdown",
   "source": "Currently, pandas has two dtypes to handle strings:\n- (default) the object type that supports all Python objects in general (such as lists, user-defined classes, ...)\n- the (relatively) new \"string\" dtype, that is more suited to strings (disallows some assignments) and promises higher effectivity in the future.",
   "metadata": {
    "cell_id": "01a4651282f24c6f9ecdeda51451baa9",
    "tags": [],
    "deepnote_cell_type": "markdown",
    "deepnote_cell_height": 150.5625
   }
  },
  {
   "cell_type": "code",
   "source": "actor_names = pd.Series([\"John Travolta\", \"Uma Thurman\", \"Samuel L. Jackson\"])\nactor_names",
   "metadata": {
    "cell_id": "fd0c78daab5a4f3782f0809553766359",
    "tags": [],
    "deepnote_to_be_reexecuted": false,
    "source_hash": "631ea706",
    "execution_start": 1662632638536,
    "execution_millis": 3,
    "deepnote_cell_type": "code",
    "deepnote_cell_height": 187.75,
    "deepnote_output_heights": [
     77.75
    ]
   },
   "outputs": [
    {
     "output_type": "execute_result",
     "execution_count": 39,
     "data": {
      "text/plain": "0        John Travolta\n1          Uma Thurman\n2    Samuel L. Jackson\ndtype: object"
     },
     "metadata": {}
    }
   ],
   "execution_count": 39
  },
  {
   "cell_type": "code",
   "source": "actor_names[0] = 1994\nactor_names",
   "metadata": {
    "cell_id": "c4d4178554254e4aaf645a0b726c2f4f",
    "tags": [],
    "deepnote_to_be_reexecuted": false,
    "source_hash": "caa056b3",
    "execution_start": 1662632638537,
    "execution_millis": 6,
    "deepnote_cell_type": "code",
    "deepnote_cell_height": 187.75,
    "deepnote_output_heights": [
     77.75
    ]
   },
   "outputs": [
    {
     "output_type": "execute_result",
     "execution_count": 40,
     "data": {
      "text/plain": "0                 1994\n1          Uma Thurman\n2    Samuel L. Jackson\ndtype: object"
     },
     "metadata": {}
    }
   ],
   "execution_count": 40
  },
  {
   "cell_type": "code",
   "source": "actor_names = pd.Series([\"John Travolta\", \"Uma Thurman\", \"Samuel L. Jackson\"], dtype=\"string\")\n\n# actor_names[0] = 1994  # Not allowed",
   "metadata": {
    "cell_id": "a1d16a3d14ce4e33952c1f4ef9c6e2d7",
    "tags": [],
    "deepnote_to_be_reexecuted": false,
    "source_hash": "4af02fce",
    "execution_start": 1662632638544,
    "execution_millis": 1,
    "deepnote_cell_type": "code",
    "deepnote_cell_height": 112,
    "deepnote_output_heights": [
     77.75
    ]
   },
   "outputs": [],
   "execution_count": 41
  },
  {
   "cell_type": "markdown",
   "source": "### Categorical",
   "metadata": {
    "cell_id": "00021-6951019e-fd43-4df2-a4f3-b6c1ffd9063c",
    "pycharm": {
     "name": "#%% md\n"
    },
    "deepnote_cell_type": "markdown",
    "deepnote_cell_height": 62
   }
  },
  {
   "cell_type": "code",
   "source": "pd.Series(2 * [\"apple\"] + 8 * [\"pear\"], dtype=\"category\")",
   "metadata": {
    "cell_id": "c91441728e4c43329986025bc08e9462",
    "tags": [],
    "deepnote_to_be_reexecuted": false,
    "source_hash": "6d56b501",
    "execution_start": 1662632657194,
    "execution_millis": 9,
    "deepnote_cell_type": "code",
    "deepnote_cell_height": 342.4375,
    "deepnote_output_heights": [
     250.4375
    ]
   },
   "outputs": [
    {
     "output_type": "execute_result",
     "execution_count": 44,
     "data": {
      "text/plain": "0    apple\n1    apple\n2     pear\n3     pear\n4     pear\n5     pear\n6     pear\n7     pear\n8     pear\n9     pear\ndtype: category\nCategories (2, object): ['apple', 'pear']"
     },
     "metadata": {}
    }
   ],
   "execution_count": 44
  },
  {
   "cell_type": "markdown",
   "source": "TODO: Mention extension types\n\n- ",
   "metadata": {
    "cell_id": "00022-a9ad3530-2663-4a42-9c0b-d9a7ddf4fc96",
    "pycharm": {
     "name": "#%% md\n"
    },
    "deepnote_cell_type": "markdown",
    "deepnote_cell_height": 102.78125
   }
  },
  {
   "cell_type": "markdown",
   "source": "## Indexing\n\n(see https://pandas.pydata.org/docs/user_guide/indexing.html)",
   "metadata": {
    "cell_id": "00023-3742473c-570d-4a8f-b33e-8b33c5291c2b",
    "pycharm": {
     "name": "#%% md\n"
    },
    "deepnote_cell_type": "markdown",
    "deepnote_cell_height": 108.390625
   }
  },
  {
   "cell_type": "markdown",
   "source": "<a style='text-decoration:none;line-height:16px;display:flex;color:#5B5B62;padding:10px;justify-content:end;' href='https://deepnote.com?utm_source=created-in-deepnote-cell&projectId=234de414-c5f7-4e4d-a314-25100ac19112' target=\"_blank\">\n<img alt='Created in deepnote.com' style='display:inline;max-height:16px;margin:0px;margin-right:7.5px;' src='data:image/svg+xml;base64,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' > </img>\nCreated in <span style='font-weight:600;margin-left:4px;'>Deepnote</span></a>",
   "metadata": {
    "tags": [],
    "created_in_deepnote_cell": true,
    "deepnote_cell_type": "markdown"
   }
  }
 ],
 "nbformat": 4,
 "nbformat_minor": 2,
 "metadata": {
  "deepnote": {},
  "deepnote_execution_queue": [],
  "deepnote_notebook_id": "4567cfd0-f6d8-4081-a68a-bbd5f3de53be",
  "deepnote_persisted_session": {
   "createdAt": "2022-09-08T01:01:48.530Z"
  },
  "kernelspec": {
   "display_name": "Python 3 (ipykernel)",
   "language": "python",
   "name": "python3"
  },
  "language_info": {
   "codemirror_mode": {
    "name": "ipython",
    "version": 3
   },
   "file_extension": ".py",
   "mimetype": "text/x-python",
   "name": "python",
   "nbconvert_exporter": "python",
   "pygments_lexer": "ipython3",
   "version": "3.10.6"
  },
  "vscode": {
   "interpreter": {
    "hash": "1d8d7ddfcd7032e6fe693830a5931c5fe3782bc170fc968c3186119a03312acb"
   }
  }
 }
}