{
 "cells": [
  {
   "cell_type": "markdown",
   "source": "# Pandas basics\n\nThis notebook covers the basic data structures in pandas (Series, DataFrame, Index), the dtype system and indexing within Series and DataFrames.",
   "metadata": {
    "cell_id": "eac88a2d-0b11-46d1-b9c9-8cfb55c99200",
    "pycharm": {
     "name": "#%% md\n"
    },
    "deepnote_cell_type": "markdown",
    "deepnote_cell_height": 142.78125
   }
  },
  {
   "cell_type": "markdown",
   "source": "## What is pandas?\n\nTo cite the [project page](https://pandas.pydata.org/), it is:\n\n> a fast, powerful, flexible and easy to use open source data analysis and manipulation tool, built on top of the Python programming language.\n\nFor the wide data science community (its Python-speaking part), it is the de-facto tool for analysis and manipulation of data that:\n- are in tabular format, i.e. having **columns** (usually describing a certain property) and **rows** (usually representing individual objects having those properties)\n- are big/complex enough not to be easily handled by lists and dicts.\n- are small enough to fit within a computer memory multiple times (rarely more than a few hundred million rows)",
   "metadata": {
    "cell_id": "00001-99fb8d2e-4cdf-4e26-8134-8af8cf1a3a63",
    "pycharm": {
     "name": "#%% md\n"
    },
    "deepnote_cell_type": "markdown",
    "deepnote_cell_height": 327.125
   }
  },
  {
   "cell_type": "markdown",
   "source": "Let's start by importing the library using its typical alias:",
   "metadata": {
    "formattedRanges": [],
    "cell_id": "2619aded94f748a2b3d14469a8372d87",
    "is_collapsed": false,
    "tags": [],
    "pycharm": {
     "name": "#%% md\n"
    },
    "deepnote_cell_type": "text-cell-p"
   }
  },
  {
   "cell_type": "code",
   "source": "import pandas as pd  # common alias",
   "metadata": {
    "cell_id": "00002-b5a9abd8-9660-461f-a15f-df2daf8b236f",
    "deepnote_to_be_reexecuted": false,
    "execution_millis": 875222,
    "execution_start": 1662632638186,
    "source_hash": "d5e55f2d",
    "pycharm": {
     "name": "#%%\n"
    },
    "output_cleared": true,
    "deepnote_cell_type": "code",
    "deepnote_cell_height": 76
   },
   "execution_count": 50,
   "outputs": []
  },
  {
   "cell_type": "code",
   "source": "# And two functions to support the exercises\n\nfrom solutions import run_solution    # Gives the expected output\nfrom solutions import show_solution   # Show (one of) the right solution(s)",
   "metadata": {
    "collapsed": false,
    "pycharm": {
     "name": "#%%\n"
    },
    "cell_id": "00004-8b5dc47f-818d-43b7-b0e2-2805c0fee5cf",
    "deepnote_to_be_reexecuted": false,
    "source_hash": "41e7ebbd",
    "execution_start": 1662632638187,
    "execution_millis": 38410049,
    "output_cleared": true,
    "deepnote_cell_type": "code",
    "deepnote_cell_height": 130
   },
   "execution_count": 2,
   "outputs": []
  },
  {
   "cell_type": "markdown",
   "source": "**Exercise hello_world**: Print \"hello world\"",
   "metadata": {
    "cell_id": "01adbb3c176045c9b46dbe8fac196504",
    "tags": [],
    "pycharm": {
     "name": "#%% md\n"
    },
    "deepnote_cell_type": "markdown",
    "deepnote_cell_height": 52.390625
   }
  },
  {
   "cell_type": "code",
   "source": "run_solution(\"hello_world\")",
   "metadata": {
    "collapsed": false,
    "pycharm": {
     "name": "#%%\n"
    },
    "cell_id": "00005-d7c9dd2c-0243-47b8-a394-59196a43123c",
    "deepnote_to_be_reexecuted": false,
    "source_hash": "21088e7",
    "execution_start": 1662632638189,
    "execution_millis": 38410004,
    "output_cleared": true,
    "deepnote_cell_type": "code",
    "deepnote_cell_height": 107.1875
   },
   "execution_count": 3,
   "outputs": []
  },
  {
   "cell_type": "code",
   "source": "show_solution(\"hello_world\")",
   "metadata": {
    "collapsed": false,
    "pycharm": {
     "name": "#%%\n"
    },
    "cell_id": "00006-0aabc0f2-e693-466b-818b-a3e3e398dbd2",
    "deepnote_to_be_reexecuted": false,
    "source_hash": "6d986f4c",
    "execution_start": 1662632638195,
    "execution_millis": 8,
    "output_cleared": true,
    "deepnote_cell_type": "code",
    "deepnote_cell_height": 147.5625
   },
   "execution_count": 4,
   "outputs": []
  },
  {
   "cell_type": "markdown",
   "source": "## Reading data",
   "metadata": {
    "collapsed": false,
    "pycharm": {
     "name": "#%% md\n"
    },
    "cell_id": "00007-33f7ff4d-1a46-48f9-93b5-677e3829858d",
    "deepnote_cell_type": "markdown",
    "deepnote_cell_height": 70
   }
  },
  {
   "cell_type": "markdown",
   "source": "We will start by reading existing data. For this, we have a simple table scraped from IMDB.com that shows the most favourite movies, as retrieved on a certain date in 2022. You can have a look in `data/top_movies.csv`:\n\n```csv\nrank,title,year,rating\n1,The Shawshank Redemption,1994,9.2\n2,The Godfather,1972,9.2\n3,The Dark Knight,2008,9.0\n4,The Godfather Part II,1974,9.0\n5,12 Angry Men,1957,8.9\n6,Schindler's List,1993,8.9\n7,The Lord of the Rings: The Return of the King,2003,8.9\n8,Pulp Fiction,1994,8.8\n9,The Lord of the Rings: The Fellowship of the Ring,2001,8.8\n10,\"The Good, the Bad and the Ugly\",1966,8.8\n```",
   "metadata": {
    "cell_id": "00003-43ad61f5-f756-4b0e-a8c5-e890f4f14db8",
    "pycharm": {
     "name": "#%% md\n"
    },
    "deepnote_cell_type": "markdown",
    "deepnote_cell_height": 363.984375
   }
  },
  {
   "cell_type": "markdown",
   "source": "To read external data sources, pandas provides many functions, all named `read_*` (e.g. read_csv, read_excel, ...), which support most relevant data formats (and even databases, clipboard, ...). One of the most common (though perhaps not most suitable) formats is [**comma-separated values**](https://en.wikipedia.org/wiki/Comma-separated_values) (or **CSV**). This is also the case of our input file, so we will use [`read_csv`](https://pandas.pydata.org/docs/reference/api/pandas.read_csv.html):",
   "metadata": {
    "cell_id": "00004-c7ba0b83-fe5b-4a74-931c-afb0964566f7",
    "pycharm": {
     "name": "#%% md\n"
    },
    "deepnote_cell_type": "markdown",
    "deepnote_cell_height": 97.171875
   }
  },
  {
   "cell_type": "code",
   "source": "data = pd.read_csv(\"../data/top_movies.csv\")",
   "metadata": {
    "cell_id": "00005-54d2c228-ded5-4e2d-b1ee-d8c0f54857b5",
    "deepnote_to_be_reexecuted": false,
    "execution_millis": 2,
    "execution_start": 1662632638201,
    "source_hash": "1c9a5b7",
    "pycharm": {
     "name": "#%%\n"
    },
    "output_cleared": true,
    "deepnote_cell_type": "code",
    "deepnote_cell_height": 76
   },
   "execution_count": 5,
   "outputs": []
  },
  {
   "cell_type": "markdown",
   "source": "If there was no error (it shouldn't), you have received some Python representation of the input data. Let's see.",
   "metadata": {
    "cell_id": "00006-fe2dbde3-829a-4fa7-9a1a-049bf10fc618",
    "pycharm": {
     "name": "#%% md\n"
    },
    "deepnote_cell_type": "markdown",
    "deepnote_cell_height": 52.390625
   }
  },
  {
   "cell_type": "code",
   "source": "data",
   "metadata": {
    "cell_id": "00007-fb7aa1f2-a4ac-4371-9ee2-33e400c3b434",
    "deepnote_to_be_reexecuted": false,
    "execution_millis": 27,
    "execution_start": 1662632638205,
    "source_hash": "e6928a8f",
    "pycharm": {
     "name": "#%%\n"
    },
    "output_cleared": true,
    "deepnote_cell_type": "code",
    "deepnote_cell_height": 595
   },
   "execution_count": 6,
   "outputs": []
  },
  {
   "cell_type": "markdown",
   "source": "Nice, looks almost like a spreadsheet. The basic view (unless you are running this notebook in a more sophisticated environment) shows the first and last five rows and four named columns (i.e. rank, title, year and rating).\n\nSo what is this `data` object exactly?",
   "metadata": {
    "cell_id": "00008-589dca8f-7a13-412c-8ac9-1e8a2b975a89",
    "pycharm": {
     "name": "#%% md\n"
    },
    "deepnote_cell_type": "markdown",
    "deepnote_cell_height": 111.171875
   }
  },
  {
   "cell_type": "markdown",
   "source": "## Pandas data structures\n\n(see <https://pandas.pydata.org/docs/user_guide/dsintro.html>)",
   "metadata": {
    "cell_id": "00009-751fe376-88ec-4154-966c-18a25b29e13f",
    "pycharm": {
     "name": "#%% md\n"
    },
    "deepnote_cell_type": "markdown",
    "deepnote_cell_height": 108.390625
   }
  },
  {
   "cell_type": "code",
   "source": "type(data)",
   "metadata": {
    "cell_id": "eb928d708a32419b9cfbaf0f532ad768",
    "deepnote_to_be_reexecuted": false,
    "execution_millis": 3,
    "execution_start": 1662632638234,
    "source_hash": "9653dc5",
    "tags": [],
    "pycharm": {
     "name": "#%%\n"
    },
    "output_cleared": true,
    "deepnote_cell_type": "code",
    "deepnote_cell_height": 112.1875,
    "deepnote_output_heights": [
     20.1875
    ]
   },
   "execution_count": 7,
   "outputs": []
  },
  {
   "cell_type": "markdown",
   "source": "It is a **data frame**, which basically means \"a table\" with somewhat strict requirements about the columns and rows (unlike spreadsheats, this is not a free-form area). You'll find a similar concept in statistical languages like [R](https://www.r-project.org/).\n\nLet's dig in:",
   "metadata": {
    "collapsed": false,
    "pycharm": {
     "name": "#%% md\n"
    },
    "cell_id": "00016-eea16373-17af-4f2b-87cd-a234dbbd1d45",
    "deepnote_cell_type": "markdown",
    "deepnote_cell_height": 111.171875
   }
  },
  {
   "cell_type": "code",
   "source": "# Select just one \"column\"\ntitles = data[\"title\"]\ntitles",
   "metadata": {
    "cell_id": "bcdfc1de10f4483195c1bfa583a4f8ec",
    "deepnote_to_be_reexecuted": false,
    "execution_millis": 3,
    "execution_start": 1662632638258,
    "source_hash": "68e851f8",
    "tags": [],
    "pycharm": {
     "name": "#%%\n"
    },
    "output_cleared": true,
    "deepnote_cell_type": "code",
    "deepnote_cell_height": 359.25,
    "deepnote_output_heights": [
     231.25
    ]
   },
   "execution_count": 8,
   "outputs": []
  },
  {
   "cell_type": "code",
   "source": "type(titles)",
   "metadata": {
    "cell_id": "28b4494d2ea34bc78afa08bbe6e7c383",
    "deepnote_to_be_reexecuted": false,
    "execution_millis": 3,
    "execution_start": 1662632638258,
    "source_hash": "924144af",
    "tags": [],
    "pycharm": {
     "name": "#%%\n"
    },
    "output_cleared": true,
    "deepnote_cell_type": "code",
    "deepnote_cell_height": 112.1875,
    "deepnote_output_heights": [
     20.1875
    ]
   },
   "execution_count": 9,
   "outputs": []
  },
  {
   "cell_type": "markdown",
   "source": "### Series",
   "metadata": {
    "cell_id": "00011-d3bb446b-f81f-4c3a-b9c7-fac6610e5c76",
    "pycharm": {
     "name": "#%% md\n"
    },
    "deepnote_cell_type": "markdown",
    "deepnote_cell_height": 62
   }
  },
  {
   "cell_type": "markdown",
   "source": "Another fundamental pandas type is [`Series`](https://pandas.pydata.org/docs/reference/api/pandas.Series.html), a one-dimensional data structure looking a bit like a list. Does it behave like one?",
   "metadata": {
    "collapsed": false,
    "pycharm": {
     "name": "#%% md\n"
    },
    "cell_id": "00020-2a7f08a6-d9b3-4375-8999-562cf8dec1ab",
    "deepnote_cell_type": "markdown",
    "deepnote_cell_height": 52.390625
   }
  },
  {
   "cell_type": "code",
   "source": "titles[0]    # First item",
   "metadata": {
    "cell_id": "ee052aba49504f64822d9d31415e78c3",
    "deepnote_to_be_reexecuted": false,
    "execution_millis": 6,
    "execution_start": 1662632638259,
    "source_hash": "92ac98b0",
    "tags": [],
    "pycharm": {
     "name": "#%%\n"
    },
    "output_cleared": true,
    "deepnote_cell_type": "code",
    "deepnote_cell_height": 112.1875,
    "deepnote_output_heights": [
     20.1875
    ]
   },
   "execution_count": 111,
   "outputs": []
  },
  {
   "cell_type": "code",
   "source": "titles[:5]  # First five items",
   "metadata": {
    "cell_id": "b9fe7b017b9f41bda4c45e98497b6a51",
    "deepnote_to_be_reexecuted": false,
    "execution_millis": 6,
    "execution_start": 1662632638260,
    "source_hash": "32327a70",
    "tags": [],
    "pycharm": {
     "name": "#%%\n"
    },
    "output_cleared": true,
    "deepnote_cell_type": "code",
    "deepnote_cell_height": 208.125,
    "deepnote_output_heights": [
     116.125
    ]
   },
   "execution_count": 112,
   "outputs": []
  },
  {
   "cell_type": "markdown",
   "source": "**Exercise last_10_titles**: Select the last 10 movie titles from the list.",
   "metadata": {
    "collapsed": false,
    "pycharm": {
     "name": "#%% md\n"
    },
    "cell_id": "00023-4fd7d66c-381d-4b60-ae06-a12ce2f03050",
    "deepnote_cell_type": "markdown",
    "deepnote_cell_height": 52.390625
   }
  },
  {
   "cell_type": "code",
   "source": "# run_solution(\"last_10_titles\")\n# show_solution(\"last_10_titles\")",
   "metadata": {
    "collapsed": false,
    "pycharm": {
     "name": "#%%\n"
    },
    "cell_id": "00024-675c8b06-4124-4169-b768-2d8e7f3de12b",
    "deepnote_to_be_reexecuted": false,
    "source_hash": "fc66f597",
    "execution_start": 1662632638268,
    "execution_millis": 8,
    "output_cleared": true,
    "deepnote_cell_type": "code",
    "deepnote_cell_height": 185.75
   },
   "execution_count": 115,
   "outputs": []
  },
  {
   "cell_type": "markdown",
   "source": "**Exercise list_like**: Choose a few more operations you would typically do with a list and try to apply them on `titles`. What will happen?",
   "metadata": {
    "collapsed": false,
    "pycharm": {
     "name": "#%% md\n"
    },
    "cell_id": "00025-013fead1-36b0-42e1-8dba-b0ec0aa59840",
    "deepnote_cell_type": "markdown",
    "deepnote_cell_height": 74.78125
   }
  },
  {
   "cell_type": "code",
   "source": "# show_solution(\"list_like\")",
   "metadata": {
    "collapsed": false,
    "pycharm": {
     "name": "#%%\n"
    },
    "cell_id": "00026-e6456518-3e93-481c-8bae-330efd0703af",
    "deepnote_to_be_reexecuted": false,
    "source_hash": "7ade1f37",
    "execution_start": 1662632638274,
    "execution_millis": 6,
    "output_cleared": true,
    "deepnote_cell_type": "code",
    "deepnote_cell_height": 228.3125
   },
   "execution_count": 116,
   "outputs": []
  },
  {
   "cell_type": "markdown",
   "source": "It's quite easy to convert a Series to a list and vice versa. The easiest way to\ncreate a Series is actually to create its instance from a list (passed as the first argument):",
   "metadata": {
    "collapsed": false,
    "pycharm": {
     "name": "#%% md\n"
    },
    "cell_id": "00027-2a5463ae-ac91-4587-b5ce-ee09e2c13565",
    "deepnote_cell_type": "markdown",
    "deepnote_cell_height": 74.78125
   }
  },
  {
   "cell_type": "code",
   "source": "directors = pd.Series([\"Sofia Coppola\", \"Miloš Forman\", \"Lana Wachowski\"])\ndirectors",
   "metadata": {
    "collapsed": false,
    "pycharm": {
     "name": "#%%\n"
    },
    "cell_id": "00028-6a3e8920-fd6c-42f7-b6b3-b771dd03f78a",
    "deepnote_to_be_reexecuted": false,
    "source_hash": "6705cf47",
    "execution_start": 1662632638277,
    "execution_millis": 4,
    "output_cleared": true,
    "deepnote_cell_type": "code",
    "deepnote_cell_height": 187.75,
    "deepnote_output_heights": [
     77.75
    ]
   },
   "execution_count": 14,
   "outputs": []
  },
  {
   "cell_type": "code",
   "source": "directors.tolist()\n# or equivalently\nlist(directors)",
   "metadata": {
    "cell_id": "ee9ee5efd2714a129f54391b5ac6cffb",
    "deepnote_to_be_reexecuted": false,
    "execution_millis": 2,
    "execution_start": 1662632638281,
    "source_hash": "9d96b933",
    "tags": [],
    "pycharm": {
     "name": "#%%\n"
    },
    "output_cleared": true,
    "deepnote_cell_type": "code",
    "deepnote_cell_height": 148.1875,
    "deepnote_output_heights": [
     20.1875
    ]
   },
   "execution_count": 15,
   "outputs": []
  },
  {
   "cell_type": "markdown",
   "source": "![Series](images/series.png)",
   "metadata": {
    "collapsed": false,
    "pycharm": {
     "name": "#%% md\n"
    },
    "cell_id": "00030-29286a48-f401-465c-9216-711baa052804",
    "deepnote_cell_type": "markdown",
    "deepnote_cell_height": 452
   }
  },
  {
   "cell_type": "markdown",
   "source": "Series has 5 interesting properties:",
   "metadata": {
    "cell_id": "57e8e94de874419ea566bc0220f48fd6",
    "tags": [],
    "pycharm": {
     "name": "#%% md\n"
    },
    "deepnote_cell_type": "markdown",
    "deepnote_cell_height": 52.390625
   }
  },
  {
   "cell_type": "markdown",
   "source": "#### [.values](https://pandas.pydata.org/docs/reference/api/pandas.Series.values.html)\n\nThe data itself, in the form of a numpy array (we are not covering this library in this workshop but feel free to explore it!). Quite close to the list.",
   "metadata": {
    "cell_id": "c0c2d391834840649e125a2202cc5763",
    "tags": [],
    "pycharm": {
     "name": "#%% md\n"
    },
    "deepnote_cell_type": "markdown",
    "deepnote_cell_height": 110.78125
   }
  },
  {
   "cell_type": "code",
   "source": "titles[:20].values",
   "metadata": {
    "cell_id": "4ffae5e600ea405bbae913354dfd1415",
    "deepnote_to_be_reexecuted": false,
    "execution_millis": 39,
    "execution_start": 1662632638285,
    "source_hash": "62ec1ef5",
    "tags": [],
    "pycharm": {
     "name": "#%%\n"
    },
    "output_cleared": true,
    "deepnote_cell_type": "code",
    "deepnote_cell_height": 265.6875,
    "deepnote_output_heights": [
     173.6875
    ]
   },
   "execution_count": 117,
   "outputs": []
  },
  {
   "cell_type": "code",
   "source": "type(titles.values)",
   "metadata": {
    "cell_id": "0c70ec26762047a6af72190a3854953c",
    "deepnote_to_be_reexecuted": false,
    "execution_millis": 3,
    "execution_start": 1662632638325,
    "source_hash": "a508fd21",
    "tags": [],
    "pycharm": {
     "name": "#%%\n"
    },
    "output_cleared": true,
    "deepnote_cell_type": "code",
    "deepnote_cell_height": 112.1875,
    "deepnote_output_heights": [
     20.1875
    ]
   },
   "execution_count": 118,
   "outputs": []
  },
  {
   "cell_type": "markdown",
   "source": "#### [.dtype](https://pandas.pydata.org/docs/reference/api/pandas.Series.dtype.html)",
   "metadata": {
    "cell_id": "cc48abe41f0141b6abe4b3b835a6b24e",
    "tags": [],
    "pycharm": {
     "name": "#%% md\n"
    },
    "deepnote_cell_type": "markdown",
    "deepnote_cell_height": 54
   }
  },
  {
   "cell_type": "markdown",
   "source": "Unlike list, all values of a series must be of the same type. Pandas has its own set of types, so-called **dtypes** that are close to basic Python types (like int, float, str) and can be converted to and from them but are (especially in the case of numbers) more specific in terms of precision and memory used. More on that later.\n\nBy default, objects are stored in the least efficient dtype, \"object\" (or \"O\"). Only if all items fit a particular dtype (especially a numeric one), this type is selected.",
   "metadata": {
    "cell_id": "d4ec3c7944aa43cf82b5a8989986f051",
    "tags": [],
    "pycharm": {
     "name": "#%% md\n"
    },
    "deepnote_cell_type": "markdown",
    "deepnote_cell_height": 155.953125
   }
  },
  {
   "cell_type": "code",
   "source": "titles.dtype",
   "metadata": {
    "cell_id": "219296631d15415584018d2112248429",
    "deepnote_to_be_reexecuted": false,
    "execution_millis": 9,
    "execution_start": 1662632638330,
    "source_hash": "4b02bf65",
    "tags": [],
    "pycharm": {
     "name": "#%%\n"
    },
    "output_cleared": true,
    "deepnote_cell_type": "code",
    "deepnote_cell_height": 112.1875,
    "deepnote_output_heights": [
     20.1875
    ]
   },
   "execution_count": 18,
   "outputs": []
  },
  {
   "cell_type": "markdown",
   "source": "#### [.index](https://pandas.pydata.org/docs/reference/api/pandas.Series.index.html)\n\nIn a list, you select items by their numerical order; in a dict, you use a key (but not order). Pandas introduces a generalized (potentially multi-level) index that allows accessing items by both the order or label, and also allows using ranges in natural scales like time.\n\nBy default, a range index is created for you that corresponds exactly to the order of items.",
   "metadata": {
    "cell_id": "7612a5ba55284a0f9437a24c0959fa66",
    "tags": [],
    "pycharm": {
     "name": "#%% md\n"
    },
    "deepnote_cell_type": "markdown",
    "deepnote_cell_height": 169.5625
   }
  },
  {
   "cell_type": "code",
   "source": "titles.index",
   "metadata": {
    "cell_id": "dfeb8cb31f2f478b9df93fed44b7a537",
    "deepnote_to_be_reexecuted": false,
    "execution_millis": 4,
    "execution_start": 1662632638338,
    "source_hash": "7bb7da30",
    "tags": [],
    "pycharm": {
     "name": "#%%\n"
    },
    "output_cleared": true,
    "deepnote_cell_type": "code",
    "deepnote_cell_height": 112.1875,
    "deepnote_output_heights": [
     20.1875
    ]
   },
   "execution_count": 19,
   "outputs": []
  },
  {
   "cell_type": "markdown",
   "source": "### [.name](https://pandas.pydata.org/docs/reference/api/pandas.Series.name.html)\n\nAn optional attribute, used e.g. in the DataFrames. It does not have anything to do with the variable the Series is stored in.",
   "metadata": {
    "cell_id": "1a2ef4ed134249119de17a41f7e4f716",
    "tags": [],
    "pycharm": {
     "name": "#%% md\n"
    },
    "deepnote_cell_type": "markdown",
    "deepnote_cell_height": 100.390625
   }
  },
  {
   "cell_type": "code",
   "source": "titles.name",
   "metadata": {
    "cell_id": "ecd63871f2b345be8fb4ab4b7fe47a0d",
    "deepnote_to_be_reexecuted": false,
    "execution_millis": 3,
    "execution_start": 1662632638340,
    "source_hash": "ffb08166",
    "tags": [],
    "pycharm": {
     "name": "#%%\n"
    },
    "output_cleared": true,
    "deepnote_cell_type": "code",
    "deepnote_cell_height": 112.1875,
    "deepnote_output_heights": [
     20.1875
    ]
   },
   "execution_count": 20,
   "outputs": []
  },
  {
   "cell_type": "markdown",
   "source": "### [.size](https://pandas.pydata.org/docs/reference/api/pandas.Series.size.html)",
   "metadata": {
    "cell_id": "94f717971e3d470787e1ac54abc3df44",
    "tags": [],
    "pycharm": {
     "name": "#%% md\n"
    },
    "deepnote_cell_type": "markdown",
    "deepnote_cell_height": 62
   }
  },
  {
   "cell_type": "markdown",
   "source": "A read-only property telling how many items are stored in the series.",
   "metadata": {
    "cell_id": "fa6cc9fb2cbf449190991935149d8962",
    "tags": [],
    "pycharm": {
     "name": "#%% md\n"
    },
    "deepnote_cell_type": "markdown",
    "deepnote_cell_height": 52.390625
   }
  },
  {
   "cell_type": "code",
   "source": "titles.size\n\n# or len(titles)",
   "metadata": {
    "cell_id": "c312238826134d448fced3b506e7a193",
    "deepnote_to_be_reexecuted": false,
    "execution_millis": 2,
    "execution_start": 1662632638344,
    "source_hash": "a2df03e7",
    "tags": [],
    "pycharm": {
     "name": "#%%\n"
    },
    "output_cleared": true,
    "deepnote_cell_type": "code",
    "deepnote_cell_height": 148.1875,
    "deepnote_output_heights": [
     20.1875
    ]
   },
   "execution_count": 119,
   "outputs": []
  },
  {
   "cell_type": "markdown",
   "source": "When creating a Series, you may set these attributes (apart from `size`) explicitly using keyword arguments:",
   "metadata": {
    "cell_id": "47a1c940390a4a99a3173003068b0517",
    "tags": [],
    "pycharm": {
     "name": "#%% md\n"
    },
    "deepnote_cell_type": "markdown",
    "deepnote_cell_height": 52.390625
   }
  },
  {
   "cell_type": "code",
   "source": "ages = pd.Series(\n    [73, 32, 83],\n    name=\"Actor age\",\n    index=[\"Meryl Streep\", \"Emma Watson\", \"Ian MacKellen\"],\n    dtype=float\n)\nages",
   "metadata": {
    "cell_id": "341300a7990b42c5b3b3cae1a881015d",
    "tags": [],
    "deepnote_to_be_reexecuted": false,
    "source_hash": "bd6f797b",
    "execution_start": 1662632638348,
    "execution_millis": 4,
    "pycharm": {
     "name": "#%%\n"
    },
    "output_cleared": true,
    "deepnote_cell_type": "code",
    "deepnote_cell_height": 277.75,
    "deepnote_output_heights": [
     77.75
    ]
   },
   "execution_count": 120,
   "outputs": []
  },
  {
   "cell_type": "markdown",
   "source": "### Index\n\nAs stated, `Index` is a generalized set of labels for the series items (or data frame rows or columns) that allows sophisticated access to them.\n\nBy default, a RangeIndex starts with 0 and monotonically increases item-by-item (or row-by-row), allowing the Series to behave like a list.",
   "metadata": {
    "cell_id": "00012-4c41cc3d-9802-4514-9d61-142e4bb648e9",
    "pycharm": {
     "name": "#%% md\n"
    },
    "deepnote_cell_type": "markdown",
    "deepnote_cell_height": 181.5625
   }
  },
  {
   "cell_type": "code",
   "source": "titles.index",
   "metadata": {
    "cell_id": "8c2565f171af4d24bcc9ee481462bade",
    "deepnote_to_be_reexecuted": false,
    "execution_millis": 6,
    "execution_start": 1662632638351,
    "source_hash": "7bb7da30",
    "tags": [],
    "pycharm": {
     "name": "#%%\n"
    },
    "output_cleared": true,
    "deepnote_cell_type": "code",
    "deepnote_cell_height": 112.1875,
    "deepnote_output_heights": [
     20.1875
    ]
   },
   "execution_count": 121,
   "outputs": []
  },
  {
   "cell_type": "markdown",
   "source": "However, there are other types of indices too:",
   "metadata": {
    "cell_id": "b758a60169c84bcca0aa61bcb2da2e14",
    "tags": [],
    "pycharm": {
     "name": "#%% md\n"
    },
    "deepnote_cell_type": "markdown",
    "deepnote_cell_height": 52.390625
   }
  },
  {
   "cell_type": "code",
   "source": "# Arbitrary values\nages.index",
   "metadata": {
    "cell_id": "b1aba939c22c48fda4416fad0ce36c6e",
    "tags": [],
    "pycharm": {
     "name": "#%%\n"
    },
    "deepnote_to_be_reexecuted": false,
    "source_hash": "84fedacf",
    "execution_start": 1662632638356,
    "execution_millis": 5,
    "output_cleared": true,
    "deepnote_cell_type": "code",
    "deepnote_cell_height": 130.1875,
    "deepnote_output_heights": [
     20.1875
    ]
   },
   "execution_count": 124,
   "outputs": []
  },
  {
   "cell_type": "code",
   "source": "# Numbers (but not as range)\nbest_picture = pd.Series(\n    [\"Parasite\", \"Nomadland\", \"Coda\"],\n    index=[2019, 2020, 2021]\n)\nbest_picture.index",
   "metadata": {
    "cell_id": "418ecdbf884b408e99a0899195c27c92",
    "tags": [],
    "deepnote_to_be_reexecuted": false,
    "source_hash": "183eae56",
    "execution_start": 1662632638360,
    "execution_millis": 5,
    "pycharm": {
     "name": "#%%\n"
    },
    "output_cleared": true,
    "deepnote_cell_type": "code",
    "deepnote_cell_height": 202.1875,
    "deepnote_output_heights": [
     20.1875
    ]
   },
   "execution_count": 123,
   "outputs": []
  },
  {
   "cell_type": "markdown",
   "source": "You can create a index also explicitly or using various utility functions:",
   "metadata": {
    "cell_id": "c90af59194dd4de7a2736bea38a504ea",
    "tags": [],
    "pycharm": {
     "name": "#%% md\n"
    },
    "deepnote_cell_type": "markdown",
    "deepnote_cell_height": 52.390625
   }
  },
  {
   "cell_type": "code",
   "source": "# All days of September 2022\npd.date_range(\"2022-09-01\", \"2022-09-30\")",
   "metadata": {
    "cell_id": "2d79390a88f14196abf3b7d4bf946440",
    "tags": [],
    "deepnote_to_be_reexecuted": false,
    "source_hash": "b3d2a092",
    "execution_start": 1662632638365,
    "execution_millis": 9,
    "pycharm": {
     "name": "#%%\n"
    },
    "output_cleared": true,
    "deepnote_cell_type": "code",
    "deepnote_cell_height": 283.6875,
    "deepnote_output_heights": [
     173.6875
    ]
   },
   "execution_count": 26,
   "outputs": []
  },
  {
   "cell_type": "markdown",
   "source": "**Exercise own_series**: Create your own series with your favourites in the movie industry, setting a custom index.",
   "metadata": {
    "cell_id": "806376415ab14405a5724250d2113d26",
    "tags": [],
    "pycharm": {
     "name": "#%% md\n"
    },
    "deepnote_cell_type": "markdown",
    "deepnote_cell_height": 52.390625
   }
  },
  {
   "cell_type": "code",
   "source": "pd.Series(\n    # ...\n)\n\n# No correct answer :-)",
   "metadata": {
    "cell_id": "c2746ab31bf54e25a9699237c9e80fec",
    "tags": [],
    "deepnote_to_be_reexecuted": false,
    "source_hash": "65e4f229",
    "execution_start": 1662632638375,
    "execution_millis": 46,
    "pycharm": {
     "name": "#%%\n"
    },
    "output_cleared": true,
    "deepnote_cell_type": "code",
    "deepnote_cell_height": 203.375,
    "deepnote_output_heights": [
     39.375
    ]
   },
   "execution_count": 27,
   "outputs": []
  },
  {
   "cell_type": "markdown",
   "source": "### DataFrame",
   "metadata": {
    "cell_id": "00013-5a792c08-d00f-470b-b076-c1f2911a320e",
    "pycharm": {
     "name": "#%% md\n"
    },
    "deepnote_cell_type": "markdown",
    "deepnote_cell_height": 62
   }
  },
  {
   "cell_type": "markdown",
   "source": "![DataFrame](images/data_frame.png)",
   "metadata": {
    "collapsed": false,
    "pycharm": {
     "name": "#%% md\n"
    },
    "cell_id": "00041-6576f8d3-87e7-4177-ae06-37850d3c86bc",
    "deepnote_cell_type": "markdown",
    "deepnote_cell_height": 543.15625
   }
  },
  {
   "cell_type": "markdown",
   "source": "Let's get back to DataFrame...\n\nAs `Series` is a container of values labeled by an `Index`, a `DataFrame` is a two-dimensional container that wraps an array (`.values`) in two indices: one for rows and one for columns.\n\nIt has a similar set of properties:",
   "metadata": {
    "cell_id": "76b7cd7a42db47e2b31c3402910402b8",
    "tags": [],
    "pycharm": {
     "name": "#%% md\n"
    },
    "deepnote_cell_type": "markdown",
    "deepnote_cell_height": 147.5625
   }
  },
  {
   "cell_type": "code",
   "source": "data.columns",
   "metadata": {
    "cell_id": "104170c7a5574b7f9eff42222049f6bd",
    "deepnote_to_be_reexecuted": false,
    "execution_millis": 5,
    "execution_start": 1662632638421,
    "source_hash": "c8a8c27a",
    "tags": [],
    "pycharm": {
     "name": "#%%\n"
    },
    "output_cleared": true,
    "deepnote_cell_type": "code",
    "deepnote_cell_height": 112.1875,
    "deepnote_output_heights": [
     20.1875
    ]
   },
   "execution_count": 28,
   "outputs": []
  },
  {
   "cell_type": "markdown",
   "source": "Note that the index is shared by all columns (Series) the DataFrame is composed of:",
   "metadata": {
    "cell_id": "87dbbaf00182413d97642e38b36c587a",
    "tags": [],
    "pycharm": {
     "name": "#%% md\n"
    },
    "deepnote_cell_type": "markdown",
    "deepnote_cell_height": 52.390625
   }
  },
  {
   "cell_type": "code",
   "source": "data.index",
   "metadata": {
    "cell_id": "ced1321e1a28484d9feab070c3b4f90f",
    "deepnote_to_be_reexecuted": false,
    "execution_millis": 4,
    "execution_start": 1662632638440,
    "source_hash": "1abd022c",
    "tags": [],
    "pycharm": {
     "name": "#%%\n"
    },
    "output_cleared": true,
    "deepnote_cell_type": "code",
    "deepnote_cell_height": 112.1875,
    "deepnote_output_heights": [
     20.1875
    ]
   },
   "execution_count": 29,
   "outputs": []
  },
  {
   "cell_type": "code",
   "source": "data.index is titles.index",
   "metadata": {
    "cell_id": "3770dbcaaa014de38fdd8183ed33d682",
    "tags": [],
    "deepnote_to_be_reexecuted": false,
    "source_hash": "b6766319",
    "execution_start": 1662632638441,
    "execution_millis": 3,
    "pycharm": {
     "name": "#%%\n"
    },
    "output_cleared": true,
    "deepnote_cell_type": "code",
    "deepnote_cell_height": 112.1875,
    "deepnote_output_heights": [
     20.1875
    ]
   },
   "execution_count": 30,
   "outputs": []
  },
  {
   "cell_type": "code",
   "source": "data.values[:10]",
   "metadata": {
    "cell_id": "465322595e6840ca9eabbbdbaa8bd266",
    "deepnote_to_be_reexecuted": false,
    "execution_millis": 4,
    "execution_start": 1662632638441,
    "source_hash": "836adc95",
    "tags": [],
    "pycharm": {
     "name": "#%%\n"
    },
    "output_cleared": true,
    "deepnote_cell_type": "code",
    "deepnote_cell_height": 304.0625,
    "deepnote_output_heights": [
     212.0625
    ]
   },
   "execution_count": 31,
   "outputs": []
  },
  {
   "cell_type": "code",
   "source": "data.shape    # Size (rows x columns)",
   "metadata": {
    "cell_id": "124f50ccfc304f5c9aabf73400a8ab17",
    "deepnote_to_be_reexecuted": false,
    "execution_millis": 7,
    "execution_start": 1662632638443,
    "source_hash": "c3f8cc01",
    "tags": [],
    "pycharm": {
     "name": "#%%\n"
    },
    "output_cleared": true,
    "deepnote_cell_type": "code",
    "deepnote_cell_height": 112.1875,
    "deepnote_output_heights": [
     20.1875
    ]
   },
   "execution_count": 32,
   "outputs": []
  },
  {
   "cell_type": "code",
   "source": "data.dtypes   # Note the plural!",
   "metadata": {
    "cell_id": "e6a7abec19e744e0ad04d3ff43650b37",
    "tags": [],
    "deepnote_to_be_reexecuted": false,
    "source_hash": "ae3db336",
    "execution_start": 1662632638450,
    "execution_millis": 4,
    "pycharm": {
     "name": "#%%\n"
    },
    "output_cleared": true,
    "deepnote_cell_type": "code",
    "deepnote_cell_height": 188.9375,
    "deepnote_output_heights": [
     96.9375
    ]
   },
   "execution_count": 33,
   "outputs": []
  },
  {
   "cell_type": "markdown",
   "source": "If you want to create a new DataFrame (apart from reading it from an external source), you can select one of several ways, most frequently from a list of dicts or a dict of lists (or even a dict of dicts).",
   "metadata": {
    "cell_id": "9b87ee3ef6b7471fa10d43cf532a3ae2",
    "tags": [],
    "pycharm": {
     "name": "#%% md\n"
    },
    "deepnote_cell_type": "markdown",
    "deepnote_cell_height": 74.78125
   }
  },
  {
   "cell_type": "code",
   "source": "characters = pd.DataFrame({\n    \"movie\": [\"Trainspotting\", \"The Matrix\", \"Forrest Gump\"],\n    \"main character\": [\"Mark Renton\", \"Neo\", \"Forrest Gump\"]\n})\ncharacters",
   "metadata": {
    "cell_id": "ea2e919b6e7846bca55ee3e69e8f47c1",
    "deepnote_to_be_reexecuted": false,
    "execution_millis": 3,
    "execution_start": 1662632638473,
    "source_hash": "ca4a8f6e",
    "tags": [],
    "pycharm": {
     "name": "#%%\n"
    },
    "output_cleared": true,
    "deepnote_cell_type": "code",
    "deepnote_cell_height": 380
   },
   "execution_count": 101,
   "outputs": []
  },
  {
   "cell_type": "markdown",
   "source": "is equivalent to:",
   "metadata": {
    "cell_id": "603bdab20e394db6b1a3be8b6fee7471",
    "tags": [],
    "pycharm": {
     "name": "#%% md\n"
    },
    "deepnote_cell_type": "markdown",
    "deepnote_cell_height": 52.390625
   }
  },
  {
   "cell_type": "code",
   "source": "pd.DataFrame([\n    {\"movie\": \"Trainspotting\",  \"main character\": \"Mark Renton\"},\n    {\"movie\": \"The Matrix\",  \"main character\": \"Neo\"},\n    {\"movie\": \"Forrest Gump\",  \"main character\": \"Forrest Gump\"},\n])",
   "metadata": {
    "cell_id": "89675dbbdae940a0bb253f629e001370",
    "tags": [],
    "deepnote_to_be_reexecuted": false,
    "source_hash": "8413e7ce",
    "execution_start": 1662632638474,
    "execution_millis": 3,
    "pycharm": {
     "name": "#%%\n"
    },
    "output_cleared": true,
    "deepnote_cell_type": "code",
    "deepnote_cell_height": 380
   },
   "execution_count": 35,
   "outputs": []
  },
  {
   "cell_type": "markdown",
   "source": "**Exercise actors_and_ages:** Similar to the `ages` Series defined above, create a DataFrame that contains three columns \"first_name\", \"surname\" and \"age\" of the listed actors (or your favourite ones.)",
   "metadata": {
    "cell_id": "9e506ae8527841cc83d35186041380da",
    "tags": [],
    "pycharm": {
     "name": "#%% md\n"
    },
    "deepnote_cell_type": "markdown",
    "deepnote_cell_height": 74.78125
   }
  },
  {
   "cell_type": "code",
   "source": "# run_solution(\"actors_and_ages\")\n# show_solution(\"actors_and_ages\")",
   "metadata": {
    "cell_id": "c1cb0470f9744138a7ba544f04e8189d",
    "tags": [],
    "deepnote_to_be_reexecuted": false,
    "source_hash": "58933308",
    "execution_start": 1662632638475,
    "execution_millis": 44,
    "pycharm": {
     "name": "#%%\n"
    },
    "output_cleared": true,
    "deepnote_cell_type": "code",
    "deepnote_cell_height": 94
   },
   "execution_count": 36,
   "outputs": []
  },
  {
   "cell_type": "markdown",
   "source": "",
   "metadata": {
    "collapsed": false,
    "pycharm": {
     "name": "#%% md\n"
    },
    "cell_id": "00073-1b2a5814-94f9-43cd-85a7-b590bf7f4b96",
    "deepnote_cell_type": "markdown",
    "deepnote_cell_height": 46
   }
  },
  {
   "cell_type": "markdown",
   "source": "## Data types (dtypes)\n\n(see <https://pandas.pydata.org/docs/user_guide/basics.html#basics-dtypes>)\n\nPandas offers a huge variety of dtypes. It take the most commonly used ones from [numpy](https://numpy.org/doc/stable/user/basics.types.html) and adds a few of its ow  (suitable for data analysis).\n\nNote that a dtype is not a type or class in Python sense, despite them serving a similar purpose.",
   "metadata": {
    "cell_id": "00015-73cdaafa-2a4f-4345-ab5f-b1453d3026b2",
    "pycharm": {
     "name": "#%% md\n"
    },
    "deepnote_cell_type": "markdown",
    "deepnote_cell_height": 203.5625
   }
  },
  {
   "cell_type": "code",
   "source": "data.dtypes",
   "metadata": {
    "cell_id": "00016-de87515c-1455-4789-9126-73be37737ea6",
    "pycharm": {
     "name": "#%%\n"
    },
    "deepnote_to_be_reexecuted": false,
    "source_hash": "ae3db336",
    "execution_start": 1662632638535,
    "execution_millis": 3,
    "output_cleared": true,
    "deepnote_cell_type": "code",
    "deepnote_cell_height": 188.9375,
    "deepnote_output_heights": [
     96.9375
    ]
   },
   "execution_count": 37,
   "outputs": []
  },
  {
   "cell_type": "markdown",
   "source": "### Integers\n\nThere is a huge variety of integer dtypes. This allows advanced users to use as little memory as possible at the expense of limited range of values that can be represented by this dtype. We will not list them all here as for most practical purposes the default one, `int64`, is a good choice.",
   "metadata": {
    "cell_id": "00017-52e6d0a9-f675-4380-afa7-621bdaa6a40f",
    "pycharm": {
     "name": "#%% md\n"
    },
    "deepnote_cell_type": "markdown",
    "deepnote_cell_height": 145.171875
   }
  },
  {
   "cell_type": "code",
   "source": "pd.Series(range(1900, 2023))",
   "metadata": {
    "collapsed": false,
    "pycharm": {
     "name": "#%%\n"
    },
    "cell_id": "00077-aaac1f8c-667b-4e44-9121-719af0d85b85",
    "output_cleared": true,
    "deepnote_cell_type": "code",
    "deepnote_cell_height": 323.25,
    "deepnote_output_heights": [
     231.25
    ]
   },
   "execution_count": 53,
   "outputs": []
  },
  {
   "cell_type": "markdown",
   "source": "Note that Python is a relatively unique language by including arbitrarily large integers as a core type. Pandas can work with them too but with much lower efficiency (representing them as generic objects). You will rarely need this.",
   "metadata": {
    "collapsed": false,
    "pycharm": {
     "name": "#%% md\n"
    },
    "cell_id": "00078-33737b5f-5b20-47fc-bdea-c541d9da245e",
    "deepnote_cell_type": "markdown",
    "deepnote_cell_height": 74.78125
   }
  },
  {
   "cell_type": "code",
   "source": "pd.Series({\"septillion\": 1_000_000_000_000_000_000_000_000})",
   "metadata": {
    "collapsed": false,
    "pycharm": {
     "name": "#%%\n"
    },
    "cell_id": "00079-745a072b-fa3c-4eaf-ae51-ce85b6705098",
    "output_cleared": true,
    "deepnote_cell_type": "code",
    "deepnote_cell_height": 131.375,
    "deepnote_output_heights": [
     39.375
    ]
   },
   "execution_count": 126,
   "outputs": []
  },
  {
   "cell_type": "markdown",
   "source": "In recent versions, pandas introduced a [nullable integer dtype](https://pandas.pydata.org/docs/user_guide/integer_na.html), that allows to express missing values (NA).",
   "metadata": {
    "cell_id": "4be3cff4afec4832af611a2394a108ab",
    "tags": [],
    "pycharm": {
     "name": "#%% md\n"
    },
    "deepnote_cell_type": "markdown",
    "deepnote_cell_height": 52.390625
   }
  },
  {
   "cell_type": "code",
   "source": "# pd.Series([1902, 1922, 1937, None, 2005, 2006], dtype=int)   # This would cause an error\n\npd.Series([1902, 1922, 1937, None, 2005, 2006], dtype=\"Int64\")\n",
   "metadata": {
    "cell_id": "a6c5dc488ae54d4c8674d60724512f61",
    "tags": [],
    "deepnote_to_be_reexecuted": false,
    "source_hash": "6d2de436",
    "execution_start": 1662632638536,
    "execution_millis": 2,
    "pycharm": {
     "name": "#%%\n"
    },
    "output_cleared": true,
    "deepnote_cell_type": "code",
    "deepnote_cell_height": 281.3125,
    "deepnote_output_heights": [
     135.3125
    ]
   },
   "execution_count": 54,
   "outputs": []
  },
  {
   "cell_type": "markdown",
   "source": "### Floats",
   "metadata": {
    "cell_id": "00018-2cf91625-90a9-42b7-bfb1-0e6994ecc38f",
    "pycharm": {
     "name": "#%% md\n"
    },
    "deepnote_cell_type": "markdown",
    "deepnote_cell_height": 62
   }
  },
  {
   "cell_type": "markdown",
   "source": "Floats allow to store non-integer (or **floating-point**) numbers with some limited fixed precision. As with integers, there are several float dtypes but the default, `float64` is just enough for regular use:",
   "metadata": {
    "collapsed": false,
    "pycharm": {
     "name": "#%% md\n"
    },
    "cell_id": "00083-58edc0b4-5fa3-4b53-b20a-15414e4a7a4d",
    "deepnote_cell_type": "markdown",
    "deepnote_cell_height": 74.78125
   }
  },
  {
   "cell_type": "code",
   "source": "pd.Series([1, 2.71828, 3.141592, \"inf\"], dtype=float)",
   "metadata": {
    "collapsed": false,
    "pycharm": {
     "name": "#%%\n"
    },
    "cell_id": "00084-9d73389a-a12f-4e31-85b7-ee1f9ba84baf",
    "output_cleared": true,
    "deepnote_cell_type": "code",
    "deepnote_cell_height": 188.9375,
    "deepnote_output_heights": [
     96.9375
    ]
   },
   "execution_count": 51,
   "outputs": []
  },
  {
   "cell_type": "markdown",
   "source": "### Booleans\n\nBooleans are exact equivalents of Python bools, no suprise about them. (Well, they occupy much less memory but this is not visible at first sight).",
   "metadata": {
    "cell_id": "00019-a5311162-b687-4f12-b4e6-2b5bd0ac8e6e",
    "pycharm": {
     "name": "#%% md\n"
    },
    "deepnote_cell_type": "markdown",
    "deepnote_cell_height": 122.78125
   }
  },
  {
   "cell_type": "code",
   "source": "pd.Series([True, False, True, False, False])",
   "metadata": {
    "collapsed": false,
    "pycharm": {
     "name": "#%%\n"
    },
    "cell_id": "00086-0b9ff4cc-fc31-4f30-9fec-f070339891de",
    "output_cleared": true,
    "deepnote_cell_type": "code",
    "deepnote_cell_height": 208.125,
    "deepnote_output_heights": [
     116.125
    ]
   },
   "execution_count": 45,
   "outputs": []
  },
  {
   "cell_type": "markdown",
   "source": "As with integers, there are also [nullable booleans](https://pandas.pydata.org/docs/user_guide/boolean.html) that allow logical values to be missing.",
   "metadata": {
    "collapsed": false,
    "pycharm": {
     "name": "#%% md\n"
    },
    "cell_id": "00087-39aa33d7-6ce7-4bc6-8fd8-21e0874a9f67",
    "deepnote_cell_type": "markdown",
    "deepnote_cell_height": 52.390625
   }
  },
  {
   "cell_type": "code",
   "source": "# Beware!\npd.Series([\"True\", \"False\", \"Yes\", \"No\"], dtype=bool)",
   "metadata": {
    "cell_id": "a85557c6ee9041609e1fe852729703c0",
    "tags": [],
    "deepnote_to_be_reexecuted": false,
    "source_hash": "ff960a8e",
    "execution_start": 1662718153443,
    "execution_millis": 5,
    "output_cleared": true,
    "deepnote_cell_type": "code",
    "deepnote_cell_height": 206.9375,
    "deepnote_output_heights": [
     96.9375
    ]
   },
   "outputs": [],
   "execution_count": 46
  },
  {
   "cell_type": "markdown",
   "source": "### Strings (& objects)",
   "metadata": {
    "cell_id": "00020-8a7da2e8-b004-4853-89df-0eb4fb68fe58",
    "pycharm": {
     "name": "#%% md\n"
    },
    "deepnote_cell_type": "markdown",
    "deepnote_cell_height": 62
   }
  },
  {
   "cell_type": "markdown",
   "source": "Currently, pandas has two dtypes to handle strings:\n- (default) the object type that supports all Python objects in general (such as lists, user-defined classes, ...)\n- the (relatively) new \"string\" dtype, that is more suited to strings (disallows some assignments) and promises higher effectivity in the future.\n\nIn most situations, the default is ok.",
   "metadata": {
    "cell_id": "01a4651282f24c6f9ecdeda51451baa9",
    "tags": [],
    "pycharm": {
     "name": "#%% md\n"
    },
    "deepnote_cell_type": "markdown",
    "deepnote_cell_height": 172.953125
   }
  },
  {
   "cell_type": "code",
   "source": "actor_names = pd.Series([\"John Travolta\", \"Uma Thurman\", \"Samuel L. Jackson\"])\nactor_names",
   "metadata": {
    "cell_id": "fd0c78daab5a4f3782f0809553766359",
    "tags": [],
    "deepnote_to_be_reexecuted": false,
    "source_hash": "631ea706",
    "execution_start": 1662632638536,
    "execution_millis": 3,
    "pycharm": {
     "name": "#%%\n"
    },
    "output_cleared": true,
    "deepnote_cell_type": "code",
    "deepnote_cell_height": 187.75,
    "deepnote_output_heights": [
     77.75
    ]
   },
   "execution_count": 39,
   "outputs": []
  },
  {
   "cell_type": "code",
   "source": "actor_names[0] = 1994\nactor_names",
   "metadata": {
    "cell_id": "c4d4178554254e4aaf645a0b726c2f4f",
    "tags": [],
    "deepnote_to_be_reexecuted": false,
    "source_hash": "caa056b3",
    "execution_start": 1662632638537,
    "execution_millis": 6,
    "pycharm": {
     "name": "#%%\n"
    },
    "output_cleared": true,
    "deepnote_cell_type": "code",
    "deepnote_cell_height": 187.75,
    "deepnote_output_heights": [
     77.75
    ]
   },
   "execution_count": 40,
   "outputs": []
  },
  {
   "cell_type": "code",
   "source": "actor_names = pd.Series([\"John Travolta\", \"Uma Thurman\", \"Samuel L. Jackson\"], dtype=\"string\")\n\n# actor_names[0] = 1994  # Not allowed",
   "metadata": {
    "cell_id": "a1d16a3d14ce4e33952c1f4ef9c6e2d7",
    "tags": [],
    "deepnote_to_be_reexecuted": false,
    "source_hash": "4af02fce",
    "execution_start": 1662632638544,
    "execution_millis": 1,
    "pycharm": {
     "name": "#%%\n"
    },
    "output_cleared": true,
    "deepnote_cell_type": "code",
    "deepnote_cell_height": 112
   },
   "execution_count": 41,
   "outputs": []
  },
  {
   "cell_type": "markdown",
   "source": "### Categorical\n\nFrom time to time, there are many items in a series, but there only a few unique values. Especially in the case of strings, this suggests these data correspond to a certain categorization.\n\nPandas supports this via [categorical types](https://pandas.pydata.org/docs/user_guide/categorical.html). These not only allow to better capture the semantics of the series, but also typically result in much less memory used.",
   "metadata": {
    "cell_id": "00021-6951019e-fd43-4df2-a4f3-b6c1ffd9063c",
    "pycharm": {
     "name": "#%% md\n"
    },
    "deepnote_cell_type": "markdown",
    "deepnote_cell_height": 181.5625
   }
  },
  {
   "cell_type": "code",
   "source": "pd.Series(2 * [\"apple\"] + 8 * [\"pear\"], dtype=\"category\")",
   "metadata": {
    "cell_id": "c91441728e4c43329986025bc08e9462",
    "tags": [],
    "deepnote_to_be_reexecuted": false,
    "source_hash": "6d56b501",
    "execution_start": 1662632657194,
    "execution_millis": 9,
    "pycharm": {
     "name": "#%%\n"
    },
    "output_cleared": true,
    "deepnote_cell_type": "code",
    "deepnote_cell_height": 323.25,
    "deepnote_output_heights": [
     231.25
    ]
   },
   "execution_count": 42,
   "outputs": []
  },
  {
   "cell_type": "markdown",
   "source": "## Datetime",
   "metadata": {
    "cell_id": "810bb3cb6d6e4208b55019742e55bcbc",
    "tags": [],
    "deepnote_cell_type": "markdown",
    "deepnote_cell_height": 70
   }
  },
  {
   "cell_type": "code",
   "source": "from datetime import datetime\n\npd.Series([datetime.now(), \"2022-09-09\", \"1 Jan 2023\"], dtype=\"datetime64[ns]\")",
   "metadata": {
    "cell_id": "e1f12cc9f74449e7acfec9ad80c0e5dc",
    "tags": [],
    "deepnote_to_be_reexecuted": false,
    "source_hash": "6978723",
    "execution_start": 1662718273042,
    "execution_millis": 5,
    "output_cleared": true,
    "deepnote_cell_type": "code",
    "deepnote_cell_height": 205.75,
    "deepnote_output_heights": [
     77.75
    ]
   },
   "outputs": [],
   "execution_count": 47
  },
  {
   "cell_type": "markdown",
   "source": "There are several other dtypes. However, we will not discuss them here; nor will we explain how to create custom, so-called **extension** types (this is [fun]()).",
   "metadata": {
    "cell_id": "00022-a9ad3530-2663-4a42-9c0b-d9a7ddf4fc96",
    "pycharm": {
     "name": "#%% md\n"
    },
    "deepnote_cell_type": "markdown",
    "deepnote_cell_height": 74.78125
   }
  },
  {
   "cell_type": "markdown",
   "source": "## Indexing\n\n(see <https://pandas.pydata.org/docs/user_guide/indexing.html>)\n\nWhen accessing parts of the DataFrame, there are many perspectives. We might want to select a particular row, a column, a range of those; we might want to use their labels (index or column names) or the order in which they occur. It is clear that simple brackets can't meet all the expectations.\n\nTherefore pandas four different ways of accessing (or **indexing**) within the DataFrames / Series:\n\n- [] as the default Python access (list-like or dict-like)\n- loc - to access row/columns/cells using their label\n- iloc - to access rows/columns/cells using their order\n- [at()](https://pandas.pydata.org/docs/reference/api/pandas.DataFrame.at.html) - optimized access to cells (not much commonly used)\n\nWe will start by creating a non-numeric and sorted index for our table with movies (using the [`set_index`](https://pandas.pydata.org/docs/reference/api/pandas.DataFrame.set_index.html) and [`sort_index`](https://pandas.pydata.org/docs/reference/api/pandas.DataFrame.sort_index.html) methods):",
   "metadata": {
    "cell_id": "00023-3742473c-570d-4a8f-b33e-8b33c5291c2b",
    "pycharm": {
     "name": "#%% md\n"
    },
    "deepnote_cell_type": "markdown",
    "deepnote_cell_height": 397.296875
   }
  },
  {
   "cell_type": "code",
   "source": "movies_by_title = data.set_index(\"title\").sort_index()\nmovies_by_title",
   "metadata": {
    "collapsed": false,
    "pycharm": {
     "name": "#%%\n"
    },
    "cell_id": "00097-27d7dd72-d371-4fe6-a360-b935b984d12b",
    "output_cleared": true,
    "deepnote_cell_type": "code",
    "deepnote_cell_height": 520.1875,
    "deepnote_output_heights": [
     410.1875
    ]
   },
   "execution_count": 58,
   "outputs": []
  },
  {
   "cell_type": "code",
   "source": "movies_by_title.index",
   "metadata": {
    "collapsed": false,
    "pycharm": {
     "name": "#%%\n"
    },
    "cell_id": "00098-546128c8-17b5-471a-954c-c7b216a225d4",
    "output_cleared": true,
    "deepnote_cell_type": "code",
    "deepnote_cell_height": 246.5,
    "deepnote_output_heights": [
     154.5
    ]
   },
   "execution_count": 59,
   "outputs": []
  },
  {
   "cell_type": "markdown",
   "source": "### \\[\\]\n\nLet's start with the default, which selects:\n- in DataFrame, a column by label\n- in Series, an item by label (or order)\n",
   "metadata": {
    "collapsed": false,
    "pycharm": {
     "name": "#%% md\n"
    },
    "cell_id": "00099-c779d50a-a14a-4fa8-a69e-f0460fae5d5e",
    "deepnote_cell_type": "markdown",
    "deepnote_cell_height": 176.171875
   }
  },
  {
   "cell_type": "code",
   "source": "movies_by_title[\"year\"]",
   "metadata": {
    "collapsed": false,
    "pycharm": {
     "name": "#%%\n"
    },
    "cell_id": "00100-643a473e-c6a3-49ff-9e00-ebf5c3566d5a",
    "output_cleared": true,
    "deepnote_cell_type": "code",
    "deepnote_cell_height": 342.4375,
    "deepnote_output_heights": [
     250.4375
    ]
   },
   "execution_count": 56,
   "outputs": []
  },
  {
   "cell_type": "code",
   "source": "# Multiple values in a list (not tuple!)\nmovies_by_title[[\"rank\", \"rating\"]]",
   "metadata": {
    "collapsed": false,
    "pycharm": {
     "name": "#%%\n"
    },
    "cell_id": "00101-184e5b68-cb65-4dc0-af01-ff61e79c930d",
    "output_cleared": true,
    "deepnote_cell_type": "code",
    "deepnote_cell_height": 520.1875,
    "deepnote_output_heights": [
     410.1875
    ]
   },
   "execution_count": 89,
   "outputs": []
  },
  {
   "cell_type": "code",
   "source": "ages[\"Emma Watson\"]",
   "metadata": {
    "collapsed": false,
    "pycharm": {
     "name": "#%%\n"
    },
    "cell_id": "00102-c1b78ca3-db11-4143-9359-3e487cfdab9c",
    "output_cleared": true,
    "deepnote_cell_type": "code",
    "deepnote_cell_height": 112.1875,
    "deepnote_output_heights": [
     20.1875
    ]
   },
   "execution_count": 93,
   "outputs": []
  },
  {
   "cell_type": "code",
   "source": "# Or (we discourage you from using it):\nages[1]",
   "metadata": {
    "collapsed": false,
    "pycharm": {
     "name": "#%%\n"
    },
    "cell_id": "00103-4164edb7-97de-4d64-980d-5a4e5a890112",
    "output_cleared": true,
    "deepnote_cell_type": "code",
    "deepnote_cell_height": 130.1875,
    "deepnote_output_heights": [
     20.1875
    ]
   },
   "execution_count": 95,
   "outputs": []
  },
  {
   "cell_type": "markdown",
   "source": "### [.loc\\[\\]](https://pandas.pydata.org/docs/reference/api/pandas.DataFrame.loc.html)\n\nThis **indexer** syntactically looks like an attribute of the DataFrame/Series that stores parts of the dat structure under different keys (Technically speaking, it is a [descriptor](https://docs.python.org/3/reference/datamodel.html#implementing-descriptors)).\n\nIt uses labels and can select:",
   "metadata": {
    "collapsed": false,
    "pycharm": {
     "name": "#%% md\n"
    },
    "cell_id": "00104-aa3c03fa-9866-4987-a4ce-ef00481c680d",
    "deepnote_cell_type": "markdown",
    "deepnote_cell_height": 159.171875
   }
  },
  {
   "cell_type": "code",
   "source": "# A row in a DataFrame\nmovies_by_title.loc[\"The Godfather\"]",
   "metadata": {
    "collapsed": false,
    "pycharm": {
     "name": "#%%\n"
    },
    "cell_id": "00105-374c2b39-bf2a-4362-937f-5575859a4697",
    "output_cleared": true,
    "deepnote_cell_type": "code",
    "deepnote_cell_height": 187.75,
    "deepnote_output_heights": [
     77.75
    ]
   },
   "execution_count": 96,
   "outputs": []
  },
  {
   "cell_type": "code",
   "source": "# A range of rows (inclusive on both ends)\nmovies_by_title.loc[\"The Godfather\":\"The Green Mile\"]",
   "metadata": {
    "collapsed": false,
    "pycharm": {
     "name": "#%%\n"
    },
    "cell_id": "00106-5012423e-cb94-480a-a0a8-20380609ee42",
    "output_cleared": true,
    "deepnote_cell_type": "code",
    "deepnote_cell_height": 431,
    "deepnote_output_heights": [
     321
    ]
   },
   "execution_count": 69,
   "outputs": []
  },
  {
   "cell_type": "code",
   "source": "# All movies starting with \"B\" (works only with sorted)\nmovies_by_title.loc[\"B\":\"C\"]",
   "metadata": {
    "collapsed": false,
    "pycharm": {
     "name": "#%%\n"
    },
    "cell_id": "00107-e0393618-992d-436f-9e3c-719964a6846d",
    "output_cleared": true,
    "deepnote_cell_type": "code",
    "deepnote_cell_height": 431,
    "deepnote_output_heights": [
     321
    ]
   },
   "execution_count": 65,
   "outputs": []
  },
  {
   "cell_type": "code",
   "source": "# Multiple rows\nmovies_by_title.loc[[\"Trainspotting\", \"Pulp Fiction\"]]",
   "metadata": {
    "collapsed": false,
    "pycharm": {
     "name": "#%%\n"
    },
    "cell_id": "00108-e6cffd6b-4a8d-44ce-a301-c3e324ef4ee9",
    "output_cleared": true,
    "deepnote_cell_type": "code",
    "deepnote_cell_height": 228,
    "deepnote_output_heights": [
     118
    ]
   },
   "execution_count": 97,
   "outputs": []
  },
  {
   "cell_type": "markdown",
   "source": "If you want to get to a particular cell, just use two keys in the brackets instead of one (in the row, column order):",
   "metadata": {
    "collapsed": false,
    "pycharm": {
     "name": "#%% md\n"
    },
    "cell_id": "00109-bb1a3fc7-ffc7-48b3-8231-b1fe53c1b38c",
    "deepnote_cell_type": "markdown",
    "deepnote_cell_height": 52.390625
   }
  },
  {
   "cell_type": "markdown",
   "source": "",
   "metadata": {
    "collapsed": false,
    "pycharm": {
     "name": "#%% md\n"
    },
    "cell_id": "00110-7d5446ca-3d61-4782-a2f2-b86456049744",
    "deepnote_cell_type": "markdown",
    "deepnote_cell_height": 46
   }
  },
  {
   "cell_type": "code",
   "source": "# A column\nmovies_by_title.loc[:, \"rank\"]",
   "metadata": {
    "collapsed": false,
    "pycharm": {
     "name": "#%%\n"
    },
    "cell_id": "00111-a07f1190-7d5b-48b9-89cb-274849e1d31d",
    "output_cleared": true,
    "deepnote_cell_type": "code",
    "deepnote_cell_height": 360.4375,
    "deepnote_output_heights": [
     250.4375
    ]
   },
   "execution_count": 100,
   "outputs": []
  },
  {
   "cell_type": "code",
   "source": "# Individual cells\nmovies_by_title.loc[\"Trainspotting\", \"rank\"]",
   "metadata": {
    "collapsed": false,
    "pycharm": {
     "name": "#%%\n"
    },
    "cell_id": "00112-275c82fb-6636-4c4a-8927-76890dc02476",
    "output_cleared": true,
    "deepnote_cell_type": "code",
    "deepnote_cell_height": 130.1875,
    "deepnote_output_heights": [
     20.1875
    ]
   },
   "execution_count": 98,
   "outputs": []
  },
  {
   "cell_type": "markdown",
   "source": "### [.iloc\\[\\]](https://pandas.pydata.org/docs/reference/api/pandas.DataFrame.iloc.html)\n\nThis indexer uses the physical order of the rows/columns/items within the axis of the data struture. It is very similar to `loc` and differs only in using numbers instead of generic labels.",
   "metadata": {
    "collapsed": false,
    "pycharm": {
     "name": "#%% md\n"
    },
    "cell_id": "00113-e093c21d-22fc-465b-838c-a15bd51c81e0",
    "deepnote_cell_type": "markdown",
    "deepnote_cell_height": 122.78125
   }
  },
  {
   "cell_type": "code",
   "source": "# The tenth row\nmovies_by_title.iloc[9]",
   "metadata": {
    "collapsed": false,
    "pycharm": {
     "name": "#%%\n"
    },
    "cell_id": "00114-b0c87916-217e-4d4b-a28e-c23310fcc654",
    "output_cleared": true,
    "deepnote_cell_type": "code",
    "deepnote_cell_height": 187.75,
    "deepnote_output_heights": [
     77.75
    ]
   },
   "execution_count": 102,
   "outputs": []
  },
  {
   "cell_type": "code",
   "source": "# Last ten rows\nmovies_by_title.iloc[-10:]",
   "metadata": {
    "collapsed": false,
    "pycharm": {
     "name": "#%%\n"
    },
    "cell_id": "00115-db215b9a-50f1-437c-8744-dc4c978160c0",
    "output_cleared": true,
    "deepnote_cell_type": "code",
    "deepnote_cell_height": 460,
    "deepnote_output_heights": [
     350
    ]
   },
   "execution_count": 103,
   "outputs": []
  },
  {
   "cell_type": "code",
   "source": "# A cell using two indices\nmovies_by_title.iloc[-1, 2]",
   "metadata": {
    "collapsed": false,
    "pycharm": {
     "name": "#%%\n"
    },
    "cell_id": "00116-e4811ca7-5acc-4a9c-afb7-93dcd735e658",
    "output_cleared": true,
    "deepnote_cell_type": "code",
    "deepnote_cell_height": 130.1875,
    "deepnote_output_heights": [
     20.1875
    ]
   },
   "execution_count": 108,
   "outputs": []
  },
  {
   "cell_type": "markdown",
   "source": "There are three helpful methods to select particular rows or items:",
   "metadata": {
    "collapsed": false,
    "pycharm": {
     "name": "#%% md\n"
    },
    "cell_id": "00117-40ad6d58-b7d0-4454-a0d1-5206ac535b35",
    "deepnote_cell_type": "markdown",
    "deepnote_cell_height": 52.390625
   }
  },
  {
   "cell_type": "code",
   "source": "# Shortcut for the first few rows/values\nmovies_by_title.head()",
   "metadata": {
    "collapsed": false,
    "pycharm": {
     "name": "#%%\n"
    },
    "cell_id": "00118-94261542-49cd-4114-abb6-52f68b52b97a",
    "output_cleared": true,
    "deepnote_cell_type": "code",
    "deepnote_cell_height": 315,
    "deepnote_output_heights": [
     205
    ]
   },
   "execution_count": 109,
   "outputs": []
  },
  {
   "cell_type": "code",
   "source": "# Shortcut for the last few rows/values\nmovies_by_title.tail()",
   "metadata": {
    "collapsed": false,
    "pycharm": {
     "name": "#%%\n"
    },
    "cell_id": "00119-0c8328e3-7c46-4678-baa9-bdc4093a60b6",
    "output_cleared": true,
    "deepnote_cell_type": "code",
    "deepnote_cell_height": 315,
    "deepnote_output_heights": [
     205
    ]
   },
   "execution_count": 110,
   "outputs": []
  },
  {
   "cell_type": "code",
   "source": "# One random row\nmovies_by_title.sample()",
   "metadata": {
    "collapsed": false,
    "pycharm": {
     "name": "#%%\n"
    },
    "cell_id": "00120-2ee6c4e7-e5ce-43b3-9571-53bc8f0b2e37",
    "output_cleared": true,
    "deepnote_cell_type": "code",
    "deepnote_cell_height": 199,
    "deepnote_output_heights": [
     89
    ]
   },
   "execution_count": 129,
   "outputs": []
  },
  {
   "cell_type": "code",
   "source": "# Multiple random rows\nmovies_by_title.sample(5)",
   "metadata": {
    "collapsed": false,
    "pycharm": {
     "name": "#%%\n"
    },
    "cell_id": "00121-fc410e61-e2a0-4602-9b79-94cf5b17d0b8",
    "output_cleared": true,
    "deepnote_cell_type": "code",
    "deepnote_cell_height": 315,
    "deepnote_output_heights": [
     205
    ]
   },
   "execution_count": 128,
   "outputs": []
  },
  {
   "cell_type": "markdown",
   "source": "<a style='text-decoration:none;line-height:16px;display:flex;color:#5B5B62;padding:10px;justify-content:end;' href='https://deepnote.com?utm_source=created-in-deepnote-cell&projectId=234de414-c5f7-4e4d-a314-25100ac19112' target=\"_blank\">\n<img alt='Created in deepnote.com' style='display:inline;max-height:16px;margin:0px;margin-right:7.5px;' src='data:image/svg+xml;base64,PD94bWwgdmVyc2lvbj0iMS4wIiBlbmNvZGluZz0iVVRGLTgiPz4KPHN2ZyB3aWR0aD0iODBweCIgaGVpZ2h0PSI4MHB4IiB2aWV3Qm94PSIwIDAgODAgODAiIHZlcnNpb249IjEuMSIgeG1sbnM9Imh0dHA6Ly93d3cudzMub3JnLzIwMDAvc3ZnIiB4bWxuczp4bGluaz0iaHR0cDovL3d3dy53My5vcmcvMTk5OS94bGluayI+CiAgICA8IS0tIEdlbmVyYXRvcjogU2tldGNoIDU0LjEgKDc2NDkwKSAtIGh0dHBzOi8vc2tldGNoYXBwLmNvbSAtLT4KICAgIDx0aXRsZT5Hcm91cCAzPC90aXRsZT4KICAgIDxkZXNjPkNyZWF0ZWQgd2l0aCBTa2V0Y2guPC9kZXNjPgogICAgPGcgaWQ9IkxhbmRpbmciIHN0cm9rZT0ibm9uZSIgc3Ryb2tlLXdpZHRoPSIxIiBmaWxsPSJub25lIiBmaWxsLXJ1bGU9ImV2ZW5vZGQiPgogICAgICAgIDxnIGlkPSJBcnRib2FyZCIgdHJhbnNmb3JtPSJ0cmFuc2xhdGUoLTEyMzUuMDAwMDAwLCAtNzkuMDAwMDAwKSI+CiAgICAgICAgICAgIDxnIGlkPSJHcm91cC0zIiB0cmFuc2Zvcm09InRyYW5zbGF0ZSgxMjM1LjAwMDAwMCwgNzkuMDAwMDAwKSI+CiAgICAgICAgICAgICAgICA8cG9seWdvbiBpZD0iUGF0aC0yMCIgZmlsbD0iIzAyNjVCNCIgcG9pbnRzPSIyLjM3NjIzNzYyIDgwIDM4LjA0NzY2NjcgODAgNTcuODIxNzgyMiA3My44MDU3NTkyIDU3LjgyMTc4MjIgMzIuNzU5MjczOSAzOS4xNDAyMjc4IDMxLjY4MzE2ODMiPjwvcG9seWdvbj4KICAgICAgICAgICAgICAgIDxwYXRoIGQ9Ik0zNS4wMDc3MTgsODAgQzQyLjkwNjIwMDcsNzYuNDU0OTM1OCA0Ny41NjQ5MTY3LDcxLjU0MjI2NzEgNDguOTgzODY2LDY1LjI2MTk5MzkgQzUxLjExMjI4OTksNTUuODQxNTg0MiA0MS42NzcxNzk1LDQ5LjIxMjIyODQgMjUuNjIzOTg0Niw0OS4yMTIyMjg0IEMyNS40ODQ5Mjg5LDQ5LjEyNjg0NDggMjkuODI2MTI5Niw0My4yODM4MjQ4IDM4LjY0NzU4NjksMzEuNjgzMTY4MyBMNzIuODcxMjg3MSwzMi41NTQ0MjUgTDY1LjI4MDk3Myw2Ny42NzYzNDIxIEw1MS4xMTIyODk5LDc3LjM3NjE0NCBMMzUuMDA3NzE4LDgwIFoiIGlkPSJQYXRoLTIyIiBmaWxsPSIjMDAyODY4Ij48L3BhdGg+CiAgICAgICAgICAgICAgICA8cGF0aCBkPSJNMCwzNy43MzA0NDA1IEwyNy4xMTQ1MzcsMC4yNTcxMTE0MzYgQzYyLjM3MTUxMjMsLTEuOTkwNzE3MDEgODAsMTAuNTAwMzkyNyA4MCwzNy43MzA0NDA1IEM4MCw2NC45NjA0ODgyIDY0Ljc3NjUwMzgsNzkuMDUwMzQxNCAzNC4zMjk1MTEzLDgwIEM0Ny4wNTUzNDg5LDc3LjU2NzA4MDggNTMuNDE4MjY3Nyw3MC4zMTM2MTAzIDUzLjQxODI2NzcsNTguMjM5NTg4NSBDNTMuNDE4MjY3Nyw0MC4xMjg1NTU3IDM2LjMwMzk1NDQsMzcuNzMwNDQwNSAyNS4yMjc0MTcsMzcuNzMwNDQwNSBDMTcuODQzMDU4NiwzNy43MzA0NDA1IDkuNDMzOTE5NjYsMzcuNzMwNDQwNSAwLDM3LjczMDQ0MDUgWiIgaWQ9IlBhdGgtMTkiIGZpbGw9IiMzNzkzRUYiPjwvcGF0aD4KICAgICAgICAgICAgPC9nPgogICAgICAgIDwvZz4KICAgIDwvZz4KPC9zdmc+' > </img>\nCreated in <span style='font-weight:600;margin-left:4px;'>Deepnote</span></a>",
   "metadata": {
    "tags": [],
    "created_in_deepnote_cell": true,
    "deepnote_cell_type": "markdown"
   }
  }
 ],
 "nbformat": 4,
 "nbformat_minor": 2,
 "metadata": {
  "deepnote": {},
  "deepnote_execution_queue": [],
  "deepnote_notebook_id": "4567cfd0-f6d8-4081-a68a-bbd5f3de53be",
  "deepnote_persisted_session": {
   "createdAt": "2022-09-08T01:01:48.530Z"
  },
  "kernelspec": {
   "display_name": "Python 3 (ipykernel)",
   "language": "python",
   "name": "python3"
  },
  "language_info": {
   "codemirror_mode": {
    "name": "ipython",
    "version": 3
   },
   "file_extension": ".py",
   "mimetype": "text/x-python",
   "name": "python",
   "nbconvert_exporter": "python",
   "pygments_lexer": "ipython3",
   "version": "3.10.6"
  },
  "vscode": {
   "interpreter": {
    "hash": "1d8d7ddfcd7032e6fe693830a5931c5fe3782bc170fc968c3186119a03312acb"
   }
  }
 }
}